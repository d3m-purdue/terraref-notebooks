{
 "cells": [
  {
   "cell_type": "markdown",
   "metadata": {},
   "source": [
    "Try to fit a per-cultivar model to the automatically captured canopy height and leaf angle data for Season4"
   ]
  },
  {
   "cell_type": "code",
   "execution_count": 1,
   "metadata": {},
   "outputs": [],
   "source": [
    "import pandas as pd\n",
    "import sklearn\n",
    "from sklearn.tree import DecisionTreeRegressor\n",
    "from sklearn.linear_model import LinearRegression\n",
    "from sklearn import svm\n",
    "from sklearn.ensemble import GradientBoostingRegressor\n"
   ]
  },
  {
   "cell_type": "code",
   "execution_count": 2,
   "metadata": {},
   "outputs": [],
   "source": [
    "s4_df = pd.read_csv('s4_full_height_leaf_day.csv')"
   ]
  },
  {
   "cell_type": "code",
   "execution_count": 3,
   "metadata": {},
   "outputs": [
    {
     "data": {
      "text/html": [
       "<div>\n",
       "<style scoped>\n",
       "    .dataframe tbody tr th:only-of-type {\n",
       "        vertical-align: middle;\n",
       "    }\n",
       "\n",
       "    .dataframe tbody tr th {\n",
       "        vertical-align: top;\n",
       "    }\n",
       "\n",
       "    .dataframe thead th {\n",
       "        text-align: right;\n",
       "    }\n",
       "</style>\n",
       "<table border=\"1\" class=\"dataframe\">\n",
       "  <thead>\n",
       "    <tr style=\"text-align: right;\">\n",
       "      <th></th>\n",
       "      <th>canopy_height</th>\n",
       "      <th>column</th>\n",
       "      <th>cultivar</th>\n",
       "      <th>date</th>\n",
       "      <th>leaf_angle_alpha</th>\n",
       "      <th>leaf_angle_beta</th>\n",
       "      <th>leaf_angle_chi</th>\n",
       "      <th>leaf_angle_mean</th>\n",
       "      <th>range</th>\n",
       "      <th>season</th>\n",
       "      <th>day_offset</th>\n",
       "    </tr>\n",
       "  </thead>\n",
       "  <tbody>\n",
       "    <tr>\n",
       "      <th>0</th>\n",
       "      <td>15.0</td>\n",
       "      <td>2</td>\n",
       "      <td>PI453696</td>\n",
       "      <td>2017-05-13 12:00:00</td>\n",
       "      <td>2.695956</td>\n",
       "      <td>1.977380</td>\n",
       "      <td>1.756464</td>\n",
       "      <td>0.435924</td>\n",
       "      <td>43</td>\n",
       "      <td>4</td>\n",
       "      <td>12.0</td>\n",
       "    </tr>\n",
       "    <tr>\n",
       "      <th>1</th>\n",
       "      <td>15.0</td>\n",
       "      <td>15</td>\n",
       "      <td>PI145626</td>\n",
       "      <td>2017-05-13 12:00:00</td>\n",
       "      <td>3.265980</td>\n",
       "      <td>2.018623</td>\n",
       "      <td>1.941012</td>\n",
       "      <td>0.396782</td>\n",
       "      <td>35</td>\n",
       "      <td>4</td>\n",
       "      <td>12.0</td>\n",
       "    </tr>\n",
       "    <tr>\n",
       "      <th>2</th>\n",
       "      <td>19.0</td>\n",
       "      <td>2</td>\n",
       "      <td>PI257600</td>\n",
       "      <td>2017-05-13 12:00:00</td>\n",
       "      <td>2.159610</td>\n",
       "      <td>1.809209</td>\n",
       "      <td>1.638744</td>\n",
       "      <td>0.471944</td>\n",
       "      <td>42</td>\n",
       "      <td>4</td>\n",
       "      <td>12.0</td>\n",
       "    </tr>\n",
       "    <tr>\n",
       "      <th>3</th>\n",
       "      <td>13.0</td>\n",
       "      <td>4</td>\n",
       "      <td>PI569416</td>\n",
       "      <td>2017-05-13 12:00:00</td>\n",
       "      <td>3.042180</td>\n",
       "      <td>2.198751</td>\n",
       "      <td>1.732985</td>\n",
       "      <td>0.444099</td>\n",
       "      <td>30</td>\n",
       "      <td>4</td>\n",
       "      <td>12.0</td>\n",
       "    </tr>\n",
       "    <tr>\n",
       "      <th>4</th>\n",
       "      <td>17.0</td>\n",
       "      <td>2</td>\n",
       "      <td>PI585454</td>\n",
       "      <td>2017-05-15 12:00:00</td>\n",
       "      <td>2.305345</td>\n",
       "      <td>1.872028</td>\n",
       "      <td>1.665387</td>\n",
       "      <td>0.462600</td>\n",
       "      <td>45</td>\n",
       "      <td>4</td>\n",
       "      <td>14.0</td>\n",
       "    </tr>\n",
       "  </tbody>\n",
       "</table>\n",
       "</div>"
      ],
      "text/plain": [
       "   canopy_height  column  cultivar                 date  leaf_angle_alpha  \\\n",
       "0           15.0       2  PI453696  2017-05-13 12:00:00          2.695956   \n",
       "1           15.0      15  PI145626  2017-05-13 12:00:00          3.265980   \n",
       "2           19.0       2  PI257600  2017-05-13 12:00:00          2.159610   \n",
       "3           13.0       4  PI569416  2017-05-13 12:00:00          3.042180   \n",
       "4           17.0       2  PI585454  2017-05-15 12:00:00          2.305345   \n",
       "\n",
       "   leaf_angle_beta  leaf_angle_chi  leaf_angle_mean  range  season  day_offset  \n",
       "0         1.977380        1.756464         0.435924     43       4        12.0  \n",
       "1         2.018623        1.941012         0.396782     35       4        12.0  \n",
       "2         1.809209        1.638744         0.471944     42       4        12.0  \n",
       "3         2.198751        1.732985         0.444099     30       4        12.0  \n",
       "4         1.872028        1.665387         0.462600     45       4        14.0  "
      ]
     },
     "execution_count": 3,
     "metadata": {},
     "output_type": "execute_result"
    }
   ],
   "source": [
    "s4_df[0:5]"
   ]
  },
  {
   "cell_type": "code",
   "execution_count": 4,
   "metadata": {},
   "outputs": [],
   "source": [
    "full_df = s4_df"
   ]
  },
  {
   "cell_type": "code",
   "execution_count": 5,
   "metadata": {},
   "outputs": [
    {
     "data": {
      "text/html": [
       "<div>\n",
       "<style scoped>\n",
       "    .dataframe tbody tr th:only-of-type {\n",
       "        vertical-align: middle;\n",
       "    }\n",
       "\n",
       "    .dataframe tbody tr th {\n",
       "        vertical-align: top;\n",
       "    }\n",
       "\n",
       "    .dataframe thead th {\n",
       "        text-align: right;\n",
       "    }\n",
       "</style>\n",
       "<table border=\"1\" class=\"dataframe\">\n",
       "  <thead>\n",
       "    <tr style=\"text-align: right;\">\n",
       "      <th></th>\n",
       "      <th>canopy_height</th>\n",
       "      <th>column</th>\n",
       "      <th>leaf_angle_alpha</th>\n",
       "      <th>leaf_angle_beta</th>\n",
       "      <th>leaf_angle_chi</th>\n",
       "      <th>leaf_angle_mean</th>\n",
       "      <th>range</th>\n",
       "      <th>season</th>\n",
       "      <th>day_offset</th>\n",
       "    </tr>\n",
       "  </thead>\n",
       "  <tbody>\n",
       "    <tr>\n",
       "      <th>count</th>\n",
       "      <td>9441.000000</td>\n",
       "      <td>9441.000000</td>\n",
       "      <td>9441.000000</td>\n",
       "      <td>9441.000000</td>\n",
       "      <td>9441.000000</td>\n",
       "      <td>9441.000000</td>\n",
       "      <td>9441.000000</td>\n",
       "      <td>9441.0</td>\n",
       "      <td>9441.000000</td>\n",
       "    </tr>\n",
       "    <tr>\n",
       "      <th>mean</th>\n",
       "      <td>197.719203</td>\n",
       "      <td>8.541468</td>\n",
       "      <td>2.903153</td>\n",
       "      <td>1.825797</td>\n",
       "      <td>1.908666</td>\n",
       "      <td>0.419339</td>\n",
       "      <td>30.267027</td>\n",
       "      <td>4.0</td>\n",
       "      <td>56.918017</td>\n",
       "    </tr>\n",
       "    <tr>\n",
       "      <th>std</th>\n",
       "      <td>96.712778</td>\n",
       "      <td>4.004024</td>\n",
       "      <td>1.076542</td>\n",
       "      <td>0.321239</td>\n",
       "      <td>0.243674</td>\n",
       "      <td>0.052055</td>\n",
       "      <td>14.455791</td>\n",
       "      <td>0.0</td>\n",
       "      <td>27.400310</td>\n",
       "    </tr>\n",
       "    <tr>\n",
       "      <th>min</th>\n",
       "      <td>12.000000</td>\n",
       "      <td>1.000000</td>\n",
       "      <td>0.756692</td>\n",
       "      <td>0.977342</td>\n",
       "      <td>0.756736</td>\n",
       "      <td>0.246258</td>\n",
       "      <td>2.000000</td>\n",
       "      <td>4.0</td>\n",
       "      <td>12.000000</td>\n",
       "    </tr>\n",
       "    <tr>\n",
       "      <th>25%</th>\n",
       "      <td>114.000000</td>\n",
       "      <td>5.000000</td>\n",
       "      <td>2.103990</td>\n",
       "      <td>1.590333</td>\n",
       "      <td>1.767434</td>\n",
       "      <td>0.386807</td>\n",
       "      <td>18.000000</td>\n",
       "      <td>4.0</td>\n",
       "      <td>36.000000</td>\n",
       "    </tr>\n",
       "    <tr>\n",
       "      <th>50%</th>\n",
       "      <td>208.000000</td>\n",
       "      <td>9.000000</td>\n",
       "      <td>2.846314</td>\n",
       "      <td>1.817881</td>\n",
       "      <td>1.906026</td>\n",
       "      <td>0.416412</td>\n",
       "      <td>32.000000</td>\n",
       "      <td>4.0</td>\n",
       "      <td>55.000000</td>\n",
       "    </tr>\n",
       "    <tr>\n",
       "      <th>75%</th>\n",
       "      <td>271.000000</td>\n",
       "      <td>12.000000</td>\n",
       "      <td>3.540884</td>\n",
       "      <td>2.040797</td>\n",
       "      <td>2.048274</td>\n",
       "      <td>0.449578</td>\n",
       "      <td>43.000000</td>\n",
       "      <td>4.0</td>\n",
       "      <td>65.000000</td>\n",
       "    </tr>\n",
       "    <tr>\n",
       "      <th>max</th>\n",
       "      <td>412.000000</td>\n",
       "      <td>16.000000</td>\n",
       "      <td>8.647608</td>\n",
       "      <td>4.171909</td>\n",
       "      <td>4.768680</td>\n",
       "      <td>0.684988</td>\n",
       "      <td>54.000000</td>\n",
       "      <td>4.0</td>\n",
       "      <td>121.000000</td>\n",
       "    </tr>\n",
       "  </tbody>\n",
       "</table>\n",
       "</div>"
      ],
      "text/plain": [
       "       canopy_height       column  leaf_angle_alpha  leaf_angle_beta  \\\n",
       "count    9441.000000  9441.000000       9441.000000      9441.000000   \n",
       "mean      197.719203     8.541468          2.903153         1.825797   \n",
       "std        96.712778     4.004024          1.076542         0.321239   \n",
       "min        12.000000     1.000000          0.756692         0.977342   \n",
       "25%       114.000000     5.000000          2.103990         1.590333   \n",
       "50%       208.000000     9.000000          2.846314         1.817881   \n",
       "75%       271.000000    12.000000          3.540884         2.040797   \n",
       "max       412.000000    16.000000          8.647608         4.171909   \n",
       "\n",
       "       leaf_angle_chi  leaf_angle_mean        range  season   day_offset  \n",
       "count     9441.000000      9441.000000  9441.000000  9441.0  9441.000000  \n",
       "mean         1.908666         0.419339    30.267027     4.0    56.918017  \n",
       "std          0.243674         0.052055    14.455791     0.0    27.400310  \n",
       "min          0.756736         0.246258     2.000000     4.0    12.000000  \n",
       "25%          1.767434         0.386807    18.000000     4.0    36.000000  \n",
       "50%          1.906026         0.416412    32.000000     4.0    55.000000  \n",
       "75%          2.048274         0.449578    43.000000     4.0    65.000000  \n",
       "max          4.768680         0.684988    54.000000     4.0   121.000000  "
      ]
     },
     "execution_count": 5,
     "metadata": {},
     "output_type": "execute_result"
    }
   ],
   "source": [
    "full_df.describe()"
   ]
  },
  {
   "cell_type": "code",
   "execution_count": 6,
   "metadata": {},
   "outputs": [
    {
     "name": "stdout",
     "output_type": "stream",
     "text": [
      "max range: 54.0 max column: 16.0\n"
     ]
    }
   ],
   "source": [
    "maxColumn = full_df.describe().loc['max','column']\n",
    "maxRange = full_df.describe().loc['max','range']\n",
    "print('max range:',maxRange, 'max column:',maxColumn)"
   ]
  },
  {
   "cell_type": "code",
   "execution_count": 7,
   "metadata": {},
   "outputs": [],
   "source": [
    "import warnings\n",
    "warnings.filterwarnings(action='ignore')\n"
   ]
  },
  {
   "cell_type": "code",
   "execution_count": 8,
   "metadata": {},
   "outputs": [
    {
     "name": "stdout",
     "output_type": "stream",
     "text": [
      "in process: 50 models\n",
      "in process: 100 models\n",
      "in process: 150 models\n",
      "in process: 200 models\n",
      "in process: 250 models\n",
      "in process: 300 models\n",
      "in process: 350 models\n",
      "finished generating 351 models\n"
     ]
    }
   ],
   "source": [
    "gbr_models = {}\n",
    "predictions = {}\n",
    "list_of_counts = []\n",
    "count = 0\n",
    "grouped = full_df.groupby(['cultivar'])\n",
    "for name,group in grouped:\n",
    "    #print(name)\n",
    "    # pick the features to use for training\n",
    "    train_df = group[['day_offset','range','column','leaf_angle_alpha','leaf_angle_beta','leaf_angle_chi','leaf_angle_mean']]\n",
    "    # identify the 'target' feature to try to predict\n",
    "    target_df = group['canopy_height']\n",
    "    X_train = train_df.values\n",
    "    y_train = target_df.values\n",
    "    # record how many points were used for training\n",
    "    countRec = {'cultivar': name, 'count': X_train.shape[0]}\n",
    "    list_of_counts.append(countRec)\n",
    "    # train a model for this cultivar in this location and store the trained model in a dictionary\n",
    "    gbr_models[name] = GradientBoostingRegressor(n_estimators=100, learning_rate=0.1, max_depth=8, random_state=0, loss='ls').fit(X_train, y_train)\n",
    "    gbr_pred = gbr_models[name].predict(X_train)\n",
    "    count += 1\n",
    "    # add the model results back into the dataframe so we can plot the actual and predicted against all the indepedent variables\n",
    "    train_df['gboost'] = gbr_pred\n",
    "    #put the actual target value back in the dataframe so we can plot results\n",
    "    train_df['canopy_height'] = target_df\n",
    "    # store the predicted results in the same dictionary organization and the trained models\n",
    "    predictions[name] = train_df\n",
    "    if (count % 50) == 0:\n",
    "        print('in process:',count, 'models')\n",
    "print('finished generating',count,'models')"
   ]
  },
  {
   "cell_type": "code",
   "execution_count": null,
   "metadata": {},
   "outputs": [],
   "source": []
  },
  {
   "cell_type": "code",
   "execution_count": 9,
   "metadata": {},
   "outputs": [],
   "source": [
    "# calculate the percentage error between the actual and the model\n",
    "for name in predictions:\n",
    "    #print(predictions[name])\n",
    "    predictions[name]['abserror_gboost'] = 100.0*abs(predictions[name]['canopy_height']-predictions[name]['gboost'])/predictions[name]['canopy_height']\n"
   ]
  },
  {
   "cell_type": "code",
   "execution_count": 10,
   "metadata": {},
   "outputs": [],
   "source": [
    "\n",
    "def plot_specific_cultivar(cultivar):\n",
    "    df = predictions[(cultivar)]\n",
    "    minCol = df['column'].min()\n",
    "    df = df.loc[df['column']==minCol]\n",
    "    print(df.shape)\n",
    "    df = df[['day_offset','canopy_height','gboost','abserror_gboost']]\n",
    "    df = df.set_index('day_offset')\n",
    "    df = df.sort_index()\n",
    "    print(df)\n",
    "    df.plot()"
   ]
  },
  {
   "cell_type": "code",
   "execution_count": 11,
   "metadata": {},
   "outputs": [
    {
     "name": "stdout",
     "output_type": "stream",
     "text": [
      "(15, 10)\n",
      "            canopy_height      gboost  abserror_gboost\n",
      "day_offset                                            \n",
      "12.0                 15.0   15.005147         0.034315\n",
      "15.0                 29.0   29.004517         0.015577\n",
      "32.0                102.0  102.002803         0.002748\n",
      "35.0                119.0  119.002222         0.001867\n",
      "36.0                125.0  125.001835         0.001468\n",
      "38.0                111.0  111.002776         0.002501\n",
      "39.0                114.0  114.002326         0.002041\n",
      "40.0                272.0  271.998192         0.000665\n",
      "46.0                191.0  191.000547         0.000286\n",
      "55.0                248.0  247.998731         0.000512\n",
      "61.0                278.0  277.997905         0.000753\n",
      "62.0                260.0  259.998551         0.000557\n",
      "64.0                263.0  262.998439         0.000594\n",
      "65.0                268.0  267.998267         0.000647\n",
      "120.0               386.0  385.995164         0.001253\n"
     ]
    },
    {
     "data": {
      "image/png": "[encoded data removed]",
      "text/plain": [
       "<Figure size 432x288 with 1 Axes>"
      ]
     },
     "metadata": {
      "needs_background": "light"
     },
     "output_type": "display_data"
    }
   ],
   "source": [
    "plot_specific_cultivar('PI453696')"
   ]
  },
  {
   "cell_type": "code",
   "execution_count": 12,
   "metadata": {},
   "outputs": [],
   "source": [
    "count_df = pd.DataFrame(list_of_counts)"
   ]
  },
  {
   "cell_type": "code",
   "execution_count": 13,
   "metadata": {},
   "outputs": [
    {
     "data": {
      "text/plain": [
       "array([[<matplotlib.axes._subplots.AxesSubplot object at 0x1a26c84a90>]],\n",
       "      dtype=object)"
      ]
     },
     "execution_count": 13,
     "metadata": {},
     "output_type": "execute_result"
    },
    {
     "data": {
      "image/png": "[encoded data removed]",
      "text/plain": [
       "<Figure size 432x288 with 1 Axes>"
      ]
     },
     "metadata": {
      "needs_background": "light"
     },
     "output_type": "display_data"
    }
   ],
   "source": [
    "count_df.hist(bins=20)"
   ]
  },
  {
   "cell_type": "code",
   "execution_count": 14,
   "metadata": {},
   "outputs": [
    {
     "data": {
      "text/plain": [
       "<matplotlib.axes._subplots.AxesSubplot at 0x1a2714b9d0>"
      ]
     },
     "execution_count": 14,
     "metadata": {},
     "output_type": "execute_result"
    },
    {
     "data": {
      "image/png": "[encoded data removed]",
      "text/plain": [
       "<Figure size 432x288 with 1 Axes>"
      ]
     },
     "metadata": {
      "needs_background": "light"
     },
     "output_type": "display_data"
    }
   ],
   "source": [
    "import seaborn as sns\n",
    "sns.distplot(count_df['count'])"
   ]
  },
  {
   "cell_type": "code",
   "execution_count": 15,
   "metadata": {},
   "outputs": [
    {
     "data": {
      "text/html": [
       "<div>\n",
       "<style scoped>\n",
       "    .dataframe tbody tr th:only-of-type {\n",
       "        vertical-align: middle;\n",
       "    }\n",
       "\n",
       "    .dataframe tbody tr th {\n",
       "        vertical-align: top;\n",
       "    }\n",
       "\n",
       "    .dataframe thead th {\n",
       "        text-align: right;\n",
       "    }\n",
       "</style>\n",
       "<table border=\"1\" class=\"dataframe\">\n",
       "  <thead>\n",
       "    <tr style=\"text-align: right;\">\n",
       "      <th></th>\n",
       "      <th>day_offset</th>\n",
       "      <th>range</th>\n",
       "      <th>column</th>\n",
       "      <th>leaf_angle_alpha</th>\n",
       "      <th>leaf_angle_beta</th>\n",
       "      <th>leaf_angle_chi</th>\n",
       "      <th>leaf_angle_mean</th>\n",
       "      <th>gboost</th>\n",
       "      <th>canopy_height</th>\n",
       "      <th>abserror_gboost</th>\n",
       "    </tr>\n",
       "  </thead>\n",
       "  <tbody>\n",
       "    <tr>\n",
       "      <th>20</th>\n",
       "      <td>14.0</td>\n",
       "      <td>54</td>\n",
       "      <td>6</td>\n",
       "      <td>2.862611</td>\n",
       "      <td>2.032145</td>\n",
       "      <td>1.760535</td>\n",
       "      <td>0.440563</td>\n",
       "      <td>23.005223</td>\n",
       "      <td>23.0</td>\n",
       "      <td>0.022707</td>\n",
       "    </tr>\n",
       "    <tr>\n",
       "      <th>24</th>\n",
       "      <td>15.0</td>\n",
       "      <td>54</td>\n",
       "      <td>8</td>\n",
       "      <td>3.187505</td>\n",
       "      <td>2.155901</td>\n",
       "      <td>1.803197</td>\n",
       "      <td>0.430016</td>\n",
       "      <td>24.004826</td>\n",
       "      <td>24.0</td>\n",
       "      <td>0.020109</td>\n",
       "    </tr>\n",
       "    <tr>\n",
       "      <th>194</th>\n",
       "      <td>18.0</td>\n",
       "      <td>54</td>\n",
       "      <td>12</td>\n",
       "      <td>2.613957</td>\n",
       "      <td>1.892850</td>\n",
       "      <td>1.735935</td>\n",
       "      <td>0.454849</td>\n",
       "      <td>31.004720</td>\n",
       "      <td>31.0</td>\n",
       "      <td>0.015225</td>\n",
       "    </tr>\n",
       "    <tr>\n",
       "      <th>238</th>\n",
       "      <td>19.0</td>\n",
       "      <td>54</td>\n",
       "      <td>12</td>\n",
       "      <td>1.857061</td>\n",
       "      <td>1.592292</td>\n",
       "      <td>1.647838</td>\n",
       "      <td>0.481126</td>\n",
       "      <td>34.004480</td>\n",
       "      <td>34.0</td>\n",
       "      <td>0.013176</td>\n",
       "    </tr>\n",
       "    <tr>\n",
       "      <th>463</th>\n",
       "      <td>23.0</td>\n",
       "      <td>54</td>\n",
       "      <td>12</td>\n",
       "      <td>1.252334</td>\n",
       "      <td>1.418767</td>\n",
       "      <td>1.430102</td>\n",
       "      <td>0.527795</td>\n",
       "      <td>53.004236</td>\n",
       "      <td>53.0</td>\n",
       "      <td>0.007993</td>\n",
       "    </tr>\n",
       "    <tr>\n",
       "      <th>493</th>\n",
       "      <td>24.0</td>\n",
       "      <td>54</td>\n",
       "      <td>12</td>\n",
       "      <td>1.537513</td>\n",
       "      <td>1.509867</td>\n",
       "      <td>1.548146</td>\n",
       "      <td>0.500208</td>\n",
       "      <td>63.003760</td>\n",
       "      <td>63.0</td>\n",
       "      <td>0.005968</td>\n",
       "    </tr>\n",
       "    <tr>\n",
       "      <th>948</th>\n",
       "      <td>32.0</td>\n",
       "      <td>54</td>\n",
       "      <td>12</td>\n",
       "      <td>3.897037</td>\n",
       "      <td>2.108525</td>\n",
       "      <td>2.086252</td>\n",
       "      <td>0.370828</td>\n",
       "      <td>105.002890</td>\n",
       "      <td>105.0</td>\n",
       "      <td>0.002752</td>\n",
       "    </tr>\n",
       "    <tr>\n",
       "      <th>1292</th>\n",
       "      <td>33.0</td>\n",
       "      <td>54</td>\n",
       "      <td>4</td>\n",
       "      <td>4.775740</td>\n",
       "      <td>2.310997</td>\n",
       "      <td>2.209762</td>\n",
       "      <td>0.342345</td>\n",
       "      <td>113.002505</td>\n",
       "      <td>113.0</td>\n",
       "      <td>0.002217</td>\n",
       "    </tr>\n",
       "    <tr>\n",
       "      <th>1456</th>\n",
       "      <td>34.0</td>\n",
       "      <td>2</td>\n",
       "      <td>14</td>\n",
       "      <td>3.088966</td>\n",
       "      <td>2.040991</td>\n",
       "      <td>1.851796</td>\n",
       "      <td>0.417696</td>\n",
       "      <td>123.002317</td>\n",
       "      <td>123.0</td>\n",
       "      <td>0.001884</td>\n",
       "    </tr>\n",
       "    <tr>\n",
       "      <th>2140</th>\n",
       "      <td>36.0</td>\n",
       "      <td>54</td>\n",
       "      <td>15</td>\n",
       "      <td>3.995687</td>\n",
       "      <td>2.126088</td>\n",
       "      <td>2.103125</td>\n",
       "      <td>0.366124</td>\n",
       "      <td>129.002168</td>\n",
       "      <td>129.0</td>\n",
       "      <td>0.001681</td>\n",
       "    </tr>\n",
       "  </tbody>\n",
       "</table>\n",
       "</div>"
      ],
      "text/plain": [
       "      day_offset  range  column  leaf_angle_alpha  leaf_angle_beta  \\\n",
       "20          14.0     54       6          2.862611         2.032145   \n",
       "24          15.0     54       8          3.187505         2.155901   \n",
       "194         18.0     54      12          2.613957         1.892850   \n",
       "238         19.0     54      12          1.857061         1.592292   \n",
       "463         23.0     54      12          1.252334         1.418767   \n",
       "493         24.0     54      12          1.537513         1.509867   \n",
       "948         32.0     54      12          3.897037         2.108525   \n",
       "1292        33.0     54       4          4.775740         2.310997   \n",
       "1456        34.0      2      14          3.088966         2.040991   \n",
       "2140        36.0     54      15          3.995687         2.126088   \n",
       "\n",
       "      leaf_angle_chi  leaf_angle_mean      gboost  canopy_height  \\\n",
       "20          1.760535         0.440563   23.005223           23.0   \n",
       "24          1.803197         0.430016   24.004826           24.0   \n",
       "194         1.735935         0.454849   31.004720           31.0   \n",
       "238         1.647838         0.481126   34.004480           34.0   \n",
       "463         1.430102         0.527795   53.004236           53.0   \n",
       "493         1.548146         0.500208   63.003760           63.0   \n",
       "948         2.086252         0.370828  105.002890          105.0   \n",
       "1292        2.209762         0.342345  113.002505          113.0   \n",
       "1456        1.851796         0.417696  123.002317          123.0   \n",
       "2140        2.103125         0.366124  129.002168          129.0   \n",
       "\n",
       "      abserror_gboost  \n",
       "20           0.022707  \n",
       "24           0.020109  \n",
       "194          0.015225  \n",
       "238          0.013176  \n",
       "463          0.007993  \n",
       "493          0.005968  \n",
       "948          0.002752  \n",
       "1292         0.002217  \n",
       "1456         0.001884  \n",
       "2140         0.001681  "
      ]
     },
     "execution_count": 15,
     "metadata": {},
     "output_type": "execute_result"
    }
   ],
   "source": [
    "predictions['Big_Kahuna'][0:10]"
   ]
  },
  {
   "cell_type": "markdown",
   "metadata": {},
   "source": [
    "We only have a single value for each cultivar, but the cultivar is placed multiple times in the field.  To plot the whole field, we have to index through the field and query the prediction results by using the cultivar name, then build up a complete view of the field.  First look at how to find the cultivar at a particular spot on the field:"
   ]
  },
  {
   "cell_type": "code",
   "execution_count": 16,
   "metadata": {},
   "outputs": [
    {
     "data": {
      "text/plain": [
       "'PI154987'"
      ]
     },
     "execution_count": 16,
     "metadata": {},
     "output_type": "execute_result"
    }
   ],
   "source": [
    "# this query matches all the rows with specific range and column, then selects the first return (via iloc[0]) and selects only the cultivar column\n",
    "s4_df.loc[(s4_df['range'] == 5) & (s4_df['column']==5)].iloc[0]['cultivar']"
   ]
  },
  {
   "cell_type": "code",
   "execution_count": 17,
   "metadata": {},
   "outputs": [],
   "source": [
    "def addPlotMarker(cultivar,rng,column,error):\n",
    "    global plotlist\n",
    "    mark = {}\n",
    "    mark['cultivar'] = cultivar\n",
    "    mark['range'] = rng\n",
    "    mark['column'] = column\n",
    "    mark['avg_error'] = error\n",
    "    plotlist.append(mark)"
   ]
  },
  {
   "cell_type": "code",
   "execution_count": 19,
   "metadata": {},
   "outputs": [
    {
     "name": "stdout",
     "output_type": "stream",
     "text": [
      "plotted 703 values\n"
     ]
    },
    {
     "data": {
      "text/html": [
       "<div>\n",
       "<style scoped>\n",
       "    .dataframe tbody tr th:only-of-type {\n",
       "        vertical-align: middle;\n",
       "    }\n",
       "\n",
       "    .dataframe tbody tr th {\n",
       "        vertical-align: top;\n",
       "    }\n",
       "\n",
       "    .dataframe thead th {\n",
       "        text-align: right;\n",
       "    }\n",
       "</style>\n",
       "<table border=\"1\" class=\"dataframe\">\n",
       "  <thead>\n",
       "    <tr style=\"text-align: right;\">\n",
       "      <th></th>\n",
       "      <th>cultivar</th>\n",
       "      <th>range</th>\n",
       "      <th>column</th>\n",
       "      <th>avg_error</th>\n",
       "    </tr>\n",
       "  </thead>\n",
       "  <tbody>\n",
       "    <tr>\n",
       "      <th>0</th>\n",
       "      <td>Big_Kahuna</td>\n",
       "      <td>2</td>\n",
       "      <td>14</td>\n",
       "      <td>0.002775</td>\n",
       "    </tr>\n",
       "    <tr>\n",
       "      <th>1</th>\n",
       "      <td>SP1615</td>\n",
       "      <td>2</td>\n",
       "      <td>15</td>\n",
       "      <td>0.003034</td>\n",
       "    </tr>\n",
       "    <tr>\n",
       "      <th>2</th>\n",
       "      <td>PI329465</td>\n",
       "      <td>3</td>\n",
       "      <td>2</td>\n",
       "      <td>0.002805</td>\n",
       "    </tr>\n",
       "    <tr>\n",
       "      <th>3</th>\n",
       "      <td>PI22913</td>\n",
       "      <td>3</td>\n",
       "      <td>3</td>\n",
       "      <td>0.002726</td>\n",
       "    </tr>\n",
       "    <tr>\n",
       "      <th>4</th>\n",
       "      <td>PI145626</td>\n",
       "      <td>3</td>\n",
       "      <td>4</td>\n",
       "      <td>0.003905</td>\n",
       "    </tr>\n",
       "  </tbody>\n",
       "</table>\n",
       "</div>"
      ],
      "text/plain": [
       "     cultivar  range  column  avg_error\n",
       "0  Big_Kahuna      2      14   0.002775\n",
       "1      SP1615      2      15   0.003034\n",
       "2    PI329465      3       2   0.002805\n",
       "3     PI22913      3       3   0.002726\n",
       "4    PI145626      3       4   0.003905"
      ]
     },
     "execution_count": 19,
     "metadata": {},
     "output_type": "execute_result"
    }
   ],
   "source": [
    "import numpy as np\n",
    "plotlist = []\n",
    "\n",
    "for rng in range(2,int(maxRange)):\n",
    "    for col in range(2,int(maxColumn)):\n",
    "        #print(rng,col)\n",
    "        CultivarListInThisSpot = s4_df.loc[(s4_df['range'] == rng) & (s4_df['column']==col)]['cultivar']\n",
    "        # return a Series of the cultivar names. If the square isn't empty, get the cultivar name from the list. \n",
    "        # all cultivar names should be identical since we have selected multiple measurements (on different days) from the same location\n",
    "        if len(CultivarListInThisSpot)> 0:\n",
    "            thisCultivar = CultivarListInThisSpot.values[0]\n",
    "            addPlotMarker(thisCultivar,rng,col,predictions[thisCultivar]['abserror_gboost'].agg(np.mean))\n",
    "plotdf = pd.DataFrame(plotlist)\n",
    "print('plotted',len(plotlist),'values')\n",
    "plotdf.head()\n",
    "#len(plotdf)"
   ]
  },
  {
   "cell_type": "markdown",
   "metadata": {},
   "source": [
    "Yes!  Now we have a full grid of values with the cultivar name, location, and the average error througout the season.  Let us \n",
    "plot this to see what it looks like."
   ]
  },
  {
   "cell_type": "code",
   "execution_count": 24,
   "metadata": {},
   "outputs": [
    {
     "data": {
      "text/html": [
       "\n",
       "<div id=\"altair-viz-672ed0ad21f14ab8adadfacf32b16cb1\"></div>\n",
       "<script type=\"text/javascript\">\n",
       "  (function(spec, embedOpt){\n",
       "    let outputDiv = document.currentScript.previousElementSibling;\n",
       "    if (outputDiv.id !== \"altair-viz-672ed0ad21f14ab8adadfacf32b16cb1\") {\n",
       "      outputDiv = document.getElementById(\"altair-viz-672ed0ad21f14ab8adadfacf32b16cb1\");\n",
       "    }\n",
       "    const paths = {\n",
       "      \"vega\": \"https://cdn.jsdelivr.net/npm//vega@5?noext\",\n",
       "      \"vega-lib\": \"https://cdn.jsdelivr.net/npm//vega-lib?noext\",\n",
       "      \"vega-lite\": \"https://cdn.jsdelivr.net/npm//vega-lite@4.8.1?noext\",\n",
       "      \"vega-embed\": \"https://cdn.jsdelivr.net/npm//vega-embed@6?noext\",\n",
       "    };\n",
       "\n",
       "    function loadScript(lib) {\n",
       "      return new Promise(function(resolve, reject) {\n",
       "        var s = document.createElement('script');\n",
       "        s.src = paths[lib];\n",
       "        s.async = true;\n",
       "        s.onload = () => resolve(paths[lib]);\n",
       "        s.onerror = () => reject(`Error loading script: ${paths[lib]}`);\n",
       "        document.getElementsByTagName(\"head\")[0].appendChild(s);\n",
       "      });\n",
       "    }\n",
       "\n",
       "    function showError(err) {\n",
       "      outputDiv.innerHTML = `<div class=\"error\" style=\"color:red;\">${err}</div>`;\n",
       "      throw err;\n",
       "    }\n",
       "\n",
       "    function displayChart(vegaEmbed) {\n",
       "      vegaEmbed(outputDiv, spec, embedOpt)\n",
       "        .catch(err => showError(`Javascript Error: ${err.message}<br>This usually means there's a typo in your chart specification. See the javascript console for the full traceback.`));\n",
       "    }\n",
       "\n",
       "    if(typeof define === \"function\" && define.amd) {\n",
       "      requirejs.config({paths});\n",
       "      require([\"vega-embed\"], displayChart, err => showError(`Error loading script: ${err.message}`));\n",
       "    } else if (typeof vegaEmbed === \"function\") {\n",
       "      displayChart(vegaEmbed);\n",
       "    } else {\n",
       "      loadScript(\"vega\")\n",
       "        .then(() => loadScript(\"vega-lite\"))\n",
       "        .then(() => loadScript(\"vega-embed\"))\n",
       "        .catch(showError)\n",
       "        .then(() => displayChart(vegaEmbed));\n",
       "    }\n",
       "  })({\"config\": {\"view\": {\"continuousWidth\": 400, \"continuousHeight\": 300}}, \"data\": {\"name\": \"data-cc4c4a2f76d360c26150a77b57c1567f\"}, \"mark\": \"rect\", \"encoding\": {\"color\": {\"type\": \"quantitative\", \"field\": \"avg_error\"}, \"tooltip\": [{\"type\": \"ordinal\", \"field\": \"cultivar\", \"title\": \"Cultivar\"}, {\"type\": \"quantitative\", \"field\": \"avg_error\", \"title\": \"Model Error %\"}, {\"type\": \"ordinal\", \"field\": \"range\", \"title\": \"range\"}, {\"type\": \"ordinal\", \"field\": \"column\", \"title\": \"column\"}], \"x\": {\"type\": \"ordinal\", \"field\": \"column\"}, \"y\": {\"type\": \"ordinal\", \"field\": \"range\"}}, \"title\": \"Season4 - model per cultivar, average canopy_height error in %\", \"$schema\": \"https://vega.github.io/schema/vega-lite/v4.8.1.json\", \"datasets\": {\"data-cc4c4a2f76d360c26150a77b57c1567f\": [{\"cultivar\": \"Big_Kahuna\", \"range\": 2, \"column\": 14, \"avg_error\": 0.0027752577576647653}, {\"cultivar\": \"SP1615\", \"range\": 2, \"column\": 15, \"avg_error\": 0.0030344454843160558}, {\"cultivar\": \"PI329465\", \"range\": 3, \"column\": 2, \"avg_error\": 0.0028050023815259094}, {\"cultivar\": \"PI22913\", \"range\": 3, \"column\": 3, \"avg_error\": 0.002725589722005365}, {\"cultivar\": \"PI145626\", \"range\": 3, \"column\": 4, \"avg_error\": 0.003904627601168532}, {\"cultivar\": \"PI330807\", \"range\": 3, \"column\": 5, \"avg_error\": 0.0020043261615863258}, {\"cultivar\": \"PI330181\", \"range\": 3, \"column\": 6, \"avg_error\": 0.0018327604060397855}, {\"cultivar\": \"PI569447\", \"range\": 3, \"column\": 7, \"avg_error\": 0.0006879353380473786}, {\"cultivar\": \"PI653616\", \"range\": 3, \"column\": 8, \"avg_error\": 0.0017583966174912029}, {\"cultivar\": \"PI563020\", \"range\": 3, \"column\": 9, \"avg_error\": 0.0028932565386355007}, {\"cultivar\": \"PI569097\", \"range\": 3, \"column\": 10, \"avg_error\": 0.0017940674195457897}, {\"cultivar\": \"PI573193\", \"range\": 3, \"column\": 11, \"avg_error\": 0.0010668001826430813}, {\"cultivar\": \"PI152771\", \"range\": 3, \"column\": 12, \"avg_error\": 0.0020638929499794127}, {\"cultivar\": \"PI569427\", \"range\": 3, \"column\": 13, \"avg_error\": 0.0013365335599206394}, {\"cultivar\": \"PI337680\", \"range\": 3, \"column\": 14, \"avg_error\": 0.0006585123157731655}, {\"cultivar\": \"PI156871\", \"range\": 3, \"column\": 15, \"avg_error\": 0.0025333576801152293}, {\"cultivar\": \"PI329473\", \"range\": 4, \"column\": 2, \"avg_error\": 0.002299141270820717}, {\"cultivar\": \"PI646251\", \"range\": 4, \"column\": 3, \"avg_error\": 0.0018814854954214075}, {\"cultivar\": \"PI330169\", \"range\": 4, \"column\": 4, \"avg_error\": 0.001927038130331747}, {\"cultivar\": \"PI569458\", \"range\": 4, \"column\": 5, \"avg_error\": 0.0027504559137013712}, {\"cultivar\": \"PI302252\", \"range\": 4, \"column\": 6, \"avg_error\": 0.0019624515176002856}, {\"cultivar\": \"PI156217\", \"range\": 4, \"column\": 7, \"avg_error\": 0.0021656934904952263}, {\"cultivar\": \"PI569090\", \"range\": 4, \"column\": 8, \"avg_error\": 0.0019270068141271056}, {\"cultivar\": \"PI585608\", \"range\": 4, \"column\": 9, \"avg_error\": 0.001640943804838219}, {\"cultivar\": \"PI620072\", \"range\": 4, \"column\": 10, \"avg_error\": 0.0025726658373667922}, {\"cultivar\": \"PI563338\", \"range\": 4, \"column\": 11, \"avg_error\": 0.003998536524863302}, {\"cultivar\": \"PI569460\", \"range\": 4, \"column\": 12, \"avg_error\": 0.0020553494999747055}, {\"cultivar\": \"PI569444\", \"range\": 4, \"column\": 13, \"avg_error\": 0.002003335842419563}, {\"cultivar\": \"PI562730\", \"range\": 4, \"column\": 14, \"avg_error\": 0.0019327090554686027}, {\"cultivar\": \"PI563355\", \"range\": 4, \"column\": 15, \"avg_error\": 0.001452020451959477}, {\"cultivar\": \"PI569445\", \"range\": 5, \"column\": 2, \"avg_error\": 0.004350627046072113}, {\"cultivar\": \"PI221651\", \"range\": 5, \"column\": 3, \"avg_error\": 0.001920207461593853}, {\"cultivar\": \"PI525049\", \"range\": 5, \"column\": 4, \"avg_error\": 0.0012976039059779852}, {\"cultivar\": \"PI154987\", \"range\": 5, \"column\": 5, \"avg_error\": 0.00136345889830977}, {\"cultivar\": \"PI329300\", \"range\": 5, \"column\": 7, \"avg_error\": 0.0007842872302737527}, {\"cultivar\": \"PI152728\", \"range\": 5, \"column\": 8, \"avg_error\": 0.002210858805119822}, {\"cultivar\": \"PI330168\", \"range\": 5, \"column\": 9, \"avg_error\": 0.0015977194213137858}, {\"cultivar\": \"PI329256\", \"range\": 5, \"column\": 10, \"avg_error\": 0.0015296426154070364}, {\"cultivar\": \"PI452542\", \"range\": 5, \"column\": 11, \"avg_error\": 0.0014593505811838802}, {\"cultivar\": \"PI563331\", \"range\": 5, \"column\": 12, \"avg_error\": 0.0012441423275784682}, {\"cultivar\": \"PI563021\", \"range\": 5, \"column\": 13, \"avg_error\": 0.0016133313163245598}, {\"cultivar\": \"PI653617\", \"range\": 5, \"column\": 14, \"avg_error\": 0.0011469886206779444}, {\"cultivar\": \"PI152966\", \"range\": 5, \"column\": 15, \"avg_error\": 0.0024239911271873474}, {\"cultivar\": \"PI570075\", \"range\": 6, \"column\": 2, \"avg_error\": 0.001869406031101671}, {\"cultivar\": \"PI569423\", \"range\": 6, \"column\": 3, \"avg_error\": 0.0036058232697791627}, {\"cultivar\": \"PI329286\", \"range\": 6, \"column\": 4, \"avg_error\": 0.002079174282300559}, {\"cultivar\": \"PI329403\", \"range\": 6, \"column\": 5, \"avg_error\": 0.0013585647519225397}, {\"cultivar\": \"PI569148\", \"range\": 6, \"column\": 6, \"avg_error\": 0.0023542358788401023}, {\"cultivar\": \"PI570038\", \"range\": 6, \"column\": 7, \"avg_error\": 0.002055792197124375}, {\"cultivar\": \"PI329646\", \"range\": 6, \"column\": 8, \"avg_error\": 0.00148473972630094}, {\"cultivar\": \"PI570110\", \"range\": 6, \"column\": 9, \"avg_error\": 0.0027007611857251105}, {\"cultivar\": \"PI563009\", \"range\": 6, \"column\": 10, \"avg_error\": 0.0026381160563614097}, {\"cultivar\": \"PI562982\", \"range\": 6, \"column\": 11, \"avg_error\": 0.0026084904419330147}, {\"cultivar\": \"PI329517\", \"range\": 6, \"column\": 12, \"avg_error\": 0.003048657908477622}, {\"cultivar\": \"PI643008\", \"range\": 6, \"column\": 13, \"avg_error\": 0.0013914939480453993}, {\"cultivar\": \"PI152751\", \"range\": 6, \"column\": 14, \"avg_error\": 0.0014393817048904357}, {\"cultivar\": \"PI152733\", \"range\": 6, \"column\": 15, \"avg_error\": 0.0017870107919285836}, {\"cultivar\": \"PI303658\", \"range\": 7, \"column\": 2, \"avg_error\": 0.001850120910165764}, {\"cultivar\": \"PI570085\", \"range\": 7, \"column\": 3, \"avg_error\": 0.0009869078948179868}, {\"cultivar\": \"PI329710\", \"range\": 7, \"column\": 4, \"avg_error\": 0.0021360437681933984}, {\"cultivar\": \"PI329644\", \"range\": 7, \"column\": 5, \"avg_error\": 0.0019002750962618519}, {\"cultivar\": \"PI646242\", \"range\": 7, \"column\": 6, \"avg_error\": 0.0020782456624565656}, {\"cultivar\": \"PI155516\", \"range\": 7, \"column\": 7, \"avg_error\": 0.0016902841395358915}, {\"cultivar\": \"PI152694\", \"range\": 7, \"column\": 8, \"avg_error\": 0.001270138652917981}, {\"cultivar\": \"PI562897\", \"range\": 7, \"column\": 9, \"avg_error\": 0.0022153767826944945}, {\"cultivar\": \"PI569419\", \"range\": 7, \"column\": 10, \"avg_error\": 0.0023633137659889694}, {\"cultivar\": \"PI619807\", \"range\": 7, \"column\": 11, \"avg_error\": 0.001275233627356849}, {\"cultivar\": \"PI521290\", \"range\": 7, \"column\": 12, \"avg_error\": 0.002394701203900332}, {\"cultivar\": \"PI562732\", \"range\": 7, \"column\": 13, \"avg_error\": 0.0017248233790028262}, {\"cultivar\": \"PI568717\", \"range\": 7, \"column\": 14, \"avg_error\": 0.0013069081405990314}, {\"cultivar\": \"PI329471\", \"range\": 7, \"column\": 15, \"avg_error\": 0.002524439436066878}, {\"cultivar\": \"PI176766\", \"range\": 8, \"column\": 2, \"avg_error\": 0.0014315437965517455}, {\"cultivar\": \"PI506122\", \"range\": 8, \"column\": 3, \"avg_error\": 0.0011486882124142235}, {\"cultivar\": \"PI329584\", \"range\": 8, \"column\": 4, \"avg_error\": 0.002734792568900417}, {\"cultivar\": \"PI156178\", \"range\": 8, \"column\": 5, \"avg_error\": 0.002870803167732947}, {\"cultivar\": \"PI562990\", \"range\": 8, \"column\": 6, \"avg_error\": 0.0024336205792041404}, {\"cultivar\": \"PI330195\", \"range\": 8, \"column\": 7, \"avg_error\": 0.0018388719971310602}, {\"cultivar\": \"PI570145\", \"range\": 8, \"column\": 8, \"avg_error\": 0.0014836711900341054}, {\"cultivar\": \"PI329510\", \"range\": 8, \"column\": 9, \"avg_error\": 0.0015367292285697683}, {\"cultivar\": \"PI510757\", \"range\": 8, \"column\": 10, \"avg_error\": 0.0024486718008881994}, {\"cultivar\": \"PI330199\", \"range\": 8, \"column\": 11, \"avg_error\": 0.002834383336840051}, {\"cultivar\": \"PI329865\", \"range\": 8, \"column\": 12, \"avg_error\": 0.0012280826850739068}, {\"cultivar\": \"PI154750\", \"range\": 8, \"column\": 13, \"avg_error\": 0.0016213565315233538}, {\"cultivar\": \"PI521280\", \"range\": 8, \"column\": 14, \"avg_error\": 0.003032832498473594}, {\"cultivar\": \"PI156487\", \"range\": 8, \"column\": 15, \"avg_error\": 0.0023143492744641314}, {\"cultivar\": \"PI569416\", \"range\": 9, \"column\": 2, \"avg_error\": 0.00479517135735776}, {\"cultivar\": \"PI569457\", \"range\": 9, \"column\": 3, \"avg_error\": 0.0014550078939940432}, {\"cultivar\": \"PI521152\", \"range\": 9, \"column\": 4, \"avg_error\": 0.001396401199206528}, {\"cultivar\": \"PI569452\", \"range\": 9, \"column\": 5, \"avg_error\": 0.002581878303072911}, {\"cultivar\": \"PI329351\", \"range\": 9, \"column\": 6, \"avg_error\": 0.0025978139870894462}, {\"cultivar\": \"PI585961\", \"range\": 9, \"column\": 7, \"avg_error\": 0.0010941267234321308}, {\"cultivar\": \"PI563350\", \"range\": 9, \"column\": 8, \"avg_error\": 0.0019006526114548519}, {\"cultivar\": \"PI643016\", \"range\": 9, \"column\": 9, \"avg_error\": 0.0031952093172683133}, {\"cultivar\": \"PI329319\", \"range\": 9, \"column\": 10, \"avg_error\": 0.0030327742382175423}, {\"cultivar\": \"PI570431\", \"range\": 9, \"column\": 11, \"avg_error\": 0.0013465871522619446}, {\"cultivar\": \"PI257600\", \"range\": 9, \"column\": 12, \"avg_error\": 0.0026122765864408596}, {\"cultivar\": \"PI276837\", \"range\": 9, \"column\": 13, \"avg_error\": 0.002262420504706414}, {\"cultivar\": \"Unknown off type\", \"range\": 9, \"column\": 14, \"avg_error\": 0.0014696295644309437}, {\"cultivar\": \"PI569454\", \"range\": 9, \"column\": 15, \"avg_error\": 0.0036944089988273617}, {\"cultivar\": \"PI641807\", \"range\": 10, \"column\": 2, \"avg_error\": 0.002503686776559022}, {\"cultivar\": \"PI175919\", \"range\": 10, \"column\": 3, \"avg_error\": 0.002074441476543287}, {\"cultivar\": \"PI297155\", \"range\": 10, \"column\": 4, \"avg_error\": 0.0011101446644212495}, {\"cultivar\": \"PI641821\", \"range\": 10, \"column\": 5, \"avg_error\": 0.0012085354724005641}, {\"cultivar\": \"PI179749\", \"range\": 10, \"column\": 6, \"avg_error\": 0.0016927432002290111}, {\"cultivar\": \"PI255744\", \"range\": 10, \"column\": 7, \"avg_error\": 0.0011930756026708501}, {\"cultivar\": \"PI586435\", \"range\": 10, \"column\": 8, \"avg_error\": 0.0023293034565986803}, {\"cultivar\": \"PI641909\", \"range\": 10, \"column\": 9, \"avg_error\": 0.0014597843722713435}, {\"cultivar\": \"PI152816\", \"range\": 10, \"column\": 10, \"avg_error\": 0.002838404962958991}, {\"cultivar\": \"PI195754\", \"range\": 10, \"column\": 11, \"avg_error\": 0.0007845776572321456}, {\"cultivar\": \"PI329501\", \"range\": 10, \"column\": 12, \"avg_error\": 0.002581659892502572}, {\"cultivar\": \"PI641860\", \"range\": 10, \"column\": 13, \"avg_error\": 0.0008802794267887893}, {\"cultivar\": \"PI19770\", \"range\": 10, \"column\": 14, \"avg_error\": 0.003045294876551274}, {\"cultivar\": \"PI144134\", \"range\": 10, \"column\": 15, \"avg_error\": 0.0014647571917025997}, {\"cultivar\": \"PI576399\", \"range\": 11, \"column\": 2, \"avg_error\": 0.004269962021977387}, {\"cultivar\": \"PI655978\", \"range\": 11, \"column\": 3, \"avg_error\": 0.0028444514984156035}, {\"cultivar\": \"PI180348\", \"range\": 11, \"column\": 4, \"avg_error\": 0.0015235280045027763}, {\"cultivar\": \"PI181083\", \"range\": 11, \"column\": 5, \"avg_error\": 0.0024910527417186493}, {\"cultivar\": \"PI564163\", \"range\": 11, \"column\": 6, \"avg_error\": 0.0012873124691933136}, {\"cultivar\": \"PI656015\", \"range\": 11, \"column\": 7, \"avg_error\": 0.0015068672049010276}, {\"cultivar\": \"PI534165\", \"range\": 11, \"column\": 8, \"avg_error\": 0.0016785345692345874}, {\"cultivar\": \"PI52606\", \"range\": 11, \"column\": 9, \"avg_error\": 0.0018612135545762673}, {\"cultivar\": \"PI561840\", \"range\": 11, \"column\": 10, \"avg_error\": 0.0019858073903078685}, {\"cultivar\": \"PI533792\", \"range\": 11, \"column\": 11, \"avg_error\": 0.0016118593949559336}, {\"cultivar\": \"PI656065\", \"range\": 11, \"column\": 12, \"avg_error\": 0.0010676073336154512}, {\"cultivar\": \"PI535793\", \"range\": 11, \"column\": 13, \"avg_error\": 0.0015395660196244293}, {\"cultivar\": \"PI535794\", \"range\": 11, \"column\": 14, \"avg_error\": 0.001736475944330626}, {\"cultivar\": \"PI535796\", \"range\": 11, \"column\": 15, \"avg_error\": 0.001553241561937461}, {\"cultivar\": \"PI533998\", \"range\": 12, \"column\": 2, \"avg_error\": 0.0032515234618988257}, {\"cultivar\": \"PI253986\", \"range\": 12, \"column\": 3, \"avg_error\": 0.0021883947529909545}, {\"cultivar\": \"PI655983\", \"range\": 12, \"column\": 4, \"avg_error\": 0.002162745025022549}, {\"cultivar\": \"PI181080\", \"range\": 12, \"column\": 5, \"avg_error\": 0.003149478884977573}, {\"cultivar\": \"PI221548\", \"range\": 12, \"column\": 6, \"avg_error\": 0.0044825017370274}, {\"cultivar\": \"PI213900\", \"range\": 12, \"column\": 7, \"avg_error\": 0.001728059590180952}, {\"cultivar\": \"PI641836\", \"range\": 12, \"column\": 8, \"avg_error\": 0.0013224935392692554}, {\"cultivar\": \"PI35038\", \"range\": 12, \"column\": 9, \"avg_error\": 0.0015325154524544347}, {\"cultivar\": \"PI562981\", \"range\": 12, \"column\": 10, \"avg_error\": 0.0031569731759056464}, {\"cultivar\": \"PI569443\", \"range\": 12, \"column\": 11, \"avg_error\": 0.002639967696531128}, {\"cultivar\": \"PI641829\", \"range\": 12, \"column\": 12, \"avg_error\": 0.001022224190261636}, {\"cultivar\": \"PI641824\", \"range\": 12, \"column\": 13, \"avg_error\": 0.0016569144293959606}, {\"cultivar\": \"PI570109\", \"range\": 12, \"column\": 14, \"avg_error\": 0.002253505379622506}, {\"cultivar\": \"PI641825\", \"range\": 12, \"column\": 15, \"avg_error\": 0.001312274907468092}, {\"cultivar\": \"PI297171\", \"range\": 13, \"column\": 2, \"avg_error\": 0.0029070497864874564}, {\"cultivar\": \"PI330833\", \"range\": 13, \"column\": 3, \"avg_error\": 0.002423107394964794}, {\"cultivar\": \"PI569244\", \"range\": 13, \"column\": 4, \"avg_error\": 0.0019499385648582236}, {\"cultivar\": \"PI586443\", \"range\": 13, \"column\": 5, \"avg_error\": 0.0023704872053354384}, {\"cultivar\": \"PI562994\", \"range\": 13, \"column\": 6, \"avg_error\": 0.0020379897536204248}, {\"cultivar\": \"PI329711\", \"range\": 13, \"column\": 7, \"avg_error\": 0.001746247000801787}, {\"cultivar\": \"PI329480\", \"range\": 13, \"column\": 8, \"avg_error\": 0.0018512872203158242}, {\"cultivar\": \"PI329585\", \"range\": 13, \"column\": 9, \"avg_error\": 0.001987874901975441}, {\"cultivar\": \"PI152862\", \"range\": 13, \"column\": 10, \"avg_error\": 0.0017096673206262601}, {\"cultivar\": \"PI152967\", \"range\": 13, \"column\": 11, \"avg_error\": 0.0018800836611303922}, {\"cultivar\": \"PI514456\", \"range\": 13, \"column\": 12, \"avg_error\": 0.0018875869145864735}, {\"cultivar\": \"PI563032\", \"range\": 13, \"column\": 13, \"avg_error\": 0.002785624530117123}, {\"cultivar\": \"PI154844\", \"range\": 13, \"column\": 14, \"avg_error\": 0.0030573996442604763}, {\"cultivar\": \"PI156268\", \"range\": 13, \"column\": 15, \"avg_error\": 0.0024178844746836035}, {\"cultivar\": \"PI330182\", \"range\": 14, \"column\": 2, \"avg_error\": 0.001780616221958297}, {\"cultivar\": \"PI505717\", \"range\": 14, \"column\": 3, \"avg_error\": 0.0014208889794844312}, {\"cultivar\": \"PI562985\", \"range\": 14, \"column\": 4, \"avg_error\": 0.0020346779205384783}, {\"cultivar\": \"PI562997\", \"range\": 14, \"column\": 5, \"avg_error\": 0.003047949331938598}, {\"cultivar\": \"PI329550\", \"range\": 14, \"column\": 6, \"avg_error\": 0.002165443831002466}, {\"cultivar\": \"PI329618\", \"range\": 14, \"column\": 7, \"avg_error\": 0.0013070702841460103}, {\"cultivar\": \"PI455307\", \"range\": 14, \"column\": 8, \"avg_error\": 0.002996698585950199}, {\"cultivar\": \"PI251672\", \"range\": 14, \"column\": 9, \"avg_error\": 0.002438759902769009}, {\"cultivar\": \"PI196583\", \"range\": 14, \"column\": 10, \"avg_error\": 0.004301893715736132}, {\"cultivar\": \"PI570393\", \"range\": 14, \"column\": 11, \"avg_error\": 0.001451912991030703}, {\"cultivar\": \"PI563222\", \"range\": 14, \"column\": 13, \"avg_error\": 0.0016968666517068614}, {\"cultivar\": \"PI156326\", \"range\": 14, \"column\": 14, \"avg_error\": 0.0030474374319213356}, {\"cultivar\": \"PI641850\", \"range\": 14, \"column\": 15, \"avg_error\": 0.0018849263515879568}, {\"cultivar\": \"PI329645\", \"range\": 15, \"column\": 2, \"avg_error\": 0.0017000580807903837}, {\"cultivar\": \"PI570114\", \"range\": 15, \"column\": 3, \"avg_error\": 0.002664492339812728}, {\"cultivar\": \"PI156890\", \"range\": 15, \"column\": 4, \"avg_error\": 0.0020657633148114096}, {\"cultivar\": \"PI569418\", \"range\": 15, \"column\": 5, \"avg_error\": 0.003321091515489389}, {\"cultivar\": \"PI583832\", \"range\": 15, \"column\": 6, \"avg_error\": 0.0008855425265115384}, {\"cultivar\": \"PI152971\", \"range\": 15, \"column\": 7, \"avg_error\": 0.002425395733525365}, {\"cultivar\": \"PI329864\", \"range\": 15, \"column\": 8, \"avg_error\": 0.0018926036432784566}, {\"cultivar\": \"PI513898\", \"range\": 15, \"column\": 10, \"avg_error\": 0.0019552973517903026}, {\"cultivar\": \"PI329466\", \"range\": 15, \"column\": 11, \"avg_error\": 0.001542772496669977}, {\"cultivar\": \"PI154944\", \"range\": 15, \"column\": 12, \"avg_error\": 0.0018033314503472571}, {\"cultivar\": \"PI273465\", \"range\": 15, \"column\": 13, \"avg_error\": 0.0012338911707705348}, {\"cultivar\": \"PI620157\", \"range\": 15, \"column\": 14, \"avg_error\": 0.0034217716958530307}, {\"cultivar\": \"PI506030\", \"range\": 15, \"column\": 15, \"avg_error\": 0.0021533650627543477}, {\"cultivar\": \"PI152727\", \"range\": 16, \"column\": 2, \"avg_error\": 0.0038768492754388366}, {\"cultivar\": \"PI569886\", \"range\": 16, \"column\": 3, \"avg_error\": 0.001774350910525341}, {\"cultivar\": \"PI562970\", \"range\": 16, \"column\": 4, \"avg_error\": 0.0012024905835474932}, {\"cultivar\": \"PI506069\", \"range\": 16, \"column\": 5, \"avg_error\": 0.0031862174541858394}, {\"cultivar\": \"PI329546\", \"range\": 16, \"column\": 6, \"avg_error\": 0.0017935648414286892}, {\"cultivar\": \"PI152651\", \"range\": 16, \"column\": 7, \"avg_error\": 0.0013079003368713365}, {\"cultivar\": \"PI563022\", \"range\": 16, \"column\": 8, \"avg_error\": 0.0009959927985615541}, {\"cultivar\": \"PI566819\", \"range\": 16, \"column\": 9, \"avg_error\": 0.0013236203418504461}, {\"cultivar\": \"PI569465\", \"range\": 16, \"column\": 10, \"avg_error\": 0.002165477702836975}, {\"cultivar\": \"PI585966\", \"range\": 16, \"column\": 11, \"avg_error\": 0.0021332336389859098}, {\"cultivar\": \"PI570076\", \"range\": 16, \"column\": 12, \"avg_error\": 0.003444652883964801}, {\"cultivar\": \"PI146890\", \"range\": 16, \"column\": 13, \"avg_error\": 0.0016396384238624735}, {\"cultivar\": \"PI570254\", \"range\": 16, \"column\": 14, \"avg_error\": 0.001453016313078517}, {\"cultivar\": \"PI562991\", \"range\": 16, \"column\": 15, \"avg_error\": 0.0013320992352137022}, {\"cultivar\": \"PI329541\", \"range\": 17, \"column\": 2, \"avg_error\": 0.001692863019105023}, {\"cultivar\": \"PI329702\", \"range\": 17, \"column\": 3, \"avg_error\": 0.0022076059069789113}, {\"cultivar\": \"PI570090\", \"range\": 17, \"column\": 4, \"avg_error\": 0.0028441700558874496}, {\"cultivar\": \"PI329394\", \"range\": 17, \"column\": 5, \"avg_error\": 0.0014766540205603778}, {\"cultivar\": \"PI570400\", \"range\": 17, \"column\": 6, \"avg_error\": 0.0018964359069971867}, {\"cultivar\": \"PI157030\", \"range\": 17, \"column\": 7, \"avg_error\": 0.0015404103859937486}, {\"cultivar\": \"PI569264\", \"range\": 17, \"column\": 8, \"avg_error\": 0.0011753130309580732}, {\"cultivar\": \"PI229841\", \"range\": 17, \"column\": 9, \"avg_error\": 0.001994010191287388}, {\"cultivar\": \"PI569420\", \"range\": 17, \"column\": 10, \"avg_error\": 0.0037364969917044813}, {\"cultivar\": \"PI196049\", \"range\": 17, \"column\": 11, \"avg_error\": 0.0014384052984910236}, {\"cultivar\": \"PI505735\", \"range\": 17, \"column\": 12, \"avg_error\": 0.002771684782927423}, {\"cultivar\": \"PI586541\", \"range\": 17, \"column\": 13, \"avg_error\": 0.0009837618619618438}, {\"cultivar\": \"PI152860\", \"range\": 17, \"column\": 14, \"avg_error\": 0.0006959459527443166}, {\"cultivar\": \"PI455301\", \"range\": 17, \"column\": 15, \"avg_error\": 0.0016283339420402416}, {\"cultivar\": \"PI570042\", \"range\": 18, \"column\": 2, \"avg_error\": 0.0031753227881445656}, {\"cultivar\": \"PI196598\", \"range\": 18, \"column\": 3, \"avg_error\": 0.0022019411340732983}, {\"cultivar\": \"PI540518\", \"range\": 18, \"column\": 4, \"avg_error\": 0.0008360620822538036}, {\"cultivar\": \"PI656035\", \"range\": 18, \"column\": 5, \"avg_error\": 0.0021333319920494387}, {\"cultivar\": \"PI217691\", \"range\": 18, \"column\": 6, \"avg_error\": 0.000650866295149611}, {\"cultivar\": \"PI570047\", \"range\": 18, \"column\": 7, \"avg_error\": 0.0014238839718734655}, {\"cultivar\": \"PI145633\", \"range\": 18, \"column\": 8, \"avg_error\": 0.0034039873238577213}, {\"cultivar\": \"PI535785\", \"range\": 18, \"column\": 9, \"avg_error\": 0.001898566264384082}, {\"cultivar\": \"PI646266\", \"range\": 18, \"column\": 10, \"avg_error\": 0.002036824510133058}, {\"cultivar\": \"PI641862\", \"range\": 18, \"column\": 11, \"avg_error\": 0.0018303810864278857}, {\"cultivar\": \"PI655981\", \"range\": 18, \"column\": 12, \"avg_error\": 0.003492813231683462}, {\"cultivar\": \"PI641817\", \"range\": 18, \"column\": 13, \"avg_error\": 0.001161455788997145}, {\"cultivar\": \"PI569425\", \"range\": 18, \"column\": 14, \"avg_error\": 0.0018032140890887715}, {\"cultivar\": \"PI218112\", \"range\": 18, \"column\": 15, \"avg_error\": 0.0011174605285391287}, {\"cultivar\": \"PI524475\", \"range\": 19, \"column\": 2, \"avg_error\": 0.0027869342585071792}, {\"cultivar\": \"PI153877\", \"range\": 19, \"column\": 3, \"avg_error\": 0.0024725119539699193}, {\"cultivar\": \"PI569455\", \"range\": 19, \"column\": 4, \"avg_error\": 0.0025242455447300957}, {\"cultivar\": \"PI585461\", \"range\": 19, \"column\": 5, \"avg_error\": 0.003172572021261928}, {\"cultivar\": \"PI330185\", \"range\": 19, \"column\": 6, \"avg_error\": 0.0024056824549006156}, {\"cultivar\": \"PI157035\", \"range\": 19, \"column\": 7, \"avg_error\": 0.002160163506252028}, {\"cultivar\": \"PI329545\", \"range\": 19, \"column\": 8, \"avg_error\": 0.002512871191735438}, {\"cultivar\": \"PI455280\", \"range\": 19, \"column\": 9, \"avg_error\": 0.001473493603402848}, {\"cultivar\": \"PI152730\", \"range\": 19, \"column\": 10, \"avg_error\": 0.0020880022861240466}, {\"cultivar\": \"PI452692\", \"range\": 19, \"column\": 11, \"avg_error\": 0.0021290306456223005}, {\"cultivar\": \"PI167093\", \"range\": 19, \"column\": 12, \"avg_error\": 0.0022744935760274014}, {\"cultivar\": \"PI329310\", \"range\": 19, \"column\": 13, \"avg_error\": 0.00207346756097268}, {\"cultivar\": \"PI563196\", \"range\": 19, \"column\": 14, \"avg_error\": 0.0022372070962221034}, {\"cultivar\": \"PI329699\", \"range\": 19, \"column\": 15, \"avg_error\": 0.0010755441269983373}, {\"cultivar\": \"PI542718\", \"range\": 20, \"column\": 2, \"avg_error\": 0.001517440230479259}, {\"cultivar\": \"PI656026\", \"range\": 20, \"column\": 3, \"avg_error\": 0.001117476845100197}, {\"cultivar\": \"PI526905\", \"range\": 20, \"column\": 4, \"avg_error\": 0.0014051585813545922}, {\"cultivar\": \"PI593916\", \"range\": 20, \"column\": 5, \"avg_error\": 0.0008009026208232238}, {\"cultivar\": \"PI534120\", \"range\": 20, \"column\": 6, \"avg_error\": 0.0024274342664295035}, {\"cultivar\": \"PI655972\", \"range\": 20, \"column\": 8, \"avg_error\": 0.0022109279294646334}, {\"cultivar\": \"PI535792\", \"range\": 20, \"column\": 9, \"avg_error\": 0.002653195980612734}, {\"cultivar\": \"PI550604\", \"range\": 20, \"column\": 10, \"avg_error\": 0.0017561224088310393}, {\"cultivar\": \"PI527045\", \"range\": 20, \"column\": 11, \"avg_error\": 0.0016619039605747497}, {\"cultivar\": \"PI329435\", \"range\": 20, \"column\": 12, \"avg_error\": 0.0019111313798679584}, {\"cultivar\": \"PI533902\", \"range\": 20, \"column\": 13, \"avg_error\": 0.0012697363443461558}, {\"cultivar\": \"PI154988\", \"range\": 20, \"column\": 14, \"avg_error\": 0.0016289497124909204}, {\"cultivar\": \"PI152828\", \"range\": 20, \"column\": 15, \"avg_error\": 0.0014179449626665905}, {\"cultivar\": \"PI570373\", \"range\": 21, \"column\": 2, \"avg_error\": 0.003342477084416219}, {\"cultivar\": \"PI329570\", \"range\": 21, \"column\": 3, \"avg_error\": 0.002564767943057013}, {\"cultivar\": \"PI152961\", \"range\": 21, \"column\": 4, \"avg_error\": 0.002086532120536567}, {\"cultivar\": \"PI563332\", \"range\": 21, \"column\": 5, \"avg_error\": 0.00179512437970172}, {\"cultivar\": \"PI155760\", \"range\": 21, \"column\": 6, \"avg_error\": 0.00268848502845578}, {\"cultivar\": \"PI570096\", \"range\": 21, \"column\": 7, \"avg_error\": 0.0016019657775421421}, {\"cultivar\": \"PI505722\", \"range\": 21, \"column\": 8, \"avg_error\": 0.001695099354945549}, {\"cultivar\": \"PI569453\", \"range\": 21, \"column\": 9, \"avg_error\": 0.0032423493079178}, {\"cultivar\": \"PI563330\", \"range\": 21, \"column\": 10, \"avg_error\": 0.0021297886200500795}, {\"cultivar\": \"PI570031\", \"range\": 21, \"column\": 11, \"avg_error\": 0.0015326144542340088}, {\"cultivar\": \"PI329511\", \"range\": 21, \"column\": 12, \"avg_error\": 0.0013934819359349747}, {\"cultivar\": \"PI570074\", \"range\": 21, \"column\": 13, \"avg_error\": 0.00288908279409898}, {\"cultivar\": \"PI570388\", \"range\": 21, \"column\": 14, \"avg_error\": 0.0031761623017737012}, {\"cultivar\": \"PI329632\", \"range\": 21, \"column\": 15, \"avg_error\": 0.0014530875213947085}, {\"cultivar\": \"PI329518\", \"range\": 22, \"column\": 2, \"avg_error\": 0.004338218889138885}, {\"cultivar\": \"PI329665\", \"range\": 22, \"column\": 3, \"avg_error\": 0.0028293154634319475}, {\"cultivar\": \"PI563006\", \"range\": 22, \"column\": 4, \"avg_error\": 0.0012877912047926587}, {\"cultivar\": \"PI562998\", \"range\": 22, \"column\": 5, \"avg_error\": 0.0018289582588495634}, {\"cultivar\": \"PI330184\", \"range\": 22, \"column\": 6, \"avg_error\": 0.004031460694337153}, {\"cultivar\": \"PI330196\", \"range\": 22, \"column\": 7, \"avg_error\": 0.0022745106622554983}, {\"cultivar\": \"PI569459\", \"range\": 22, \"column\": 8, \"avg_error\": 0.001658263397247628}, {\"cultivar\": \"PI329299\", \"range\": 22, \"column\": 9, \"avg_error\": 0.0014824843001991716}, {\"cultivar\": \"PI329673\", \"range\": 22, \"column\": 10, \"avg_error\": 0.0013742460981929878}, {\"cultivar\": \"PI569435\", \"range\": 22, \"column\": 11, \"avg_error\": 0.003234493440165026}, {\"cultivar\": \"PI570091\", \"range\": 22, \"column\": 12, \"avg_error\": 0.0018835846484422552}, {\"cultivar\": \"PI266927\", \"range\": 22, \"column\": 13, \"avg_error\": 0.0012708113453271887}, {\"cultivar\": \"PI569462\", \"range\": 22, \"column\": 14, \"avg_error\": 0.0019186339576362605}, {\"cultivar\": \"PI619838\", \"range\": 22, \"column\": 15, \"avg_error\": 0.002111111612135592}, {\"cultivar\": \"PI329843\", \"range\": 23, \"column\": 2, \"avg_error\": 0.0013573872406114887}, {\"cultivar\": \"PI585954\", \"range\": 23, \"column\": 3, \"avg_error\": 0.0017362324979659453}, {\"cultivar\": \"PI651497\", \"range\": 23, \"column\": 4, \"avg_error\": 0.0019307379126300562}, {\"cultivar\": \"PI329841\", \"range\": 23, \"column\": 5, \"avg_error\": 0.0008496088409820125}, {\"cultivar\": \"PI257599\", \"range\": 23, \"column\": 6, \"avg_error\": 0.0024080291033110835}, {\"cultivar\": \"PI585452\", \"range\": 23, \"column\": 7, \"avg_error\": 0.0036964308552789025}, {\"cultivar\": \"PI329519\", \"range\": 23, \"column\": 8, \"avg_error\": 0.001857719193587508}, {\"cultivar\": \"PI651496\", \"range\": 23, \"column\": 9, \"avg_error\": 0.0019151557409764436}, {\"cultivar\": \"PI154846\", \"range\": 23, \"column\": 10, \"avg_error\": 0.0035181618761629674}, {\"cultivar\": \"PI255239\", \"range\": 23, \"column\": 11, \"avg_error\": 0.0025960862089051393}, {\"cultivar\": \"PI297130\", \"range\": 23, \"column\": 12, \"avg_error\": 0.0014713676053996264}, {\"cultivar\": \"PI651495\", \"range\": 23, \"column\": 13, \"avg_error\": 0.0024155727556189155}, {\"cultivar\": \"PI642998\", \"range\": 23, \"column\": 14, \"avg_error\": 0.0017955579720953256}, {\"cultivar\": \"PI563329\", \"range\": 23, \"column\": 15, \"avg_error\": 0.001257912101528896}, {\"cultivar\": \"PI641815\", \"range\": 24, \"column\": 2, \"avg_error\": 0.0029970521017519277}, {\"cultivar\": \"PI63715\", \"range\": 24, \"column\": 3, \"avg_error\": 0.0009894820183618054}, {\"cultivar\": \"PI585577\", \"range\": 24, \"column\": 4, \"avg_error\": 0.0016165504060698993}, {\"cultivar\": \"PI563002\", \"range\": 24, \"column\": 5, \"avg_error\": 0.0033662672655454017}, {\"cultivar\": \"PI329478\", \"range\": 24, \"column\": 6, \"avg_error\": 0.0018065136247566093}, {\"cultivar\": \"PI329326\", \"range\": 24, \"column\": 7, \"avg_error\": 0.0014537235888716661}, {\"cultivar\": \"PI535795\", \"range\": 24, \"column\": 8, \"avg_error\": 0.003470825467425709}, {\"cultivar\": \"PI641830\", \"range\": 24, \"column\": 9, \"avg_error\": 0.002467160220267001}, {\"cultivar\": \"PI570106\", \"range\": 24, \"column\": 10, \"avg_error\": 0.002612268888528085}, {\"cultivar\": \"PI569421\", \"range\": 24, \"column\": 11, \"avg_error\": 0.0013707795933707119}, {\"cultivar\": \"PI197542\", \"range\": 24, \"column\": 12, \"avg_error\": 0.0019349133564102834}, {\"cultivar\": \"PI329614\", \"range\": 24, \"column\": 13, \"avg_error\": 0.0032541369060209175}, {\"cultivar\": \"PI157804\", \"range\": 24, \"column\": 14, \"avg_error\": 0.000993592774927898}, {\"cultivar\": \"PI329506\", \"range\": 24, \"column\": 15, \"avg_error\": 0.002174351416053123}, {\"cultivar\": \"PI562781\", \"range\": 25, \"column\": 2, \"avg_error\": 0.003240229358263507}, {\"cultivar\": \"PI585467\", \"range\": 25, \"column\": 3, \"avg_error\": 0.0016897998474094994}, {\"cultivar\": \"PI337689\", \"range\": 25, \"column\": 4, \"avg_error\": 0.0017899778117783196}, {\"cultivar\": \"PI521019\", \"range\": 25, \"column\": 5, \"avg_error\": 0.0014518508786516527}, {\"cultivar\": \"PI155885\", \"range\": 25, \"column\": 6, \"avg_error\": 0.002340605411287079}, {\"cultivar\": \"PI330858\", \"range\": 25, \"column\": 7, \"avg_error\": 0.0019050883769171358}, {\"cultivar\": \"PI329338\", \"range\": 25, \"column\": 8, \"avg_error\": 0.0032856522693144683}, {\"cultivar\": \"PI455217\", \"range\": 25, \"column\": 9, \"avg_error\": 0.0018189167077462677}, {\"cultivar\": \"PI330796\", \"range\": 25, \"column\": 10, \"avg_error\": 0.002771645551022106}, {\"cultivar\": \"PI569422\", \"range\": 25, \"column\": 11, \"avg_error\": 0.0022273213731769394}, {\"cultivar\": \"PI273969\", \"range\": 25, \"column\": 12, \"avg_error\": 0.002836799394205939}, {\"cultivar\": \"PI152591\", \"range\": 25, \"column\": 13, \"avg_error\": 0.0022806834475080262}, {\"cultivar\": \"PI455221\", \"range\": 25, \"column\": 14, \"avg_error\": 0.0016091753913508803}, {\"cultivar\": \"PI156393\", \"range\": 25, \"column\": 15, \"avg_error\": 0.0010315776450798883}, {\"cultivar\": \"PI452619\", \"range\": 26, \"column\": 2, \"avg_error\": 0.001503946761158739}, {\"cultivar\": \"PI570071\", \"range\": 26, \"column\": 3, \"avg_error\": 0.0012743877356303725}, {\"cultivar\": \"PI329569\", \"range\": 26, \"column\": 4, \"avg_error\": 0.0014699349950948555}, {\"cultivar\": \"PI152923\", \"range\": 26, \"column\": 5, \"avg_error\": 0.0031917266421574815}, {\"cultivar\": \"PI267573\", \"range\": 26, \"column\": 6, \"avg_error\": 0.001740309942941035}, {\"cultivar\": \"PI330803\", \"range\": 26, \"column\": 7, \"avg_error\": 0.0016294798489586394}, {\"cultivar\": \"PI585454\", \"range\": 26, \"column\": 8, \"avg_error\": 0.0019124446690345547}, {\"cultivar\": \"PI506114\", \"range\": 26, \"column\": 9, \"avg_error\": 0.0011170704590521342}, {\"cultivar\": \"PI329333\", \"range\": 26, \"column\": 10, \"avg_error\": 0.0021736467196279085}, {\"cultivar\": \"PI585406\", \"range\": 26, \"column\": 11, \"avg_error\": 0.0018471974076896735}, {\"cultivar\": \"PI156330\", \"range\": 26, \"column\": 12, \"avg_error\": 0.0023201769302839924}, {\"cultivar\": \"PI453696\", \"range\": 26, \"column\": 13, \"avg_error\": 0.0028145724614493804}, {\"cultivar\": \"PI651491\", \"range\": 26, \"column\": 14, \"avg_error\": 0.0005465584535010466}, {\"cultivar\": \"PI511355\", \"range\": 26, \"column\": 15, \"avg_error\": 0.001919732587300006}, {\"cultivar\": \"PI641807\", \"range\": 27, \"column\": 2, \"avg_error\": 0.002503686776559022}, {\"cultivar\": \"PI641892\", \"range\": 27, \"column\": 3, \"avg_error\": 0.0023783282432664975}, {\"cultivar\": \"PI641835\", \"range\": 27, \"column\": 4, \"avg_error\": 0.001506423854935378}, {\"cultivar\": \"PI170787\", \"range\": 27, \"column\": 5, \"avg_error\": 0.003138020259413793}, {\"cultivar\": \"PI145619\", \"range\": 27, \"column\": 6, \"avg_error\": 0.0024462390220450496}, {\"cultivar\": \"PI196586\", \"range\": 27, \"column\": 7, \"avg_error\": 0.0020854187482143775}, {\"cultivar\": \"PI563295\", \"range\": 27, \"column\": 8, \"avg_error\": 0.0015032921100073154}, {\"cultivar\": \"PI152965\", \"range\": 27, \"column\": 9, \"avg_error\": 0.0017994609117007623}, {\"cultivar\": \"PI92270\", \"range\": 27, \"column\": 10, \"avg_error\": 0.0019173285632121848}, {\"cultivar\": \"PI641810\", \"range\": 27, \"column\": 11, \"avg_error\": 0.0019493299279527533}, {\"cultivar\": \"PI535783\", \"range\": 27, \"column\": 12, \"avg_error\": 0.001178724576711703}, {\"cultivar\": \"PI570073\", \"range\": 27, \"column\": 13, \"avg_error\": 0.002208507220555113}, {\"cultivar\": \"PI562971\", \"range\": 27, \"column\": 14, \"avg_error\": 0.0016214129374251861}, {\"cultivar\": \"PI156463\", \"range\": 27, \"column\": 15, \"avg_error\": 0.0011245042412523997}, {\"cultivar\": \"PI152971\", \"range\": 28, \"column\": 2, \"avg_error\": 0.002425395733525365}, {\"cultivar\": \"PI562990\", \"range\": 28, \"column\": 3, \"avg_error\": 0.0024336205792041404}, {\"cultivar\": \"PI586443\", \"range\": 28, \"column\": 4, \"avg_error\": 0.0023704872053354384}, {\"cultivar\": \"PI586541\", \"range\": 28, \"column\": 5, \"avg_error\": 0.0009837618619618438}, {\"cultivar\": \"PI585467\", \"range\": 28, \"column\": 6, \"avg_error\": 0.0016897998474094994}, {\"cultivar\": \"PI221651\", \"range\": 28, \"column\": 7, \"avg_error\": 0.001920207461593853}, {\"cultivar\": \"PI562982\", \"range\": 28, \"column\": 8, \"avg_error\": 0.0026084904419330147}, {\"cultivar\": \"PI329646\", \"range\": 28, \"column\": 9, \"avg_error\": 0.00148473972630094}, {\"cultivar\": \"PI273465\", \"range\": 28, \"column\": 10, \"avg_error\": 0.0012338911707705348}, {\"cultivar\": \"PI229841\", \"range\": 28, \"column\": 11, \"avg_error\": 0.001994010191287388}, {\"cultivar\": \"PI330196\", \"range\": 28, \"column\": 12, \"avg_error\": 0.0022745106622554983}, {\"cultivar\": \"PI521019\", \"range\": 28, \"column\": 13, \"avg_error\": 0.0014518508786516527}, {\"cultivar\": \"PI329645\", \"range\": 28, \"column\": 14, \"avg_error\": 0.0017000580807903837}, {\"cultivar\": \"PI156890\", \"range\": 28, \"column\": 15, \"avg_error\": 0.0020657633148114096}, {\"cultivar\": \"PI152816\", \"range\": 29, \"column\": 2, \"avg_error\": 0.002838404962958991}, {\"cultivar\": \"PI92270\", \"range\": 29, \"column\": 3, \"avg_error\": 0.0019173285632121848}, {\"cultivar\": \"PI641829\", \"range\": 29, \"column\": 4, \"avg_error\": 0.001022224190261636}, {\"cultivar\": \"PI646266\", \"range\": 29, \"column\": 5, \"avg_error\": 0.002036824510133058}, {\"cultivar\": \"PI297155\", \"range\": 29, \"column\": 6, \"avg_error\": 0.0011101446644212495}, {\"cultivar\": \"PI641824\", \"range\": 29, \"column\": 7, \"avg_error\": 0.0016569144293959606}, {\"cultivar\": \"PI641807\", \"range\": 29, \"column\": 8, \"avg_error\": 0.002503686776559022}, {\"cultivar\": \"PI563295\", \"range\": 29, \"column\": 9, \"avg_error\": 0.0015032921100073154}, {\"cultivar\": \"PI570047\", \"range\": 29, \"column\": 10, \"avg_error\": 0.0014238839718734655}, {\"cultivar\": \"PI329501\", \"range\": 29, \"column\": 11, \"avg_error\": 0.002581659892502572}, {\"cultivar\": \"PI641892\", \"range\": 29, \"column\": 12, \"avg_error\": 0.0023783282432664975}, {\"cultivar\": \"PI144134\", \"range\": 29, \"column\": 13, \"avg_error\": 0.0014647571917025997}, {\"cultivar\": \"PI152965\", \"range\": 29, \"column\": 14, \"avg_error\": 0.0017994609117007623}, {\"cultivar\": \"PI197542\", \"range\": 29, \"column\": 15, \"avg_error\": 0.0019349133564102834}, {\"cultivar\": \"PI196583\", \"range\": 30, \"column\": 2, \"avg_error\": 0.004301893715736132}, {\"cultivar\": \"PI563006\", \"range\": 30, \"column\": 3, \"avg_error\": 0.0012877912047926587}, {\"cultivar\": \"PI569416\", \"range\": 30, \"column\": 4, \"avg_error\": 0.00479517135735776}, {\"cultivar\": \"PI152727\", \"range\": 30, \"column\": 5, \"avg_error\": 0.0038768492754388366}, {\"cultivar\": \"PI297171\", \"range\": 30, \"column\": 6, \"avg_error\": 0.0029070497864874564}, {\"cultivar\": \"PI329632\", \"range\": 30, \"column\": 7, \"avg_error\": 0.0014530875213947085}, {\"cultivar\": \"PI570114\", \"range\": 30, \"column\": 8, \"avg_error\": 0.002664492339812728}, {\"cultivar\": \"PI329518\", \"range\": 30, \"column\": 9, \"avg_error\": 0.004338218889138885}, {\"cultivar\": \"PI156393\", \"range\": 30, \"column\": 10, \"avg_error\": 0.0010315776450798883}, {\"cultivar\": \"PI563022\", \"range\": 30, \"column\": 11, \"avg_error\": 0.0009959927985615541}, {\"cultivar\": \"PI568717\", \"range\": 30, \"column\": 12, \"avg_error\": 0.0013069081405990314}, {\"cultivar\": \"PI511355\", \"range\": 30, \"column\": 13, \"avg_error\": 0.001919732587300006}, {\"cultivar\": \"PI329519\", \"range\": 30, \"column\": 14, \"avg_error\": 0.001857719193587508}, {\"cultivar\": \"PI651491\", \"range\": 30, \"column\": 15, \"avg_error\": 0.0005465584535010466}, {\"cultivar\": \"PI195754\", \"range\": 31, \"column\": 2, \"avg_error\": 0.0007845776572321456}, {\"cultivar\": \"PI641860\", \"range\": 31, \"column\": 3, \"avg_error\": 0.0008802794267887893}, {\"cultivar\": \"PI329614\", \"range\": 31, \"column\": 4, \"avg_error\": 0.0032541369060209175}, {\"cultivar\": \"PI570109\", \"range\": 31, \"column\": 5, \"avg_error\": 0.002253505379622506}, {\"cultivar\": \"PI63715\", \"range\": 31, \"column\": 6, \"avg_error\": 0.0009894820183618054}, {\"cultivar\": \"PI329506\", \"range\": 31, \"column\": 7, \"avg_error\": 0.002174351416053123}, {\"cultivar\": \"PI641821\", \"range\": 31, \"column\": 8, \"avg_error\": 0.0012085354724005641}, {\"cultivar\": \"PI217691\", \"range\": 31, \"column\": 9, \"avg_error\": 0.000650866295149611}, {\"cultivar\": \"PI540518\", \"range\": 31, \"column\": 10, \"avg_error\": 0.0008360620822538036}, {\"cultivar\": \"PI641817\", \"range\": 31, \"column\": 11, \"avg_error\": 0.001161455788997145}, {\"cultivar\": \"PI255744\", \"range\": 31, \"column\": 12, \"avg_error\": 0.0011930756026708501}, {\"cultivar\": \"PI641807\", \"range\": 31, \"column\": 13, \"avg_error\": 0.002503686776559022}, {\"cultivar\": \"PI179749\", \"range\": 31, \"column\": 14, \"avg_error\": 0.0016927432002290111}, {\"cultivar\": \"PI641909\", \"range\": 31, \"column\": 15, \"avg_error\": 0.0014597843722713435}, {\"cultivar\": \"PI152961\", \"range\": 32, \"column\": 2, \"avg_error\": 0.002086532120536567}, {\"cultivar\": \"PI330199\", \"range\": 32, \"column\": 3, \"avg_error\": 0.002834383336840051}, {\"cultivar\": \"PI563330\", \"range\": 32, \"column\": 4, \"avg_error\": 0.0021297886200500795}, {\"cultivar\": \"PI329673\", \"range\": 32, \"column\": 5, \"avg_error\": 0.0013742460981929878}, {\"cultivar\": \"PI569455\", \"range\": 32, \"column\": 6, \"avg_error\": 0.0025242455447300957}, {\"cultivar\": \"PI329394\", \"range\": 32, \"column\": 7, \"avg_error\": 0.0014766540205603778}, {\"cultivar\": \"PI455301\", \"range\": 32, \"column\": 8, \"avg_error\": 0.0016283339420402416}, {\"cultivar\": \"PI152862\", \"range\": 32, \"column\": 9, \"avg_error\": 0.0017096673206262601}, {\"cultivar\": \"Unknown off type\", \"range\": 32, \"column\": 10, \"avg_error\": 0.0014696295644309437}, {\"cultivar\": \"PI524475\", \"range\": 32, \"column\": 11, \"avg_error\": 0.0027869342585071792}, {\"cultivar\": \"PI329702\", \"range\": 32, \"column\": 12, \"avg_error\": 0.0022076059069789113}, {\"cultivar\": \"PI585966\", \"range\": 32, \"column\": 13, \"avg_error\": 0.0021332336389859098}, {\"cultivar\": \"PI455217\", \"range\": 32, \"column\": 14, \"avg_error\": 0.0018189167077462677}, {\"cultivar\": \"PI297130\", \"range\": 32, \"column\": 15, \"avg_error\": 0.0014713676053996264}, {\"cultivar\": \"PI181080\", \"range\": 33, \"column\": 2, \"avg_error\": 0.003149478884977573}, {\"cultivar\": \"PI641815\", \"range\": 33, \"column\": 3, \"avg_error\": 0.0029970521017519277}, {\"cultivar\": \"PI562971\", \"range\": 33, \"column\": 4, \"avg_error\": 0.0016214129374251861}, {\"cultivar\": \"PI655981\", \"range\": 33, \"column\": 5, \"avg_error\": 0.003492813231683462}, {\"cultivar\": \"PI641810\", \"range\": 33, \"column\": 6, \"avg_error\": 0.0019493299279527533}, {\"cultivar\": \"PI569443\", \"range\": 33, \"column\": 7, \"avg_error\": 0.002639967696531128}, {\"cultivar\": \"PI145619\", \"range\": 33, \"column\": 8, \"avg_error\": 0.0024462390220450496}, {\"cultivar\": \"PI585577\", \"range\": 33, \"column\": 9, \"avg_error\": 0.0016165504060698993}, {\"cultivar\": \"PI569425\", \"range\": 33, \"column\": 10, \"avg_error\": 0.0018032140890887715}, {\"cultivar\": \"PI329478\", \"range\": 33, \"column\": 11, \"avg_error\": 0.0018065136247566093}, {\"cultivar\": \"PI570073\", \"range\": 33, \"column\": 12, \"avg_error\": 0.002208507220555113}, {\"cultivar\": \"PI170787\", \"range\": 33, \"column\": 13, \"avg_error\": 0.003138020259413793}, {\"cultivar\": \"PI196586\", \"range\": 33, \"column\": 14, \"avg_error\": 0.0020854187482143775}, {\"cultivar\": \"PI221548\", \"range\": 33, \"column\": 15, \"avg_error\": 0.0044825017370274}, {\"cultivar\": \"PI569454\", \"range\": 34, \"column\": 2, \"avg_error\": 0.0036944089988273617}, {\"cultivar\": \"PI585461\", \"range\": 34, \"column\": 3, \"avg_error\": 0.003172572021261928}, {\"cultivar\": \"PI22913\", \"range\": 34, \"column\": 4, \"avg_error\": 0.002725589722005365}, {\"cultivar\": \"PI153877\", \"range\": 34, \"column\": 5, \"avg_error\": 0.0024725119539699193}, {\"cultivar\": \"PI329471\", \"range\": 34, \"column\": 6, \"avg_error\": 0.002524439436066878}, {\"cultivar\": \"PI569444\", \"range\": 34, \"column\": 7, \"avg_error\": 0.002003335842419563}, {\"cultivar\": \"PI585608\", \"range\": 34, \"column\": 8, \"avg_error\": 0.001640943804838219}, {\"cultivar\": \"PI646251\", \"range\": 34, \"column\": 9, \"avg_error\": 0.0018814854954214075}, {\"cultivar\": \"PI156217\", \"range\": 34, \"column\": 10, \"avg_error\": 0.0021656934904952263}, {\"cultivar\": \"PI302252\", \"range\": 34, \"column\": 11, \"avg_error\": 0.0019624515176002856}, {\"cultivar\": \"PI569445\", \"range\": 34, \"column\": 12, \"avg_error\": 0.004350627046072113}, {\"cultivar\": \"PI154987\", \"range\": 34, \"column\": 13, \"avg_error\": 0.00136345889830977}, {\"cultivar\": \"PI452619\", \"range\": 34, \"column\": 14, \"avg_error\": 0.001503946761158739}, {\"cultivar\": \"PI329473\", \"range\": 34, \"column\": 15, \"avg_error\": 0.002299141270820717}, {\"cultivar\": \"PI329570\", \"range\": 35, \"column\": 2, \"avg_error\": 0.002564767943057013}, {\"cultivar\": \"PI152923\", \"range\": 35, \"column\": 3, \"avg_error\": 0.0031917266421574815}, {\"cultivar\": \"PI329644\", \"range\": 35, \"column\": 4, \"avg_error\": 0.0019002750962618519}, {\"cultivar\": \"PI569419\", \"range\": 35, \"column\": 5, \"avg_error\": 0.0023633137659889694}, {\"cultivar\": \"PI146890\", \"range\": 35, \"column\": 6, \"avg_error\": 0.0016396384238624735}, {\"cultivar\": \"PI329351\", \"range\": 35, \"column\": 7, \"avg_error\": 0.0025978139870894462}, {\"cultivar\": \"PI562897\", \"range\": 35, \"column\": 8, \"avg_error\": 0.0022153767826944945}, {\"cultivar\": \"PI329403\", \"range\": 35, \"column\": 9, \"avg_error\": 0.0013585647519225397}, {\"cultivar\": \"PI642998\", \"range\": 35, \"column\": 10, \"avg_error\": 0.0017955579720953256}, {\"cultivar\": \"PI152651\", \"range\": 35, \"column\": 11, \"avg_error\": 0.0013079003368713365}, {\"cultivar\": \"PI570090\", \"range\": 35, \"column\": 12, \"avg_error\": 0.0028441700558874496}, {\"cultivar\": \"PI570400\", \"range\": 35, \"column\": 13, \"avg_error\": 0.0018964359069971867}, {\"cultivar\": \"PI619838\", \"range\": 35, \"column\": 14, \"avg_error\": 0.002111111612135592}, {\"cultivar\": \"PI145626\", \"range\": 35, \"column\": 15, \"avg_error\": 0.003904627601168532}, {\"cultivar\": \"PI155885\", \"range\": 36, \"column\": 2, \"avg_error\": 0.002340605411287079}, {\"cultivar\": \"PI329333\", \"range\": 36, \"column\": 3, \"avg_error\": 0.0021736467196279085}, {\"cultivar\": \"PI152771\", \"range\": 36, \"column\": 4, \"avg_error\": 0.0020638929499794127}, {\"cultivar\": \"PI176766\", \"range\": 36, \"column\": 5, \"avg_error\": 0.0014315437965517455}, {\"cultivar\": \"PI563355\", \"range\": 36, \"column\": 6, \"avg_error\": 0.001452020451959477}, {\"cultivar\": \"PI329545\", \"range\": 36, \"column\": 7, \"avg_error\": 0.002512871191735438}, {\"cultivar\": \"PI583832\", \"range\": 36, \"column\": 8, \"avg_error\": 0.0008855425265115384}, {\"cultivar\": \"PI521152\", \"range\": 36, \"column\": 9, \"avg_error\": 0.001396401199206528}, {\"cultivar\": \"PI585452\", \"range\": 36, \"column\": 10, \"avg_error\": 0.0036964308552789025}, {\"cultivar\": \"PI266927\", \"range\": 36, \"column\": 11, \"avg_error\": 0.0012708113453271887}, {\"cultivar\": \"PI455280\", \"range\": 36, \"column\": 12, \"avg_error\": 0.001473493603402848}, {\"cultivar\": \"PI563350\", \"range\": 36, \"column\": 13, \"avg_error\": 0.0019006526114548519}, {\"cultivar\": \"PI569465\", \"range\": 36, \"column\": 14, \"avg_error\": 0.002165477702836975}, {\"cultivar\": \"PI337680\", \"range\": 36, \"column\": 15, \"avg_error\": 0.0006585123157731655}, {\"cultivar\": \"PI562985\", \"range\": 37, \"column\": 2, \"avg_error\": 0.0020346779205384783}, {\"cultivar\": \"PI570431\", \"range\": 37, \"column\": 3, \"avg_error\": 0.0013465871522619446}, {\"cultivar\": \"PI570031\", \"range\": 37, \"column\": 4, \"avg_error\": 0.0015326144542340088}, {\"cultivar\": \"PI569435\", \"range\": 37, \"column\": 5, \"avg_error\": 0.003234493440165026}, {\"cultivar\": \"PI569452\", \"range\": 37, \"column\": 6, \"avg_error\": 0.002581878303072911}, {\"cultivar\": \"PI330182\", \"range\": 37, \"column\": 7, \"avg_error\": 0.001780616221958297}, {\"cultivar\": \"PI562970\", \"range\": 37, \"column\": 8, \"avg_error\": 0.0012024905835474932}, {\"cultivar\": \"PI152967\", \"range\": 37, \"column\": 9, \"avg_error\": 0.0018800836611303922}, {\"cultivar\": \"PI267573\", \"range\": 37, \"column\": 10, \"avg_error\": 0.001740309942941035}, {\"cultivar\": \"PI152694\", \"range\": 37, \"column\": 11, \"avg_error\": 0.001270138652917981}, {\"cultivar\": \"PI563222\", \"range\": 37, \"column\": 12, \"avg_error\": 0.0016968666517068614}, {\"cultivar\": \"PI329465\", \"range\": 37, \"column\": 13, \"avg_error\": 0.0028050023815259094}, {\"cultivar\": \"PI569244\", \"range\": 37, \"column\": 14, \"avg_error\": 0.0019499385648582236}, {\"cultivar\": \"PI152591\", \"range\": 37, \"column\": 15, \"avg_error\": 0.0022806834475080262}, {\"cultivar\": \"PI213900\", \"range\": 38, \"column\": 2, \"avg_error\": 0.001728059590180952}, {\"cultivar\": \"PI35038\", \"range\": 38, \"column\": 3, \"avg_error\": 0.0015325154524544347}, {\"cultivar\": \"PI175919\", \"range\": 38, \"column\": 4, \"avg_error\": 0.002074441476543287}, {\"cultivar\": \"PI329326\", \"range\": 38, \"column\": 5, \"avg_error\": 0.0014537235888716661}, {\"cultivar\": \"PI535783\", \"range\": 38, \"column\": 6, \"avg_error\": 0.001178724576711703}, {\"cultivar\": \"PI157804\", \"range\": 38, \"column\": 7, \"avg_error\": 0.000993592774927898}, {\"cultivar\": \"PI562981\", \"range\": 38, \"column\": 8, \"avg_error\": 0.0031569731759056464}, {\"cultivar\": \"PI156463\", \"range\": 38, \"column\": 9, \"avg_error\": 0.0011245042412523997}, {\"cultivar\": \"PI535785\", \"range\": 38, \"column\": 10, \"avg_error\": 0.001898566264384082}, {\"cultivar\": \"PI641835\", \"range\": 38, \"column\": 11, \"avg_error\": 0.001506423854935378}, {\"cultivar\": \"PI570042\", \"range\": 38, \"column\": 12, \"avg_error\": 0.0031753227881445656}, {\"cultivar\": \"PI253986\", \"range\": 38, \"column\": 13, \"avg_error\": 0.0021883947529909545}, {\"cultivar\": \"PI218112\", \"range\": 38, \"column\": 14, \"avg_error\": 0.0011174605285391287}, {\"cultivar\": \"PI533998\", \"range\": 38, \"column\": 15, \"avg_error\": 0.0032515234618988257}, {\"cultivar\": \"PI329517\", \"range\": 39, \"column\": 2, \"avg_error\": 0.003048657908477622}, {\"cultivar\": \"PI651496\", \"range\": 39, \"column\": 3, \"avg_error\": 0.0019151557409764436}, {\"cultivar\": \"PI651495\", \"range\": 39, \"column\": 4, \"avg_error\": 0.0024155727556189155}, {\"cultivar\": \"PI570076\", \"range\": 39, \"column\": 5, \"avg_error\": 0.003444652883964801}, {\"cultivar\": \"PI525049\", \"range\": 39, \"column\": 6, \"avg_error\": 0.0012976039059779852}, {\"cultivar\": \"PI569462\", \"range\": 39, \"column\": 7, \"avg_error\": 0.0019186339576362605}, {\"cultivar\": \"PI154846\", \"range\": 39, \"column\": 8, \"avg_error\": 0.0035181618761629674}, {\"cultivar\": \"PI562732\", \"range\": 39, \"column\": 9, \"avg_error\": 0.0017248233790028262}, {\"cultivar\": \"PI505722\", \"range\": 39, \"column\": 10, \"avg_error\": 0.001695099354945549}, {\"cultivar\": \"PI563332\", \"range\": 39, \"column\": 11, \"avg_error\": 0.00179512437970172}, {\"cultivar\": \"PI156871\", \"range\": 39, \"column\": 12, \"avg_error\": 0.0025333576801152293}, {\"cultivar\": \"PI653617\", \"range\": 39, \"column\": 13, \"avg_error\": 0.0011469886206779444}, {\"cultivar\": \"PI643016\", \"range\": 39, \"column\": 14, \"avg_error\": 0.0031952093172683133}, {\"cultivar\": \"PI562781\", \"range\": 39, \"column\": 15, \"avg_error\": 0.003240229358263507}, {\"cultivar\": \"PI329310\", \"range\": 40, \"column\": 2, \"avg_error\": 0.00207346756097268}, {\"cultivar\": \"PI330858\", \"range\": 40, \"column\": 3, \"avg_error\": 0.0019050883769171358}, {\"cultivar\": \"PI329585\", \"range\": 40, \"column\": 4, \"avg_error\": 0.001987874901975441}, {\"cultivar\": \"PI569453\", \"range\": 40, \"column\": 5, \"avg_error\": 0.0032423493079178}, {\"cultivar\": \"PI329841\", \"range\": 40, \"column\": 6, \"avg_error\": 0.0008496088409820125}, {\"cultivar\": \"PI570393\", \"range\": 40, \"column\": 7, \"avg_error\": 0.001451912991030703}, {\"cultivar\": \"PI329569\", \"range\": 40, \"column\": 8, \"avg_error\": 0.0014699349950948555}, {\"cultivar\": \"PI563329\", \"range\": 40, \"column\": 9, \"avg_error\": 0.001257912101528896}, {\"cultivar\": \"PI570110\", \"range\": 40, \"column\": 10, \"avg_error\": 0.0027007611857251105}, {\"cultivar\": \"PI563331\", \"range\": 40, \"column\": 11, \"avg_error\": 0.0012441423275784682}, {\"cultivar\": \"PI510757\", \"range\": 40, \"column\": 12, \"avg_error\": 0.0024486718008881994}, {\"cultivar\": \"PI569148\", \"range\": 40, \"column\": 13, \"avg_error\": 0.0023542358788401023}, {\"cultivar\": \"PI506030\", \"range\": 40, \"column\": 14, \"avg_error\": 0.0021533650627543477}, {\"cultivar\": \"PI569457\", \"range\": 40, \"column\": 15, \"avg_error\": 0.0014550078939940432}, {\"cultivar\": \"PI566819\", \"range\": 41, \"column\": 2, \"avg_error\": 0.0013236203418504461}, {\"cultivar\": \"PI643008\", \"range\": 41, \"column\": 3, \"avg_error\": 0.0013914939480453993}, {\"cultivar\": \"PI329865\", \"range\": 41, \"column\": 4, \"avg_error\": 0.0012280826850739068}, {\"cultivar\": \"PI514456\", \"range\": 41, \"column\": 5, \"avg_error\": 0.0018875869145864735}, {\"cultivar\": \"PI329605\", \"range\": 41, \"column\": 6, \"avg_error\": 0.0005013571129250888}, {\"cultivar\": \"PI329584\", \"range\": 41, \"column\": 7, \"avg_error\": 0.002734792568900417}, {\"cultivar\": \"PI569097\", \"range\": 41, \"column\": 8, \"avg_error\": 0.0017940674195457897}, {\"cultivar\": \"PI273969\", \"range\": 41, \"column\": 9, \"avg_error\": 0.002836799394205939}, {\"cultivar\": \"PI573193\", \"range\": 41, \"column\": 10, \"avg_error\": 0.0010668001826430813}, {\"cultivar\": \"PI152860\", \"range\": 41, \"column\": 11, \"avg_error\": 0.0006959459527443166}, {\"cultivar\": \"PI257599\", \"range\": 41, \"column\": 12, \"avg_error\": 0.0024080291033110835}, {\"cultivar\": \"PI329710\", \"range\": 41, \"column\": 13, \"avg_error\": 0.0021360437681933984}, {\"cultivar\": \"PI646242\", \"range\": 41, \"column\": 14, \"avg_error\": 0.0020782456624565656}, {\"cultivar\": \"PI570087\", \"range\": 41, \"column\": 15, \"avg_error\": 0.0006654814653226839}, {\"cultivar\": \"PI257600\", \"range\": 42, \"column\": 2, \"avg_error\": 0.0026122765864408596}, {\"cultivar\": \"PI251672\", \"range\": 42, \"column\": 3, \"avg_error\": 0.002438759902769009}, {\"cultivar\": \"PI154844\", \"range\": 42, \"column\": 4, \"avg_error\": 0.0030573996442604763}, {\"cultivar\": \"PI570388\", \"range\": 42, \"column\": 5, \"avg_error\": 0.0031761623017737012}, {\"cultivar\": \"PI570145\", \"range\": 42, \"column\": 6, \"avg_error\": 0.0014836711900341054}, {\"cultivar\": \"PI329319\", \"range\": 42, \"column\": 7, \"avg_error\": 0.0030327742382175423}, {\"cultivar\": \"PI570075\", \"range\": 42, \"column\": 8, \"avg_error\": 0.001869406031101671}, {\"cultivar\": \"PI521280\", \"range\": 42, \"column\": 9, \"avg_error\": 0.003032832498473594}, {\"cultivar\": \"PI329665\", \"range\": 42, \"column\": 10, \"avg_error\": 0.0028293154634319475}, {\"cultivar\": \"PI329301\", \"range\": 42, \"column\": 11, \"avg_error\": 0.0015028871686350155}, {\"cultivar\": \"PI155516\", \"range\": 42, \"column\": 12, \"avg_error\": 0.0016902841395358915}, {\"cultivar\": \"PI569420\", \"range\": 42, \"column\": 13, \"avg_error\": 0.0037364969917044813}, {\"cultivar\": \"PI329466\", \"range\": 42, \"column\": 14, \"avg_error\": 0.001542772496669977}, {\"cultivar\": \"PI330803\", \"range\": 42, \"column\": 15, \"avg_error\": 0.0016294798489586394}, {\"cultivar\": \"PI453696\", \"range\": 43, \"column\": 2, \"avg_error\": 0.0028145724614493804}, {\"cultivar\": \"PI455307\", \"range\": 43, \"column\": 3, \"avg_error\": 0.002996698585950199}, {\"cultivar\": \"PI329711\", \"range\": 43, \"column\": 4, \"avg_error\": 0.001746247000801787}, {\"cultivar\": \"PI570096\", \"range\": 43, \"column\": 5, \"avg_error\": 0.0016019657775421421}, {\"cultivar\": \"PI619807\", \"range\": 43, \"column\": 6, \"avg_error\": 0.001275233627356849}, {\"cultivar\": \"PI329511\", \"range\": 43, \"column\": 7, \"avg_error\": 0.0013934819359349747}, {\"cultivar\": \"PI562730\", \"range\": 43, \"column\": 8, \"avg_error\": 0.0019327090554686027}, {\"cultivar\": \"PI330195\", \"range\": 43, \"column\": 9, \"avg_error\": 0.0018388719971310602}, {\"cultivar\": \"PI329541\", \"range\": 43, \"column\": 10, \"avg_error\": 0.001692863019105023}, {\"cultivar\": \"PI167093\", \"range\": 43, \"column\": 11, \"avg_error\": 0.0022744935760274014}, {\"cultivar\": \"PI506069\", \"range\": 43, \"column\": 12, \"avg_error\": 0.0031862174541858394}, {\"cultivar\": \"PI156330\", \"range\": 43, \"column\": 13, \"avg_error\": 0.0023201769302839924}, {\"cultivar\": \"PI569427\", \"range\": 43, \"column\": 14, \"avg_error\": 0.0013365335599206394}, {\"cultivar\": \"PI569418\", \"range\": 43, \"column\": 15, \"avg_error\": 0.003321091515489389}, {\"cultivar\": \"PI330807\", \"range\": 44, \"column\": 2, \"avg_error\": 0.0020043261615863258}, {\"cultivar\": \"PI152728\", \"range\": 44, \"column\": 3, \"avg_error\": 0.002210858805119822}, {\"cultivar\": \"PI156487\", \"range\": 44, \"column\": 4, \"avg_error\": 0.0023143492744641314}, {\"cultivar\": \"PI156268\", \"range\": 44, \"column\": 5, \"avg_error\": 0.0024178844746836035}, {\"cultivar\": \"PI303658\", \"range\": 44, \"column\": 6, \"avg_error\": 0.001850120910165764}, {\"cultivar\": \"PI329338\", \"range\": 44, \"column\": 7, \"avg_error\": 0.0032856522693144683}, {\"cultivar\": \"PI276837\", \"range\": 44, \"column\": 8, \"avg_error\": 0.002262420504706414}, {\"cultivar\": \"PI329286\", \"range\": 44, \"column\": 9, \"avg_error\": 0.002079174282300559}, {\"cultivar\": \"PI329699\", \"range\": 44, \"column\": 10, \"avg_error\": 0.0010755441269983373}, {\"cultivar\": \"PI505717\", \"range\": 44, \"column\": 11, \"avg_error\": 0.0014208889794844312}, {\"cultivar\": \"PI563032\", \"range\": 44, \"column\": 12, \"avg_error\": 0.002785624530117123}, {\"cultivar\": \"PI329843\", \"range\": 44, \"column\": 13, \"avg_error\": 0.0013573872406114887}, {\"cultivar\": \"PI154750\", \"range\": 44, \"column\": 14, \"avg_error\": 0.0016213565315233538}, {\"cultivar\": \"PI329256\", \"range\": 44, \"column\": 15, \"avg_error\": 0.0015296426154070364}, {\"cultivar\": \"PI585454\", \"range\": 45, \"column\": 2, \"avg_error\": 0.0019124446690345547}, {\"cultivar\": \"PI570373\", \"range\": 45, \"column\": 3, \"avg_error\": 0.003342477084416219}, {\"cultivar\": \"PI570254\", \"range\": 45, \"column\": 4, \"avg_error\": 0.001453016313078517}, {\"cultivar\": \"PI452692\", \"range\": 45, \"column\": 5, \"avg_error\": 0.0021290306456223005}, {\"cultivar\": \"PI152730\", \"range\": 45, \"column\": 6, \"avg_error\": 0.0020880022861240466}, {\"cultivar\": \"PI330796\", \"range\": 45, \"column\": 7, \"avg_error\": 0.002771645551022106}, {\"cultivar\": \"PI157035\", \"range\": 45, \"column\": 8, \"avg_error\": 0.002160163506252028}, {\"cultivar\": \"PI330185\", \"range\": 45, \"column\": 9, \"avg_error\": 0.0024056824549006156}, {\"cultivar\": \"PI562997\", \"range\": 45, \"column\": 10, \"avg_error\": 0.003047949331938598}, {\"cultivar\": \"PI152966\", \"range\": 45, \"column\": 11, \"avg_error\": 0.0024239911271873474}, {\"cultivar\": \"PI506122\", \"range\": 45, \"column\": 12, \"avg_error\": 0.0011486882124142235}, {\"cultivar\": \"PI196049\", \"range\": 45, \"column\": 13, \"avg_error\": 0.0014384052984910236}, {\"cultivar\": \"PI570091\", \"range\": 45, \"column\": 14, \"avg_error\": 0.0018835846484422552}, {\"cultivar\": \"PI563021\", \"range\": 45, \"column\": 15, \"avg_error\": 0.0016133313163245598}, {\"cultivar\": \"PI533792\", \"range\": 46, \"column\": 2, \"avg_error\": 0.0016118593949559336}, {\"cultivar\": \"PI526905\", \"range\": 46, \"column\": 3, \"avg_error\": 0.0014051585813545922}, {\"cultivar\": \"PI576401\", \"range\": 46, \"column\": 4, \"avg_error\": 0.0007842614071154285}, {\"cultivar\": \"PI535796\", \"range\": 46, \"column\": 5, \"avg_error\": 0.001553241561937461}, {\"cultivar\": \"PI542718\", \"range\": 46, \"column\": 6, \"avg_error\": 0.001517440230479259}, {\"cultivar\": \"PI534120\", \"range\": 46, \"column\": 7, \"avg_error\": 0.0024274342664295035}, {\"cultivar\": \"PI576399\", \"range\": 46, \"column\": 8, \"avg_error\": 0.004269962021977387}, {\"cultivar\": \"PI180348\", \"range\": 46, \"column\": 9, \"avg_error\": 0.0015235280045027763}, {\"cultivar\": \"PI535792\", \"range\": 46, \"column\": 10, \"avg_error\": 0.002653195980612734}, {\"cultivar\": \"PI329435\", \"range\": 46, \"column\": 11, \"avg_error\": 0.0019111313798679584}, {\"cultivar\": \"PI535793\", \"range\": 46, \"column\": 12, \"avg_error\": 0.0015395660196244293}, {\"cultivar\": \"PI561840\", \"range\": 46, \"column\": 13, \"avg_error\": 0.0019858073903078685}, {\"cultivar\": \"PI564163\", \"range\": 46, \"column\": 14, \"avg_error\": 0.0012873124691933136}, {\"cultivar\": \"PI533902\", \"range\": 46, \"column\": 15, \"avg_error\": 0.0012697363443461558}, {\"cultivar\": \"PI569422\", \"range\": 47, \"column\": 2, \"avg_error\": 0.0022273213731769394}, {\"cultivar\": \"PI455221\", \"range\": 47, \"column\": 3, \"avg_error\": 0.0016091753913508803}, {\"cultivar\": \"PI570074\", \"range\": 47, \"column\": 4, \"avg_error\": 0.00288908279409898}, {\"cultivar\": \"PI337689\", \"range\": 47, \"column\": 5, \"avg_error\": 0.0017899778117783196}, {\"cultivar\": \"PI569460\", \"range\": 47, \"column\": 6, \"avg_error\": 0.0020553494999747055}, {\"cultivar\": \"PI563196\", \"range\": 47, \"column\": 7, \"avg_error\": 0.0022372070962221034}, {\"cultivar\": \"PI562998\", \"range\": 47, \"column\": 8, \"avg_error\": 0.0018289582588495634}, {\"cultivar\": \"PI585961\", \"range\": 47, \"column\": 9, \"avg_error\": 0.0010941267234321308}, {\"cultivar\": \"PI330169\", \"range\": 47, \"column\": 10, \"avg_error\": 0.001927038130331747}, {\"cultivar\": \"PI620072\", \"range\": 47, \"column\": 11, \"avg_error\": 0.0025726658373667922}, {\"cultivar\": \"PI156178\", \"range\": 47, \"column\": 12, \"avg_error\": 0.002870803167732947}, {\"cultivar\": \"PI570071\", \"range\": 47, \"column\": 13, \"avg_error\": 0.0012743877356303725}, {\"cultivar\": \"PI329546\", \"range\": 47, \"column\": 14, \"avg_error\": 0.0017935648414286892}, {\"cultivar\": \"PI506114\", \"range\": 47, \"column\": 15, \"avg_error\": 0.0011170704590521342}, {\"cultivar\": \"PI620157\", \"range\": 48, \"column\": 2, \"avg_error\": 0.0034217716958530307}, {\"cultivar\": \"PI154944\", \"range\": 48, \"column\": 3, \"avg_error\": 0.0018033314503472571}, {\"cultivar\": \"PI329550\", \"range\": 48, \"column\": 4, \"avg_error\": 0.002165443831002466}, {\"cultivar\": \"PI569447\", \"range\": 48, \"column\": 5, \"avg_error\": 0.0006879353380473786}, {\"cultivar\": \"PI563020\", \"range\": 48, \"column\": 6, \"avg_error\": 0.0028932565386355007}, {\"cultivar\": \"PI152733\", \"range\": 48, \"column\": 7, \"avg_error\": 0.0017870107919285836}, {\"cultivar\": \"PI156326\", \"range\": 48, \"column\": 8, \"avg_error\": 0.0030474374319213356}, {\"cultivar\": \"PI641850\", \"range\": 48, \"column\": 9, \"avg_error\": 0.0018849263515879568}, {\"cultivar\": \"PI585406\", \"range\": 48, \"column\": 10, \"avg_error\": 0.0018471974076896735}, {\"cultivar\": \"PI651497\", \"range\": 48, \"column\": 11, \"avg_error\": 0.0019307379126300562}, {\"cultivar\": \"PI563009\", \"range\": 48, \"column\": 12, \"avg_error\": 0.0026381160563614097}, {\"cultivar\": \"PI329300\", \"range\": 48, \"column\": 13, \"avg_error\": 0.0007842872302737527}, {\"cultivar\": \"PI570085\", \"range\": 48, \"column\": 14, \"avg_error\": 0.0009869078948179868}, {\"cultivar\": \"PI329864\", \"range\": 48, \"column\": 15, \"avg_error\": 0.0018926036432784566}, {\"cultivar\": \"PI563338\", \"range\": 49, \"column\": 2, \"avg_error\": 0.003998536524863302}, {\"cultivar\": \"PI513898\", \"range\": 49, \"column\": 3, \"avg_error\": 0.0019552973517903026}, {\"cultivar\": \"PI569090\", \"range\": 49, \"column\": 4, \"avg_error\": 0.0019270068141271056}, {\"cultivar\": \"PI653616\", \"range\": 49, \"column\": 5, \"avg_error\": 0.0017583966174912029}, {\"cultivar\": \"PI570038\", \"range\": 49, \"column\": 6, \"avg_error\": 0.002055792197124375}, {\"cultivar\": \"PI569423\", \"range\": 49, \"column\": 7, \"avg_error\": 0.0036058232697791627}, {\"cultivar\": \"PI330181\", \"range\": 49, \"column\": 8, \"avg_error\": 0.0018327604060397855}, {\"cultivar\": \"PI569264\", \"range\": 49, \"column\": 9, \"avg_error\": 0.0011753130309580732}, {\"cultivar\": \"PI521290\", \"range\": 49, \"column\": 10, \"avg_error\": 0.002394701203900332}, {\"cultivar\": \"PI330833\", \"range\": 49, \"column\": 11, \"avg_error\": 0.002423107394964794}, {\"cultivar\": \"PI255239\", \"range\": 49, \"column\": 12, \"avg_error\": 0.0025960862089051393}, {\"cultivar\": \"PI569886\", \"range\": 49, \"column\": 13, \"avg_error\": 0.001774350910525341}, {\"cultivar\": \"PI569458\", \"range\": 49, \"column\": 14, \"avg_error\": 0.0027504559137013712}, {\"cultivar\": \"PI452542\", \"range\": 49, \"column\": 15, \"avg_error\": 0.0014593505811838802}, {\"cultivar\": \"PI181083\", \"range\": 50, \"column\": 2, \"avg_error\": 0.0024910527417186493}, {\"cultivar\": \"PI656015\", \"range\": 50, \"column\": 3, \"avg_error\": 0.0015068672049010276}, {\"cultivar\": \"PI535794\", \"range\": 50, \"column\": 4, \"avg_error\": 0.001736475944330626}, {\"cultivar\": \"PI527045\", \"range\": 50, \"column\": 5, \"avg_error\": 0.0016619039605747497}, {\"cultivar\": \"PI655972\", \"range\": 50, \"column\": 6, \"avg_error\": 0.0022109279294646334}, {\"cultivar\": \"PI154988\", \"range\": 50, \"column\": 7, \"avg_error\": 0.0016289497124909204}, {\"cultivar\": \"PI593916\", \"range\": 50, \"column\": 8, \"avg_error\": 0.0008009026208232238}, {\"cultivar\": \"PI655978\", \"range\": 50, \"column\": 9, \"avg_error\": 0.0028444514984156035}, {\"cultivar\": \"PI656026\", \"range\": 50, \"column\": 10, \"avg_error\": 0.001117476845100197}, {\"cultivar\": \"PI152828\", \"range\": 50, \"column\": 11, \"avg_error\": 0.0014179449626665905}, {\"cultivar\": \"PI550604\", \"range\": 50, \"column\": 12, \"avg_error\": 0.0017561224088310393}, {\"cultivar\": \"PI52606\", \"range\": 50, \"column\": 13, \"avg_error\": 0.0018612135545762673}, {\"cultivar\": \"PI534165\", \"range\": 50, \"column\": 14, \"avg_error\": 0.0016785345692345874}, {\"cultivar\": \"PI656065\", \"range\": 50, \"column\": 15, \"avg_error\": 0.0010676073336154512}, {\"cultivar\": \"PI535795\", \"range\": 51, \"column\": 2, \"avg_error\": 0.003470825467425709}, {\"cultivar\": \"PI145633\", \"range\": 51, \"column\": 3, \"avg_error\": 0.0034039873238577213}, {\"cultivar\": \"PI586435\", \"range\": 51, \"column\": 4, \"avg_error\": 0.0023293034565986803}, {\"cultivar\": \"PI641825\", \"range\": 51, \"column\": 5, \"avg_error\": 0.001312274907468092}, {\"cultivar\": \"PI570106\", \"range\": 51, \"column\": 6, \"avg_error\": 0.002612268888528085}, {\"cultivar\": \"PI641830\", \"range\": 51, \"column\": 7, \"avg_error\": 0.002467160220267001}, {\"cultivar\": \"PI19770\", \"range\": 51, \"column\": 8, \"avg_error\": 0.003045294876551274}, {\"cultivar\": \"PI641862\", \"range\": 51, \"column\": 9, \"avg_error\": 0.0018303810864278857}, {\"cultivar\": \"PI656035\", \"range\": 51, \"column\": 10, \"avg_error\": 0.0021333319920494387}, {\"cultivar\": \"PI563002\", \"range\": 51, \"column\": 11, \"avg_error\": 0.0033662672655454017}, {\"cultivar\": \"PI655983\", \"range\": 51, \"column\": 12, \"avg_error\": 0.002162745025022549}, {\"cultivar\": \"PI641836\", \"range\": 51, \"column\": 13, \"avg_error\": 0.0013224935392692554}, {\"cultivar\": \"PI196598\", \"range\": 51, \"column\": 14, \"avg_error\": 0.0022019411340732983}, {\"cultivar\": \"PI569421\", \"range\": 51, \"column\": 15, \"avg_error\": 0.0013707795933707119}, {\"cultivar\": \"PI585954\", \"range\": 52, \"column\": 2, \"avg_error\": 0.0017362324979659453}, {\"cultivar\": \"PI562991\", \"range\": 52, \"column\": 3, \"avg_error\": 0.0013320992352137022}, {\"cultivar\": \"PI155760\", \"range\": 52, \"column\": 4, \"avg_error\": 0.00268848502845578}, {\"cultivar\": \"PI330184\", \"range\": 52, \"column\": 5, \"avg_error\": 0.004031460694337153}, {\"cultivar\": \"PI152751\", \"range\": 52, \"column\": 6, \"avg_error\": 0.0014393817048904357}, {\"cultivar\": \"PI329299\", \"range\": 52, \"column\": 7, \"avg_error\": 0.0014824843001991716}, {\"cultivar\": \"PI505735\", \"range\": 52, \"column\": 8, \"avg_error\": 0.002771684782927423}, {\"cultivar\": \"PI562994\", \"range\": 52, \"column\": 9, \"avg_error\": 0.0020379897536204248}, {\"cultivar\": \"PI329510\", \"range\": 52, \"column\": 10, \"avg_error\": 0.0015367292285697683}, {\"cultivar\": \"PI157030\", \"range\": 52, \"column\": 11, \"avg_error\": 0.0015404103859937486}, {\"cultivar\": \"PI329480\", \"range\": 52, \"column\": 12, \"avg_error\": 0.0018512872203158242}, {\"cultivar\": \"PI330168\", \"range\": 52, \"column\": 13, \"avg_error\": 0.0015977194213137858}, {\"cultivar\": \"PI329618\", \"range\": 52, \"column\": 14, \"avg_error\": 0.0013070702841460103}, {\"cultivar\": \"PI569459\", \"range\": 52, \"column\": 15, \"avg_error\": 0.001658263397247628}, {\"cultivar\": \"Big_Kahuna\", \"range\": 53, \"column\": 2, \"avg_error\": 0.0027752577576647653}, {\"cultivar\": \"SP1615\", \"range\": 53, \"column\": 3, \"avg_error\": 0.0030344454843160558}, {\"cultivar\": \"Big_Kahuna\", \"range\": 53, \"column\": 4, \"avg_error\": 0.0027752577576647653}, {\"cultivar\": \"SP1615\", \"range\": 53, \"column\": 9, \"avg_error\": 0.0030344454843160558}, {\"cultivar\": \"SP1615\", \"range\": 53, \"column\": 13, \"avg_error\": 0.0030344454843160558}]}}, {\"mode\": \"vega-lite\"});\n",
       "</script>"
      ],
      "text/plain": [
       "alt.Chart(...)"
      ]
     },
     "execution_count": 24,
     "metadata": {},
     "output_type": "execute_result"
    }
   ],
   "source": [
    "import altair as alt\n",
    "alt.Chart(plotdf, title=\"Season4 - model per cultivar, average canopy_height error in %\").mark_rect().encode(\n",
    "    x='column:O',\n",
    "    y='range:O',\n",
    "    color='avg_error',\n",
    "    tooltip=[\n",
    "        alt.Tooltip('cultivar:O', title='Cultivar'),\n",
    "        alt.Tooltip('avg_error:Q', title='Model Error %'),\n",
    "        alt.Tooltip('range:O',title='range'),\n",
    "        alt.Tooltip('column:O',title='column')\n",
    "    ]\n",
    ")"
   ]
  },
  {
   "cell_type": "code",
   "execution_count": null,
   "metadata": {},
   "outputs": [],
   "source": []
  }
 ],
 "metadata": {
  "kernelspec": {
   "display_name": "Python 3",
   "language": "python",
   "name": "python3"
  },
  "language_info": {
   "codemirror_mode": {
    "name": "ipython",
    "version": 3
   },
   "file_extension": ".py",
   "mimetype": "text/x-python",
   "name": "python",
   "nbconvert_exporter": "python",
   "pygments_lexer": "ipython3",
   "version": "3.7.6"
  }
 },
 "nbformat": 4,
 "nbformat_minor": 4
}
