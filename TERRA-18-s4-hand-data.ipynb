{
 "cells": [
  {
   "cell_type": "code",
   "execution_count": 31,
   "metadata": {},
   "outputs": [
    {
     "data": {
      "text/plain": [
       "Index(['cultivar_id', 'cultivar', 'season', 'range', 'column',\n",
       "       'absorbance_850', 'roll', 'PhiNO', 'PhiNPQ', 'absorbance_530',\n",
       "       'absorbance_605', 'absorbance_730', 'absorbance_880', 'absorbance_940',\n",
       "       'Fs', 'NPQt', 'qL', 'qP', 'RFd', 'SPAD_530', 'SPAD_605', 'SPAD_730',\n",
       "       'leaf_thickness', 'ambient_humidity', 'leaf_angle_clamp_position',\n",
       "       'pitch', 'proximal_air_temperature', 'FvP/FmP',\n",
       "       'leaf_temperature_differential', 'Phi2', 'relative_chlorophyll',\n",
       "       'FmPrime', 'FoPrime', 'LEF', 'SPAD_420', 'SPAD_650', 'SPAD_850',\n",
       "       'SPAD_880', 'light_intensity_PAR', 'leaf_temperature', 'date'],\n",
       "      dtype='object')"
      ]
     },
     "execution_count": 31,
     "metadata": {},
     "output_type": "execute_result"
    }
   ],
   "source": [
    "import pandas as pd\n",
    "\n",
    "august_df = pd.read_csv('s4_august_by_hand_30plus_v2.csv')\n",
    "august_df.columns"
   ]
  },
  {
   "cell_type": "code",
   "execution_count": 32,
   "metadata": {},
   "outputs": [
    {
     "data": {
      "text/html": [
       "<div>\n",
       "<style scoped>\n",
       "    .dataframe tbody tr th:only-of-type {\n",
       "        vertical-align: middle;\n",
       "    }\n",
       "\n",
       "    .dataframe tbody tr th {\n",
       "        vertical-align: top;\n",
       "    }\n",
       "\n",
       "    .dataframe thead th {\n",
       "        text-align: right;\n",
       "    }\n",
       "</style>\n",
       "<table border=\"1\" class=\"dataframe\">\n",
       "  <thead>\n",
       "    <tr style=\"text-align: right;\">\n",
       "      <th></th>\n",
       "      <th>cultivar_id</th>\n",
       "      <th>cultivar</th>\n",
       "      <th>season</th>\n",
       "      <th>range</th>\n",
       "      <th>column</th>\n",
       "      <th>absorbance_850</th>\n",
       "      <th>roll</th>\n",
       "      <th>PhiNO</th>\n",
       "      <th>PhiNPQ</th>\n",
       "      <th>absorbance_530</th>\n",
       "      <th>...</th>\n",
       "      <th>FmPrime</th>\n",
       "      <th>FoPrime</th>\n",
       "      <th>LEF</th>\n",
       "      <th>SPAD_420</th>\n",
       "      <th>SPAD_650</th>\n",
       "      <th>SPAD_850</th>\n",
       "      <th>SPAD_880</th>\n",
       "      <th>light_intensity_PAR</th>\n",
       "      <th>leaf_temperature</th>\n",
       "      <th>date</th>\n",
       "    </tr>\n",
       "  </thead>\n",
       "  <tbody>\n",
       "    <tr>\n",
       "      <th>0</th>\n",
       "      <td>6000000964</td>\n",
       "      <td>PI570373</td>\n",
       "      <td>4</td>\n",
       "      <td>21</td>\n",
       "      <td>2</td>\n",
       "      <td>0.443</td>\n",
       "      <td>-2.60</td>\n",
       "      <td>0.054</td>\n",
       "      <td>0.722</td>\n",
       "      <td>0.99</td>\n",
       "      <td>...</td>\n",
       "      <td>2986.150</td>\n",
       "      <td>2233.0</td>\n",
       "      <td>157.363</td>\n",
       "      <td>135.13</td>\n",
       "      <td>34.8</td>\n",
       "      <td>-3.18</td>\n",
       "      <td>1.36</td>\n",
       "      <td>1560.0</td>\n",
       "      <td>315.48</td>\n",
       "      <td>2017-08-28 12:00:00</td>\n",
       "    </tr>\n",
       "    <tr>\n",
       "      <th>1</th>\n",
       "      <td>6000000851</td>\n",
       "      <td>PI511355</td>\n",
       "      <td>4</td>\n",
       "      <td>26</td>\n",
       "      <td>15</td>\n",
       "      <td>0.449</td>\n",
       "      <td>-39.74</td>\n",
       "      <td>0.098</td>\n",
       "      <td>0.673</td>\n",
       "      <td>1.27</td>\n",
       "      <td>...</td>\n",
       "      <td>4181.791</td>\n",
       "      <td>2583.0</td>\n",
       "      <td>158.183</td>\n",
       "      <td>188.25</td>\n",
       "      <td>49.6</td>\n",
       "      <td>-3.74</td>\n",
       "      <td>1.34</td>\n",
       "      <td>1530.0</td>\n",
       "      <td>310.14</td>\n",
       "      <td>2017-08-28 11:14:00</td>\n",
       "    </tr>\n",
       "  </tbody>\n",
       "</table>\n",
       "<p>2 rows × 41 columns</p>\n",
       "</div>"
      ],
      "text/plain": [
       "   cultivar_id  cultivar  season  range  column  absorbance_850   roll  PhiNO  \\\n",
       "0   6000000964  PI570373       4     21       2           0.443  -2.60  0.054   \n",
       "1   6000000851  PI511355       4     26      15           0.449 -39.74  0.098   \n",
       "\n",
       "   PhiNPQ  absorbance_530  ...   FmPrime  FoPrime      LEF  SPAD_420  \\\n",
       "0   0.722            0.99  ...  2986.150   2233.0  157.363    135.13   \n",
       "1   0.673            1.27  ...  4181.791   2583.0  158.183    188.25   \n",
       "\n",
       "   SPAD_650  SPAD_850  SPAD_880  light_intensity_PAR  leaf_temperature  \\\n",
       "0      34.8     -3.18      1.36               1560.0            315.48   \n",
       "1      49.6     -3.74      1.34               1530.0            310.14   \n",
       "\n",
       "                  date  \n",
       "0  2017-08-28 12:00:00  \n",
       "1  2017-08-28 11:14:00  \n",
       "\n",
       "[2 rows x 41 columns]"
      ]
     },
     "execution_count": 32,
     "metadata": {},
     "output_type": "execute_result"
    }
   ],
   "source": [
    "august_df.head(2)"
   ]
  },
  {
   "cell_type": "code",
   "execution_count": 33,
   "metadata": {},
   "outputs": [],
   "source": [
    "august_df['date'] = pd.to_datetime(august_df['date'])"
   ]
  },
  {
   "cell_type": "code",
   "execution_count": 34,
   "metadata": {},
   "outputs": [
    {
     "name": "stdout",
     "output_type": "stream",
     "text": [
      "2017-05-01 12:00:00\n"
     ]
    }
   ],
   "source": [
    "from datetime import datetime\n",
    "print(datetime.strptime('2017-05-01 12:00:00', '%Y-%m-%d %H:%M:%S'))"
   ]
  },
  {
   "cell_type": "code",
   "execution_count": 35,
   "metadata": {},
   "outputs": [],
   "source": [
    "# add an offset column that subtracts a \"start date\" from each of the datetimes in the samples.  This will give us an offset in days\n",
    "august_df['day_delta'] = august_df['date'] - datetime.strptime('2017-05-01 12:00:00', '%Y-%m-%d %H:%M:%S')"
   ]
  },
  {
   "cell_type": "code",
   "execution_count": 36,
   "metadata": {},
   "outputs": [
    {
     "data": {
      "text/plain": [
       "0   119 days 00:00:00\n",
       "1   118 days 23:14:00\n",
       "2   118 days 23:15:00\n",
       "3   118 days 23:59:00\n",
       "4   119 days 00:10:00\n",
       "Name: day_delta, dtype: timedelta64[ns]"
      ]
     },
     "execution_count": 36,
     "metadata": {},
     "output_type": "execute_result"
    }
   ],
   "source": [
    "# here is how a timedelta offset is converted to its component part\n",
    "august_df['day_delta'].head()"
   ]
  },
  {
   "cell_type": "code",
   "execution_count": 38,
   "metadata": {},
   "outputs": [
    {
     "name": "stdout",
     "output_type": "stream",
     "text": [
      "118\n"
     ]
    },
    {
     "data": {
      "text/plain": [
       "83640"
      ]
     },
     "execution_count": 38,
     "metadata": {},
     "output_type": "execute_result"
    }
   ],
   "source": [
    "print(august_df['day_delta'][1].days)\n",
    "august_df['day_delta'][1].seconds"
   ]
  },
  {
   "cell_type": "markdown",
   "metadata": {},
   "source": [
    "The subtraction yields a Python Timedelta() object.  It can be operated on with xxxx.days  and xxxx.seconds.  So lets make day_offset into a floating point value by adding the day and fractional days together (86400 seconds / day).  We will build a list of the fractional day offsets in order and then add it as a new column, and drop the 'day_delta' column.  Then this dataset will have a day_offset field compatible with the main Season 4 dataset. "
   ]
  },
  {
   "cell_type": "code",
   "execution_count": 46,
   "metadata": {},
   "outputs": [
    {
     "data": {
      "text/plain": [
       "[119.0,\n",
       " 118.96805555555555,\n",
       " 118.96875,\n",
       " 118.99930555555555,\n",
       " 119.00694444444444,\n",
       " 119.00833333333334,\n",
       " 119.01180555555555,\n",
       " 119.01388888888889,\n",
       " 119.02083333333333,\n",
       " 119.02152777777778]"
      ]
     },
     "execution_count": 46,
     "metadata": {},
     "output_type": "execute_result"
    }
   ],
   "source": [
    "day_offset = []\n",
    "for index, row in august_df.iterrows():\n",
    "    #print(row['day_delta'],row['day_delta'].days, row['day_delta'].seconds )\n",
    "    day_offset.append(float(row['day_delta'].days) + float(row['day_delta'].seconds/86400.0))\n",
    "    #if (index>5):\n",
    "    #        break\n",
    "day_offset[0:10]"
   ]
  },
  {
   "cell_type": "code",
   "execution_count": 47,
   "metadata": {},
   "outputs": [],
   "source": [
    "august_df['day_offset'] = day_offset"
   ]
  },
  {
   "cell_type": "code",
   "execution_count": 48,
   "metadata": {},
   "outputs": [
    {
     "data": {
      "text/html": [
       "<div>\n",
       "<style scoped>\n",
       "    .dataframe tbody tr th:only-of-type {\n",
       "        vertical-align: middle;\n",
       "    }\n",
       "\n",
       "    .dataframe tbody tr th {\n",
       "        vertical-align: top;\n",
       "    }\n",
       "\n",
       "    .dataframe thead th {\n",
       "        text-align: right;\n",
       "    }\n",
       "</style>\n",
       "<table border=\"1\" class=\"dataframe\">\n",
       "  <thead>\n",
       "    <tr style=\"text-align: right;\">\n",
       "      <th></th>\n",
       "      <th>cultivar_id</th>\n",
       "      <th>cultivar</th>\n",
       "      <th>season</th>\n",
       "      <th>range</th>\n",
       "      <th>column</th>\n",
       "      <th>absorbance_850</th>\n",
       "      <th>roll</th>\n",
       "      <th>PhiNO</th>\n",
       "      <th>PhiNPQ</th>\n",
       "      <th>absorbance_530</th>\n",
       "      <th>...</th>\n",
       "      <th>LEF</th>\n",
       "      <th>SPAD_420</th>\n",
       "      <th>SPAD_650</th>\n",
       "      <th>SPAD_850</th>\n",
       "      <th>SPAD_880</th>\n",
       "      <th>light_intensity_PAR</th>\n",
       "      <th>leaf_temperature</th>\n",
       "      <th>date</th>\n",
       "      <th>day_delta</th>\n",
       "      <th>day_offset</th>\n",
       "    </tr>\n",
       "  </thead>\n",
       "  <tbody>\n",
       "    <tr>\n",
       "      <th>0</th>\n",
       "      <td>6000000964</td>\n",
       "      <td>PI570373</td>\n",
       "      <td>4</td>\n",
       "      <td>21</td>\n",
       "      <td>2</td>\n",
       "      <td>0.443</td>\n",
       "      <td>-2.60</td>\n",
       "      <td>0.054</td>\n",
       "      <td>0.722</td>\n",
       "      <td>0.990</td>\n",
       "      <td>...</td>\n",
       "      <td>157.363</td>\n",
       "      <td>135.13</td>\n",
       "      <td>34.80</td>\n",
       "      <td>-3.18</td>\n",
       "      <td>1.36</td>\n",
       "      <td>1560.0</td>\n",
       "      <td>315.48</td>\n",
       "      <td>2017-08-28 12:00:00</td>\n",
       "      <td>119 days 00:00:00</td>\n",
       "      <td>119.000000</td>\n",
       "    </tr>\n",
       "    <tr>\n",
       "      <th>1</th>\n",
       "      <td>6000000851</td>\n",
       "      <td>PI511355</td>\n",
       "      <td>4</td>\n",
       "      <td>26</td>\n",
       "      <td>15</td>\n",
       "      <td>0.449</td>\n",
       "      <td>-39.74</td>\n",
       "      <td>0.098</td>\n",
       "      <td>0.673</td>\n",
       "      <td>1.270</td>\n",
       "      <td>...</td>\n",
       "      <td>158.183</td>\n",
       "      <td>188.25</td>\n",
       "      <td>49.60</td>\n",
       "      <td>-3.74</td>\n",
       "      <td>1.34</td>\n",
       "      <td>1530.0</td>\n",
       "      <td>310.14</td>\n",
       "      <td>2017-08-28 11:14:00</td>\n",
       "      <td>118 days 23:14:00</td>\n",
       "      <td>118.968056</td>\n",
       "    </tr>\n",
       "    <tr>\n",
       "      <th>2</th>\n",
       "      <td>6000000851</td>\n",
       "      <td>PI511355</td>\n",
       "      <td>4</td>\n",
       "      <td>26</td>\n",
       "      <td>15</td>\n",
       "      <td>0.456</td>\n",
       "      <td>-17.32</td>\n",
       "      <td>0.172</td>\n",
       "      <td>0.525</td>\n",
       "      <td>1.224</td>\n",
       "      <td>...</td>\n",
       "      <td>177.017</td>\n",
       "      <td>171.18</td>\n",
       "      <td>46.18</td>\n",
       "      <td>-3.09</td>\n",
       "      <td>1.89</td>\n",
       "      <td>1301.0</td>\n",
       "      <td>307.44</td>\n",
       "      <td>2017-08-28 11:15:00</td>\n",
       "      <td>118 days 23:15:00</td>\n",
       "      <td>118.968750</td>\n",
       "    </tr>\n",
       "    <tr>\n",
       "      <th>3</th>\n",
       "      <td>6000000964</td>\n",
       "      <td>PI570373</td>\n",
       "      <td>4</td>\n",
       "      <td>21</td>\n",
       "      <td>2</td>\n",
       "      <td>0.421</td>\n",
       "      <td>-0.90</td>\n",
       "      <td>0.015</td>\n",
       "      <td>0.908</td>\n",
       "      <td>0.997</td>\n",
       "      <td>...</td>\n",
       "      <td>53.598</td>\n",
       "      <td>134.03</td>\n",
       "      <td>33.01</td>\n",
       "      <td>-3.62</td>\n",
       "      <td>1.06</td>\n",
       "      <td>1561.0</td>\n",
       "      <td>318.92</td>\n",
       "      <td>2017-08-28 11:59:00</td>\n",
       "      <td>118 days 23:59:00</td>\n",
       "      <td>118.999306</td>\n",
       "    </tr>\n",
       "    <tr>\n",
       "      <th>4</th>\n",
       "      <td>6000000964</td>\n",
       "      <td>PI570373</td>\n",
       "      <td>4</td>\n",
       "      <td>45</td>\n",
       "      <td>3</td>\n",
       "      <td>0.535</td>\n",
       "      <td>11.29</td>\n",
       "      <td>0.033</td>\n",
       "      <td>0.832</td>\n",
       "      <td>1.185</td>\n",
       "      <td>...</td>\n",
       "      <td>94.147</td>\n",
       "      <td>137.76</td>\n",
       "      <td>34.04</td>\n",
       "      <td>-3.79</td>\n",
       "      <td>1.20</td>\n",
       "      <td>1547.0</td>\n",
       "      <td>320.24</td>\n",
       "      <td>2017-08-28 12:10:00</td>\n",
       "      <td>119 days 00:10:00</td>\n",
       "      <td>119.006944</td>\n",
       "    </tr>\n",
       "  </tbody>\n",
       "</table>\n",
       "<p>5 rows × 43 columns</p>\n",
       "</div>"
      ],
      "text/plain": [
       "   cultivar_id  cultivar  season  range  column  absorbance_850   roll  PhiNO  \\\n",
       "0   6000000964  PI570373       4     21       2           0.443  -2.60  0.054   \n",
       "1   6000000851  PI511355       4     26      15           0.449 -39.74  0.098   \n",
       "2   6000000851  PI511355       4     26      15           0.456 -17.32  0.172   \n",
       "3   6000000964  PI570373       4     21       2           0.421  -0.90  0.015   \n",
       "4   6000000964  PI570373       4     45       3           0.535  11.29  0.033   \n",
       "\n",
       "   PhiNPQ  absorbance_530  ...      LEF  SPAD_420  SPAD_650  SPAD_850  \\\n",
       "0   0.722           0.990  ...  157.363    135.13     34.80     -3.18   \n",
       "1   0.673           1.270  ...  158.183    188.25     49.60     -3.74   \n",
       "2   0.525           1.224  ...  177.017    171.18     46.18     -3.09   \n",
       "3   0.908           0.997  ...   53.598    134.03     33.01     -3.62   \n",
       "4   0.832           1.185  ...   94.147    137.76     34.04     -3.79   \n",
       "\n",
       "   SPAD_880  light_intensity_PAR  leaf_temperature                date  \\\n",
       "0      1.36               1560.0            315.48 2017-08-28 12:00:00   \n",
       "1      1.34               1530.0            310.14 2017-08-28 11:14:00   \n",
       "2      1.89               1301.0            307.44 2017-08-28 11:15:00   \n",
       "3      1.06               1561.0            318.92 2017-08-28 11:59:00   \n",
       "4      1.20               1547.0            320.24 2017-08-28 12:10:00   \n",
       "\n",
       "          day_delta  day_offset  \n",
       "0 119 days 00:00:00  119.000000  \n",
       "1 118 days 23:14:00  118.968056  \n",
       "2 118 days 23:15:00  118.968750  \n",
       "3 118 days 23:59:00  118.999306  \n",
       "4 119 days 00:10:00  119.006944  \n",
       "\n",
       "[5 rows x 43 columns]"
      ]
     },
     "execution_count": 48,
     "metadata": {},
     "output_type": "execute_result"
    }
   ],
   "source": [
    "august_df.head()"
   ]
  },
  {
   "cell_type": "code",
   "execution_count": 52,
   "metadata": {},
   "outputs": [],
   "source": [
    "august_df = august_df.drop(columns=['day_delta'])"
   ]
  },
  {
   "cell_type": "code",
   "execution_count": 54,
   "metadata": {},
   "outputs": [],
   "source": [
    "august_df.to_csv(\"s4_by_hand_30plus_day_offset.csv\", index=False)"
   ]
  },
  {
   "cell_type": "code",
   "execution_count": null,
   "metadata": {},
   "outputs": [],
   "source": []
  }
 ],
 "metadata": {
  "kernelspec": {
   "display_name": "Python 3",
   "language": "python",
   "name": "python3"
  },
  "language_info": {
   "codemirror_mode": {
    "name": "ipython",
    "version": 3
   },
   "file_extension": ".py",
   "mimetype": "text/x-python",
   "name": "python",
   "nbconvert_exporter": "python",
   "pygments_lexer": "ipython3",
   "version": "3.7.3"
  }
 },
 "nbformat": 4,
 "nbformat_minor": 4
}
