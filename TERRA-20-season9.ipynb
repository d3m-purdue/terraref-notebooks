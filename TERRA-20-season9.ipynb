{
 "cells": [
  {
   "cell_type": "markdown",
   "metadata": {},
   "source": [
    "#### Season 9 quick exploration"
   ]
  },
  {
   "cell_type": "code",
   "execution_count": 1,
   "metadata": {},
   "outputs": [],
   "source": [
    "import pandas as pd\n",
    "import altair as alt"
   ]
  },
  {
   "cell_type": "code",
   "execution_count": 2,
   "metadata": {},
   "outputs": [],
   "source": [
    "# we will use this function later in the notebook\n",
    "def returnUniqueCounts(dframe):\n",
    "    return pd.DataFrame.from_records([(col, dframe[col].nunique()) for col in dframe.columns],\n",
    "                          columns=['Column_Name', 'Num_Unique']).sort_values(by=['Num_Unique'])"
   ]
  },
  {
   "cell_type": "markdown",
   "metadata": {},
   "source": [
    "Read in the CSV file that was created using an R procedure.  TERRA-REF publishes how to query through an R interface, so I used this process to generate the CSV.  Then the CSV is read in below and processing continues using Python and PANDAS.  The CSV file is an R \"long type\" where each measurement is in its own row, under the heading \"trait\" and its value is in the corresponding \"mean\" column. "
   ]
  },
  {
   "cell_type": "code",
   "execution_count": 4,
   "metadata": {},
   "outputs": [],
   "source": [
    "s_df = pd.read_csv('/Users/curtislisle/Dropbox/ipython-notebooks/D3M/TERRA/terraref_r/season9date.csv')"
   ]
  },
  {
   "cell_type": "code",
   "execution_count": 5,
   "metadata": {},
   "outputs": [
    {
     "data": {
      "text/plain": [
       "0     MAC Field Scanner Season 9 Range 40 Column 3\n",
       "1     MAC Field Scanner Season 9 Range 40 Column 8\n",
       "2     MAC Field Scanner Season 9 Range 40 Column 9\n",
       "3    MAC Field Scanner Season 9 Range 40 Column 10\n",
       "4    MAC Field Scanner Season 9 Range 42 Column 11\n",
       "Name: sitename, dtype: object"
      ]
     },
     "execution_count": 5,
     "metadata": {},
     "output_type": "execute_result"
    }
   ],
   "source": [
    "s_df.head()['sitename']"
   ]
  },
  {
   "cell_type": "markdown",
   "metadata": {},
   "source": [
    "there seems to be no East or West measurements.  Couldn't find an E or W in the sitename"
   ]
  },
  {
   "cell_type": "code",
   "execution_count": 7,
   "metadata": {},
   "outputs": [
    {
     "name": "stdout",
     "output_type": "stream",
     "text": [
      "(0, 40)\n"
     ]
    },
    {
     "data": {
      "text/plain": [
       "Series([], Name: sitename, dtype: object)"
      ]
     },
     "execution_count": 7,
     "metadata": {},
     "output_type": "execute_result"
    }
   ],
   "source": [
    "eastern = s_df.loc[s_df.sitename.str.contains('W')]\n",
    "print(eastern.shape)\n",
    "eastern.head()['sitename']\n"
   ]
  },
  {
   "cell_type": "code",
   "execution_count": 8,
   "metadata": {},
   "outputs": [
    {
     "data": {
      "text/html": [
       "<div>\n",
       "<style scoped>\n",
       "    .dataframe tbody tr th:only-of-type {\n",
       "        vertical-align: middle;\n",
       "    }\n",
       "\n",
       "    .dataframe tbody tr th {\n",
       "        vertical-align: top;\n",
       "    }\n",
       "\n",
       "    .dataframe thead th {\n",
       "        text-align: right;\n",
       "    }\n",
       "</style>\n",
       "<table border=\"1\" class=\"dataframe\">\n",
       "  <thead>\n",
       "    <tr style=\"text-align: right;\">\n",
       "      <th></th>\n",
       "      <th>trans_date</th>\n",
       "      <th>sitename</th>\n",
       "      <th>trait</th>\n",
       "      <th>mean</th>\n",
       "    </tr>\n",
       "  </thead>\n",
       "  <tbody>\n",
       "    <tr>\n",
       "      <th>0</th>\n",
       "      <td>2019-07-25</td>\n",
       "      <td>MAC Field Scanner Season 9 Range 40 Column 3</td>\n",
       "      <td>aboveground_dry_biomass</td>\n",
       "      <td>11020.00</td>\n",
       "    </tr>\n",
       "    <tr>\n",
       "      <th>1</th>\n",
       "      <td>2019-07-25</td>\n",
       "      <td>MAC Field Scanner Season 9 Range 40 Column 8</td>\n",
       "      <td>aboveground_dry_biomass</td>\n",
       "      <td>17270.00</td>\n",
       "    </tr>\n",
       "    <tr>\n",
       "      <th>2</th>\n",
       "      <td>2019-07-26</td>\n",
       "      <td>MAC Field Scanner Season 9 Range 40 Column 9</td>\n",
       "      <td>aboveground_dry_biomass</td>\n",
       "      <td>18200.00</td>\n",
       "    </tr>\n",
       "    <tr>\n",
       "      <th>3</th>\n",
       "      <td>2019-07-26</td>\n",
       "      <td>MAC Field Scanner Season 9 Range 40 Column 10</td>\n",
       "      <td>aboveground_dry_biomass</td>\n",
       "      <td>13750.00</td>\n",
       "    </tr>\n",
       "    <tr>\n",
       "      <th>4</th>\n",
       "      <td>2019-07-26</td>\n",
       "      <td>MAC Field Scanner Season 9 Range 42 Column 11</td>\n",
       "      <td>aboveground_biomass_moisture</td>\n",
       "      <td>77.37</td>\n",
       "    </tr>\n",
       "    <tr>\n",
       "      <th>5</th>\n",
       "      <td>2019-07-25</td>\n",
       "      <td>MAC Field Scanner Season 9 Range 42 Column 15</td>\n",
       "      <td>aboveground_biomass_moisture</td>\n",
       "      <td>79.48</td>\n",
       "    </tr>\n",
       "    <tr>\n",
       "      <th>6</th>\n",
       "      <td>2019-07-25</td>\n",
       "      <td>MAC Field Scanner Season 9 Range 43 Column 2</td>\n",
       "      <td>aboveground_biomass_moisture</td>\n",
       "      <td>76.52</td>\n",
       "    </tr>\n",
       "    <tr>\n",
       "      <th>7</th>\n",
       "      <td>2019-07-25</td>\n",
       "      <td>MAC Field Scanner Season 9 Range 43 Column 3</td>\n",
       "      <td>aboveground_biomass_moisture</td>\n",
       "      <td>75.43</td>\n",
       "    </tr>\n",
       "  </tbody>\n",
       "</table>\n",
       "</div>"
      ],
      "text/plain": [
       "   trans_date                                       sitename  \\\n",
       "0  2019-07-25   MAC Field Scanner Season 9 Range 40 Column 3   \n",
       "1  2019-07-25   MAC Field Scanner Season 9 Range 40 Column 8   \n",
       "2  2019-07-26   MAC Field Scanner Season 9 Range 40 Column 9   \n",
       "3  2019-07-26  MAC Field Scanner Season 9 Range 40 Column 10   \n",
       "4  2019-07-26  MAC Field Scanner Season 9 Range 42 Column 11   \n",
       "5  2019-07-25  MAC Field Scanner Season 9 Range 42 Column 15   \n",
       "6  2019-07-25   MAC Field Scanner Season 9 Range 43 Column 2   \n",
       "7  2019-07-25   MAC Field Scanner Season 9 Range 43 Column 3   \n",
       "\n",
       "                          trait      mean  \n",
       "0       aboveground_dry_biomass  11020.00  \n",
       "1       aboveground_dry_biomass  17270.00  \n",
       "2       aboveground_dry_biomass  18200.00  \n",
       "3       aboveground_dry_biomass  13750.00  \n",
       "4  aboveground_biomass_moisture     77.37  \n",
       "5  aboveground_biomass_moisture     79.48  \n",
       "6  aboveground_biomass_moisture     76.52  \n",
       "7  aboveground_biomass_moisture     75.43  "
      ]
     },
     "execution_count": 8,
     "metadata": {},
     "output_type": "execute_result"
    }
   ],
   "source": [
    "s_df[['trans_date','sitename','trait','mean']].head(8)"
   ]
  },
  {
   "cell_type": "code",
   "execution_count": null,
   "metadata": {},
   "outputs": [],
   "source": []
  },
  {
   "cell_type": "code",
   "execution_count": 10,
   "metadata": {},
   "outputs": [],
   "source": [
    "selected = ['id','cultivar','cultivar_id','date','trans_date','sitename','trait','mean','units']\n",
    "s9sel = s_df[selected]"
   ]
  },
  {
   "cell_type": "markdown",
   "metadata": {},
   "source": [
    " If all the measurements were equally distributed, doing a long to wide rollup mechanically using pandas' pivot would work.  However, some measurements started later and ended earlier.  Some measurements are daily, some are hourly (just in August), so we really need to split up this dataset into major subsets:  daily and hourly, then try to pivot these datasets.  Or worse, have to hand convert the entries.  I elected to just write a custom algorithm to gather all the measurements together, indexed by date. "
   ]
  },
  {
   "cell_type": "markdown",
   "metadata": {},
   "source": [
    "Write a routine that pivots/rolls up the data by hand, by creating a dictionary with trans_date as its index.  Then we can add measurements one at a time...  This takes a few minutes to run on a circa-2020 CPU.  There is an update line printed every 5k entries processed.  As of when this was released, there were xxxk entries total. "
   ]
  },
  {
   "cell_type": "code",
   "execution_count": 11,
   "metadata": {},
   "outputs": [
    {
     "name": "stdout",
     "output_type": "stream",
     "text": [
      "entered  2119 measurements\n"
     ]
    }
   ],
   "source": [
    "s9hand = {}\n",
    "count = 0\n",
    "for i in range(len(s9sel)):\n",
    "    #if count > 40:\n",
    "    #    break\n",
    "    #print(i,s9sel['trans_date'][i])\n",
    "    \n",
    "    # if we have never seen this date before, start a new dictionary at this date\n",
    "    if s9sel['trans_date'][i] not in s9hand.keys():\n",
    "        s9hand[s9sel['trans_date'][i]] = {}\n",
    "\n",
    "    # if we have not seen this cultivar before on this date, then add a dictionary for this cultivar.  Is there is a chance we \n",
    "    # might lose records here? \n",
    "    if s9sel['cultivar_id'][i] not in s9hand[s9sel['trans_date'][i]].keys():\n",
    "        s9hand[s9sel['trans_date'][i]][s9sel['cultivar_id'][i]] = {}\n",
    "        \n",
    "    # add this feature to the dictionary for the correct cultivar on this date.  We add a dictionary entry named \n",
    "    # from the contents in the 'trait' attribute and pull the value from the 'mean' attribute.  This is the heart\n",
    "    # of the long to wide format conversion.\n",
    "    s9hand[s9sel['trans_date'][i]][s9sel['cultivar_id'][i]][s9sel['trait'][i]] = s9sel['mean'][i]\n",
    "    \n",
    "    # add the cultivar and the location (split out from the sitename text).  This will be added multiple times,\n",
    "    # so represents redundant processing, but it works to place the measurements in cultivar and location\n",
    "    s9hand[s9sel['trans_date'][i]][s9sel['cultivar_id'][i]]['cultivar_id'] = s9sel['cultivar_id'][i]\n",
    "    s9hand[s9sel['trans_date'][i]][s9sel['cultivar_id'][i]]['cultivar'] = s9sel['cultivar'][i]\n",
    "    s9hand[s9sel['trans_date'][i]][s9sel['cultivar_id'][i]]['season'] = int(s9sel['sitename'][i].split(' ')[4])\n",
    "    s9hand[s9sel['trans_date'][i]][s9sel['cultivar_id'][i]]['range'] = int(s9sel['sitename'][i].split(' ')[6])\n",
    "    s9hand[s9sel['trans_date'][i]][s9sel['cultivar_id'][i]]['column'] = int(s9sel['sitename'][i].split(' ')[8])\n",
    "    count += 1\n",
    "    if (count % 5000) == 0:\n",
    "        print('in process:',count, 'records ingested so far')\n",
    "print('entered ',count, 'measurements')\n"
   ]
  },
  {
   "cell_type": "code",
   "execution_count": 13,
   "metadata": {},
   "outputs": [
    {
     "data": {
      "text/plain": [
       "dict_keys(['2019-07-25', '2019-07-26', '2019-07-17'])"
      ]
     },
     "execution_count": 13,
     "metadata": {},
     "output_type": "execute_result"
    }
   ],
   "source": [
    "# there seem to be only three different measurement days\n",
    "s9hand.keys()"
   ]
  },
  {
   "cell_type": "code",
   "execution_count": 18,
   "metadata": {},
   "outputs": [
    {
     "name": "stdout",
     "output_type": "stream",
     "text": [
      "12\n",
      "161\n",
      "146\n"
     ]
    }
   ],
   "source": [
    "# what cultivars were measured on the days?\n",
    "print(len(s9hand['2019-07-17'].keys()))\n",
    "print(len(s9hand['2019-07-25'].keys()))\n",
    "print(len(s9hand['2019-07-26'].keys()))"
   ]
  },
  {
   "cell_type": "code",
   "execution_count": 21,
   "metadata": {},
   "outputs": [
    {
     "data": {
      "text/plain": [
       "dict_keys([6000001736, 6000001772, 6000001802, 6000001869, 6000001847, 6000001747, 6000001818, 6000001775, 6000001792, 6000001739, 6000001732, 6000001771])"
      ]
     },
     "execution_count": 21,
     "metadata": {},
     "output_type": "execute_result"
    }
   ],
   "source": [
    "s9hand['2019-07-17'].keys()\n"
   ]
  },
  {
   "cell_type": "code",
   "execution_count": 23,
   "metadata": {},
   "outputs": [
    {
     "name": "stdout",
     "output_type": "stream",
     "text": [
      "{'canopy_height': 156.0, 'cultivar_id': 6000001736, 'cultivar': '27.5_208_(GRASSL*RIO)', 'season': 9, 'range': 20, 'column': 8}\n",
      "{'aboveground_biomass_moisture': 75.72, 'cultivar_id': 6000001736, 'cultivar': '27.5_208_(GRASSL*RIO)', 'season': 9, 'range': 48, 'column': 2, 'aboveground_fresh_biomass': 20240.0, 'aboveground_dry_biomass': 5430.0}\n"
     ]
    }
   ],
   "source": [
    "print(s9hand['2019-07-17'][6000001736])\n",
    "print(s9hand['2019-07-25'][6000001736])"
   ]
  },
  {
   "cell_type": "markdown",
   "metadata": {},
   "source": [
    "Sometimes the cultivar numeric index is used as the cultivar_id, sometimes it has the character name (e.g. 'cultivar_id': 6000000962,\n",
    "  'cultivar': 'PI570254').  Hand measurements during August seem to have the cultivar_id entered as the cultivar, so build a cross reference by traversing the dictionary"
   ]
  },
  {
   "cell_type": "code",
   "execution_count": 24,
   "metadata": {},
   "outputs": [],
   "source": [
    "cultivar_xref = {}\n",
    "for key in s9hand.keys():\n",
    "    # look in all the records on this date and record any names we find\n",
    "    for thiscultivar in s9hand[key]:\n",
    "        # now we are looking at the dictionary of measurements for a single cultivar. If the _id and cultivar name don't match, we can\n",
    "        # learn from this record, so make an entry in the cross reference dictionary\n",
    "        if s9hand[key][thiscultivar]['cultivar'] != s9hand[key][thiscultivar]['cultivar_id']:\n",
    "            cultivar_xref[s9hand[key][thiscultivar]['cultivar']] = s9hand[key][thiscultivar]['cultivar_id']\n",
    "            cultivar_xref[s9hand[key][thiscultivar]['cultivar_id']] = s9hand[key][thiscultivar]['cultivar']\n",
    "    "
   ]
  },
  {
   "cell_type": "code",
   "execution_count": 25,
   "metadata": {},
   "outputs": [
    {
     "name": "stdout",
     "output_type": "stream",
     "text": [
      "27.5_102_(GRASSL*RIO) 6000001878\n",
      "6000001878 27.5_102_(GRASSL*RIO)\n",
      "27.5_211_(GRASSL*RIO) 6000001875\n",
      "6000001875 27.5_211_(GRASSL*RIO)\n",
      "27.5_069_(GRASSL*RIO) 6000001732\n",
      "6000001732 27.5_069_(GRASSL*RIO)\n",
      "27.5_162_(GRASSL*RIO) 6000001783\n",
      "6000001783 27.5_162_(GRASSL*RIO)\n",
      "27.5_035_(GRASSL*RIO) 6000001712\n",
      "6000001712 27.5_035_(GRASSL*RIO)\n",
      "27.5_308_(GRASSL*RIO) 6000001856\n",
      "6000001856 27.5_308_(GRASSL*RIO)\n",
      "27.5_348_(GRASSL*RIO) 6000001744\n",
      "6000001744 27.5_348_(GRASSL*RIO)\n",
      "27.5_208_(GRASSL*RIO) 6000001736\n",
      "6000001736 27.5_208_(GRASSL*RIO)\n"
     ]
    }
   ],
   "source": [
    "# lets see what our bi-directional index looks like.  There are a few odd names, but this doesn't show unless \n",
    "# we print the whole dictionary.  Lets just sample the dictionary for reasonability\n",
    "count = 0\n",
    "for key in cultivar_xref:\n",
    "    print(key, cultivar_xref[key])\n",
    "    count += 1\n",
    "    if count>15:\n",
    "        break"
   ]
  },
  {
   "cell_type": "code",
   "execution_count": 33,
   "metadata": {},
   "outputs": [
    {
     "name": "stdout",
     "output_type": "stream",
     "text": [
      "we found the tuple width of 3 different measurements\n"
     ]
    }
   ],
   "source": [
    "widths = []\n",
    "for key in s9hand.keys():\n",
    "    # how many measurements are on this datetime. accumulate in a histogram dictionary\n",
    "    cultivars = s9hand[key]\n",
    "    # check just the first entry.  We are assuming they are all the same width.  This is probably naive, but it will get us something\n",
    "    for cultivar in cultivars:\n",
    "        measurement_width = len(s9hand[key][cultivar].keys())\n",
    "        widths.append({'width': measurement_width})\n",
    "        break\n",
    "print('we found the tuple width of',len(widths), 'different measurements')\n",
    "width_df = pd.DataFrame.from_records(widths)"
   ]
  },
  {
   "cell_type": "code",
   "execution_count": 35,
   "metadata": {},
   "outputs": [
    {
     "data": {
      "text/html": [
       "\n",
       "<div id=\"altair-viz-2\"></div>\n",
       "<script type=\"text/javascript\">\n",
       "  (function(spec, embedOpt){\n",
       "    const outputDiv = document.getElementById(\"altair-viz-2\");\n",
       "    const paths = {\n",
       "      \"vega\": \"https://cdn.jsdelivr.net/npm//vega@5?noext\",\n",
       "      \"vega-lib\": \"https://cdn.jsdelivr.net/npm//vega-lib?noext\",\n",
       "      \"vega-lite\": \"https://cdn.jsdelivr.net/npm//vega-lite@4.0.0?noext\",\n",
       "      \"vega-embed\": \"https://cdn.jsdelivr.net/npm//vega-embed@6?noext\",\n",
       "    };\n",
       "\n",
       "    function loadScript(lib) {\n",
       "      return new Promise(function(resolve, reject) {\n",
       "        var s = document.createElement('script');\n",
       "        s.src = paths[lib];\n",
       "        s.async = true;\n",
       "        s.onload = () => resolve(paths[lib]);\n",
       "        s.onerror = () => reject(`Error loading script: ${paths[lib]}`);\n",
       "        document.getElementsByTagName(\"head\")[0].appendChild(s);\n",
       "      });\n",
       "    }\n",
       "\n",
       "    function showError(err) {\n",
       "      outputDiv.innerHTML = `<div class=\"error\" style=\"color:red;\">${err}</div>`;\n",
       "      throw err;\n",
       "    }\n",
       "\n",
       "    function displayChart(vegaEmbed) {\n",
       "      vegaEmbed(outputDiv, spec, embedOpt)\n",
       "        .catch(err => showError(`Javascript Error: ${err.message}<br>This usually means there's a typo in your chart specification. See the javascript console for the full traceback.`));\n",
       "    }\n",
       "\n",
       "    if(typeof define === \"function\" && define.amd) {\n",
       "      requirejs.config({paths});\n",
       "      require([\"vega-embed\"], displayChart, err => showError(`Error loading script: ${err.message}`));\n",
       "    } else if (typeof vegaEmbed === \"function\") {\n",
       "      displayChart(vegaEmbed);\n",
       "    } else {\n",
       "      loadScript(\"vega\")\n",
       "        .then(() => loadScript(\"vega-lite\"))\n",
       "        .then(() => loadScript(\"vega-embed\"))\n",
       "        .catch(showError)\n",
       "        .then(() => displayChart(vegaEmbed));\n",
       "    }\n",
       "  })({\"config\": {\"view\": {\"continuousWidth\": 400, \"continuousHeight\": 300}}, \"data\": {\"name\": \"data-df132597e4e69e2421a31c45cd7668c1\"}, \"mark\": \"bar\", \"encoding\": {\"x\": {\"type\": \"quantitative\", \"bin\": true, \"field\": \"width\"}, \"y\": {\"type\": \"quantitative\", \"aggregate\": \"count\"}}, \"title\": \"Histogram of tuple widths\", \"$schema\": \"https://vega.github.io/schema/vega-lite/v4.0.0.json\", \"datasets\": {\"data-df132597e4e69e2421a31c45cd7668c1\": [{\"width\": 9}, {\"width\": 9}, {\"width\": 7}]}}, {\"mode\": \"vega-lite\"});\n",
       "</script>"
      ],
      "text/plain": [
       "alt.Chart(...)"
      ]
     },
     "execution_count": 35,
     "metadata": {},
     "output_type": "execute_result"
    }
   ],
   "source": [
    "alt.Chart(width_df,title=\"Histogram of tuple widths\").mark_bar().encode(\n",
    "    alt.X(\"width:Q\", bin=True),\n",
    "    y='count()',\n",
    ")"
   ]
  },
  {
   "cell_type": "markdown",
   "metadata": {},
   "source": [
    "Looking at the above histogram, there are a lot of short tuples (these are probably the height, leaf information automaticaly recorded) but 1/3 of the records are long, containing many fields).  We have seen some of those records above already.  Try to look at the widths and when they are captured.  This might not be a correct rendering:"
   ]
  },
  {
   "cell_type": "code",
   "execution_count": 36,
   "metadata": {},
   "outputs": [
    {
     "data": {
      "text/html": [
       "\n",
       "<div id=\"altair-viz-3\"></div>\n",
       "<script type=\"text/javascript\">\n",
       "  (function(spec, embedOpt){\n",
       "    const outputDiv = document.getElementById(\"altair-viz-3\");\n",
       "    const paths = {\n",
       "      \"vega\": \"https://cdn.jsdelivr.net/npm//vega@5?noext\",\n",
       "      \"vega-lib\": \"https://cdn.jsdelivr.net/npm//vega-lib?noext\",\n",
       "      \"vega-lite\": \"https://cdn.jsdelivr.net/npm//vega-lite@4.0.0?noext\",\n",
       "      \"vega-embed\": \"https://cdn.jsdelivr.net/npm//vega-embed@6?noext\",\n",
       "    };\n",
       "\n",
       "    function loadScript(lib) {\n",
       "      return new Promise(function(resolve, reject) {\n",
       "        var s = document.createElement('script');\n",
       "        s.src = paths[lib];\n",
       "        s.async = true;\n",
       "        s.onload = () => resolve(paths[lib]);\n",
       "        s.onerror = () => reject(`Error loading script: ${paths[lib]}`);\n",
       "        document.getElementsByTagName(\"head\")[0].appendChild(s);\n",
       "      });\n",
       "    }\n",
       "\n",
       "    function showError(err) {\n",
       "      outputDiv.innerHTML = `<div class=\"error\" style=\"color:red;\">${err}</div>`;\n",
       "      throw err;\n",
       "    }\n",
       "\n",
       "    function displayChart(vegaEmbed) {\n",
       "      vegaEmbed(outputDiv, spec, embedOpt)\n",
       "        .catch(err => showError(`Javascript Error: ${err.message}<br>This usually means there's a typo in your chart specification. See the javascript console for the full traceback.`));\n",
       "    }\n",
       "\n",
       "    if(typeof define === \"function\" && define.amd) {\n",
       "      requirejs.config({paths});\n",
       "      require([\"vega-embed\"], displayChart, err => showError(`Error loading script: ${err.message}`));\n",
       "    } else if (typeof vegaEmbed === \"function\") {\n",
       "      displayChart(vegaEmbed);\n",
       "    } else {\n",
       "      loadScript(\"vega\")\n",
       "        .then(() => loadScript(\"vega-lite\"))\n",
       "        .then(() => loadScript(\"vega-embed\"))\n",
       "        .catch(showError)\n",
       "        .then(() => displayChart(vegaEmbed));\n",
       "    }\n",
       "  })({\"config\": {\"view\": {\"continuousWidth\": 400, \"continuousHeight\": 300}}, \"data\": {\"name\": \"data-0611fb0c68e26ad2ffe067eee29ed97e\"}, \"mark\": \"line\", \"encoding\": {\"x\": {\"type\": \"temporal\", \"field\": \"index\"}, \"y\": {\"type\": \"quantitative\", \"field\": \"width\"}}, \"title\": \"show the size of the tuples in date order\", \"$schema\": \"https://vega.github.io/schema/vega-lite/v4.0.0.json\", \"datasets\": {\"data-0611fb0c68e26ad2ffe067eee29ed97e\": [{\"index\": 0, \"width\": 9}, {\"index\": 1, \"width\": 9}, {\"index\": 2, \"width\": 7}]}}, {\"mode\": \"vega-lite\"});\n",
       "</script>"
      ],
      "text/plain": [
       "alt.Chart(...)"
      ]
     },
     "execution_count": 36,
     "metadata": {},
     "output_type": "execute_result"
    }
   ],
   "source": [
    "alt.Chart(width_df.reset_index(),title=\"show the size of the tuples in date order\").mark_line().encode(\n",
    "    alt.Y(\"width:Q\"),\n",
    "    alt.X('index:T')\n",
    ")"
   ]
  },
  {
   "cell_type": "code",
   "execution_count": 30,
   "metadata": {},
   "outputs": [
    {
     "name": "stdout",
     "output_type": "stream",
     "text": [
      "date:  2019-07-25\n",
      "cultivar-keys:  dict_keys([6000001878, 6000001875, 6000001732, 6000001783, 6000001712, 6000001856, 6000001744, 6000001736, 6000001835, 6000001843, 6000001759, 6000001730, 6000001854, 6000001716, 6000001740, 6000001752, 6000001767, 6000001770, 6000001773, 6000001824, 6000001760, 6000001842, 6000001866, 6000001757, 6000001871, 6000001849, 6000001851, 6000001806, 6000001718, 6000001803, 6000001762, 6000001814, 6000001788, 6000001836, 6000001787, 6000001808, 6000001798, 6000001054, 6000001828, 6000001750, 6000001810, 6000001733, 6000001719, 6000001861, 6000001784, 6000001831, 6000001769, 6000001779, 6000001743, 6000001772, 6000001745, 6000001714, 6000001724, 6000001728, 6000001838, 6000001853, 6000001797, 6000001809, 6000001738, 6000001867, 6000001827, 6000001801, 6000001711, 6000001739, 6000001837, 6000001846, 6000001839, 6000001756, 6000001816, 6000001749, 6000001747, 6000001847, 6000001844, 6000001800, 6000001864, 6000001723, 6000001825, 6000001873, 6000001811, 6000001805, 6000001713, 6000001819, 6000001826, 6000001725, 6000001822, 6000001726, 6000001774, 6000001785, 6000001815, 6000001765, 6000001812, 6000001794, 6000001833, 6000001741, 6000001727, 6000001781, 6000001869, 6000001729, 6000001804, 6000001834, 6000001858, 6000001734, 6000001715, 6000001731, 6000001742, 6000001796, 6000001840, 6000001850, 6000001848, 6000001735, 6000001763, 6000001830, 6000001748, 6000001799, 6000001780, 6000001768, 6000001758, 6000001870, 6000001852, 6000001862, 6000001877, 6000001776, 6000001832, 6000001859, 6000001874, 6000001795, 6000001802, 6000001868, 6000001782, 6000001793, 6000001778, 6000001777, 6000001876, 6000001746, 6000001737, 6000001817, 6000001754, 6000001764, 6000001761, 6000001791, 6000001790, 6000001855, 6000001872, 6000001863, 6000001753, 6000001789, 6000001829, 6000001717, 6000001755, 6000001841, 6000001857, 6000001865, 6000001820, 6000001786, 6000001860, 6000001771, 6000001813, 6000001823, 6000001807, 6000001845, 6000001775])\n",
      "date:  2019-07-26\n",
      "cultivar-keys:  dict_keys([6000001765, 6000001712, 6000001830, 6000001742, 6000001806, 6000001751, 6000001807, 6000001818, 6000001719, 6000001722, 6000001733, 6000001750, 6000001778, 6000001780, 6000001845, 6000001816, 6000001713, 6000001717, 6000001865, 6000001873, 6000001761, 6000001775, 6000001715, 6000001752, 6000001841, 6000001792, 6000001760, 6000001835, 6000001736, 6000001822, 6000001874, 6000001819, 6000001813, 6000001856, 6000001054, 6000001866, 6000001757, 6000001766, 6000001762, 6000001870, 6000001756, 6000001801, 6000001863, 6000001721, 6000001747, 6000001803, 6000001817, 6000001831, 6000001859, 6000001785, 6000001798, 6000001771, 6000001834, 6000001850, 6000001799, 6000001770, 6000001787, 6000001836, 6000001759, 6000001779, 6000001718, 6000001744, 6000001821, 6000001849, 6000001812, 6000001855, 6000001724, 6000001720, 6000001796, 6000001860, 6000001808, 6000001820, 6000001869, 6000001776, 6000001753, 6000001746, 6000001749, 6000001764, 6000001789, 6000001794, 6000001844, 6000001846, 6000001872, 6000001829, 6000001861, 6000001781, 6000001788, 6000001786, 6000001858, 6000001726, 6000001784, 6000001767, 6000001714, 6000001797, 6000001876, 6000001790, 6000001727, 6000001823, 6000001737, 6000001732, 6000001791, 6000001848, 6000001877, 6000001731, 6000001805, 6000001734, 6000001857, 6000001763, 6000001838, 6000001738, 6000001782, 6000001840, 6000001875, 6000001852, 6000001828, 6000001832, 6000001748, 6000001716, 6000001853, 6000001824, 6000001862, 6000001842, 6000001837, 6000001723, 6000001735, 6000001793, 6000001795, 6000001743, 6000001864, 6000001854, 6000001774, 6000001825, 6000001839, 6000001729, 6000001804, 6000001833, 6000001755, 6000001802, 6000001758, 6000001847, 6000001777, 6000001814, 6000001815, 6000001867, 6000001843, 6000001810])\n",
      "date:  2019-07-17\n",
      "cultivar-keys:  dict_keys([6000001736, 6000001772, 6000001802, 6000001869, 6000001847, 6000001747, 6000001818, 6000001775, 6000001792, 6000001739, 6000001732, 6000001771])\n",
      "319\n"
     ]
    }
   ],
   "source": [
    "firstList = []\n",
    "dateList = []\n",
    "for key in s9hand.keys():\n",
    "    print('date: ',key)\n",
    "    cultivar_keys = s9hand[key].keys()\n",
    "    print('cultivar-keys: ',cultivar_keys)\n",
    "    for k in cultivar_keys:\n",
    "        record = s9hand[key][k]\n",
    "        record['cultivar_id'] = k\n",
    "        # look up the textual name of the cultivar so we can match against the tree\n",
    "        record['cultivar'] = cultivar_xref[k]\n",
    "        record['date'] = key    \n",
    "        firstList.append(record)\n",
    "        dateList.append(key)\n",
    "        #break\n",
    "print(len(firstList))"
   ]
  },
  {
   "cell_type": "code",
   "execution_count": 32,
   "metadata": {},
   "outputs": [
    {
     "data": {
      "text/plain": [
       "{'aboveground_dry_biomass': 15650.0,\n",
       " 'cultivar_id': 6000001847,\n",
       " 'cultivar': '27.5_316_(GRASSL*RIO)',\n",
       " 'season': 9,\n",
       " 'range': 12,\n",
       " 'column': 12,\n",
       " 'aboveground_biomass_moisture': 81.23,\n",
       " 'aboveground_fresh_biomass': 83380.0,\n",
       " 'date': '2019-07-26'}"
      ]
     },
     "execution_count": 32,
     "metadata": {},
     "output_type": "execute_result"
    }
   ],
   "source": [
    "firstList[300]"
   ]
  },
  {
   "cell_type": "code",
   "execution_count": 37,
   "metadata": {},
   "outputs": [
    {
     "data": {
      "text/html": [
       "<div>\n",
       "<style scoped>\n",
       "    .dataframe tbody tr th:only-of-type {\n",
       "        vertical-align: middle;\n",
       "    }\n",
       "\n",
       "    .dataframe tbody tr th {\n",
       "        vertical-align: top;\n",
       "    }\n",
       "\n",
       "    .dataframe thead th {\n",
       "        text-align: right;\n",
       "    }\n",
       "</style>\n",
       "<table border=\"1\" class=\"dataframe\">\n",
       "  <thead>\n",
       "    <tr style=\"text-align: right;\">\n",
       "      <th></th>\n",
       "      <th>aboveground_biomass_moisture</th>\n",
       "      <th>aboveground_dry_biomass</th>\n",
       "      <th>aboveground_fresh_biomass</th>\n",
       "      <th>canopy_height</th>\n",
       "      <th>column</th>\n",
       "      <th>cultivar</th>\n",
       "      <th>cultivar_id</th>\n",
       "      <th>date</th>\n",
       "      <th>range</th>\n",
       "      <th>season</th>\n",
       "    </tr>\n",
       "  </thead>\n",
       "  <tbody>\n",
       "    <tr>\n",
       "      <th>2019-07-25</th>\n",
       "      <td>70.80</td>\n",
       "      <td>9255.0</td>\n",
       "      <td>33770.0</td>\n",
       "      <td>NaN</td>\n",
       "      <td>15</td>\n",
       "      <td>27.5_102_(GRASSL*RIO)</td>\n",
       "      <td>6000001878</td>\n",
       "      <td>2019-07-25</td>\n",
       "      <td>14</td>\n",
       "      <td>9</td>\n",
       "    </tr>\n",
       "    <tr>\n",
       "      <th>2019-07-25</th>\n",
       "      <td>77.43</td>\n",
       "      <td>8619.0</td>\n",
       "      <td>38180.0</td>\n",
       "      <td>NaN</td>\n",
       "      <td>5</td>\n",
       "      <td>27.5_211_(GRASSL*RIO)</td>\n",
       "      <td>6000001875</td>\n",
       "      <td>2019-07-25</td>\n",
       "      <td>23</td>\n",
       "      <td>9</td>\n",
       "    </tr>\n",
       "    <tr>\n",
       "      <th>2019-07-25</th>\n",
       "      <td>81.75</td>\n",
       "      <td>7997.0</td>\n",
       "      <td>73930.0</td>\n",
       "      <td>NaN</td>\n",
       "      <td>15</td>\n",
       "      <td>27.5_069_(GRASSL*RIO)</td>\n",
       "      <td>6000001732</td>\n",
       "      <td>2019-07-25</td>\n",
       "      <td>42</td>\n",
       "      <td>9</td>\n",
       "    </tr>\n",
       "    <tr>\n",
       "      <th>2019-07-25</th>\n",
       "      <td>81.96</td>\n",
       "      <td>7003.0</td>\n",
       "      <td>64610.0</td>\n",
       "      <td>NaN</td>\n",
       "      <td>2</td>\n",
       "      <td>27.5_162_(GRASSL*RIO)</td>\n",
       "      <td>6000001783</td>\n",
       "      <td>2019-07-25</td>\n",
       "      <td>43</td>\n",
       "      <td>9</td>\n",
       "    </tr>\n",
       "    <tr>\n",
       "      <th>2019-07-25</th>\n",
       "      <td>78.29</td>\n",
       "      <td>7885.0</td>\n",
       "      <td>32090.0</td>\n",
       "      <td>NaN</td>\n",
       "      <td>3</td>\n",
       "      <td>27.5_035_(GRASSL*RIO)</td>\n",
       "      <td>6000001712</td>\n",
       "      <td>2019-07-25</td>\n",
       "      <td>43</td>\n",
       "      <td>9</td>\n",
       "    </tr>\n",
       "  </tbody>\n",
       "</table>\n",
       "</div>"
      ],
      "text/plain": [
       "            aboveground_biomass_moisture  aboveground_dry_biomass  \\\n",
       "2019-07-25                         70.80                   9255.0   \n",
       "2019-07-25                         77.43                   8619.0   \n",
       "2019-07-25                         81.75                   7997.0   \n",
       "2019-07-25                         81.96                   7003.0   \n",
       "2019-07-25                         78.29                   7885.0   \n",
       "\n",
       "            aboveground_fresh_biomass  canopy_height  column  \\\n",
       "2019-07-25                    33770.0            NaN      15   \n",
       "2019-07-25                    38180.0            NaN       5   \n",
       "2019-07-25                    73930.0            NaN      15   \n",
       "2019-07-25                    64610.0            NaN       2   \n",
       "2019-07-25                    32090.0            NaN       3   \n",
       "\n",
       "                         cultivar  cultivar_id        date  range  season  \n",
       "2019-07-25  27.5_102_(GRASSL*RIO)   6000001878  2019-07-25     14       9  \n",
       "2019-07-25  27.5_211_(GRASSL*RIO)   6000001875  2019-07-25     23       9  \n",
       "2019-07-25  27.5_069_(GRASSL*RIO)   6000001732  2019-07-25     42       9  \n",
       "2019-07-25  27.5_162_(GRASSL*RIO)   6000001783  2019-07-25     43       9  \n",
       "2019-07-25  27.5_035_(GRASSL*RIO)   6000001712  2019-07-25     43       9  "
      ]
     },
     "execution_count": 37,
     "metadata": {},
     "output_type": "execute_result"
    }
   ],
   "source": [
    "import pandas as pd\n",
    "full_df = pd.DataFrame(firstList,index=dateList)\n",
    "full_df.head()"
   ]
  },
  {
   "cell_type": "code",
   "execution_count": 38,
   "metadata": {},
   "outputs": [
    {
     "data": {
      "text/html": [
       "<div>\n",
       "<style scoped>\n",
       "    .dataframe tbody tr th:only-of-type {\n",
       "        vertical-align: middle;\n",
       "    }\n",
       "\n",
       "    .dataframe tbody tr th {\n",
       "        vertical-align: top;\n",
       "    }\n",
       "\n",
       "    .dataframe thead th {\n",
       "        text-align: right;\n",
       "    }\n",
       "</style>\n",
       "<table border=\"1\" class=\"dataframe\">\n",
       "  <thead>\n",
       "    <tr style=\"text-align: right;\">\n",
       "      <th></th>\n",
       "      <th>Column_Name</th>\n",
       "      <th>Num_Unique</th>\n",
       "    </tr>\n",
       "  </thead>\n",
       "  <tbody>\n",
       "    <tr>\n",
       "      <th>9</th>\n",
       "      <td>season</td>\n",
       "      <td>1</td>\n",
       "    </tr>\n",
       "    <tr>\n",
       "      <th>7</th>\n",
       "      <td>date</td>\n",
       "      <td>3</td>\n",
       "    </tr>\n",
       "    <tr>\n",
       "      <th>3</th>\n",
       "      <td>canopy_height</td>\n",
       "      <td>12</td>\n",
       "    </tr>\n",
       "    <tr>\n",
       "      <th>4</th>\n",
       "      <td>column</td>\n",
       "      <td>14</td>\n",
       "    </tr>\n",
       "    <tr>\n",
       "      <th>8</th>\n",
       "      <td>range</td>\n",
       "      <td>50</td>\n",
       "    </tr>\n",
       "    <tr>\n",
       "      <th>5</th>\n",
       "      <td>cultivar</td>\n",
       "      <td>169</td>\n",
       "    </tr>\n",
       "    <tr>\n",
       "      <th>6</th>\n",
       "      <td>cultivar_id</td>\n",
       "      <td>169</td>\n",
       "    </tr>\n",
       "    <tr>\n",
       "      <th>0</th>\n",
       "      <td>aboveground_biomass_moisture</td>\n",
       "      <td>267</td>\n",
       "    </tr>\n",
       "    <tr>\n",
       "      <th>1</th>\n",
       "      <td>aboveground_dry_biomass</td>\n",
       "      <td>282</td>\n",
       "    </tr>\n",
       "    <tr>\n",
       "      <th>2</th>\n",
       "      <td>aboveground_fresh_biomass</td>\n",
       "      <td>303</td>\n",
       "    </tr>\n",
       "  </tbody>\n",
       "</table>\n",
       "</div>"
      ],
      "text/plain": [
       "                    Column_Name  Num_Unique\n",
       "9                        season           1\n",
       "7                          date           3\n",
       "3                 canopy_height          12\n",
       "4                        column          14\n",
       "8                         range          50\n",
       "5                      cultivar         169\n",
       "6                   cultivar_id         169\n",
       "0  aboveground_biomass_moisture         267\n",
       "1       aboveground_dry_biomass         282\n",
       "2     aboveground_fresh_biomass         303"
      ]
     },
     "execution_count": 38,
     "metadata": {},
     "output_type": "execute_result"
    }
   ],
   "source": [
    "returnUniqueCounts(full_df)"
   ]
  },
  {
   "cell_type": "code",
   "execution_count": 41,
   "metadata": {},
   "outputs": [],
   "source": [
    "full_df.to_csv('s9_height_biomass.csv',index=False)"
   ]
  },
  {
   "cell_type": "code",
   "execution_count": null,
   "metadata": {},
   "outputs": [],
   "source": []
  }
 ],
 "metadata": {
  "kernelspec": {
   "display_name": "Python 3",
   "language": "python",
   "name": "python3"
  },
  "language_info": {
   "codemirror_mode": {
    "name": "ipython",
    "version": 3
   },
   "file_extension": ".py",
   "mimetype": "text/x-python",
   "name": "python",
   "nbconvert_exporter": "python",
   "pygments_lexer": "ipython3",
   "version": "3.7.3"
  }
 },
 "nbformat": 4,
 "nbformat_minor": 4
}
