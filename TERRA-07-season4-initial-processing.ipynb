{
 "cells": [
  {
   "cell_type": "markdown",
   "metadata": {},
   "source": [
    "### TERRA-REF Season 4 Preprocessing\n",
    "C. Lisle, Knowledgevis, LLC\n",
    "\n",
    "Copyright © 2020 KnowledgeVis, LLC. All Rights Reserved.\n",
    "\n",
    "Redistribution and use, with or without modification, are permitted provided that the following conditions are met:\n",
    "\n",
    "1. Redistributions of source code must retain the above copyright notice, this list of conditions and the following disclaimer.\n",
    "2. The name of the author may not be used to endorse or promote products derived from this software without specific prior written permission.\n",
    "\n",
    "THIS SOFTWARE IS PROVIDED BY KNOWLEDGEVIS, LLC \"AS IS\" AND ANY EXPRESS OR IMPLIED WARRANTIES, INCLUDING, BUT NOT LIMITED TO, THE IMPLIED WARRANTIES OF MERCHANTABILITY AND FITNESS FOR A PARTICULAR PURPOSE ARE DISCLAIMED. IN NO EVENT SHALL THE AUTHOR BE LIABLE FOR ANY DIRECT, INDIRECT, INCIDENTAL, SPECIAL, EXEMPLARY, OR CONSEQUENTIAL DAMAGES (INCLUDING, BUT NOT LIMITED TO, PROCUREMENT OF SUBSTITUTE GOODS OR SERVICES; LOSS OF USE, DATA, OR PROFITS; OR BUSINESS INTERRUPTION) HOWEVER CAUSED AND ON ANY THEORY OF LIABILITY, WHETHER IN CONTRACT, STRICT LIABILITY, OR TORT (INCLUDING NEGLIGENCE OR OTHERWISE) ARISING IN ANY WAY OUT OF THE USE OF THIS SOFTWARE, EVEN IF ADVISED OF THE POSSIBILITY OF SUCH DAMAGE."
   ]
  },
  {
   "cell_type": "code",
   "execution_count": 2,
   "metadata": {},
   "outputs": [],
   "source": [
    "import pandas as pd"
   ]
  },
  {
   "cell_type": "markdown",
   "metadata": {},
   "source": [
    "Read in the CSV file that was created using an R procedure.  TERRA-REF publishes how to query through an R interface, so I used this process to generate the CSV.  Then the CSV is read in below and processing continues using Python and PANDAS.  The CSV file is an R \"long type\" where each measurement is in its own row, under the heading \"trait\" and its value is in the corresponding \"mean\" column. "
   ]
  },
  {
   "cell_type": "code",
   "execution_count": 3,
   "metadata": {},
   "outputs": [
    {
     "name": "stderr",
     "output_type": "stream",
     "text": [
      "/Users/curtislisle/anaconda3/lib/python3.7/site-packages/IPython/core/interactiveshell.py:3057: DtypeWarning: Columns (18,32,35) have mixed types. Specify dtype option on import or set low_memory=False.\n",
      "  interactivity=interactivity, compiler=compiler, result=result)\n"
     ]
    }
   ],
   "source": [
    "s4_df = pd.read_csv('/Users/curtislisle/Dropbox/ipython-notebooks/D3M/TERRA/terraref_r/season4date.csv')"
   ]
  },
  {
   "cell_type": "code",
   "execution_count": 4,
   "metadata": {},
   "outputs": [
    {
     "data": {
      "text/plain": [
       "0     MAC Field Scanner Season 4 Range 8 Column 8\n",
       "1     MAC Field Scanner Season 4 Range 8 Column 9\n",
       "2    MAC Field Scanner Season 4 Range 8 Column 10\n",
       "3    MAC Field Scanner Season 4 Range 8 Column 12\n",
       "4     MAC Field Scanner Season 4 Range 9 Column 3\n",
       "Name: sitename, dtype: object"
      ]
     },
     "execution_count": 4,
     "metadata": {},
     "output_type": "execute_result"
    }
   ],
   "source": [
    "s4_df.head()['sitename']"
   ]
  },
  {
   "cell_type": "code",
   "execution_count": 5,
   "metadata": {},
   "outputs": [
    {
     "data": {
      "text/plain": [
       "Index(['Unnamed: 0', 'checked', 'result_type', 'id', 'citation_id', 'site_id',\n",
       "       'treatment_id', 'sitename', 'city', 'lat', 'lon', 'scientificname',\n",
       "       'commonname', 'genus', 'species_id', 'cultivar_id', 'author',\n",
       "       'citation_year', 'treatment', 'date', 'time', 'raw_date', 'month',\n",
       "       'year', 'dateloc', 'trait', 'trait_description', 'mean', 'units', 'n',\n",
       "       'statname', 'stat', 'notes', 'access_level', 'cultivar', 'entity',\n",
       "       'method_name', 'view_url', 'edit_url', 'trans_date'],\n",
       "      dtype='object')"
      ]
     },
     "execution_count": 5,
     "metadata": {},
     "output_type": "execute_result"
    }
   ],
   "source": [
    "s4_df.columns"
   ]
  },
  {
   "cell_type": "code",
   "execution_count": 6,
   "metadata": {},
   "outputs": [],
   "source": [
    "selected = ['id','cultivar','cultivar_id','date','trans_date','sitename','trait','mean','units']\n",
    "s4sel = s4_df[selected]"
   ]
  },
  {
   "cell_type": "code",
   "execution_count": 7,
   "metadata": {},
   "outputs": [
    {
     "data": {
      "text/html": [
       "<div>\n",
       "<style scoped>\n",
       "    .dataframe tbody tr th:only-of-type {\n",
       "        vertical-align: middle;\n",
       "    }\n",
       "\n",
       "    .dataframe tbody tr th {\n",
       "        vertical-align: top;\n",
       "    }\n",
       "\n",
       "    .dataframe thead th {\n",
       "        text-align: right;\n",
       "    }\n",
       "</style>\n",
       "<table border=\"1\" class=\"dataframe\">\n",
       "  <thead>\n",
       "    <tr style=\"text-align: right;\">\n",
       "      <th></th>\n",
       "      <th>id</th>\n",
       "      <th>cultivar</th>\n",
       "      <th>cultivar_id</th>\n",
       "      <th>date</th>\n",
       "      <th>trans_date</th>\n",
       "      <th>sitename</th>\n",
       "      <th>trait</th>\n",
       "      <th>mean</th>\n",
       "      <th>units</th>\n",
       "    </tr>\n",
       "  </thead>\n",
       "  <tbody>\n",
       "    <tr>\n",
       "      <th>0</th>\n",
       "      <td>6004764469</td>\n",
       "      <td>PI570145</td>\n",
       "      <td>6000000961</td>\n",
       "      <td>2017 May 8</td>\n",
       "      <td>2017-05-08 12:00:00</td>\n",
       "      <td>MAC Field Scanner Season 4 Range 8 Column 8</td>\n",
       "      <td>canopy_height</td>\n",
       "      <td>13.0</td>\n",
       "      <td>cm</td>\n",
       "    </tr>\n",
       "    <tr>\n",
       "      <th>1</th>\n",
       "      <td>6004764470</td>\n",
       "      <td>PI329510</td>\n",
       "      <td>6000000577</td>\n",
       "      <td>2017 May 8</td>\n",
       "      <td>2017-05-08 12:00:00</td>\n",
       "      <td>MAC Field Scanner Season 4 Range 8 Column 9</td>\n",
       "      <td>canopy_height</td>\n",
       "      <td>14.0</td>\n",
       "      <td>cm</td>\n",
       "    </tr>\n",
       "    <tr>\n",
       "      <th>2</th>\n",
       "      <td>6004764471</td>\n",
       "      <td>PI510757</td>\n",
       "      <td>6000000850</td>\n",
       "      <td>2017 May 8</td>\n",
       "      <td>2017-05-08 12:00:00</td>\n",
       "      <td>MAC Field Scanner Season 4 Range 8 Column 10</td>\n",
       "      <td>canopy_height</td>\n",
       "      <td>12.0</td>\n",
       "      <td>cm</td>\n",
       "    </tr>\n",
       "    <tr>\n",
       "      <th>3</th>\n",
       "      <td>6004764473</td>\n",
       "      <td>PI329865</td>\n",
       "      <td>6000000815</td>\n",
       "      <td>2017 May 8</td>\n",
       "      <td>2017-05-08 12:00:00</td>\n",
       "      <td>MAC Field Scanner Season 4 Range 8 Column 12</td>\n",
       "      <td>canopy_height</td>\n",
       "      <td>13.0</td>\n",
       "      <td>cm</td>\n",
       "    </tr>\n",
       "    <tr>\n",
       "      <th>4</th>\n",
       "      <td>6004764478</td>\n",
       "      <td>PI569457</td>\n",
       "      <td>6000000935</td>\n",
       "      <td>2017 May 8</td>\n",
       "      <td>2017-05-08 12:00:00</td>\n",
       "      <td>MAC Field Scanner Season 4 Range 9 Column 3</td>\n",
       "      <td>canopy_height</td>\n",
       "      <td>14.0</td>\n",
       "      <td>cm</td>\n",
       "    </tr>\n",
       "  </tbody>\n",
       "</table>\n",
       "</div>"
      ],
      "text/plain": [
       "           id  cultivar  cultivar_id        date           trans_date  \\\n",
       "0  6004764469  PI570145   6000000961  2017 May 8  2017-05-08 12:00:00   \n",
       "1  6004764470  PI329510   6000000577  2017 May 8  2017-05-08 12:00:00   \n",
       "2  6004764471  PI510757   6000000850  2017 May 8  2017-05-08 12:00:00   \n",
       "3  6004764473  PI329865   6000000815  2017 May 8  2017-05-08 12:00:00   \n",
       "4  6004764478  PI569457   6000000935  2017 May 8  2017-05-08 12:00:00   \n",
       "\n",
       "                                       sitename          trait  mean units  \n",
       "0   MAC Field Scanner Season 4 Range 8 Column 8  canopy_height  13.0    cm  \n",
       "1   MAC Field Scanner Season 4 Range 8 Column 9  canopy_height  14.0    cm  \n",
       "2  MAC Field Scanner Season 4 Range 8 Column 10  canopy_height  12.0    cm  \n",
       "3  MAC Field Scanner Season 4 Range 8 Column 12  canopy_height  13.0    cm  \n",
       "4   MAC Field Scanner Season 4 Range 9 Column 3  canopy_height  14.0    cm  "
      ]
     },
     "execution_count": 7,
     "metadata": {},
     "output_type": "execute_result"
    }
   ],
   "source": [
    "s4sel.head()"
   ]
  },
  {
   "cell_type": "markdown",
   "metadata": {},
   "source": [
    " If all the measurements were equally distributed, doing a long to wide rollup mechanically using pandas' pivot would work.  However, some measurements started later and ended earlier.  Some measurements are daily, some are hourly (just in August), so we really need to split up this dataset into major subsets:  daily and hourly, then try to pivot these datasets.  Or worse, have to hand convert the entries.  I elected to just write a custom algorithm to gather all the measurements together, indexed by date. "
   ]
  },
  {
   "cell_type": "markdown",
   "metadata": {},
   "source": [
    "Write a routine that pivots/rolls up the data by hand, by creating a dictionary with trans_date as its index.  Then we can add measurements one at a time...  This takes a few minutes to run on a circa-2020 CPU.  There is an update line printed every 50k entries processed.  As of when this was released, there were 372k entries total. "
   ]
  },
  {
   "cell_type": "code",
   "execution_count": 8,
   "metadata": {},
   "outputs": [
    {
     "name": "stdout",
     "output_type": "stream",
     "text": [
      "in process: 50000 records ingested so far\n",
      "in process: 100000 records ingested so far\n",
      "in process: 150000 records ingested so far\n",
      "in process: 200000 records ingested so far\n",
      "in process: 250000 records ingested so far\n",
      "in process: 300000 records ingested so far\n",
      "in process: 350000 records ingested so far\n",
      "entered  372363 measurements\n"
     ]
    }
   ],
   "source": [
    "s4hand = {}\n",
    "count = 0\n",
    "for i in range(len(s4sel)):\n",
    "    #if count > 40:\n",
    "    #    break\n",
    "    #print(i,s4sel['trans_date'][i])\n",
    "    \n",
    "    # if we have never seen this date before, start a new dictionary at this date\n",
    "    if s4sel['trans_date'][i] not in s4hand.keys():\n",
    "        s4hand[s4sel['trans_date'][i]] = {}\n",
    "\n",
    "    # if we have not seen this cultivar before on this date, then add a dictionary for this cultivar.  Is there is a chance we \n",
    "    # might lose records here? \n",
    "    if s4sel['cultivar_id'][i] not in s4hand[s4sel['trans_date'][i]].keys():\n",
    "        s4hand[s4sel['trans_date'][i]][s4sel['cultivar_id'][i]] = {}\n",
    "        \n",
    "    # add this feature to the dictionary for the correct cultivar on this date.  We add a dictionary entry named \n",
    "    # from the contents in the 'trait' attribute and pull the value from the 'mean' attribute.  This is the heart\n",
    "    # of the long to wide format conversion.\n",
    "    s4hand[s4sel['trans_date'][i]][s4sel['cultivar_id'][i]][s4sel['trait'][i]] = s4sel['mean'][i]\n",
    "    \n",
    "    # add the cultivar and the location (split out from the sitename text).  This will be added multiple times,\n",
    "    # so represents redundant processing, but it works to place the measurements in cultivar and location\n",
    "    s4hand[s4sel['trans_date'][i]][s4sel['cultivar_id'][i]]['cultivar_id'] = s4sel['cultivar_id'][i]\n",
    "    s4hand[s4sel['trans_date'][i]][s4sel['cultivar_id'][i]]['cultivar'] = s4sel['cultivar'][i]\n",
    "    s4hand[s4sel['trans_date'][i]][s4sel['cultivar_id'][i]]['season'] = int(s4sel['sitename'][i].split(' ')[4])\n",
    "    s4hand[s4sel['trans_date'][i]][s4sel['cultivar_id'][i]]['range'] = int(s4sel['sitename'][i].split(' ')[6])\n",
    "    s4hand[s4sel['trans_date'][i]][s4sel['cultivar_id'][i]]['column'] = int(s4sel['sitename'][i].split(' ')[8])\n",
    "    count += 1\n",
    "    if (count % 50000) == 0:\n",
    "        print('in process:',count, 'records ingested so far')\n",
    "print('entered ',count, 'measurements')\n"
   ]
  },
  {
   "cell_type": "code",
   "execution_count": 9,
   "metadata": {},
   "outputs": [
    {
     "name": "stdout",
     "output_type": "stream",
     "text": [
      "how many different datetime events:\n",
      "3152\n",
      "print ouf the wide tuple of a particular cultivar at a particular datetime:\n",
      "{'canopy_height': 192.0, 'cultivar_id': 6000000861, 'cultivar': 'PI526905', 'season': 4, 'range': 46, 'column': 3, 'leaf_angle_mean': 0.46521782152400004, 'leaf_angle_alpha': 1.6835253597400002, 'leaf_angle_beta': 1.4356619889500002, 'leaf_angle_chi': 1.71004921126}\n",
      "{'canopy_height': 293.0, 'cultivar_id': 6000000861, 'cultivar': 'PI526905', 'season': 4, 'range': 46, 'column': 3, 'leaf_angle_mean': 0.460059049579, 'leaf_angle_alpha': 1.80939043311, 'leaf_angle_beta': 1.5116882921700001, 'leaf_angle_chi': 1.7059298014200002}\n"
     ]
    }
   ],
   "source": [
    "print('how many different datetime events:')\n",
    "print(len(s4hand.keys()))\n",
    "#print(s4hand.keys())\n",
    "print('print ouf the wide tuple of a particular cultivar at a particular datetime:')\n",
    "print(s4hand['2017-07-08 12:00:00'][6000000861])\n",
    "print(s4hand['2017-08-08 12:00:00'][6000000861])"
   ]
  },
  {
   "cell_type": "markdown",
   "metadata": {},
   "source": [
    "So, at this point, we have a dictionary (s4hand) which has keys for each different datetime a measurement was entered.  There are 3152 different datetime entries.  This includes all the dates in August where hand measurements are made.  This dictionary can't be scanned easily in datetime order, but it has accumulated all the tuples.  A single dataframe could be made from this dictionary, but a lot of the entries would be empty, since most datetime entries only contain a subset of the measurements. Measurements are not always at the same time increments, either. The canopy_height and leaf properties, for the most part, are sampled once per day.  These are the only measurements that cover most of the growing season.\n",
    "\n",
    "If the tuples were the same size, we could generate a full pandas dataframe from this dictionary, using the datetime as the index.  However, some tuples are wider than others, since not all measurements were made each time. After reviewing this data distribution, it seems best to create subdictionaries for a certain date range with consistent entries, and then convert the subdictionaries to dataframes.  This manual process is slow, but it will generate a few small, easier to explore and train-on datasets."
   ]
  },
  {
   "cell_type": "code",
   "execution_count": 10,
   "metadata": {
    "collapsed": true,
    "jupyter": {
     "outputs_hidden": true
    }
   },
   "outputs": [
    {
     "name": "stdout",
     "output_type": "stream",
     "text": [
      "2017-08-02 12:00:00\n",
      "2017-08-02 13:34:00\n",
      "2017-08-02 13:32:00\n",
      "2017-08-02 12:10:00\n",
      "2017-08-02 12:09:00\n",
      "2017-08-02 11:03:00\n",
      "2017-08-02 11:01:00\n",
      "2017-08-02 13:28:00\n",
      "2017-08-02 13:46:00\n",
      "2017-08-02 13:45:00\n",
      "2017-08-02 13:43:00\n",
      "2017-08-02 13:42:00\n",
      "2017-08-02 13:38:00\n",
      "2017-08-02 12:01:00\n",
      "2017-08-02 11:16:00\n",
      "2017-08-02 11:13:00\n",
      "2017-08-02 13:31:00\n",
      "2017-08-02 12:14:00\n",
      "2017-08-02 12:13:00\n",
      "2017-08-02 12:11:00\n",
      "2017-08-02 12:08:00\n",
      "2017-08-02 11:07:00\n",
      "2017-08-02 11:05:00\n",
      "2017-08-02 11:00:00\n",
      "2017-08-02 13:36:00\n",
      "2017-08-02 13:35:00\n",
      "2017-08-02 13:33:00\n",
      "2017-08-02 10:26:00\n",
      "2017-08-02 10:29:00\n",
      "2017-08-02 10:30:00\n",
      "2017-08-02 10:36:00\n",
      "2017-08-02 10:42:00\n",
      "2017-08-02 10:49:00\n",
      "2017-08-02 10:55:00\n",
      "2017-08-02 11:29:00\n",
      "2017-08-02 11:31:00\n",
      "2017-08-02 11:34:00\n",
      "2017-08-02 11:41:00\n",
      "2017-08-02 11:45:00\n",
      "2017-08-02 11:46:00\n",
      "2017-08-02 11:51:00\n",
      "2017-08-02 11:53:00\n",
      "2017-08-02 11:54:00\n",
      "2017-08-02 11:57:00\n",
      "2017-08-02 12:20:00\n",
      "2017-08-02 12:33:00\n",
      "2017-08-02 12:34:00\n",
      "2017-08-02 12:53:00\n",
      "2017-08-02 13:01:00\n",
      "2017-08-02 13:03:00\n",
      "2017-08-02 13:06:00\n",
      "2017-08-02 13:07:00\n",
      "2017-08-02 13:10:00\n",
      "2017-08-02 13:17:00\n",
      "2017-08-02 13:20:00\n",
      "2017-08-02 13:21:00\n",
      "2017-08-02 13:22:00\n",
      "2017-08-02 13:24:00\n",
      "2017-08-02 13:54:00\n",
      "2017-08-02 13:55:00\n",
      "2017-08-02 13:44:00\n",
      "2017-08-02 13:40:00\n",
      "2017-08-02 12:05:00\n",
      "2017-08-02 12:04:00\n",
      "2017-08-02 12:03:00\n",
      "2017-08-02 11:59:00\n",
      "2017-08-02 11:15:00\n",
      "2017-08-02 11:11:00\n",
      "2017-08-02 11:10:00\n",
      "2017-08-02 10:27:00\n",
      "2017-08-02 10:31:00\n",
      "2017-08-02 10:35:00\n",
      "2017-08-02 10:37:00\n",
      "2017-08-02 10:47:00\n",
      "2017-08-02 10:43:00\n",
      "2017-08-02 10:41:00\n",
      "2017-08-02 10:39:00\n",
      "2017-08-02 10:50:00\n",
      "2017-08-02 10:54:00\n",
      "2017-08-02 10:57:00\n",
      "2017-08-02 11:28:00\n",
      "2017-08-02 11:30:00\n",
      "2017-08-02 11:43:00\n",
      "2017-08-02 11:44:00\n",
      "2017-08-02 11:47:00\n",
      "2017-08-02 11:50:00\n",
      "2017-08-02 11:52:00\n",
      "2017-08-02 12:18:00\n",
      "2017-08-02 12:19:00\n",
      "2017-08-02 12:22:00\n",
      "2017-08-02 12:23:00\n",
      "2017-08-02 12:24:00\n",
      "2017-08-02 12:31:00\n",
      "2017-08-02 12:32:00\n",
      "2017-08-02 12:36:00\n",
      "2017-08-02 12:54:00\n",
      "2017-08-02 12:55:00\n",
      "2017-08-02 12:56:00\n",
      "2017-08-02 12:57:00\n",
      "2017-08-02 13:02:00\n",
      "2017-08-02 13:11:00\n",
      "2017-08-02 13:52:00\n",
      "2017-08-02 13:53:00\n"
     ]
    }
   ],
   "source": [
    "for i in s4hand.keys():\n",
    "    if i >= '2017-08-01' and i <= '2017-08-03':\n",
    "        print(i)"
   ]
  },
  {
   "cell_type": "markdown",
   "metadata": {},
   "source": [
    "So August 2nd at noon (not August 1st) is when measurements started being taken every few minutes.  Lets look at a few measurements.  Measurements are organized as a dictionary with keys corresponding to the dates a measurment was taken. Each entry is itself a dictionary with cultivar_id as the key and the value is the \"wide format\" tuple of what measurements were encountered for that cultivar and time. \n",
    "\n",
    "The cultivar_id is a long integer.  This is a dual key to the cultivar name we are used to seeing. Both the ID and the name are used below.  This notebook was originally designed using only the integer IDs, but this didn't match the genetic information, so this notebook has been updated to carry the cultivar name (e.g. \"PI536905\", etc. ) along, though indexing in the original dictarionary structure is by ID.  Later in this notebook, a cross reference table is built. "
   ]
  },
  {
   "cell_type": "code",
   "execution_count": 11,
   "metadata": {},
   "outputs": [
    {
     "name": "stdout",
     "output_type": "stream",
     "text": [
      "there are 43 keys in this observation:\n"
     ]
    },
    {
     "data": {
      "text/plain": [
       "{6000000962: {'absorbance_850': 0.41700000000000004,\n",
       "  'cultivar_id': 6000000962,\n",
       "  'cultivar': 'PI570254',\n",
       "  'season': 4,\n",
       "  'range': 45,\n",
       "  'column': 4,\n",
       "  'roll': -14.82,\n",
       "  'PhiNO': 0.14400000000000002,\n",
       "  'PhiNPQ': 0.6,\n",
       "  'absorbance_530': 1.2,\n",
       "  'absorbance_605': 1.466,\n",
       "  'absorbance_730': 0.376,\n",
       "  'absorbance_880': 0.46,\n",
       "  'absorbance_940': 0.46,\n",
       "  'Fs': 4298.7,\n",
       "  'NPQt': 4.154,\n",
       "  'qL': 0.363,\n",
       "  'qP': 0.526,\n",
       "  'RFd': 0.344,\n",
       "  'SPAD_530': 73.96,\n",
       "  'SPAD_605': 100.57,\n",
       "  'SPAD_730': -8.39,\n",
       "  'leaf_thickness': 0.28,\n",
       "  'ambient_humidity': 39.557617,\n",
       "  'leaf_angle_clamp_position': 14.87,\n",
       "  'pitch': -1.28,\n",
       "  'proximal_air_temperature': 40.139998999999996,\n",
       "  'FvP/FmP': 0.486,\n",
       "  'gH+': 0.0,\n",
       "  'ECSt': 0.0,\n",
       "  'leaf_temperature_differential': -6.329999,\n",
       "  'Phi2': 0.256,\n",
       "  'relative_chlorophyll': 48.84512428,\n",
       "  'FmPrime': 5777.98,\n",
       "  'FoPrime': 2968.0,\n",
       "  'LEF': 174.076,\n",
       "  'SPAD_420': 164.67,\n",
       "  'SPAD_650': 48.85,\n",
       "  'SPAD_850': -4.34,\n",
       "  'SPAD_880': 0.01,\n",
       "  'light_intensity_PAR': 1511.0,\n",
       "  'vH+': 0.0,\n",
       "  'leaf_temperature': 306.96}}"
      ]
     },
     "execution_count": 11,
     "metadata": {},
     "output_type": "execute_result"
    }
   ],
   "source": [
    "print('there are', len(s4hand['2017-08-02 13:52:00'][6000000962].keys()), 'keys in this observation:')\n",
    "s4hand['2017-08-02 13:52:00']"
   ]
  },
  {
   "cell_type": "code",
   "execution_count": 12,
   "metadata": {},
   "outputs": [
    {
     "name": "stdout",
     "output_type": "stream",
     "text": [
      "there are 26 keys in this observation:\n"
     ]
    },
    {
     "data": {
      "text/plain": [
       "{6000000962: {'absorbance_850': 0.41200000000000003,\n",
       "  'cultivar_id': 6000000962,\n",
       "  'cultivar': 'PI570254',\n",
       "  'season': 4,\n",
       "  'range': 45,\n",
       "  'column': 4,\n",
       "  'roll': 28.54,\n",
       "  'PhiNO': 0.221,\n",
       "  'PhiNPQ': 0.54,\n",
       "  'absorbance_530': 1.094,\n",
       "  'absorbance_605': 1.348,\n",
       "  'absorbance_730': 0.36200000000000004,\n",
       "  'absorbance_880': 0.461,\n",
       "  'absorbance_940': 0.457,\n",
       "  'Fs': 5446.8,\n",
       "  'NPQt': 2.447,\n",
       "  'qL': 0.222,\n",
       "  'qP': 0.408,\n",
       "  'RFd': 0.314,\n",
       "  'SPAD_530': 63.77,\n",
       "  'SPAD_605': 89.11,\n",
       "  'SPAD_730': -9.46,\n",
       "  'leaf_thickness': 0.25,\n",
       "  'ambient_humidity': 39.856445,\n",
       "  'leaf_angle_clamp_position': 32.96,\n",
       "  'pitch': 17.23}}"
      ]
     },
     "execution_count": 12,
     "metadata": {},
     "output_type": "execute_result"
    }
   ],
   "source": [
    "print('there are', len(s4hand['2017-08-02 13:53:00'][6000000962].keys()), 'keys in this observation:')\n",
    "s4hand['2017-08-02 13:53:00']"
   ]
  },
  {
   "cell_type": "code",
   "execution_count": 13,
   "metadata": {},
   "outputs": [
    {
     "name": "stdout",
     "output_type": "stream",
     "text": [
      "there are 42 keys in this observation:\n"
     ]
    },
    {
     "data": {
      "text/plain": [
       "{6000000851: {'absorbance_850': 0.396,\n",
       "  'cultivar_id': 6000000851,\n",
       "  'cultivar': 'PI511355',\n",
       "  'season': 4,\n",
       "  'range': 26,\n",
       "  'column': 15,\n",
       "  'roll': -55.82,\n",
       "  'PhiNO': 0.195,\n",
       "  'PhiNPQ': 0.51,\n",
       "  'absorbance_530': 1.131,\n",
       "  'absorbance_605': 1.374,\n",
       "  'absorbance_730': 0.35700000000000004,\n",
       "  'absorbance_880': 0.446,\n",
       "  'absorbance_940': 0.441,\n",
       "  'Fs': 4951.5,\n",
       "  'NPQt': 2.617,\n",
       "  'qL': 0.31,\n",
       "  'qP': 0.513,\n",
       "  'RFd': 0.418,\n",
       "  'SPAD_530': 69.06,\n",
       "  'SPAD_605': 93.29,\n",
       "  'SPAD_730': -8.34,\n",
       "  'leaf_thickness': 0.1,\n",
       "  'ambient_humidity': 39.974609,\n",
       "  'leaf_angle_clamp_position': 57.04,\n",
       "  'pitch': 14.43,\n",
       "  'proximal_air_temperature': 39.82,\n",
       "  'FvP/FmP': 0.574,\n",
       "  'gH+': 5.7015,\n",
       "  'ECSt': 0.0012,\n",
       "  'leaf_temperature_differential': -1.63,\n",
       "  'Phi2': 0.295,\n",
       "  'relative_chlorophyll': 46.43594646,\n",
       "  'FmPrime': 7021.161999999999,\n",
       "  'FoPrime': 2989.0,\n",
       "  'LEF': 141.406,\n",
       "  'SPAD_420': 158.94,\n",
       "  'SPAD_650': 46.44,\n",
       "  'SPAD_850': -4.48,\n",
       "  'SPAD_880': 0.47,\n",
       "  'light_intensity_PAR': 1066.0,\n",
       "  'vH+': 0.00020228}}"
      ]
     },
     "execution_count": 13,
     "metadata": {},
     "output_type": "execute_result"
    }
   ],
   "source": [
    "print('there are', len(s4hand['2017-08-02 13:11:00'][6000000851].keys()), 'keys in this observation:')\n",
    "s4hand['2017-08-02 13:11:00']"
   ]
  },
  {
   "cell_type": "markdown",
   "metadata": {},
   "source": [
    "Sometimes the cultivar numeric index is used as the cultivar_id, sometimes it has the character name (e.g. 'cultivar_id': 6000000962,\n",
    "  'cultivar': 'PI570254').  Hand measurements during August seem to have the cultivar_id entered as the cultivar, so build a cross reference by traversing the dictionary"
   ]
  },
  {
   "cell_type": "code",
   "execution_count": 14,
   "metadata": {},
   "outputs": [],
   "source": [
    "cultivar_xref = {}\n",
    "for key in s4hand.keys():\n",
    "    # look in all the records on this date and record any names we find\n",
    "    for thiscultivar in s4hand[key]:\n",
    "        # now we are looking at the dictionary of measurements for a single cultivar. If the _id and cultivar name don't match, we can\n",
    "        # learn from this record, so make an entry in the cross reference dictionary\n",
    "        if s4hand[key][thiscultivar]['cultivar'] != s4hand[key][thiscultivar]['cultivar_id']:\n",
    "            cultivar_xref[s4hand[key][thiscultivar]['cultivar']] = s4hand[key][thiscultivar]['cultivar_id']\n",
    "            cultivar_xref[s4hand[key][thiscultivar]['cultivar_id']] = s4hand[key][thiscultivar]['cultivar']\n",
    "    "
   ]
  },
  {
   "cell_type": "code",
   "execution_count": 19,
   "metadata": {},
   "outputs": [
    {
     "name": "stdout",
     "output_type": "stream",
     "text": [
      "PI570145 6000000961\n",
      "6000000961 PI570145\n",
      "PI329510 6000000577\n",
      "6000000577 PI329510\n",
      "PI510757 6000000850\n",
      "6000000850 PI510757\n",
      "PI329865 6000000815\n",
      "6000000815 PI329865\n",
      "PI569457 6000000935\n",
      "6000000935 PI569457\n",
      "PI521152 6000000855\n",
      "6000000855 PI521152\n",
      "PI569452 6000000931\n",
      "6000000931 PI569452\n",
      "PI585961 6000000982\n",
      "6000000982 PI585961\n"
     ]
    }
   ],
   "source": [
    "# lets see what our bi-directional index looks like.  There are a few odd names, but this doesn't show unless \n",
    "# we print the whole dictionary.  Lets just sample the dictionary for reasonability\n",
    "count = 0\n",
    "for key in cultivar_xref:\n",
    "    print(key, cultivar_xref[key])\n",
    "    count += 1\n",
    "    if count>15:\n",
    "        break"
   ]
  },
  {
   "cell_type": "markdown",
   "metadata": {},
   "source": [
    "### try generating histograms of the tuple width"
   ]
  },
  {
   "cell_type": "markdown",
   "metadata": {},
   "source": [
    "lets explore the coverage of the dictionary by cycling through it and listing how many measurements are on each day and build a histogram of the measurement count. **this is not correct because of the cultivar key**"
   ]
  },
  {
   "cell_type": "code",
   "execution_count": 20,
   "metadata": {},
   "outputs": [
    {
     "name": "stdout",
     "output_type": "stream",
     "text": [
      "we found the tuple width of 3152 different measurements\n"
     ]
    }
   ],
   "source": [
    "widths = []\n",
    "for key in s4hand.keys():\n",
    "    # how many measurements are on this datetime. accumulate in a histogram dictionary\n",
    "    cultivars = s4hand[key]\n",
    "    # check just the first entry.  We are assuming they are all the same width.  This is probably naive, but it will get us something\n",
    "    for cultivar in cultivars:\n",
    "        measurement_width = len(s4hand[key][cultivar].keys())\n",
    "        widths.append(measurement_width)\n",
    "        break\n",
    "print('we found the tuple width of',len(widths), 'different measurements')"
   ]
  },
  {
   "cell_type": "code",
   "execution_count": 78,
   "metadata": {},
   "outputs": [
    {
     "data": {
      "text/plain": [
       "[(3002, 2, 1),\n",
       " (49, 5, 351),\n",
       " (11, 20, 349),\n",
       " (9, 47, 18),\n",
       " (7, 42, 35),\n",
       " (2, 54, 13),\n",
       " (2, 49, 63),\n",
       " (2, 48, 55),\n",
       " (2, 44, 52),\n",
       " (2, 36, 336)]"
      ]
     },
     "execution_count": 78,
     "metadata": {},
     "output_type": "execute_result"
    }
   ],
   "source": [
    "import heapq\n",
    "from itertools import count\n",
    "cnt = count()\n",
    "heap = []\n",
    "for key in histo_date:\n",
    "    heapq.heappush(heap, (histo_date[key], next(cnt), key))\n",
    "#heap\n",
    "heapq.nlargest(10, heap, key=None)"
   ]
  },
  {
   "cell_type": "markdown",
   "metadata": {},
   "source": [
    "it might make more sense to organize the heap with the number of elements first..."
   ]
  },
  {
   "cell_type": "code",
   "execution_count": 81,
   "metadata": {},
   "outputs": [
    {
     "data": {
      "text/plain": [
       "[(351, 5, 49),\n",
       " (349, 20, 11),\n",
       " (346, 50, 1),\n",
       " (344, 22, 2),\n",
       " (341, 29, 1),\n",
       " (339, 13, 1),\n",
       " (337, 26, 1),\n",
       " (336, 36, 2),\n",
       " (334, 38, 1),\n",
       " (333, 55, 1),\n",
       " (332, 24, 2),\n",
       " (331, 39, 1),\n",
       " (329, 21, 1),\n",
       " (328, 56, 1),\n",
       " (326, 37, 1),\n",
       " (324, 35, 2),\n",
       " (318, 28, 1),\n",
       " (313, 6, 1),\n",
       " (304, 57, 1),\n",
       " (296, 8, 2)]"
      ]
     },
     "execution_count": 81,
     "metadata": {},
     "output_type": "execute_result"
    }
   ],
   "source": [
    "import heapq\n",
    "from itertools import count\n",
    "cnt = count()\n",
    "heap = []\n",
    "for key in histo_date:\n",
    "    heapq.heappush(heap, (key,  next(cnt), histo_date[key]))\n",
    "#heap\n",
    "heapq.nlargest(20, heap, key=None)"
   ]
  },
  {
   "cell_type": "markdown",
   "metadata": {},
   "source": [
    "### Extract date regions of consistent measurements"
   ]
  },
  {
   "cell_type": "markdown",
   "metadata": {},
   "source": [
    "Going back to filtering the original event dictionary, lets try to make a dataframe of only the August timeframe (where many hand-made measurements were taken).  There are 4573 entries without filtering. "
   ]
  },
  {
   "cell_type": "code",
   "execution_count": 36,
   "metadata": {},
   "outputs": [
    {
     "name": "stdout",
     "output_type": "stream",
     "text": [
      "949\n"
     ]
    }
   ],
   "source": [
    "augustList = []\n",
    "dateList = []\n",
    "for key in s4hand.keys():\n",
    "    if (key > '2017-08-02 00:00:00') and (key < '2017-08-31 00:00:00'):\n",
    "        cultivar_keys = s4hand[key].keys()\n",
    "        for k in cultivar_keys:\n",
    "            record = s4hand[key][k]\n",
    "            if len(record.keys()) > 30:\n",
    "                #print(key)\n",
    "                #print(record)\n",
    "                #break\n",
    "                record['cultivar_id'] = k\n",
    "                # look up the textual name of the cultivar so we can match against the tree\n",
    "                record['cultivar'] = cultivar_xref[k]\n",
    "                record['date'] = key\n",
    "                # delete columns that are missing data\n",
    "                if 'ECSt' in record:\n",
    "                    del record['ECSt']\n",
    "                if 'gH+' in record:\n",
    "                    del record['gH+']\n",
    "                if 'vH+' in record:\n",
    "                    del record['vH+']\n",
    "                if 'absorbance_420' in record:\n",
    "                    del record['absorbance_420']\n",
    "                if 'absorbance_650' in record:\n",
    "                    del record['absorbance_650']\n",
    "                augustList.append(record)\n",
    "                dateList.append(key)\n",
    "        #break\n",
    "print(len(augustList))"
   ]
  },
  {
   "cell_type": "code",
   "execution_count": 37,
   "metadata": {},
   "outputs": [
    {
     "data": {
      "text/html": [
       "<div>\n",
       "<style scoped>\n",
       "    .dataframe tbody tr th:only-of-type {\n",
       "        vertical-align: middle;\n",
       "    }\n",
       "\n",
       "    .dataframe tbody tr th {\n",
       "        vertical-align: top;\n",
       "    }\n",
       "\n",
       "    .dataframe thead th {\n",
       "        text-align: right;\n",
       "    }\n",
       "</style>\n",
       "<table border=\"1\" class=\"dataframe\">\n",
       "  <thead>\n",
       "    <tr style=\"text-align: right;\">\n",
       "      <th></th>\n",
       "      <th>FmPrime</th>\n",
       "      <th>FoPrime</th>\n",
       "      <th>Fs</th>\n",
       "      <th>FvP/FmP</th>\n",
       "      <th>LEF</th>\n",
       "      <th>NPQt</th>\n",
       "      <th>Phi2</th>\n",
       "      <th>PhiNO</th>\n",
       "      <th>PhiNPQ</th>\n",
       "      <th>RFd</th>\n",
       "      <th>...</th>\n",
       "      <th>leaf_thickness</th>\n",
       "      <th>light_intensity_PAR</th>\n",
       "      <th>pitch</th>\n",
       "      <th>proximal_air_temperature</th>\n",
       "      <th>qL</th>\n",
       "      <th>qP</th>\n",
       "      <th>range</th>\n",
       "      <th>relative_chlorophyll</th>\n",
       "      <th>roll</th>\n",
       "      <th>season</th>\n",
       "    </tr>\n",
       "  </thead>\n",
       "  <tbody>\n",
       "    <tr>\n",
       "      <th>2017-08-28 12:00:00</th>\n",
       "      <td>2986.150</td>\n",
       "      <td>2233.0</td>\n",
       "      <td>2316.8</td>\n",
       "      <td>0.252</td>\n",
       "      <td>157.363</td>\n",
       "      <td>13.480</td>\n",
       "      <td>0.224</td>\n",
       "      <td>0.054</td>\n",
       "      <td>0.722</td>\n",
       "      <td>0.289</td>\n",
       "      <td>...</td>\n",
       "      <td>0.42</td>\n",
       "      <td>1560.0</td>\n",
       "      <td>1.92</td>\n",
       "      <td>44.490002</td>\n",
       "      <td>0.857</td>\n",
       "      <td>0.889</td>\n",
       "      <td>21</td>\n",
       "      <td>34.795411</td>\n",
       "      <td>-2.60</td>\n",
       "      <td>4</td>\n",
       "    </tr>\n",
       "    <tr>\n",
       "      <th>2017-08-28 11:14:00</th>\n",
       "      <td>4181.791</td>\n",
       "      <td>2583.0</td>\n",
       "      <td>3221.0</td>\n",
       "      <td>0.382</td>\n",
       "      <td>158.183</td>\n",
       "      <td>6.886</td>\n",
       "      <td>0.230</td>\n",
       "      <td>0.098</td>\n",
       "      <td>0.673</td>\n",
       "      <td>0.298</td>\n",
       "      <td>...</td>\n",
       "      <td>0.15</td>\n",
       "      <td>1530.0</td>\n",
       "      <td>36.11</td>\n",
       "      <td>43.740002</td>\n",
       "      <td>0.482</td>\n",
       "      <td>0.601</td>\n",
       "      <td>26</td>\n",
       "      <td>49.602294</td>\n",
       "      <td>-39.74</td>\n",
       "      <td>4</td>\n",
       "    </tr>\n",
       "    <tr>\n",
       "      <th>2017-08-28 11:15:00</th>\n",
       "      <td>5116.053</td>\n",
       "      <td>2321.0</td>\n",
       "      <td>3569.2</td>\n",
       "      <td>0.546</td>\n",
       "      <td>177.017</td>\n",
       "      <td>3.051</td>\n",
       "      <td>0.302</td>\n",
       "      <td>0.172</td>\n",
       "      <td>0.525</td>\n",
       "      <td>0.433</td>\n",
       "      <td>...</td>\n",
       "      <td>0.57</td>\n",
       "      <td>1301.0</td>\n",
       "      <td>5.31</td>\n",
       "      <td>43.770000</td>\n",
       "      <td>0.360</td>\n",
       "      <td>0.553</td>\n",
       "      <td>26</td>\n",
       "      <td>46.183556</td>\n",
       "      <td>-17.32</td>\n",
       "      <td>4</td>\n",
       "    </tr>\n",
       "    <tr>\n",
       "      <th>2017-08-28 11:59:00</th>\n",
       "      <td>1902.247</td>\n",
       "      <td>1759.0</td>\n",
       "      <td>1757.1</td>\n",
       "      <td>0.076</td>\n",
       "      <td>53.598</td>\n",
       "      <td>58.729</td>\n",
       "      <td>0.076</td>\n",
       "      <td>0.015</td>\n",
       "      <td>0.908</td>\n",
       "      <td>0.083</td>\n",
       "      <td>...</td>\n",
       "      <td>0.46</td>\n",
       "      <td>1561.0</td>\n",
       "      <td>-1.62</td>\n",
       "      <td>43.950001</td>\n",
       "      <td>1.011</td>\n",
       "      <td>1.010</td>\n",
       "      <td>21</td>\n",
       "      <td>33.009560</td>\n",
       "      <td>-0.90</td>\n",
       "      <td>4</td>\n",
       "    </tr>\n",
       "    <tr>\n",
       "      <th>2017-08-28 12:10:00</th>\n",
       "      <td>1749.371</td>\n",
       "      <td>1476.0</td>\n",
       "      <td>1512.8</td>\n",
       "      <td>0.156</td>\n",
       "      <td>94.147</td>\n",
       "      <td>25.393</td>\n",
       "      <td>0.135</td>\n",
       "      <td>0.033</td>\n",
       "      <td>0.832</td>\n",
       "      <td>0.156</td>\n",
       "      <td>...</td>\n",
       "      <td>1.08</td>\n",
       "      <td>1547.0</td>\n",
       "      <td>12.25</td>\n",
       "      <td>45.700001</td>\n",
       "      <td>0.846</td>\n",
       "      <td>0.867</td>\n",
       "      <td>45</td>\n",
       "      <td>34.042065</td>\n",
       "      <td>11.29</td>\n",
       "      <td>4</td>\n",
       "    </tr>\n",
       "  </tbody>\n",
       "</table>\n",
       "<p>5 rows × 41 columns</p>\n",
       "</div>"
      ],
      "text/plain": [
       "                      FmPrime  FoPrime      Fs  FvP/FmP      LEF    NPQt  \\\n",
       "2017-08-28 12:00:00  2986.150   2233.0  2316.8    0.252  157.363  13.480   \n",
       "2017-08-28 11:14:00  4181.791   2583.0  3221.0    0.382  158.183   6.886   \n",
       "2017-08-28 11:15:00  5116.053   2321.0  3569.2    0.546  177.017   3.051   \n",
       "2017-08-28 11:59:00  1902.247   1759.0  1757.1    0.076   53.598  58.729   \n",
       "2017-08-28 12:10:00  1749.371   1476.0  1512.8    0.156   94.147  25.393   \n",
       "\n",
       "                      Phi2  PhiNO  PhiNPQ    RFd  ...  leaf_thickness  \\\n",
       "2017-08-28 12:00:00  0.224  0.054   0.722  0.289  ...            0.42   \n",
       "2017-08-28 11:14:00  0.230  0.098   0.673  0.298  ...            0.15   \n",
       "2017-08-28 11:15:00  0.302  0.172   0.525  0.433  ...            0.57   \n",
       "2017-08-28 11:59:00  0.076  0.015   0.908  0.083  ...            0.46   \n",
       "2017-08-28 12:10:00  0.135  0.033   0.832  0.156  ...            1.08   \n",
       "\n",
       "                     light_intensity_PAR  pitch  proximal_air_temperature  \\\n",
       "2017-08-28 12:00:00               1560.0   1.92                 44.490002   \n",
       "2017-08-28 11:14:00               1530.0  36.11                 43.740002   \n",
       "2017-08-28 11:15:00               1301.0   5.31                 43.770000   \n",
       "2017-08-28 11:59:00               1561.0  -1.62                 43.950001   \n",
       "2017-08-28 12:10:00               1547.0  12.25                 45.700001   \n",
       "\n",
       "                        qL     qP  range  relative_chlorophyll   roll  season  \n",
       "2017-08-28 12:00:00  0.857  0.889     21             34.795411  -2.60       4  \n",
       "2017-08-28 11:14:00  0.482  0.601     26             49.602294 -39.74       4  \n",
       "2017-08-28 11:15:00  0.360  0.553     26             46.183556 -17.32       4  \n",
       "2017-08-28 11:59:00  1.011  1.010     21             33.009560  -0.90       4  \n",
       "2017-08-28 12:10:00  0.846  0.867     45             34.042065  11.29       4  \n",
       "\n",
       "[5 rows x 41 columns]"
      ]
     },
     "execution_count": 37,
     "metadata": {},
     "output_type": "execute_result"
    }
   ],
   "source": [
    "import pandas as pd\n",
    "august_df = pd.DataFrame(augustList,index=dateList)\n",
    "august_df.head()"
   ]
  },
  {
   "cell_type": "code",
   "execution_count": 38,
   "metadata": {},
   "outputs": [
    {
     "data": {
      "text/plain": [
       "Index(['FmPrime', 'FoPrime', 'Fs', 'FvP/FmP', 'LEF', 'NPQt', 'Phi2', 'PhiNO',\n",
       "       'PhiNPQ', 'RFd', 'SPAD_420', 'SPAD_530', 'SPAD_605', 'SPAD_650',\n",
       "       'SPAD_730', 'SPAD_850', 'SPAD_880', 'absorbance_530', 'absorbance_605',\n",
       "       'absorbance_730', 'absorbance_850', 'absorbance_880', 'absorbance_940',\n",
       "       'ambient_humidity', 'column', 'cultivar', 'cultivar_id', 'date',\n",
       "       'leaf_angle_clamp_position', 'leaf_temperature',\n",
       "       'leaf_temperature_differential', 'leaf_thickness',\n",
       "       'light_intensity_PAR', 'pitch', 'proximal_air_temperature', 'qL', 'qP',\n",
       "       'range', 'relative_chlorophyll', 'roll', 'season'],\n",
       "      dtype='object')"
      ]
     },
     "execution_count": 38,
     "metadata": {},
     "output_type": "execute_result"
    }
   ],
   "source": [
    "august_df.columns"
   ]
  },
  {
   "cell_type": "code",
   "execution_count": 39,
   "metadata": {},
   "outputs": [
    {
     "data": {
      "text/plain": [
       "2017-08-28 12:00:00    PI570373\n",
       "2017-08-28 11:14:00    PI511355\n",
       "2017-08-28 11:15:00    PI511355\n",
       "2017-08-28 11:59:00    PI570373\n",
       "2017-08-28 12:10:00    PI570373\n",
       "2017-08-28 12:12:00    PI570373\n",
       "2017-08-28 12:17:00    PI570254\n",
       "2017-08-28 12:20:00    PI570254\n",
       "2017-08-28 12:30:00    PI570254\n",
       "2017-08-28 12:31:00    PI570254\n",
       "2017-08-28 12:32:00    PI570254\n",
       "2017-08-28 12:39:00    PI651491\n",
       "2017-08-28 12:40:00    PI651491\n",
       "2017-08-28 13:13:00    PI511355\n",
       "2017-08-28 13:15:00    PI511355\n",
       "2017-08-28 13:16:00    PI511355\n",
       "2017-08-28 13:23:00    PI570254\n",
       "2017-08-28 13:25:00    PI570254\n",
       "2017-08-28 13:26:00    PI570254\n",
       "2017-08-28 13:39:00    PI570254\n",
       "2017-08-28 13:40:00    PI570254\n",
       "2017-08-28 13:41:00    PI570254\n",
       "2017-08-28 13:46:00    PI570373\n",
       "2017-08-28 13:47:00    PI570373\n",
       "2017-08-28 13:48:00    PI570373\n",
       "2017-08-28 13:56:00    PI570373\n",
       "2017-08-28 14:19:00    PI651491\n",
       "2017-08-28 14:21:00    PI651491\n",
       "2017-08-28 14:22:00    PI651491\n",
       "2017-08-28 14:25:00    PI511355\n",
       "                         ...   \n",
       "2017-08-09 10:39:00    PI511355\n",
       "2017-08-09 10:38:00    PI511355\n",
       "2017-08-09 11:09:00    PI651491\n",
       "2017-08-09 11:10:00    PI651491\n",
       "2017-08-09 11:12:00    PI651491\n",
       "2017-08-09 11:13:00    PI651491\n",
       "2017-08-09 11:19:00    PI570254\n",
       "2017-08-09 11:33:00    PI570254\n",
       "2017-08-09 11:35:00    PI570254\n",
       "2017-08-09 12:01:00    PI651491\n",
       "2017-08-09 12:04:00    PI651491\n",
       "2017-08-09 12:05:00    PI651491\n",
       "2017-08-09 12:12:00    PI511355\n",
       "2017-08-09 12:15:00    PI511355\n",
       "2017-08-09 12:23:00    PI570254\n",
       "2017-08-09 12:41:00    PI570254\n",
       "2017-08-09 12:42:00    PI570254\n",
       "2017-08-09 13:10:00    PI651491\n",
       "2017-08-09 13:13:00    PI651491\n",
       "2017-08-09 13:18:00    PI511355\n",
       "2017-08-09 13:29:00    PI570254\n",
       "2017-08-09 13:30:00    PI570254\n",
       "2017-08-09 13:31:00    PI570254\n",
       "2017-08-09 13:41:00    PI570254\n",
       "2017-08-09 13:44:00    PI585454\n",
       "2017-08-09 13:45:00    PI585454\n",
       "2017-08-09 13:46:00    PI585454\n",
       "2017-08-09 13:49:00    PI585454\n",
       "2017-08-09 13:55:00    PI585454\n",
       "2017-08-09 13:57:00    PI585454\n",
       "Name: cultivar, Length: 949, dtype: object"
      ]
     },
     "execution_count": 39,
     "metadata": {},
     "output_type": "execute_result"
    }
   ],
   "source": [
    "august_df['cultivar']"
   ]
  },
  {
   "cell_type": "code",
   "execution_count": 40,
   "metadata": {},
   "outputs": [],
   "source": [
    "august_df.to_csv(\"s4_august_by_hand_30plus.csv\",index=False)"
   ]
  },
  {
   "cell_type": "markdown",
   "metadata": {},
   "source": [
    "Go back and look at the records during this period that have fewer entries:"
   ]
  },
  {
   "cell_type": "code",
   "execution_count": 173,
   "metadata": {},
   "outputs": [
    {
     "name": "stdout",
     "output_type": "stream",
     "text": [
      "533\n"
     ]
    }
   ],
   "source": [
    "augustListSmall = []\n",
    "dateListSmall = []\n",
    "for key in s4hand.keys():\n",
    "    if (key > '2017-08-02 00:00:00') and (key < '2017-08-31 00:00:00'):\n",
    "        cultivar_keys = s4hand[key].keys()\n",
    "        for k in cultivar_keys:\n",
    "            record = s4hand[key][k]\n",
    "            if len(record.keys()) == 9:\n",
    "                #print(key)\n",
    "                #print(record)\n",
    "                #break\n",
    "                record['cultivar'] = k\n",
    "                record['date'] = key\n",
    "                # delete columns that are missing data\n",
    "                if 'ECSt' in record:\n",
    "                    del record['ECSt']\n",
    "                if 'gH+' in record:\n",
    "                    del record['gH+']\n",
    "                if 'flavonol_index' in record:\n",
    "                    del record['flavonol_index']\n",
    "                if 'NBI_nitrogen_balance_index' in record:\n",
    "                    del record['NBI_nitrogen_balance_index']\n",
    "                if 'chlorophyll_index' in record:\n",
    "                    del record['chlorophyll_index']\n",
    "                if 'absorbance_730' not in record:\n",
    "                    augustListSmall.append(record)\n",
    "                    dateListSmall.append(key)\n",
    "        #break\n",
    "print(len(augustListSmall))"
   ]
  },
  {
   "cell_type": "code",
   "execution_count": 174,
   "metadata": {},
   "outputs": [
    {
     "data": {
      "text/html": [
       "<div>\n",
       "<style scoped>\n",
       "    .dataframe tbody tr th:only-of-type {\n",
       "        vertical-align: middle;\n",
       "    }\n",
       "\n",
       "    .dataframe tbody tr th {\n",
       "        vertical-align: top;\n",
       "    }\n",
       "\n",
       "    .dataframe thead th {\n",
       "        text-align: right;\n",
       "    }\n",
       "</style>\n",
       "<table border=\"1\" class=\"dataframe\">\n",
       "  <thead>\n",
       "    <tr style=\"text-align: right;\">\n",
       "      <th></th>\n",
       "      <th>column</th>\n",
       "      <th>cultivar</th>\n",
       "      <th>cultivar_id</th>\n",
       "      <th>date</th>\n",
       "      <th>panicle_count</th>\n",
       "      <th>panicle_surface_area</th>\n",
       "      <th>panicle_volume</th>\n",
       "      <th>range</th>\n",
       "      <th>season</th>\n",
       "    </tr>\n",
       "  </thead>\n",
       "  <tbody>\n",
       "    <tr>\n",
       "      <th>2017-08-21 12:00:00</th>\n",
       "      <td>12</td>\n",
       "      <td>6000001059</td>\n",
       "      <td>6000001059</td>\n",
       "      <td>2017-08-21 12:00:00</td>\n",
       "      <td>8.0</td>\n",
       "      <td>16033.582107</td>\n",
       "      <td>99161.303913</td>\n",
       "      <td>14</td>\n",
       "      <td>4</td>\n",
       "    </tr>\n",
       "    <tr>\n",
       "      <th>2017-08-21 12:00:00</th>\n",
       "      <td>6</td>\n",
       "      <td>6000000214</td>\n",
       "      <td>6000000214</td>\n",
       "      <td>2017-08-21 12:00:00</td>\n",
       "      <td>4.0</td>\n",
       "      <td>8154.624339</td>\n",
       "      <td>37914.725971</td>\n",
       "      <td>15</td>\n",
       "      <td>4</td>\n",
       "    </tr>\n",
       "    <tr>\n",
       "      <th>2017-08-21 12:00:00</th>\n",
       "      <td>10</td>\n",
       "      <td>6000000919</td>\n",
       "      <td>6000000919</td>\n",
       "      <td>2017-08-21 12:00:00</td>\n",
       "      <td>5.0</td>\n",
       "      <td>20663.535212</td>\n",
       "      <td>160338.920662</td>\n",
       "      <td>17</td>\n",
       "      <td>4</td>\n",
       "    </tr>\n",
       "    <tr>\n",
       "      <th>2017-08-21 12:00:00</th>\n",
       "      <td>6</td>\n",
       "      <td>6000000739</td>\n",
       "      <td>6000000739</td>\n",
       "      <td>2017-08-21 12:00:00</td>\n",
       "      <td>46.0</td>\n",
       "      <td>11581.658116</td>\n",
       "      <td>72110.068074</td>\n",
       "      <td>18</td>\n",
       "      <td>4</td>\n",
       "    </tr>\n",
       "    <tr>\n",
       "      <th>2017-08-21 12:00:00</th>\n",
       "      <td>7</td>\n",
       "      <td>6000000945</td>\n",
       "      <td>6000000945</td>\n",
       "      <td>2017-08-21 12:00:00</td>\n",
       "      <td>16.0</td>\n",
       "      <td>19284.814669</td>\n",
       "      <td>165901.952211</td>\n",
       "      <td>18</td>\n",
       "      <td>4</td>\n",
       "    </tr>\n",
       "  </tbody>\n",
       "</table>\n",
       "</div>"
      ],
      "text/plain": [
       "                     column    cultivar  cultivar_id                 date  \\\n",
       "2017-08-21 12:00:00      12  6000001059   6000001059  2017-08-21 12:00:00   \n",
       "2017-08-21 12:00:00       6  6000000214   6000000214  2017-08-21 12:00:00   \n",
       "2017-08-21 12:00:00      10  6000000919   6000000919  2017-08-21 12:00:00   \n",
       "2017-08-21 12:00:00       6  6000000739   6000000739  2017-08-21 12:00:00   \n",
       "2017-08-21 12:00:00       7  6000000945   6000000945  2017-08-21 12:00:00   \n",
       "\n",
       "                     panicle_count  panicle_surface_area  panicle_volume  \\\n",
       "2017-08-21 12:00:00            8.0          16033.582107    99161.303913   \n",
       "2017-08-21 12:00:00            4.0           8154.624339    37914.725971   \n",
       "2017-08-21 12:00:00            5.0          20663.535212   160338.920662   \n",
       "2017-08-21 12:00:00           46.0          11581.658116    72110.068074   \n",
       "2017-08-21 12:00:00           16.0          19284.814669   165901.952211   \n",
       "\n",
       "                     range  season  \n",
       "2017-08-21 12:00:00     14       4  \n",
       "2017-08-21 12:00:00     15       4  \n",
       "2017-08-21 12:00:00     17       4  \n",
       "2017-08-21 12:00:00     18       4  \n",
       "2017-08-21 12:00:00     18       4  "
      ]
     },
     "execution_count": 174,
     "metadata": {},
     "output_type": "execute_result"
    }
   ],
   "source": [
    "import pandas as pd\n",
    "august_short_df = pd.DataFrame(augustListSmall,index=dateListSmall)\n",
    "august_short_df.head()"
   ]
  },
  {
   "cell_type": "code",
   "execution_count": 175,
   "metadata": {},
   "outputs": [
    {
     "data": {
      "text/plain": [
       "Index(['column', 'cultivar', 'cultivar_id', 'date', 'panicle_count',\n",
       "       'panicle_surface_area', 'panicle_volume', 'range', 'season'],\n",
       "      dtype='object')"
      ]
     },
     "execution_count": 175,
     "metadata": {},
     "output_type": "execute_result"
    }
   ],
   "source": [
    "august_short_df.columns"
   ]
  },
  {
   "cell_type": "code",
   "execution_count": 176,
   "metadata": {},
   "outputs": [],
   "source": [
    "august_short_df.to_csv(\"s4_august_by_hand_panicle.csv\",index=False)"
   ]
  },
  {
   "cell_type": "code",
   "execution_count": null,
   "metadata": {},
   "outputs": [],
   "source": []
  },
  {
   "cell_type": "code",
   "execution_count": 41,
   "metadata": {},
   "outputs": [
    {
     "name": "stdout",
     "output_type": "stream",
     "text": [
      "1531\n"
     ]
    }
   ],
   "source": [
    "augustListSmall = []\n",
    "dateListSmall = []\n",
    "for key in s4hand.keys():\n",
    "    if (key > '2017-08-02 00:00:00') and (key < '2017-08-31 00:00:00'):\n",
    "        cultivar_keys = s4hand[key].keys()\n",
    "        for k in cultivar_keys:\n",
    "            record = s4hand[key][k]\n",
    "            if 'canopy_height' in record and ('leaf_angle_alpha' in record):\n",
    "                #print(key)\n",
    "                #print(record)\n",
    "                #break\n",
    "                # delete columns that are missing data\n",
    "                if 'panicle_count' in record:\n",
    "                    del record['panicle_count']\n",
    "                if 'panicle_surface_area' in record:\n",
    "                    del record['panicle_surface_area']\n",
    "                if 'panicle_volume' in record:\n",
    "                    del record['panicle_volume']\n",
    "                if 'surface_temperature' in record:\n",
    "                    del record['surface_temperature']\n",
    "                if 'chlorophyll_index' in record:\n",
    "                    del record['chlorophyll_index']\n",
    "                if 'absorbance_730' not in record:\n",
    "                    augustListSmall.append(record)\n",
    "                    dateListSmall.append(key)\n",
    "        #break\n",
    "print(len(augustListSmall))"
   ]
  },
  {
   "cell_type": "code",
   "execution_count": 42,
   "metadata": {},
   "outputs": [
    {
     "data": {
      "text/html": [
       "<div>\n",
       "<style scoped>\n",
       "    .dataframe tbody tr th:only-of-type {\n",
       "        vertical-align: middle;\n",
       "    }\n",
       "\n",
       "    .dataframe tbody tr th {\n",
       "        vertical-align: top;\n",
       "    }\n",
       "\n",
       "    .dataframe thead th {\n",
       "        text-align: right;\n",
       "    }\n",
       "</style>\n",
       "<table border=\"1\" class=\"dataframe\">\n",
       "  <thead>\n",
       "    <tr style=\"text-align: right;\">\n",
       "      <th></th>\n",
       "      <th>canopy_height</th>\n",
       "      <th>column</th>\n",
       "      <th>cultivar</th>\n",
       "      <th>cultivar_id</th>\n",
       "      <th>leaf_angle_alpha</th>\n",
       "      <th>leaf_angle_beta</th>\n",
       "      <th>leaf_angle_chi</th>\n",
       "      <th>leaf_angle_mean</th>\n",
       "      <th>range</th>\n",
       "      <th>season</th>\n",
       "    </tr>\n",
       "  </thead>\n",
       "  <tbody>\n",
       "    <tr>\n",
       "      <th>2017-08-21 12:00:00</th>\n",
       "      <td>347.0</td>\n",
       "      <td>12</td>\n",
       "      <td>Big_Kahuna</td>\n",
       "      <td>6000001055</td>\n",
       "      <td>1.647406</td>\n",
       "      <td>1.380916</td>\n",
       "      <td>1.744574</td>\n",
       "      <td>0.459114</td>\n",
       "      <td>54</td>\n",
       "      <td>4</td>\n",
       "    </tr>\n",
       "    <tr>\n",
       "      <th>2017-08-21 12:00:00</th>\n",
       "      <td>342.0</td>\n",
       "      <td>9</td>\n",
       "      <td>SP1615</td>\n",
       "      <td>6000001054</td>\n",
       "      <td>1.929799</td>\n",
       "      <td>1.585717</td>\n",
       "      <td>1.681774</td>\n",
       "      <td>0.466760</td>\n",
       "      <td>53</td>\n",
       "      <td>4</td>\n",
       "    </tr>\n",
       "    <tr>\n",
       "      <th>2017-08-22 12:00:00</th>\n",
       "      <td>329.0</td>\n",
       "      <td>6</td>\n",
       "      <td>PI302252</td>\n",
       "      <td>6000000552</td>\n",
       "      <td>1.882103</td>\n",
       "      <td>1.399877</td>\n",
       "      <td>1.874146</td>\n",
       "      <td>0.437437</td>\n",
       "      <td>4</td>\n",
       "      <td>4</td>\n",
       "    </tr>\n",
       "    <tr>\n",
       "      <th>2017-08-22 12:00:00</th>\n",
       "      <td>338.0</td>\n",
       "      <td>7</td>\n",
       "      <td>PI156217</td>\n",
       "      <td>6000000710</td>\n",
       "      <td>1.565166</td>\n",
       "      <td>1.350248</td>\n",
       "      <td>1.717977</td>\n",
       "      <td>0.468847</td>\n",
       "      <td>4</td>\n",
       "      <td>4</td>\n",
       "    </tr>\n",
       "    <tr>\n",
       "      <th>2017-08-22 12:00:00</th>\n",
       "      <td>287.0</td>\n",
       "      <td>13</td>\n",
       "      <td>PI643008</td>\n",
       "      <td>6000001009</td>\n",
       "      <td>1.147330</td>\n",
       "      <td>1.119141</td>\n",
       "      <td>1.732140</td>\n",
       "      <td>0.479783</td>\n",
       "      <td>6</td>\n",
       "      <td>4</td>\n",
       "    </tr>\n",
       "  </tbody>\n",
       "</table>\n",
       "</div>"
      ],
      "text/plain": [
       "                     canopy_height  column    cultivar  cultivar_id  \\\n",
       "2017-08-21 12:00:00          347.0      12  Big_Kahuna   6000001055   \n",
       "2017-08-21 12:00:00          342.0       9      SP1615   6000001054   \n",
       "2017-08-22 12:00:00          329.0       6    PI302252   6000000552   \n",
       "2017-08-22 12:00:00          338.0       7    PI156217   6000000710   \n",
       "2017-08-22 12:00:00          287.0      13    PI643008   6000001009   \n",
       "\n",
       "                     leaf_angle_alpha  leaf_angle_beta  leaf_angle_chi  \\\n",
       "2017-08-21 12:00:00          1.647406         1.380916        1.744574   \n",
       "2017-08-21 12:00:00          1.929799         1.585717        1.681774   \n",
       "2017-08-22 12:00:00          1.882103         1.399877        1.874146   \n",
       "2017-08-22 12:00:00          1.565166         1.350248        1.717977   \n",
       "2017-08-22 12:00:00          1.147330         1.119141        1.732140   \n",
       "\n",
       "                     leaf_angle_mean  range  season  \n",
       "2017-08-21 12:00:00         0.459114     54       4  \n",
       "2017-08-21 12:00:00         0.466760     53       4  \n",
       "2017-08-22 12:00:00         0.437437      4       4  \n",
       "2017-08-22 12:00:00         0.468847      4       4  \n",
       "2017-08-22 12:00:00         0.479783      6       4  "
      ]
     },
     "execution_count": 42,
     "metadata": {},
     "output_type": "execute_result"
    }
   ],
   "source": [
    "import pandas as pd\n",
    "august_short_df = pd.DataFrame(augustListSmall,index=dateListSmall)\n",
    "august_short_df.head()"
   ]
  },
  {
   "cell_type": "code",
   "execution_count": 44,
   "metadata": {},
   "outputs": [
    {
     "data": {
      "text/html": [
       "<div>\n",
       "<style scoped>\n",
       "    .dataframe tbody tr th:only-of-type {\n",
       "        vertical-align: middle;\n",
       "    }\n",
       "\n",
       "    .dataframe tbody tr th {\n",
       "        vertical-align: top;\n",
       "    }\n",
       "\n",
       "    .dataframe thead th {\n",
       "        text-align: right;\n",
       "    }\n",
       "</style>\n",
       "<table border=\"1\" class=\"dataframe\">\n",
       "  <thead>\n",
       "    <tr style=\"text-align: right;\">\n",
       "      <th></th>\n",
       "      <th>Column_Name</th>\n",
       "      <th>Num_Unique</th>\n",
       "    </tr>\n",
       "  </thead>\n",
       "  <tbody>\n",
       "    <tr>\n",
       "      <th>9</th>\n",
       "      <td>season</td>\n",
       "      <td>1</td>\n",
       "    </tr>\n",
       "    <tr>\n",
       "      <th>1</th>\n",
       "      <td>column</td>\n",
       "      <td>15</td>\n",
       "    </tr>\n",
       "    <tr>\n",
       "      <th>8</th>\n",
       "      <td>range</td>\n",
       "      <td>53</td>\n",
       "    </tr>\n",
       "    <tr>\n",
       "      <th>0</th>\n",
       "      <td>canopy_height</td>\n",
       "      <td>148</td>\n",
       "    </tr>\n",
       "    <tr>\n",
       "      <th>2</th>\n",
       "      <td>cultivar</td>\n",
       "      <td>273</td>\n",
       "    </tr>\n",
       "    <tr>\n",
       "      <th>3</th>\n",
       "      <td>cultivar_id</td>\n",
       "      <td>273</td>\n",
       "    </tr>\n",
       "    <tr>\n",
       "      <th>5</th>\n",
       "      <td>leaf_angle_beta</td>\n",
       "      <td>1530</td>\n",
       "    </tr>\n",
       "    <tr>\n",
       "      <th>6</th>\n",
       "      <td>leaf_angle_chi</td>\n",
       "      <td>1530</td>\n",
       "    </tr>\n",
       "    <tr>\n",
       "      <th>4</th>\n",
       "      <td>leaf_angle_alpha</td>\n",
       "      <td>1531</td>\n",
       "    </tr>\n",
       "    <tr>\n",
       "      <th>7</th>\n",
       "      <td>leaf_angle_mean</td>\n",
       "      <td>1531</td>\n",
       "    </tr>\n",
       "  </tbody>\n",
       "</table>\n",
       "</div>"
      ],
      "text/plain": [
       "        Column_Name  Num_Unique\n",
       "9            season           1\n",
       "1            column          15\n",
       "8             range          53\n",
       "0     canopy_height         148\n",
       "2          cultivar         273\n",
       "3       cultivar_id         273\n",
       "5   leaf_angle_beta        1530\n",
       "6    leaf_angle_chi        1530\n",
       "4  leaf_angle_alpha        1531\n",
       "7   leaf_angle_mean        1531"
      ]
     },
     "execution_count": 44,
     "metadata": {},
     "output_type": "execute_result"
    }
   ],
   "source": [
    "returnUniqueCounts(august_short_df)"
   ]
  },
  {
   "cell_type": "code",
   "execution_count": 45,
   "metadata": {},
   "outputs": [],
   "source": [
    "august_short_df.to_csv(\"s4_august_by_hand_leaf.csv\",index=False)"
   ]
  },
  {
   "cell_type": "code",
   "execution_count": 187,
   "metadata": {},
   "outputs": [
    {
     "name": "stdout",
     "output_type": "stream",
     "text": [
      "0\n"
     ]
    }
   ],
   "source": [
    "augustListSmall = []\n",
    "dateListSmall = []\n",
    "for key in s4hand.keys():\n",
    "    if (key > '2017-08-02 00:00:00') and (key < '2017-08-31 00:00:00'):\n",
    "        cultivar_keys = s4hand[key].keys()\n",
    "        for k in cultivar_keys:\n",
    "            record = s4hand[key][k]\n",
    "            if ('canopy_height' in record) and ('leaf_angle_alpha' in record) and ('panicle_count' in record):\n",
    "                #print(key)\n",
    "                #print(record)\n",
    "                #break\n",
    "                # delete columns that are missing data\n",
    "                if 'surface_temperature' in record:\n",
    "                    del record['surface_temperature']\n",
    "                if 'chlorophyll_index' in record:\n",
    "                    del record['chlorophyll_index']\n",
    "                if 'absorbance_730' in record:\n",
    "                    del record['chlorophyll_index']\n",
    "                augustListSmall.append(record)\n",
    "                dateListSmall.append(key)\n",
    "        #break\n",
    "print(len(augustListSmall))"
   ]
  },
  {
   "cell_type": "markdown",
   "metadata": {},
   "source": [
    "So there aren't any entries during August that have both panicle data and leaf data in the same measurement.  These are probably listed under different datetime values...sigh.  Pivot back to the full dataset and extract as many full tuples as possible..."
   ]
  },
  {
   "cell_type": "code",
   "execution_count": 9,
   "metadata": {},
   "outputs": [
    {
     "name": "stdout",
     "output_type": "stream",
     "text": [
      "9441\n"
     ]
    },
    {
     "data": {
      "text/html": [
       "<div>\n",
       "<style scoped>\n",
       "    .dataframe tbody tr th:only-of-type {\n",
       "        vertical-align: middle;\n",
       "    }\n",
       "\n",
       "    .dataframe tbody tr th {\n",
       "        vertical-align: top;\n",
       "    }\n",
       "\n",
       "    .dataframe thead th {\n",
       "        text-align: right;\n",
       "    }\n",
       "</style>\n",
       "<table border=\"1\" class=\"dataframe\">\n",
       "  <thead>\n",
       "    <tr style=\"text-align: right;\">\n",
       "      <th></th>\n",
       "      <th>canopy_height</th>\n",
       "      <th>column</th>\n",
       "      <th>cultivar</th>\n",
       "      <th>date</th>\n",
       "      <th>leaf_angle_alpha</th>\n",
       "      <th>leaf_angle_beta</th>\n",
       "      <th>leaf_angle_chi</th>\n",
       "      <th>leaf_angle_mean</th>\n",
       "      <th>range</th>\n",
       "      <th>season</th>\n",
       "    </tr>\n",
       "  </thead>\n",
       "  <tbody>\n",
       "    <tr>\n",
       "      <th>2017-05-13 12:00:00</th>\n",
       "      <td>15.0</td>\n",
       "      <td>2</td>\n",
       "      <td>6000000836</td>\n",
       "      <td>2017-05-13 12:00:00</td>\n",
       "      <td>2.695956</td>\n",
       "      <td>1.977380</td>\n",
       "      <td>1.756464</td>\n",
       "      <td>0.435924</td>\n",
       "      <td>43</td>\n",
       "      <td>4</td>\n",
       "    </tr>\n",
       "    <tr>\n",
       "      <th>2017-05-13 12:00:00</th>\n",
       "      <td>15.0</td>\n",
       "      <td>15</td>\n",
       "      <td>6000000462</td>\n",
       "      <td>2017-05-13 12:00:00</td>\n",
       "      <td>3.265980</td>\n",
       "      <td>2.018623</td>\n",
       "      <td>1.941012</td>\n",
       "      <td>0.396782</td>\n",
       "      <td>35</td>\n",
       "      <td>4</td>\n",
       "    </tr>\n",
       "    <tr>\n",
       "      <th>2017-05-13 12:00:00</th>\n",
       "      <td>19.0</td>\n",
       "      <td>2</td>\n",
       "      <td>6000000751</td>\n",
       "      <td>2017-05-13 12:00:00</td>\n",
       "      <td>2.159610</td>\n",
       "      <td>1.809209</td>\n",
       "      <td>1.638744</td>\n",
       "      <td>0.471944</td>\n",
       "      <td>42</td>\n",
       "      <td>4</td>\n",
       "    </tr>\n",
       "    <tr>\n",
       "      <th>2017-05-13 12:00:00</th>\n",
       "      <td>13.0</td>\n",
       "      <td>4</td>\n",
       "      <td>6000000916</td>\n",
       "      <td>2017-05-13 12:00:00</td>\n",
       "      <td>3.042180</td>\n",
       "      <td>2.198751</td>\n",
       "      <td>1.732985</td>\n",
       "      <td>0.444099</td>\n",
       "      <td>30</td>\n",
       "      <td>4</td>\n",
       "    </tr>\n",
       "    <tr>\n",
       "      <th>2017-05-15 12:00:00</th>\n",
       "      <td>17.0</td>\n",
       "      <td>2</td>\n",
       "      <td>6000000976</td>\n",
       "      <td>2017-05-15 12:00:00</td>\n",
       "      <td>2.305345</td>\n",
       "      <td>1.872028</td>\n",
       "      <td>1.665387</td>\n",
       "      <td>0.462600</td>\n",
       "      <td>45</td>\n",
       "      <td>4</td>\n",
       "    </tr>\n",
       "  </tbody>\n",
       "</table>\n",
       "</div>"
      ],
      "text/plain": [
       "                     canopy_height  column    cultivar                 date  \\\n",
       "2017-05-13 12:00:00           15.0       2  6000000836  2017-05-13 12:00:00   \n",
       "2017-05-13 12:00:00           15.0      15  6000000462  2017-05-13 12:00:00   \n",
       "2017-05-13 12:00:00           19.0       2  6000000751  2017-05-13 12:00:00   \n",
       "2017-05-13 12:00:00           13.0       4  6000000916  2017-05-13 12:00:00   \n",
       "2017-05-15 12:00:00           17.0       2  6000000976  2017-05-15 12:00:00   \n",
       "\n",
       "                     leaf_angle_alpha  leaf_angle_beta  leaf_angle_chi  \\\n",
       "2017-05-13 12:00:00          2.695956         1.977380        1.756464   \n",
       "2017-05-13 12:00:00          3.265980         2.018623        1.941012   \n",
       "2017-05-13 12:00:00          2.159610         1.809209        1.638744   \n",
       "2017-05-13 12:00:00          3.042180         2.198751        1.732985   \n",
       "2017-05-15 12:00:00          2.305345         1.872028        1.665387   \n",
       "\n",
       "                     leaf_angle_mean  range  season  \n",
       "2017-05-13 12:00:00         0.435924     43       4  \n",
       "2017-05-13 12:00:00         0.396782     35       4  \n",
       "2017-05-13 12:00:00         0.471944     42       4  \n",
       "2017-05-13 12:00:00         0.444099     30       4  \n",
       "2017-05-15 12:00:00         0.462600     45       4  "
      ]
     },
     "execution_count": 9,
     "metadata": {},
     "output_type": "execute_result"
    }
   ],
   "source": [
    "augustListFull = []\n",
    "dateListFull = []\n",
    "for key in s4hand.keys():\n",
    "    cultivar_keys = s4hand[key].keys()\n",
    "    for k in cultivar_keys:\n",
    "        record = s4hand[key][k]\n",
    "        if ('canopy_height' in record) and ('leaf_angle_alpha' in record) and ('leaf_angle_beta' in record):\n",
    "            record['cultivar'] = k\n",
    "            record['date'] = key\n",
    "            #print(key)\n",
    "            #print(record)\n",
    "            #break\n",
    "            # delete columns that are missing data\n",
    "            if 'panicle_count' in record:\n",
    "                del record['panicle_count']\n",
    "            if 'panicle_surface_area' in record:\n",
    "                del record['panicle_surface_area']\n",
    "            if 'panicle_volume' in record:\n",
    "                del record['panicle_volume']\n",
    "            if 'surface_temperature' in record:\n",
    "                del record['surface_temperature']\n",
    "            if 'chlorophyll_index' in record:\n",
    "                del record['chlorophyll_index']\n",
    "            if 'leaf_temperature' in record:\n",
    "                del record['leaf_temperature']\n",
    "            if 'absorbance_730' in record:\n",
    "                del record['chlorophyll_index']\n",
    "            if 'cultivar_id' in record:\n",
    "                del record['cultivar_id']\n",
    "            augustListFull.append(record)\n",
    "            dateListFull.append(key)\n",
    "        #break\n",
    "print(len(augustListFull))\n",
    "\n",
    "full_df = pd.DataFrame(augustListFull,index=dateListFull)\n",
    "full_df.head()"
   ]
  },
  {
   "cell_type": "code",
   "execution_count": 27,
   "metadata": {},
   "outputs": [
    {
     "data": {
      "text/html": [
       "<div>\n",
       "<style scoped>\n",
       "    .dataframe tbody tr th:only-of-type {\n",
       "        vertical-align: middle;\n",
       "    }\n",
       "\n",
       "    .dataframe tbody tr th {\n",
       "        vertical-align: top;\n",
       "    }\n",
       "\n",
       "    .dataframe thead th {\n",
       "        text-align: right;\n",
       "    }\n",
       "</style>\n",
       "<table border=\"1\" class=\"dataframe\">\n",
       "  <thead>\n",
       "    <tr style=\"text-align: right;\">\n",
       "      <th></th>\n",
       "      <th>canopy_height</th>\n",
       "      <th>column</th>\n",
       "      <th>cultivar</th>\n",
       "      <th>leaf_angle_alpha</th>\n",
       "      <th>leaf_angle_beta</th>\n",
       "      <th>leaf_angle_chi</th>\n",
       "      <th>leaf_angle_mean</th>\n",
       "      <th>range</th>\n",
       "      <th>season</th>\n",
       "      <th>day_offset</th>\n",
       "    </tr>\n",
       "  </thead>\n",
       "  <tbody>\n",
       "    <tr>\n",
       "      <th>count</th>\n",
       "      <td>9441.000000</td>\n",
       "      <td>9441.000000</td>\n",
       "      <td>9.441000e+03</td>\n",
       "      <td>9441.000000</td>\n",
       "      <td>9441.000000</td>\n",
       "      <td>9441.000000</td>\n",
       "      <td>9441.000000</td>\n",
       "      <td>9441.000000</td>\n",
       "      <td>9441.0</td>\n",
       "      <td>9441</td>\n",
       "    </tr>\n",
       "    <tr>\n",
       "      <th>mean</th>\n",
       "      <td>197.719203</td>\n",
       "      <td>8.541468</td>\n",
       "      <td>6.000001e+09</td>\n",
       "      <td>2.903153</td>\n",
       "      <td>1.825797</td>\n",
       "      <td>1.908666</td>\n",
       "      <td>0.419339</td>\n",
       "      <td>30.267027</td>\n",
       "      <td>4.0</td>\n",
       "      <td>56 days 22:01:56.682554</td>\n",
       "    </tr>\n",
       "    <tr>\n",
       "      <th>std</th>\n",
       "      <td>96.712778</td>\n",
       "      <td>4.004024</td>\n",
       "      <td>2.002971e+02</td>\n",
       "      <td>1.076542</td>\n",
       "      <td>0.321239</td>\n",
       "      <td>0.243674</td>\n",
       "      <td>0.052055</td>\n",
       "      <td>14.455791</td>\n",
       "      <td>0.0</td>\n",
       "      <td>27 days 09:36:26.746864</td>\n",
       "    </tr>\n",
       "    <tr>\n",
       "      <th>min</th>\n",
       "      <td>12.000000</td>\n",
       "      <td>1.000000</td>\n",
       "      <td>6.000000e+09</td>\n",
       "      <td>0.756692</td>\n",
       "      <td>0.977342</td>\n",
       "      <td>0.756736</td>\n",
       "      <td>0.246258</td>\n",
       "      <td>2.000000</td>\n",
       "      <td>4.0</td>\n",
       "      <td>12 days 00:00:00</td>\n",
       "    </tr>\n",
       "    <tr>\n",
       "      <th>25%</th>\n",
       "      <td>114.000000</td>\n",
       "      <td>5.000000</td>\n",
       "      <td>6.000001e+09</td>\n",
       "      <td>2.103990</td>\n",
       "      <td>1.590333</td>\n",
       "      <td>1.767434</td>\n",
       "      <td>0.386807</td>\n",
       "      <td>18.000000</td>\n",
       "      <td>4.0</td>\n",
       "      <td>36 days 00:00:00</td>\n",
       "    </tr>\n",
       "    <tr>\n",
       "      <th>50%</th>\n",
       "      <td>208.000000</td>\n",
       "      <td>9.000000</td>\n",
       "      <td>6.000001e+09</td>\n",
       "      <td>2.846314</td>\n",
       "      <td>1.817881</td>\n",
       "      <td>1.906026</td>\n",
       "      <td>0.416412</td>\n",
       "      <td>32.000000</td>\n",
       "      <td>4.0</td>\n",
       "      <td>55 days 00:00:00</td>\n",
       "    </tr>\n",
       "    <tr>\n",
       "      <th>75%</th>\n",
       "      <td>271.000000</td>\n",
       "      <td>12.000000</td>\n",
       "      <td>6.000001e+09</td>\n",
       "      <td>3.540884</td>\n",
       "      <td>2.040797</td>\n",
       "      <td>2.048274</td>\n",
       "      <td>0.449578</td>\n",
       "      <td>43.000000</td>\n",
       "      <td>4.0</td>\n",
       "      <td>65 days 00:00:00</td>\n",
       "    </tr>\n",
       "    <tr>\n",
       "      <th>max</th>\n",
       "      <td>412.000000</td>\n",
       "      <td>16.000000</td>\n",
       "      <td>6.000001e+09</td>\n",
       "      <td>8.647608</td>\n",
       "      <td>4.171909</td>\n",
       "      <td>4.768680</td>\n",
       "      <td>0.684988</td>\n",
       "      <td>54.000000</td>\n",
       "      <td>4.0</td>\n",
       "      <td>121 days 00:00:00</td>\n",
       "    </tr>\n",
       "  </tbody>\n",
       "</table>\n",
       "</div>"
      ],
      "text/plain": [
       "       canopy_height       column      cultivar  leaf_angle_alpha  \\\n",
       "count    9441.000000  9441.000000  9.441000e+03       9441.000000   \n",
       "mean      197.719203     8.541468  6.000001e+09          2.903153   \n",
       "std        96.712778     4.004024  2.002971e+02          1.076542   \n",
       "min        12.000000     1.000000  6.000000e+09          0.756692   \n",
       "25%       114.000000     5.000000  6.000001e+09          2.103990   \n",
       "50%       208.000000     9.000000  6.000001e+09          2.846314   \n",
       "75%       271.000000    12.000000  6.000001e+09          3.540884   \n",
       "max       412.000000    16.000000  6.000001e+09          8.647608   \n",
       "\n",
       "       leaf_angle_beta  leaf_angle_chi  leaf_angle_mean        range  season  \\\n",
       "count      9441.000000     9441.000000      9441.000000  9441.000000  9441.0   \n",
       "mean          1.825797        1.908666         0.419339    30.267027     4.0   \n",
       "std           0.321239        0.243674         0.052055    14.455791     0.0   \n",
       "min           0.977342        0.756736         0.246258     2.000000     4.0   \n",
       "25%           1.590333        1.767434         0.386807    18.000000     4.0   \n",
       "50%           1.817881        1.906026         0.416412    32.000000     4.0   \n",
       "75%           2.040797        2.048274         0.449578    43.000000     4.0   \n",
       "max           4.171909        4.768680         0.684988    54.000000     4.0   \n",
       "\n",
       "                    day_offset  \n",
       "count                     9441  \n",
       "mean   56 days 22:01:56.682554  \n",
       "std    27 days 09:36:26.746864  \n",
       "min           12 days 00:00:00  \n",
       "25%           36 days 00:00:00  \n",
       "50%           55 days 00:00:00  \n",
       "75%           65 days 00:00:00  \n",
       "max          121 days 00:00:00  "
      ]
     },
     "execution_count": 27,
     "metadata": {},
     "output_type": "execute_result"
    }
   ],
   "source": [
    "full_df.describe()"
   ]
  },
  {
   "cell_type": "code",
   "execution_count": 199,
   "metadata": {},
   "outputs": [],
   "source": [
    "full_df.to_csv(\"s4_full_height_leaf.csv\",index=False)"
   ]
  },
  {
   "cell_type": "code",
   "execution_count": 43,
   "metadata": {},
   "outputs": [],
   "source": [
    "def returnUniqueCounts(dframe):\n",
    "    return pd.DataFrame.from_records([(col, dframe[col].nunique()) for col in dframe.columns],\n",
    "                          columns=['Column_Name', 'Num_Unique']).sort_values(by=['Num_Unique'])"
   ]
  },
  {
   "cell_type": "code",
   "execution_count": 29,
   "metadata": {},
   "outputs": [
    {
     "data": {
      "text/html": [
       "<div>\n",
       "<style scoped>\n",
       "    .dataframe tbody tr th:only-of-type {\n",
       "        vertical-align: middle;\n",
       "    }\n",
       "\n",
       "    .dataframe tbody tr th {\n",
       "        vertical-align: top;\n",
       "    }\n",
       "\n",
       "    .dataframe thead th {\n",
       "        text-align: right;\n",
       "    }\n",
       "</style>\n",
       "<table border=\"1\" class=\"dataframe\">\n",
       "  <thead>\n",
       "    <tr style=\"text-align: right;\">\n",
       "      <th></th>\n",
       "      <th>Column_Name</th>\n",
       "      <th>Num_Unique</th>\n",
       "    </tr>\n",
       "  </thead>\n",
       "  <tbody>\n",
       "    <tr>\n",
       "      <th>9</th>\n",
       "      <td>season</td>\n",
       "      <td>1</td>\n",
       "    </tr>\n",
       "    <tr>\n",
       "      <th>1</th>\n",
       "      <td>column</td>\n",
       "      <td>16</td>\n",
       "    </tr>\n",
       "    <tr>\n",
       "      <th>8</th>\n",
       "      <td>range</td>\n",
       "      <td>53</td>\n",
       "    </tr>\n",
       "    <tr>\n",
       "      <th>3</th>\n",
       "      <td>date</td>\n",
       "      <td>55</td>\n",
       "    </tr>\n",
       "    <tr>\n",
       "      <th>10</th>\n",
       "      <td>day_offset</td>\n",
       "      <td>55</td>\n",
       "    </tr>\n",
       "    <tr>\n",
       "      <th>2</th>\n",
       "      <td>cultivar</td>\n",
       "      <td>351</td>\n",
       "    </tr>\n",
       "    <tr>\n",
       "      <th>0</th>\n",
       "      <td>canopy_height</td>\n",
       "      <td>395</td>\n",
       "    </tr>\n",
       "    <tr>\n",
       "      <th>4</th>\n",
       "      <td>leaf_angle_alpha</td>\n",
       "      <td>9441</td>\n",
       "    </tr>\n",
       "    <tr>\n",
       "      <th>5</th>\n",
       "      <td>leaf_angle_beta</td>\n",
       "      <td>9441</td>\n",
       "    </tr>\n",
       "    <tr>\n",
       "      <th>6</th>\n",
       "      <td>leaf_angle_chi</td>\n",
       "      <td>9441</td>\n",
       "    </tr>\n",
       "    <tr>\n",
       "      <th>7</th>\n",
       "      <td>leaf_angle_mean</td>\n",
       "      <td>9441</td>\n",
       "    </tr>\n",
       "  </tbody>\n",
       "</table>\n",
       "</div>"
      ],
      "text/plain": [
       "         Column_Name  Num_Unique\n",
       "9             season           1\n",
       "1             column          16\n",
       "8              range          53\n",
       "3               date          55\n",
       "10        day_offset          55\n",
       "2           cultivar         351\n",
       "0      canopy_height         395\n",
       "4   leaf_angle_alpha        9441\n",
       "5    leaf_angle_beta        9441\n",
       "6     leaf_angle_chi        9441\n",
       "7    leaf_angle_mean        9441"
      ]
     },
     "execution_count": 29,
     "metadata": {},
     "output_type": "execute_result"
    }
   ],
   "source": [
    "returnUniqueCounts(full_df)"
   ]
  },
  {
   "cell_type": "markdown",
   "metadata": {},
   "source": [
    "convert the date to a day offset into the year, so we can get an integer to pass into a model."
   ]
  },
  {
   "cell_type": "code",
   "execution_count": 30,
   "metadata": {},
   "outputs": [
    {
     "data": {
      "text/plain": [
       "canopy_height               float64\n",
       "column                        int64\n",
       "cultivar                      int64\n",
       "date                 datetime64[ns]\n",
       "leaf_angle_alpha            float64\n",
       "leaf_angle_beta             float64\n",
       "leaf_angle_chi              float64\n",
       "leaf_angle_mean             float64\n",
       "range                         int64\n",
       "season                        int64\n",
       "day_offset          timedelta64[ns]\n",
       "dtype: object"
      ]
     },
     "execution_count": 30,
     "metadata": {},
     "output_type": "execute_result"
    }
   ],
   "source": [
    "full_df.dtypes"
   ]
  },
  {
   "cell_type": "code",
   "execution_count": 20,
   "metadata": {},
   "outputs": [],
   "source": [
    "full_df['date'] = pd.to_datetime(full_df['date'])"
   ]
  },
  {
   "cell_type": "code",
   "execution_count": 21,
   "metadata": {},
   "outputs": [
    {
     "name": "stdout",
     "output_type": "stream",
     "text": [
      "2017-05-01 12:00:00\n"
     ]
    }
   ],
   "source": [
    "from datetime import datetime\n",
    "print(datetime.strptime('2017-05-01 12:00:00', '%Y-%m-%d %H:%M:%S'))"
   ]
  },
  {
   "cell_type": "code",
   "execution_count": 43,
   "metadata": {},
   "outputs": [],
   "source": [
    "# add an offset column that subtracts a \"start date\" from each of the datetimes in the samples.  This will give us an offset in days\n",
    "full_df['day_offset'] = full_df['date'] - datetime.strptime('2017-05-01 12:00:00', '%Y-%m-%d %H:%M:%S')"
   ]
  },
  {
   "cell_type": "code",
   "execution_count": 44,
   "metadata": {},
   "outputs": [
    {
     "data": {
      "text/plain": [
       "12"
      ]
     },
     "execution_count": 44,
     "metadata": {},
     "output_type": "execute_result"
    }
   ],
   "source": [
    "# here is how a timedelta offset is converted to its component part\n",
    "full_df['day_offset'][0].days"
   ]
  },
  {
   "cell_type": "code",
   "execution_count": 45,
   "metadata": {},
   "outputs": [
    {
     "data": {
      "text/html": [
       "<div>\n",
       "<style scoped>\n",
       "    .dataframe tbody tr th:only-of-type {\n",
       "        vertical-align: middle;\n",
       "    }\n",
       "\n",
       "    .dataframe tbody tr th {\n",
       "        vertical-align: top;\n",
       "    }\n",
       "\n",
       "    .dataframe thead th {\n",
       "        text-align: right;\n",
       "    }\n",
       "</style>\n",
       "<table border=\"1\" class=\"dataframe\">\n",
       "  <thead>\n",
       "    <tr style=\"text-align: right;\">\n",
       "      <th></th>\n",
       "      <th>canopy_height</th>\n",
       "      <th>column</th>\n",
       "      <th>cultivar</th>\n",
       "      <th>date</th>\n",
       "      <th>leaf_angle_alpha</th>\n",
       "      <th>leaf_angle_beta</th>\n",
       "      <th>leaf_angle_chi</th>\n",
       "      <th>leaf_angle_mean</th>\n",
       "      <th>range</th>\n",
       "      <th>season</th>\n",
       "      <th>day_offset</th>\n",
       "    </tr>\n",
       "  </thead>\n",
       "  <tbody>\n",
       "    <tr>\n",
       "      <th>2017-05-13 12:00:00</th>\n",
       "      <td>15.0</td>\n",
       "      <td>2</td>\n",
       "      <td>6000000836</td>\n",
       "      <td>2017-05-13 12:00:00</td>\n",
       "      <td>2.695956</td>\n",
       "      <td>1.977380</td>\n",
       "      <td>1.756464</td>\n",
       "      <td>0.435924</td>\n",
       "      <td>43</td>\n",
       "      <td>4</td>\n",
       "      <td>12.0</td>\n",
       "    </tr>\n",
       "    <tr>\n",
       "      <th>2017-05-13 12:00:00</th>\n",
       "      <td>15.0</td>\n",
       "      <td>15</td>\n",
       "      <td>6000000462</td>\n",
       "      <td>2017-05-13 12:00:00</td>\n",
       "      <td>3.265980</td>\n",
       "      <td>2.018623</td>\n",
       "      <td>1.941012</td>\n",
       "      <td>0.396782</td>\n",
       "      <td>35</td>\n",
       "      <td>4</td>\n",
       "      <td>12.0</td>\n",
       "    </tr>\n",
       "    <tr>\n",
       "      <th>2017-05-13 12:00:00</th>\n",
       "      <td>19.0</td>\n",
       "      <td>2</td>\n",
       "      <td>6000000751</td>\n",
       "      <td>2017-05-13 12:00:00</td>\n",
       "      <td>2.159610</td>\n",
       "      <td>1.809209</td>\n",
       "      <td>1.638744</td>\n",
       "      <td>0.471944</td>\n",
       "      <td>42</td>\n",
       "      <td>4</td>\n",
       "      <td>12.0</td>\n",
       "    </tr>\n",
       "    <tr>\n",
       "      <th>2017-05-13 12:00:00</th>\n",
       "      <td>13.0</td>\n",
       "      <td>4</td>\n",
       "      <td>6000000916</td>\n",
       "      <td>2017-05-13 12:00:00</td>\n",
       "      <td>3.042180</td>\n",
       "      <td>2.198751</td>\n",
       "      <td>1.732985</td>\n",
       "      <td>0.444099</td>\n",
       "      <td>30</td>\n",
       "      <td>4</td>\n",
       "      <td>12.0</td>\n",
       "    </tr>\n",
       "    <tr>\n",
       "      <th>2017-05-15 12:00:00</th>\n",
       "      <td>17.0</td>\n",
       "      <td>2</td>\n",
       "      <td>6000000976</td>\n",
       "      <td>2017-05-15 12:00:00</td>\n",
       "      <td>2.305345</td>\n",
       "      <td>1.872028</td>\n",
       "      <td>1.665387</td>\n",
       "      <td>0.462600</td>\n",
       "      <td>45</td>\n",
       "      <td>4</td>\n",
       "      <td>14.0</td>\n",
       "    </tr>\n",
       "  </tbody>\n",
       "</table>\n",
       "</div>"
      ],
      "text/plain": [
       "                     canopy_height  column    cultivar                date  \\\n",
       "2017-05-13 12:00:00           15.0       2  6000000836 2017-05-13 12:00:00   \n",
       "2017-05-13 12:00:00           15.0      15  6000000462 2017-05-13 12:00:00   \n",
       "2017-05-13 12:00:00           19.0       2  6000000751 2017-05-13 12:00:00   \n",
       "2017-05-13 12:00:00           13.0       4  6000000916 2017-05-13 12:00:00   \n",
       "2017-05-15 12:00:00           17.0       2  6000000976 2017-05-15 12:00:00   \n",
       "\n",
       "                     leaf_angle_alpha  leaf_angle_beta  leaf_angle_chi  \\\n",
       "2017-05-13 12:00:00          2.695956         1.977380        1.756464   \n",
       "2017-05-13 12:00:00          3.265980         2.018623        1.941012   \n",
       "2017-05-13 12:00:00          2.159610         1.809209        1.638744   \n",
       "2017-05-13 12:00:00          3.042180         2.198751        1.732985   \n",
       "2017-05-15 12:00:00          2.305345         1.872028        1.665387   \n",
       "\n",
       "                     leaf_angle_mean  range  season  day_offset  \n",
       "2017-05-13 12:00:00         0.435924     43       4        12.0  \n",
       "2017-05-13 12:00:00         0.396782     35       4        12.0  \n",
       "2017-05-13 12:00:00         0.471944     42       4        12.0  \n",
       "2017-05-13 12:00:00         0.444099     30       4        12.0  \n",
       "2017-05-15 12:00:00         0.462600     45       4        14.0  "
      ]
     },
     "execution_count": 45,
     "metadata": {},
     "output_type": "execute_result"
    }
   ],
   "source": [
    "# pandas series don't like the df['column'].dt.days notation, so just convert to an int. Divide by the number of microseconds in a day\n",
    "full_df['day_offset'] = full_df['day_offset'].astype('int64')/ 86400000000000\n",
    "full_df.head()"
   ]
  },
  {
   "cell_type": "code",
   "execution_count": 246,
   "metadata": {},
   "outputs": [],
   "source": [
    "full_df.to_csv(\"s4_full_height_leaf_day.csv\",index=False)"
   ]
  },
  {
   "cell_type": "markdown",
   "metadata": {},
   "source": [
    "### look at how grouping measurements by cultivar and location could be done"
   ]
  },
  {
   "cell_type": "code",
   "execution_count": 247,
   "metadata": {},
   "outputs": [
    {
     "data": {
      "text/plain": [
       "727"
      ]
     },
     "execution_count": 247,
     "metadata": {},
     "output_type": "execute_result"
    }
   ],
   "source": [
    "len(full_df.groupby(['cultivar','column','range']).groups)"
   ]
  },
  {
   "cell_type": "code",
   "execution_count": 248,
   "metadata": {},
   "outputs": [
    {
     "name": "stdout",
     "output_type": "stream",
     "text": [
      "Index(['2017-05-16 12:00:00', '2017-05-25 12:00:00', '2017-06-02 12:00:00',\n",
      "       '2017-06-03 12:00:00', '2017-06-05 12:00:00', '2017-06-06 12:00:00',\n",
      "       '2017-06-08 12:00:00', '2017-06-09 12:00:00', '2017-06-10 12:00:00',\n",
      "       '2017-08-25 12:00:00', '2017-08-26 12:00:00', '2017-08-29 12:00:00',\n",
      "       '2017-07-05 12:00:00', '2017-06-16 12:00:00', '2017-06-25 12:00:00',\n",
      "       '2017-07-01 12:00:00', '2017-07-02 12:00:00', '2017-06-24 12:00:00',\n",
      "       '2017-07-04 12:00:00'],\n",
      "      dtype='object')\n"
     ]
    }
   ],
   "source": [
    "print(full_df.groupby(['cultivar','column','range']).groups[(6000000207, 3, 39)])"
   ]
  },
  {
   "cell_type": "code",
   "execution_count": 249,
   "metadata": {},
   "outputs": [
    {
     "name": "stdout",
     "output_type": "stream",
     "text": [
      "(6000000207, 3, 39)\n",
      "(6000000207, 9, 23)\n",
      "(6000000208, 14, 26)\n",
      "(6000000208, 15, 30)\n",
      "(6000000209, 4, 39)\n",
      "(6000000209, 13, 23)\n"
     ]
    }
   ],
   "source": [
    "count = 0\n",
    "for group in full_df.groupby(['cultivar','column','range']).groups:\n",
    "    print(group)\n",
    "    count += 1\n",
    "    if count>5:\n",
    "        break"
   ]
  },
  {
   "cell_type": "code",
   "execution_count": 220,
   "metadata": {},
   "outputs": [
    {
     "name": "stdout",
     "output_type": "stream",
     "text": [
      "(6000000207, 3, 39)\n",
      "                     canopy_height  column    cultivar                 date  \\\n",
      "2017-05-16 12:00:00           22.0       3  6000000207  2017-05-16 12:00:00   \n",
      "2017-05-25 12:00:00           48.0       3  6000000207  2017-05-25 12:00:00   \n",
      "2017-06-02 12:00:00           89.0       3  6000000207  2017-06-02 12:00:00   \n",
      "2017-06-03 12:00:00           95.0       3  6000000207  2017-06-03 12:00:00   \n",
      "2017-06-05 12:00:00          113.0       3  6000000207  2017-06-05 12:00:00   \n",
      "2017-06-06 12:00:00          116.0       3  6000000207  2017-06-06 12:00:00   \n",
      "2017-06-08 12:00:00          132.0       3  6000000207  2017-06-08 12:00:00   \n",
      "2017-06-09 12:00:00          141.0       3  6000000207  2017-06-09 12:00:00   \n",
      "2017-06-10 12:00:00          150.0       3  6000000207  2017-06-10 12:00:00   \n",
      "2017-08-25 12:00:00          317.0       3  6000000207  2017-08-25 12:00:00   \n",
      "2017-08-26 12:00:00          317.0       3  6000000207  2017-08-26 12:00:00   \n",
      "2017-08-29 12:00:00          318.0       3  6000000207  2017-08-29 12:00:00   \n",
      "2017-07-05 12:00:00          268.0       3  6000000207  2017-07-05 12:00:00   \n",
      "2017-06-16 12:00:00          190.0       3  6000000207  2017-06-16 12:00:00   \n",
      "2017-06-25 12:00:00          232.0       3  6000000207  2017-06-25 12:00:00   \n",
      "2017-07-01 12:00:00          252.0       3  6000000207  2017-07-01 12:00:00   \n",
      "2017-07-02 12:00:00          257.0       3  6000000207  2017-07-02 12:00:00   \n",
      "2017-06-24 12:00:00          229.0       3  6000000207  2017-06-24 12:00:00   \n",
      "2017-07-04 12:00:00          265.0       3  6000000207  2017-07-04 12:00:00   \n",
      "\n",
      "                     leaf_angle_alpha  leaf_angle_beta  leaf_angle_chi  \\\n",
      "2017-05-16 12:00:00          3.029223         1.961442        1.870532   \n",
      "2017-05-25 12:00:00          2.109788         1.673649        1.710402   \n",
      "2017-06-02 12:00:00          2.447258         1.713407        1.837392   \n",
      "2017-06-03 12:00:00          3.109602         1.913697        1.942567   \n",
      "2017-06-05 12:00:00          2.976765         1.894488        1.910338   \n",
      "2017-06-06 12:00:00          2.805701         1.866598        1.825539   \n",
      "2017-06-08 12:00:00          3.269036         1.791071        2.108108   \n",
      "2017-06-09 12:00:00          2.506393         1.684057        1.881935   \n",
      "2017-06-10 12:00:00          3.163247         1.875412        1.972441   \n",
      "2017-08-25 12:00:00          1.934727         1.635415        1.670653   \n",
      "2017-08-26 12:00:00          1.749690         1.547534        1.631517   \n",
      "2017-08-29 12:00:00          2.627726         2.670668        1.454754   \n",
      "2017-07-05 12:00:00          2.208545         1.676181        1.765525   \n",
      "2017-06-16 12:00:00          2.402276         1.695992        1.830182   \n",
      "2017-06-25 12:00:00          2.051962         1.663227        1.708243   \n",
      "2017-07-01 12:00:00          2.324980         1.635286        1.880807   \n",
      "2017-07-02 12:00:00          4.298827         2.328273        2.044120   \n",
      "2017-06-24 12:00:00          3.086483         2.361568        1.665006   \n",
      "2017-07-04 12:00:00          4.686466         2.249569        2.225622   \n",
      "\n",
      "                     leaf_angle_mean  range  season  \n",
      "2017-05-16 12:00:00         0.420787     39       4  \n",
      "2017-05-25 12:00:00         0.461486     39       4  \n",
      "2017-06-02 12:00:00         0.431054     39       4  \n",
      "2017-06-03 12:00:00         0.403784     39       4  \n",
      "2017-06-05 12:00:00         0.409748     39       4  \n",
      "2017-06-06 12:00:00         0.435253     39       4  \n",
      "2017-06-08 12:00:00         0.383240     39       4  \n",
      "2017-06-09 12:00:00         0.432157     39       4  \n",
      "2017-06-10 12:00:00         0.410376     39       4  \n",
      "2017-08-25 12:00:00         0.458132     39       4  \n",
      "2017-08-26 12:00:00         0.469848     39       4  \n",
      "2017-08-29 12:00:00         0.489575     39       4  \n",
      "2017-07-05 12:00:00         0.446889     39       4  \n",
      "2017-06-16 12:00:00         0.437703     39       4  \n",
      "2017-06-25 12:00:00         0.456029     39       4  \n",
      "2017-07-01 12:00:00         0.425270     39       4  \n",
      "2017-07-02 12:00:00         0.378729     39       4  \n",
      "2017-06-24 12:00:00         0.455954     39       4  \n",
      "2017-07-04 12:00:00         0.343710     39       4  \n"
     ]
    }
   ],
   "source": [
    "# find a subset dataframe that contains the locations of a single cultivar in a single location in the field\n",
    "grouped = full_df.groupby(['cultivar','column','range'])\n",
    "for name,group in grouped:\n",
    "    print(name)\n",
    "    print(group)\n",
    "    break"
   ]
  },
  {
   "cell_type": "markdown",
   "metadata": {},
   "source": [
    "## Fit Models to the Season 4 extraction"
   ]
  },
  {
   "cell_type": "code",
   "execution_count": 2,
   "metadata": {},
   "outputs": [],
   "source": [
    "import sklearn\n",
    "import pandas as pd"
   ]
  },
  {
   "cell_type": "code",
   "execution_count": 253,
   "metadata": {},
   "outputs": [],
   "source": [
    "# paste code from another notebook that uses 'cdf' as the source dataframe.  It \n",
    "# is easier to just copy to that same variable name\n",
    "cdf = full_df"
   ]
  },
  {
   "cell_type": "code",
   "execution_count": 254,
   "metadata": {},
   "outputs": [
    {
     "data": {
      "text/html": [
       "<div>\n",
       "<style scoped>\n",
       "    .dataframe tbody tr th:only-of-type {\n",
       "        vertical-align: middle;\n",
       "    }\n",
       "\n",
       "    .dataframe tbody tr th {\n",
       "        vertical-align: top;\n",
       "    }\n",
       "\n",
       "    .dataframe thead th {\n",
       "        text-align: right;\n",
       "    }\n",
       "</style>\n",
       "<table border=\"1\" class=\"dataframe\">\n",
       "  <thead>\n",
       "    <tr style=\"text-align: right;\">\n",
       "      <th></th>\n",
       "      <th>canopy_height</th>\n",
       "      <th>column</th>\n",
       "      <th>cultivar</th>\n",
       "      <th>date</th>\n",
       "      <th>leaf_angle_alpha</th>\n",
       "      <th>leaf_angle_beta</th>\n",
       "      <th>leaf_angle_chi</th>\n",
       "      <th>leaf_angle_mean</th>\n",
       "      <th>range</th>\n",
       "      <th>season</th>\n",
       "      <th>day_offset</th>\n",
       "    </tr>\n",
       "  </thead>\n",
       "  <tbody>\n",
       "    <tr>\n",
       "      <th>2017-05-13 12:00:00</th>\n",
       "      <td>15.0</td>\n",
       "      <td>2</td>\n",
       "      <td>6000000836</td>\n",
       "      <td>2017-05-13 12:00:00</td>\n",
       "      <td>2.695956</td>\n",
       "      <td>1.977380</td>\n",
       "      <td>1.756464</td>\n",
       "      <td>0.435924</td>\n",
       "      <td>43</td>\n",
       "      <td>4</td>\n",
       "      <td>12</td>\n",
       "    </tr>\n",
       "    <tr>\n",
       "      <th>2017-05-13 12:00:00</th>\n",
       "      <td>15.0</td>\n",
       "      <td>15</td>\n",
       "      <td>6000000462</td>\n",
       "      <td>2017-05-13 12:00:00</td>\n",
       "      <td>3.265980</td>\n",
       "      <td>2.018623</td>\n",
       "      <td>1.941012</td>\n",
       "      <td>0.396782</td>\n",
       "      <td>35</td>\n",
       "      <td>4</td>\n",
       "      <td>12</td>\n",
       "    </tr>\n",
       "    <tr>\n",
       "      <th>2017-05-13 12:00:00</th>\n",
       "      <td>19.0</td>\n",
       "      <td>2</td>\n",
       "      <td>6000000751</td>\n",
       "      <td>2017-05-13 12:00:00</td>\n",
       "      <td>2.159610</td>\n",
       "      <td>1.809209</td>\n",
       "      <td>1.638744</td>\n",
       "      <td>0.471944</td>\n",
       "      <td>42</td>\n",
       "      <td>4</td>\n",
       "      <td>12</td>\n",
       "    </tr>\n",
       "    <tr>\n",
       "      <th>2017-05-13 12:00:00</th>\n",
       "      <td>13.0</td>\n",
       "      <td>4</td>\n",
       "      <td>6000000916</td>\n",
       "      <td>2017-05-13 12:00:00</td>\n",
       "      <td>3.042180</td>\n",
       "      <td>2.198751</td>\n",
       "      <td>1.732985</td>\n",
       "      <td>0.444099</td>\n",
       "      <td>30</td>\n",
       "      <td>4</td>\n",
       "      <td>12</td>\n",
       "    </tr>\n",
       "    <tr>\n",
       "      <th>2017-05-15 12:00:00</th>\n",
       "      <td>17.0</td>\n",
       "      <td>2</td>\n",
       "      <td>6000000976</td>\n",
       "      <td>2017-05-15 12:00:00</td>\n",
       "      <td>2.305345</td>\n",
       "      <td>1.872028</td>\n",
       "      <td>1.665387</td>\n",
       "      <td>0.462600</td>\n",
       "      <td>45</td>\n",
       "      <td>4</td>\n",
       "      <td>14</td>\n",
       "    </tr>\n",
       "  </tbody>\n",
       "</table>\n",
       "</div>"
      ],
      "text/plain": [
       "                     canopy_height  column    cultivar                date  \\\n",
       "2017-05-13 12:00:00           15.0       2  6000000836 2017-05-13 12:00:00   \n",
       "2017-05-13 12:00:00           15.0      15  6000000462 2017-05-13 12:00:00   \n",
       "2017-05-13 12:00:00           19.0       2  6000000751 2017-05-13 12:00:00   \n",
       "2017-05-13 12:00:00           13.0       4  6000000916 2017-05-13 12:00:00   \n",
       "2017-05-15 12:00:00           17.0       2  6000000976 2017-05-15 12:00:00   \n",
       "\n",
       "                     leaf_angle_alpha  leaf_angle_beta  leaf_angle_chi  \\\n",
       "2017-05-13 12:00:00          2.695956         1.977380        1.756464   \n",
       "2017-05-13 12:00:00          3.265980         2.018623        1.941012   \n",
       "2017-05-13 12:00:00          2.159610         1.809209        1.638744   \n",
       "2017-05-13 12:00:00          3.042180         2.198751        1.732985   \n",
       "2017-05-15 12:00:00          2.305345         1.872028        1.665387   \n",
       "\n",
       "                     leaf_angle_mean  range  season  day_offset  \n",
       "2017-05-13 12:00:00         0.435924     43       4          12  \n",
       "2017-05-13 12:00:00         0.396782     35       4          12  \n",
       "2017-05-13 12:00:00         0.471944     42       4          12  \n",
       "2017-05-13 12:00:00         0.444099     30       4          12  \n",
       "2017-05-15 12:00:00         0.462600     45       4          14  "
      ]
     },
     "execution_count": 254,
     "metadata": {},
     "output_type": "execute_result"
    }
   ],
   "source": [
    "cdf.head()"
   ]
  },
  {
   "cell_type": "code",
   "execution_count": 255,
   "metadata": {},
   "outputs": [],
   "source": [
    "train_df = cdf[['cultivar','day_offset','range','column','leaf_angle_alpha','leaf_angle_beta','leaf_angle_chi','leaf_angle_mean']]\n",
    "target_df = cdf['canopy_height']"
   ]
  },
  {
   "cell_type": "code",
   "execution_count": 256,
   "metadata": {},
   "outputs": [
    {
     "name": "stdout",
     "output_type": "stream",
     "text": [
      "(9441, 8)\n",
      "(9441,)\n"
     ]
    }
   ],
   "source": [
    "X_train = train_df.values\n",
    "y_train = target_df.values\n",
    "print(X_train.shape)\n",
    "print(y_train.shape)"
   ]
  },
  {
   "cell_type": "code",
   "execution_count": null,
   "metadata": {},
   "outputs": [],
   "source": []
  },
  {
   "cell_type": "code",
   "execution_count": 265,
   "metadata": {},
   "outputs": [],
   "source": [
    "from sklearn.tree import DecisionTreeRegressor\n",
    "from sklearn.linear_model import LinearRegression\n",
    "from sklearn import svm\n",
    "from sklearn.ensemble import GradientBoostingRegressor\n",
    "\n",
    "tree = DecisionTreeRegressor(max_depth=8).fit(X_train, y_train)\n",
    "linear_reg = LinearRegression().fit(X_train, y_train)\n",
    "#svm_mod = svm.SVR().fit(X_train, y_train)\n",
    "gbr_mod = GradientBoostingRegressor(n_estimators=100, learning_rate=0.1, max_depth=8, random_state=0, loss='ls').fit(X_train, y_train)\n",
    "\n",
    "pred_tree = tree.predict(X_train)\n",
    "pred_lr = linear_reg.predict(X_train)\n",
    "#pred_svm = svm_mod.predict(X_train)\n",
    "pred_gbr = gbr_mod.predict(X_train)\n"
   ]
  },
  {
   "cell_type": "code",
   "execution_count": 266,
   "metadata": {},
   "outputs": [
    {
     "data": {
      "text/html": [
       "<div>\n",
       "<style scoped>\n",
       "    .dataframe tbody tr th:only-of-type {\n",
       "        vertical-align: middle;\n",
       "    }\n",
       "\n",
       "    .dataframe tbody tr th {\n",
       "        vertical-align: top;\n",
       "    }\n",
       "\n",
       "    .dataframe thead th {\n",
       "        text-align: right;\n",
       "    }\n",
       "</style>\n",
       "<table border=\"1\" class=\"dataframe\">\n",
       "  <thead>\n",
       "    <tr style=\"text-align: right;\">\n",
       "      <th></th>\n",
       "      <th>canopy_height</th>\n",
       "      <th>column</th>\n",
       "      <th>cultivar</th>\n",
       "      <th>date</th>\n",
       "      <th>leaf_angle_alpha</th>\n",
       "      <th>leaf_angle_beta</th>\n",
       "      <th>leaf_angle_chi</th>\n",
       "      <th>leaf_angle_mean</th>\n",
       "      <th>range</th>\n",
       "      <th>season</th>\n",
       "      <th>day_offset</th>\n",
       "      <th>decision_tree</th>\n",
       "      <th>linearRegression</th>\n",
       "      <th>gboost</th>\n",
       "    </tr>\n",
       "  </thead>\n",
       "  <tbody>\n",
       "    <tr>\n",
       "      <th>2017-05-13 12:00:00</th>\n",
       "      <td>15.0</td>\n",
       "      <td>2</td>\n",
       "      <td>6000000836</td>\n",
       "      <td>2017-05-13 12:00:00</td>\n",
       "      <td>2.695956</td>\n",
       "      <td>1.977380</td>\n",
       "      <td>1.756464</td>\n",
       "      <td>0.435924</td>\n",
       "      <td>43</td>\n",
       "      <td>4</td>\n",
       "      <td>12</td>\n",
       "      <td>20.684211</td>\n",
       "      <td>42.190178</td>\n",
       "      <td>19.914282</td>\n",
       "    </tr>\n",
       "    <tr>\n",
       "      <th>2017-05-13 12:00:00</th>\n",
       "      <td>15.0</td>\n",
       "      <td>15</td>\n",
       "      <td>6000000462</td>\n",
       "      <td>2017-05-13 12:00:00</td>\n",
       "      <td>3.265980</td>\n",
       "      <td>2.018623</td>\n",
       "      <td>1.941012</td>\n",
       "      <td>0.396782</td>\n",
       "      <td>35</td>\n",
       "      <td>4</td>\n",
       "      <td>12</td>\n",
       "      <td>16.200000</td>\n",
       "      <td>51.816082</td>\n",
       "      <td>15.886342</td>\n",
       "    </tr>\n",
       "    <tr>\n",
       "      <th>2017-05-13 12:00:00</th>\n",
       "      <td>19.0</td>\n",
       "      <td>2</td>\n",
       "      <td>6000000751</td>\n",
       "      <td>2017-05-13 12:00:00</td>\n",
       "      <td>2.159610</td>\n",
       "      <td>1.809209</td>\n",
       "      <td>1.638744</td>\n",
       "      <td>0.471944</td>\n",
       "      <td>42</td>\n",
       "      <td>4</td>\n",
       "      <td>12</td>\n",
       "      <td>20.684211</td>\n",
       "      <td>47.519900</td>\n",
       "      <td>22.397037</td>\n",
       "    </tr>\n",
       "    <tr>\n",
       "      <th>2017-05-13 12:00:00</th>\n",
       "      <td>13.0</td>\n",
       "      <td>4</td>\n",
       "      <td>6000000916</td>\n",
       "      <td>2017-05-13 12:00:00</td>\n",
       "      <td>3.042180</td>\n",
       "      <td>2.198751</td>\n",
       "      <td>1.732985</td>\n",
       "      <td>0.444099</td>\n",
       "      <td>30</td>\n",
       "      <td>4</td>\n",
       "      <td>12</td>\n",
       "      <td>16.200000</td>\n",
       "      <td>44.521976</td>\n",
       "      <td>16.628871</td>\n",
       "    </tr>\n",
       "    <tr>\n",
       "      <th>2017-05-15 12:00:00</th>\n",
       "      <td>17.0</td>\n",
       "      <td>2</td>\n",
       "      <td>6000000976</td>\n",
       "      <td>2017-05-15 12:00:00</td>\n",
       "      <td>2.305345</td>\n",
       "      <td>1.872028</td>\n",
       "      <td>1.665387</td>\n",
       "      <td>0.462600</td>\n",
       "      <td>45</td>\n",
       "      <td>4</td>\n",
       "      <td>14</td>\n",
       "      <td>20.684211</td>\n",
       "      <td>50.301563</td>\n",
       "      <td>19.387769</td>\n",
       "    </tr>\n",
       "  </tbody>\n",
       "</table>\n",
       "</div>"
      ],
      "text/plain": [
       "                     canopy_height  column    cultivar                date  \\\n",
       "2017-05-13 12:00:00           15.0       2  6000000836 2017-05-13 12:00:00   \n",
       "2017-05-13 12:00:00           15.0      15  6000000462 2017-05-13 12:00:00   \n",
       "2017-05-13 12:00:00           19.0       2  6000000751 2017-05-13 12:00:00   \n",
       "2017-05-13 12:00:00           13.0       4  6000000916 2017-05-13 12:00:00   \n",
       "2017-05-15 12:00:00           17.0       2  6000000976 2017-05-15 12:00:00   \n",
       "\n",
       "                     leaf_angle_alpha  leaf_angle_beta  leaf_angle_chi  \\\n",
       "2017-05-13 12:00:00          2.695956         1.977380        1.756464   \n",
       "2017-05-13 12:00:00          3.265980         2.018623        1.941012   \n",
       "2017-05-13 12:00:00          2.159610         1.809209        1.638744   \n",
       "2017-05-13 12:00:00          3.042180         2.198751        1.732985   \n",
       "2017-05-15 12:00:00          2.305345         1.872028        1.665387   \n",
       "\n",
       "                     leaf_angle_mean  range  season  day_offset  \\\n",
       "2017-05-13 12:00:00         0.435924     43       4          12   \n",
       "2017-05-13 12:00:00         0.396782     35       4          12   \n",
       "2017-05-13 12:00:00         0.471944     42       4          12   \n",
       "2017-05-13 12:00:00         0.444099     30       4          12   \n",
       "2017-05-15 12:00:00         0.462600     45       4          14   \n",
       "\n",
       "                     decision_tree  linearRegression     gboost  \n",
       "2017-05-13 12:00:00      20.684211         42.190178  19.914282  \n",
       "2017-05-13 12:00:00      16.200000         51.816082  15.886342  \n",
       "2017-05-13 12:00:00      20.684211         47.519900  22.397037  \n",
       "2017-05-13 12:00:00      16.200000         44.521976  16.628871  \n",
       "2017-05-15 12:00:00      20.684211         50.301563  19.387769  "
      ]
     },
     "execution_count": 266,
     "metadata": {},
     "output_type": "execute_result"
    }
   ],
   "source": [
    "cdf['decision_tree'] = pred_tree\n",
    "cdf['linearRegression'] = pred_lr\n",
    "#cdf['svm'] = pred_svm\n",
    "cdf['gboost'] = pred_gbr\n",
    "cdf.head()"
   ]
  },
  {
   "cell_type": "code",
   "execution_count": 267,
   "metadata": {},
   "outputs": [
    {
     "name": "stdout",
     "output_type": "stream",
     "text": [
      "            canopy_height  decision_tree      gboost\n",
      "day_offset                                          \n",
      "12                   15.0      20.684211   19.914282\n",
      "15                   29.0      20.684211   24.810587\n",
      "32                  102.0      90.363636   96.840969\n",
      "35                  119.0     110.971963  114.542491\n",
      "36                  125.0     109.250000  125.781571\n",
      "38                  111.0     113.250000  116.642920\n",
      "39                  114.0     114.866667  118.596735\n",
      "40                  272.0     190.500000  241.614416\n",
      "46                  191.0     183.476190  186.047126\n",
      "55                  248.0     244.583333  242.984222\n",
      "61                  278.0     255.428571  257.851301\n",
      "62                  260.0     272.200000  258.050972\n",
      "64                  263.0     274.647887  264.090317\n",
      "65                  268.0     274.647887  263.217710\n",
      "120                 386.0     318.171875  370.444316\n"
     ]
    },
    {
     "data": {
      "image/png": "[encoded data removed]",
      "text/plain": [
       "<Figure size 432x288 with 1 Axes>"
      ]
     },
     "metadata": {
      "needs_background": "light"
     },
     "output_type": "display_data"
    }
   ],
   "source": [
    "%matplotlib inline\n",
    "import matplotlib.pyplot as plt\n",
    "\n",
    "def plot_cultivar(fulldf,cultivar):\n",
    "    df = fulldf.loc[fulldf['cultivar'] == cultivar]\n",
    "    minCol = df['column'].min()\n",
    "    df = df.loc[df['column']==minCol]\n",
    "    #print(df.shape)\n",
    "    df = df[['day_offset','canopy_height','decision_tree','gboost']]\n",
    "    df = df.set_index('day_offset')\n",
    "    df = df.sort_index()\n",
    "    print(df)\n",
    "    df.plot()\n",
    "\n",
    "#plot_cultivar(cdf,'PI145619')\n",
    "plot_cultivar(cdf,6000000836)"
   ]
  },
  {
   "cell_type": "code",
   "execution_count": 268,
   "metadata": {},
   "outputs": [
    {
     "name": "stdout",
     "output_type": "stream",
     "text": [
      "            canopy_height  decision_tree      gboost\n",
      "day_offset                                          \n",
      "33                   96.0      93.184211   95.295526\n",
      "35                   90.0     101.326087   89.041657\n",
      "36                   97.0     112.330508   97.400502\n",
      "39                  115.0     128.512821  121.455541\n",
      "40                  128.0     128.145455  126.195282\n",
      "45                  151.0     168.659722  152.864520\n",
      "46                  156.0     175.333333  157.547256\n",
      "47                  168.0     182.545455  168.697935\n",
      "54                  224.0     227.835294  217.687636\n",
      "55                  213.0     233.208791  215.623566\n",
      "56                  223.0     221.681818  222.594397\n",
      "60                  238.0     240.298013  239.141691\n",
      "61                  241.0     246.661417  245.439149\n",
      "65                  264.0     268.322917  264.207241\n",
      "68                  275.0     273.623229  275.614637\n",
      "117                 326.0     330.142857  330.534632\n"
     ]
    },
    {
     "data": {
      "image/png": "[encoded data removed]",
      "text/plain": [
       "<Figure size 432x288 with 1 Axes>"
      ]
     },
     "metadata": {
      "needs_background": "light"
     },
     "output_type": "display_data"
    }
   ],
   "source": [
    "plot_cultivar(cdf,6000000462)"
   ]
  },
  {
   "cell_type": "code",
   "execution_count": 269,
   "metadata": {},
   "outputs": [
    {
     "name": "stdout",
     "output_type": "stream",
     "text": [
      "            canopy_height  decision_tree      gboost\n",
      "day_offset                                          \n",
      "14                   17.0      20.684211   19.387769\n",
      "18                   25.0      23.906250   22.868977\n",
      "32                   83.0      90.363636   83.121168\n",
      "33                   92.0      91.794872   88.127969\n",
      "35                  103.0     110.971963  103.402695\n",
      "36                  103.0     109.250000   99.482699\n",
      "38                   98.0     139.500000  108.437526\n",
      "39                  100.0     119.666667  111.939874\n",
      "45                  124.0     138.250000  148.556495\n"
     ]
    },
    {
     "data": {
      "image/png": "[encoded data removed]",
      "text/plain": [
       "<Figure size 432x288 with 1 Axes>"
      ]
     },
     "metadata": {
      "needs_background": "light"
     },
     "output_type": "display_data"
    }
   ],
   "source": [
    "plot_cultivar(cdf,6000000976)"
   ]
  },
  {
   "cell_type": "markdown",
   "metadata": {},
   "source": [
    "Try to visualize the results across the field by finding the delta at each location between the observed and the model output.  Try to use Vega or VegaLite. Checkout the native integration explained here: https://github.com/jupyterlab/jupyterlab/blob/master/examples/vega/vega-extension.ipynb"
   ]
  },
  {
   "cell_type": "code",
   "execution_count": 85,
   "metadata": {},
   "outputs": [],
   "source": [
    "from IPython.display import display\n",
    "import pandas as pd\n",
    "\n",
    "def Vega(spec):\n",
    "    bundle = {}\n",
    "    bundle['application/vnd.vega.v4+json'] = spec\n",
    "    display(bundle, raw=True)\n",
    "\n",
    "def VegaLite(spec):\n",
    "    bundle = {}\n",
    "    bundle['application/vnd.vegalite.v2+json'] = spec\n",
    "    display(bundle, raw=True)"
   ]
  },
  {
   "cell_type": "code",
   "execution_count": 87,
   "metadata": {},
   "outputs": [
    {
     "data": {
      "application/vnd.vega.v4+json": {
       "$schema": "https://vega.github.io/schema/vega/v3.0.json",
       "axes": [
        {
         "orient": "bottom",
         "scale": "xscale"
        },
        {
         "orient": "left",
         "scale": "yscale"
        }
       ],
       "data": [
        {
         "name": "table",
         "values": [
          {
           "amount": 28,
           "category": "A"
          },
          {
           "amount": 55,
           "category": "B"
          },
          {
           "amount": 43,
           "category": "C"
          },
          {
           "amount": 91,
           "category": "D"
          },
          {
           "amount": 81,
           "category": "E"
          },
          {
           "amount": 53,
           "category": "F"
          },
          {
           "amount": 19,
           "category": "G"
          },
          {
           "amount": 87,
           "category": "H"
          }
         ]
        }
       ],
       "height": 200,
       "marks": [
        {
         "encode": {
          "enter": {
           "width": {
            "band": 1,
            "scale": "xscale"
           },
           "x": {
            "field": "category",
            "scale": "xscale"
           },
           "y": {
            "field": "amount",
            "scale": "yscale"
           },
           "y2": {
            "scale": "yscale",
            "value": 0
           }
          },
          "hover": {
           "fill": {
            "value": "red"
           }
          },
          "update": {
           "fill": {
            "value": "steelblue"
           }
          }
         },
         "from": {
          "data": "table"
         },
         "type": "rect"
        },
        {
         "encode": {
          "enter": {
           "align": {
            "value": "center"
           },
           "baseline": {
            "value": "bottom"
           },
           "fill": {
            "value": "#333"
           }
          },
          "update": {
           "fillOpacity": [
            {
             "test": "datum === tooltip",
             "value": 0
            },
            {
             "value": 1
            }
           ],
           "text": {
            "signal": "tooltip.amount"
           },
           "x": {
            "band": 0.5,
            "scale": "xscale",
            "signal": "tooltip.category"
           },
           "y": {
            "offset": -2,
            "scale": "yscale",
            "signal": "tooltip.amount"
           }
          }
         },
         "type": "text"
        }
       ],
       "padding": 5,
       "scales": [
        {
         "domain": {
          "data": "table",
          "field": "category"
         },
         "name": "xscale",
         "padding": 0.05,
         "range": "width",
         "round": true,
         "type": "band"
        },
        {
         "domain": {
          "data": "table",
          "field": "amount"
         },
         "name": "yscale",
         "nice": true,
         "range": "height"
        }
       ],
       "signals": [
        {
         "name": "tooltip",
         "on": [
          {
           "events": "rect:mouseover",
           "update": "datum"
          },
          {
           "events": "rect:mouseout",
           "update": "{}"
          }
         ],
         "value": {}
        }
       ],
       "width": 400
      },
      "image/png": "[encoded data removed]"
     },
     "metadata": {},
     "output_type": "display_data"
    }
   ],
   "source": [
    "Vega({\n",
    "  \"$schema\": \"https://vega.github.io/schema/vega/v3.0.json\",\n",
    "  \"width\": 400,\n",
    "  \"height\": 200,\n",
    "  \"padding\": 5,\n",
    "\n",
    "  \"data\": [\n",
    "    {\n",
    "      \"name\": \"table\",\n",
    "      \"values\": [\n",
    "        {\"category\": \"A\", \"amount\": 28},\n",
    "        {\"category\": \"B\", \"amount\": 55},\n",
    "        {\"category\": \"C\", \"amount\": 43},\n",
    "        {\"category\": \"D\", \"amount\": 91},\n",
    "        {\"category\": \"E\", \"amount\": 81},\n",
    "        {\"category\": \"F\", \"amount\": 53},\n",
    "        {\"category\": \"G\", \"amount\": 19},\n",
    "        {\"category\": \"H\", \"amount\": 87}\n",
    "      ]\n",
    "    }\n",
    "  ],\n",
    "\n",
    "  \"signals\": [\n",
    "    {\n",
    "      \"name\": \"tooltip\",\n",
    "      \"value\": {},\n",
    "      \"on\": [\n",
    "        {\"events\": \"rect:mouseover\", \"update\": \"datum\"},\n",
    "        {\"events\": \"rect:mouseout\",  \"update\": \"{}\"}\n",
    "      ]\n",
    "    }\n",
    "  ],\n",
    "\n",
    "  \"scales\": [\n",
    "    {\n",
    "      \"name\": \"xscale\",\n",
    "      \"type\": \"band\",\n",
    "      \"domain\": {\"data\": \"table\", \"field\": \"category\"},\n",
    "      \"range\": \"width\",\n",
    "      \"padding\": 0.05,\n",
    "      \"round\": True\n",
    "    },\n",
    "    {\n",
    "      \"name\": \"yscale\",\n",
    "      \"domain\": {\"data\": \"table\", \"field\": \"amount\"},\n",
    "      \"nice\": True,\n",
    "      \"range\": \"height\"\n",
    "    }\n",
    "  ],\n",
    "\n",
    "  \"axes\": [\n",
    "    { \"orient\": \"bottom\", \"scale\": \"xscale\" },\n",
    "    { \"orient\": \"left\", \"scale\": \"yscale\" }\n",
    "  ],\n",
    "\n",
    "  \"marks\": [\n",
    "    {\n",
    "      \"type\": \"rect\",\n",
    "      \"from\": {\"data\":\"table\"},\n",
    "      \"encode\": {\n",
    "        \"enter\": {\n",
    "          \"x\": {\"scale\": \"xscale\", \"field\": \"category\"},\n",
    "          \"width\": {\"scale\": \"xscale\", \"band\": 1},\n",
    "          \"y\": {\"scale\": \"yscale\", \"field\": \"amount\"},\n",
    "          \"y2\": {\"scale\": \"yscale\", \"value\": 0}\n",
    "        },\n",
    "        \"update\": {\n",
    "          \"fill\": {\"value\": \"steelblue\"}\n",
    "              },\n",
    "        \"hover\": {\n",
    "          \"fill\": {\"value\": \"red\"}\n",
    "        }\n",
    "      }\n",
    "    },\n",
    "    {\n",
    "      \"type\": \"text\",\n",
    "      \"encode\": {\n",
    "        \"enter\": {\n",
    "          \"align\": {\"value\": \"center\"},\n",
    "          \"baseline\": {\"value\": \"bottom\"},\n",
    "          \"fill\": {\"value\": \"#333\"}\n",
    "        },\n",
    "        \"update\": {\n",
    "          \"x\": {\"scale\": \"xscale\", \"signal\": \"tooltip.category\", \"band\": 0.5},\n",
    "          \"y\": {\"scale\": \"yscale\", \"signal\": \"tooltip.amount\", \"offset\": -2},\n",
    "          \"text\": {\"signal\": \"tooltip.amount\"},\n",
    "          \"fillOpacity\": [\n",
    "            {\"test\": \"datum === tooltip\", \"value\": 0},\n",
    "            {\"value\": 1}\n",
    "          ]\n",
    "        }\n",
    "      }\n",
    "    }\n",
    "  ]\n",
    "})"
   ]
  },
  {
   "cell_type": "code",
   "execution_count": 86,
   "metadata": {},
   "outputs": [
    {
     "data": {
      "application/vnd.vegalite.v2+json": {
       "$schema": "https://vega.github.io/schema/vega-lite/v2.json",
       "data": {
        "values": [
         {
          "a": "A",
          "b": 28
         },
         {
          "a": "B",
          "b": 55
         },
         {
          "a": "C",
          "b": 43
         },
         {
          "a": "D",
          "b": 91
         },
         {
          "a": "E",
          "b": 81
         },
         {
          "a": "F",
          "b": 53
         },
         {
          "a": "G",
          "b": 19
         },
         {
          "a": "H",
          "b": 87
         },
         {
          "a": "I",
          "b": 52
         }
        ]
       },
       "description": "A simple bar chart with embedded data.",
       "encoding": {
        "x": {
         "field": "a",
         "type": "ordinal"
        },
        "y": {
         "field": "b",
         "type": "quantitative"
        }
       },
       "mark": "bar"
      },
      "image/png": "[encoded data removed]"
     },
     "metadata": {},
     "output_type": "display_data"
    }
   ],
   "source": [
    "VegaLite({\n",
    "  \"$schema\": \"https://vega.github.io/schema/vega-lite/v2.json\",\n",
    "  \"description\": \"A simple bar chart with embedded data.\",\n",
    "  \"data\": {\n",
    "    \"values\": [\n",
    "      {\"a\": \"A\",\"b\": 28}, {\"a\": \"B\",\"b\": 55}, {\"a\": \"C\",\"b\": 43},\n",
    "      {\"a\": \"D\",\"b\": 91}, {\"a\": \"E\",\"b\": 81}, {\"a\": \"F\",\"b\": 53},\n",
    "      {\"a\": \"G\",\"b\": 19}, {\"a\": \"H\",\"b\": 87}, {\"a\": \"I\",\"b\": 52}\n",
    "    ]\n",
    "  },\n",
    "  \"mark\": \"bar\",\n",
    "  \"encoding\": {\n",
    "    \"x\": {\"field\": \"a\", \"type\": \"ordinal\"},\n",
    "    \"y\": {\"field\": \"b\", \"type\": \"quantitative\"}\n",
    "  }\n",
    "})"
   ]
  },
  {
   "cell_type": "code",
   "execution_count": 92,
   "metadata": {},
   "outputs": [
    {
     "data": {
      "application/vnd.jupyter.stderr": "Javascript Error: Failed to execute 'addColorStop' on 'CanvasGradient': The provided double value is non-finite.. This usually means there's a typo in your chart specification. See the JavaScript console for the full traceback."
     },
     "metadata": {},
     "output_type": "display_data"
    }
   ],
   "source": [
    "VegaLite({\n",
    "  \"$schema\": \"https://vega.github.io/schema/vega-lite/v4.json\",\n",
    "  \"data\": {\"url\": \"data/movies.json\"},\n",
    "  \"spacing\": 15,\n",
    "  \"bounds\": \"flush\",\n",
    "  \"vconcat\": [{\n",
    "    \"mark\": \"bar\",\n",
    "    \"height\": 60,\n",
    "    \"encoding\": {\n",
    "      \"x\": {\n",
    "        \"bin\": True,\n",
    "        \"field\": \"IMDB_Rating\",\n",
    "        \"type\": \"quantitative\",\n",
    "        \"axis\": None\n",
    "      },\n",
    "      \"y\": {\n",
    "        \"aggregate\": \"count\",\n",
    "        \"type\": \"quantitative\",\n",
    "        \"scale\": {\n",
    "          \"domain\": [0,1000]\n",
    "        },\n",
    "        \"title\": \"\"\n",
    "      }\n",
    "    }\n",
    "  }, {\n",
    "    \"spacing\": 15,\n",
    "    \"bounds\": \"flush\",\n",
    "    \"hconcat\": [{\n",
    "      \"mark\": \"rect\",\n",
    "      \"encoding\": {\n",
    "        \"x\": {\n",
    "          \"bin\": True,\n",
    "          \"field\": \"IMDB_Rating\",\n",
    "          \"type\": \"quantitative\"\n",
    "        },\n",
    "        \"y\": {\n",
    "          \"bin\": True,\n",
    "          \"field\": \"Rotten_Tomatoes_Rating\",\n",
    "          \"type\": \"quantitative\"\n",
    "        },\n",
    "        \"color\": {\n",
    "          \"aggregate\": \"count\",\n",
    "          \"type\": \"quantitative\"\n",
    "        }\n",
    "      }\n",
    "    }, {\n",
    "      \"mark\": \"bar\",\n",
    "      \"width\": 60,\n",
    "      \"encoding\": {\n",
    "        \"y\": {\n",
    "          \"bin\": True,\n",
    "          \"field\": \"Rotten_Tomatoes_Rating\",\n",
    "          \"type\": \"quantitative\",\n",
    "          \"axis\": None\n",
    "        },\n",
    "        \"x\": {\n",
    "          \"aggregate\": \"count\",\n",
    "          \"type\": \"quantitative\",\n",
    "          \"scale\": {\n",
    "            \"domain\": [0,1000]\n",
    "          },\n",
    "          \"title\": \"\"\n",
    "        }\n",
    "      }\n",
    "    }]\n",
    "  }],\n",
    "  \"config\": {\n",
    "    \"view\": {\n",
    "      \"stroke\": \"transparent\"\n",
    "    }\n",
    "  }\n",
    "})\n"
   ]
  },
  {
   "cell_type": "code",
   "execution_count": 94,
   "metadata": {},
   "outputs": [
    {
     "data": {
      "application/vnd.vegalite.v2+json": {
       "config": {
        "axis": {
         "domain": false,
         "zindex": 0
        },
        "range": {
         "ramp": {
          "scheme": "yellowgreenblue"
         }
        },
        "scale": {
         "bandPaddingInner": 0,
         "bandPaddingOuter": 0
        },
        "view": {
         "step": 40
        }
       },
       "data": {
        "values": [
         {
          "actual": "A",
          "count": 13,
          "predicted": "A"
         },
         {
          "actual": "A",
          "count": 0,
          "predicted": "B"
         },
         {
          "actual": "A",
          "count": 0,
          "predicted": "C"
         },
         {
          "actual": "B",
          "count": 0,
          "predicted": "A"
         },
         {
          "actual": "B",
          "count": 10,
          "predicted": "B"
         },
         {
          "actual": "B",
          "count": 6,
          "predicted": "C"
         },
         {
          "actual": "C",
          "count": 0,
          "predicted": "A"
         },
         {
          "actual": "C",
          "count": 0,
          "predicted": "B"
         },
         {
          "actual": "C",
          "count": 9,
          "predicted": "C"
         }
        ]
       },
       "encoding": {
        "fill": {
         "field": "count",
         "type": "quantitative"
        },
        "opacity": {
         "condition": {
          "selection": "highlight",
          "value": 1
         },
         "value": 0.5
        },
        "order": {
         "condition": {
          "selection": "highlight",
          "value": 1
         },
         "value": 0
        },
        "stroke": {
         "condition": {
          "test": {
           "and": [
            {
             "selection": "highlight"
            },
            "length(data(\"highlight_store\"))"
           ]
          },
          "value": "black"
         },
         "value": null
        },
        "x": {
         "field": "predicted",
         "type": "nominal"
        },
        "y": {
         "field": "actual",
         "type": "nominal"
        }
       },
       "mark": {
        "strokeWidth": 2,
        "type": "rect"
       },
       "selection": {
        "highlight": {
         "empty": "all",
         "fields": [
          "_vgsid_"
         ],
         "on": "click",
         "resolve": "global",
         "type": "single"
        }
       }
      },
      "image/png": "[encoded data removed]"
     },
     "metadata": {},
     "output_type": "display_data"
    }
   ],
   "source": [
    "VegaLite({\n",
    "  \"data\": {\n",
    "    \"values\": [\n",
    "      {\"actual\": \"A\", \"predicted\": \"A\", \"count\": 13},\n",
    "      {\"actual\": \"A\", \"predicted\": \"B\", \"count\": 0},\n",
    "      {\"actual\": \"A\", \"predicted\": \"C\", \"count\": 0},\n",
    "      {\"actual\": \"B\", \"predicted\": \"A\", \"count\": 0},\n",
    "      {\"actual\": \"B\", \"predicted\": \"B\", \"count\": 10},\n",
    "      {\"actual\": \"B\", \"predicted\": \"C\", \"count\": 6},\n",
    "      {\"actual\": \"C\", \"predicted\": \"A\", \"count\": 0},\n",
    "      {\"actual\": \"C\", \"predicted\": \"B\", \"count\": 0},\n",
    "      {\"actual\": \"C\", \"predicted\": \"C\", \"count\": 9}\n",
    "    ]\n",
    "  },\n",
    "  \"selection\": {\n",
    "    \"highlight\": {\"type\": \"single\"}\n",
    "  },\n",
    "  \"mark\": {\"type\": \"rect\", \"strokeWidth\": 2},\n",
    "  \"encoding\": {\n",
    "    \"y\": {\n",
    "      \"field\": \"actual\",\n",
    "      \"type\": \"nominal\"\n",
    "    },\n",
    "    \"x\": {\n",
    "      \"field\": \"predicted\",\n",
    "      \"type\": \"nominal\"\n",
    "    },\n",
    "    \"fill\": {\n",
    "      \"field\": \"count\",\n",
    "      \"type\": \"quantitative\"\n",
    "    },\n",
    "    \"stroke\": {\n",
    "      \"condition\": {\"test\": {\"and\": [{\"selection\": \"highlight\"}, \"length(data(\\\"highlight_store\\\"))\"]}, \"value\": \"black\"},\n",
    "      \"value\": None\n",
    "    },\n",
    "    \"opacity\": {\n",
    "      \"condition\": {\"selection\": \"highlight\", \"value\": 1},\n",
    "      \"value\": 0.5\n",
    "    },\n",
    "    \"order\": {\n",
    "      \"condition\": {\"selection\": \"highlight\", \"value\": 1},\n",
    "      \"value\": 0\n",
    "    }\n",
    "  },\n",
    "  \"config\": {\n",
    "    \"scale\": {\n",
    "      \"bandPaddingInner\": 0,\n",
    "      \"bandPaddingOuter\": 0\n",
    "    },\n",
    "    \"view\": {\"step\": 40},\n",
    "    \"range\": {\n",
    "      \"ramp\": {\n",
    "        \"scheme\": \"yellowgreenblue\"\n",
    "      }\n",
    "    },\n",
    "    \"axis\": {\n",
    "      \"domain\": False,\n",
    "      \"zindex\": 0\n",
    "    }\n",
    "  }\n",
    "}\n",
    ")"
   ]
  },
  {
   "cell_type": "markdown",
   "metadata": {},
   "source": [
    "#### Train a model for each cultivar in its location.  "
   ]
  },
  {
   "cell_type": "markdown",
   "metadata": {},
   "source": [
    "Do this by using groupby in pandas to create a separate group for each cultivar at a particular location.  Then we will build an retain a set of group-specific models,"
   ]
  },
  {
   "cell_type": "code",
   "execution_count": null,
   "metadata": {},
   "outputs": [],
   "source": [
    "gbr_models = {}\n",
    "predictions = {}\n",
    "count = 0\n",
    "grouped = full_df.groupby(['cultivar','column','range'])\n",
    "for name,group in grouped:\n",
    "    #print(name)\n",
    "    # pick the features to use for training\n",
    "    train_df = group[['cultivar','day_offset','range','column','leaf_angle_alpha','leaf_angle_beta','leaf_angle_chi','leaf_angle_mean']]\n",
    "    # identify the 'target' feature to try to predict\n",
    "    target_df = group['canopy_height']\n",
    "    X_train = train_df.values\n",
    "    y_train = target_df.values\n",
    "    # train a model for this cultivar in this location and store the trained model in a dictionary\n",
    "    gbr_models[name] = GradientBoostingRegressor(n_estimators=100, learning_rate=0.1, max_depth=8, random_state=0, loss='ls').fit(X_train, y_train)\n",
    "    gbr_pred = gbr_models[name].predict(X_train)\n",
    "    count += 1\n",
    "    # add the model results back into the dataframe so we can plot the actual and predicted against all the indepedent variables\n",
    "    train_df['gboost'] = gbr_pred\n",
    "    #put the actual target value back in the dataframe so we can plot results\n",
    "    train_df['canopy_height'] = target_df\n",
    "    # store the predicted results in the same dictionary organization and the trained models\n",
    "    predictions[name] = train_df\n",
    "print('finished generating',count,'models')"
   ]
  },
  {
   "cell_type": "code",
   "execution_count": 300,
   "metadata": {},
   "outputs": [
    {
     "data": {
      "text/html": [
       "<div>\n",
       "<style scoped>\n",
       "    .dataframe tbody tr th:only-of-type {\n",
       "        vertical-align: middle;\n",
       "    }\n",
       "\n",
       "    .dataframe tbody tr th {\n",
       "        vertical-align: top;\n",
       "    }\n",
       "\n",
       "    .dataframe thead th {\n",
       "        text-align: right;\n",
       "    }\n",
       "</style>\n",
       "<table border=\"1\" class=\"dataframe\">\n",
       "  <thead>\n",
       "    <tr style=\"text-align: right;\">\n",
       "      <th></th>\n",
       "      <th>cultivar</th>\n",
       "      <th>day_offset</th>\n",
       "      <th>range</th>\n",
       "      <th>column</th>\n",
       "      <th>leaf_angle_alpha</th>\n",
       "      <th>leaf_angle_beta</th>\n",
       "      <th>leaf_angle_chi</th>\n",
       "      <th>leaf_angle_mean</th>\n",
       "      <th>gboost</th>\n",
       "      <th>canopy_height</th>\n",
       "    </tr>\n",
       "  </thead>\n",
       "  <tbody>\n",
       "    <tr>\n",
       "      <th>2017-05-16 12:00:00</th>\n",
       "      <td>6000000207</td>\n",
       "      <td>15</td>\n",
       "      <td>39</td>\n",
       "      <td>3</td>\n",
       "      <td>3.029223</td>\n",
       "      <td>1.961442</td>\n",
       "      <td>1.870532</td>\n",
       "      <td>0.420787</td>\n",
       "      <td>22.004380</td>\n",
       "      <td>22.0</td>\n",
       "    </tr>\n",
       "    <tr>\n",
       "      <th>2017-05-25 12:00:00</th>\n",
       "      <td>6000000207</td>\n",
       "      <td>24</td>\n",
       "      <td>39</td>\n",
       "      <td>3</td>\n",
       "      <td>2.109788</td>\n",
       "      <td>1.673649</td>\n",
       "      <td>1.710402</td>\n",
       "      <td>0.461486</td>\n",
       "      <td>48.003689</td>\n",
       "      <td>48.0</td>\n",
       "    </tr>\n",
       "    <tr>\n",
       "      <th>2017-06-02 12:00:00</th>\n",
       "      <td>6000000207</td>\n",
       "      <td>32</td>\n",
       "      <td>39</td>\n",
       "      <td>3</td>\n",
       "      <td>2.447258</td>\n",
       "      <td>1.713407</td>\n",
       "      <td>1.837392</td>\n",
       "      <td>0.431054</td>\n",
       "      <td>89.002743</td>\n",
       "      <td>89.0</td>\n",
       "    </tr>\n",
       "    <tr>\n",
       "      <th>2017-06-03 12:00:00</th>\n",
       "      <td>6000000207</td>\n",
       "      <td>33</td>\n",
       "      <td>39</td>\n",
       "      <td>3</td>\n",
       "      <td>3.109602</td>\n",
       "      <td>1.913697</td>\n",
       "      <td>1.942567</td>\n",
       "      <td>0.403784</td>\n",
       "      <td>95.002346</td>\n",
       "      <td>95.0</td>\n",
       "    </tr>\n",
       "    <tr>\n",
       "      <th>2017-06-05 12:00:00</th>\n",
       "      <td>6000000207</td>\n",
       "      <td>35</td>\n",
       "      <td>39</td>\n",
       "      <td>3</td>\n",
       "      <td>2.976765</td>\n",
       "      <td>1.894488</td>\n",
       "      <td>1.910338</td>\n",
       "      <td>0.409748</td>\n",
       "      <td>113.002056</td>\n",
       "      <td>113.0</td>\n",
       "    </tr>\n",
       "    <tr>\n",
       "      <th>2017-06-06 12:00:00</th>\n",
       "      <td>6000000207</td>\n",
       "      <td>36</td>\n",
       "      <td>39</td>\n",
       "      <td>3</td>\n",
       "      <td>2.805701</td>\n",
       "      <td>1.866598</td>\n",
       "      <td>1.825539</td>\n",
       "      <td>0.435253</td>\n",
       "      <td>116.001794</td>\n",
       "      <td>116.0</td>\n",
       "    </tr>\n",
       "    <tr>\n",
       "      <th>2017-06-08 12:00:00</th>\n",
       "      <td>6000000207</td>\n",
       "      <td>38</td>\n",
       "      <td>39</td>\n",
       "      <td>3</td>\n",
       "      <td>3.269036</td>\n",
       "      <td>1.791071</td>\n",
       "      <td>2.108108</td>\n",
       "      <td>0.383240</td>\n",
       "      <td>132.001485</td>\n",
       "      <td>132.0</td>\n",
       "    </tr>\n",
       "    <tr>\n",
       "      <th>2017-06-09 12:00:00</th>\n",
       "      <td>6000000207</td>\n",
       "      <td>39</td>\n",
       "      <td>39</td>\n",
       "      <td>3</td>\n",
       "      <td>2.506393</td>\n",
       "      <td>1.684057</td>\n",
       "      <td>1.881935</td>\n",
       "      <td>0.432157</td>\n",
       "      <td>141.001287</td>\n",
       "      <td>141.0</td>\n",
       "    </tr>\n",
       "    <tr>\n",
       "      <th>2017-06-10 12:00:00</th>\n",
       "      <td>6000000207</td>\n",
       "      <td>40</td>\n",
       "      <td>39</td>\n",
       "      <td>3</td>\n",
       "      <td>3.163247</td>\n",
       "      <td>1.875412</td>\n",
       "      <td>1.972441</td>\n",
       "      <td>0.410376</td>\n",
       "      <td>150.000832</td>\n",
       "      <td>150.0</td>\n",
       "    </tr>\n",
       "    <tr>\n",
       "      <th>2017-08-25 12:00:00</th>\n",
       "      <td>6000000207</td>\n",
       "      <td>116</td>\n",
       "      <td>39</td>\n",
       "      <td>3</td>\n",
       "      <td>1.934727</td>\n",
       "      <td>1.635415</td>\n",
       "      <td>1.670653</td>\n",
       "      <td>0.458132</td>\n",
       "      <td>316.996744</td>\n",
       "      <td>317.0</td>\n",
       "    </tr>\n",
       "    <tr>\n",
       "      <th>2017-08-26 12:00:00</th>\n",
       "      <td>6000000207</td>\n",
       "      <td>117</td>\n",
       "      <td>39</td>\n",
       "      <td>3</td>\n",
       "      <td>1.749690</td>\n",
       "      <td>1.547534</td>\n",
       "      <td>1.631517</td>\n",
       "      <td>0.469848</td>\n",
       "      <td>316.996744</td>\n",
       "      <td>317.0</td>\n",
       "    </tr>\n",
       "    <tr>\n",
       "      <th>2017-08-29 12:00:00</th>\n",
       "      <td>6000000207</td>\n",
       "      <td>120</td>\n",
       "      <td>39</td>\n",
       "      <td>3</td>\n",
       "      <td>2.627726</td>\n",
       "      <td>2.670668</td>\n",
       "      <td>1.454754</td>\n",
       "      <td>0.489575</td>\n",
       "      <td>317.996118</td>\n",
       "      <td>318.0</td>\n",
       "    </tr>\n",
       "    <tr>\n",
       "      <th>2017-07-05 12:00:00</th>\n",
       "      <td>6000000207</td>\n",
       "      <td>65</td>\n",
       "      <td>39</td>\n",
       "      <td>3</td>\n",
       "      <td>2.208545</td>\n",
       "      <td>1.676181</td>\n",
       "      <td>1.765525</td>\n",
       "      <td>0.446889</td>\n",
       "      <td>267.997617</td>\n",
       "      <td>268.0</td>\n",
       "    </tr>\n",
       "    <tr>\n",
       "      <th>2017-06-16 12:00:00</th>\n",
       "      <td>6000000207</td>\n",
       "      <td>46</td>\n",
       "      <td>39</td>\n",
       "      <td>3</td>\n",
       "      <td>2.402276</td>\n",
       "      <td>1.695992</td>\n",
       "      <td>1.830182</td>\n",
       "      <td>0.437703</td>\n",
       "      <td>189.999918</td>\n",
       "      <td>190.0</td>\n",
       "    </tr>\n",
       "    <tr>\n",
       "      <th>2017-06-25 12:00:00</th>\n",
       "      <td>6000000207</td>\n",
       "      <td>55</td>\n",
       "      <td>39</td>\n",
       "      <td>3</td>\n",
       "      <td>2.051962</td>\n",
       "      <td>1.663227</td>\n",
       "      <td>1.708243</td>\n",
       "      <td>0.456029</td>\n",
       "      <td>231.998696</td>\n",
       "      <td>232.0</td>\n",
       "    </tr>\n",
       "    <tr>\n",
       "      <th>2017-07-01 12:00:00</th>\n",
       "      <td>6000000207</td>\n",
       "      <td>61</td>\n",
       "      <td>39</td>\n",
       "      <td>3</td>\n",
       "      <td>2.324980</td>\n",
       "      <td>1.635286</td>\n",
       "      <td>1.880807</td>\n",
       "      <td>0.425270</td>\n",
       "      <td>251.998352</td>\n",
       "      <td>252.0</td>\n",
       "    </tr>\n",
       "    <tr>\n",
       "      <th>2017-07-02 12:00:00</th>\n",
       "      <td>6000000207</td>\n",
       "      <td>62</td>\n",
       "      <td>39</td>\n",
       "      <td>3</td>\n",
       "      <td>4.298827</td>\n",
       "      <td>2.328273</td>\n",
       "      <td>2.044120</td>\n",
       "      <td>0.378729</td>\n",
       "      <td>256.998162</td>\n",
       "      <td>257.0</td>\n",
       "    </tr>\n",
       "    <tr>\n",
       "      <th>2017-06-24 12:00:00</th>\n",
       "      <td>6000000207</td>\n",
       "      <td>54</td>\n",
       "      <td>39</td>\n",
       "      <td>3</td>\n",
       "      <td>3.086483</td>\n",
       "      <td>2.361568</td>\n",
       "      <td>1.665006</td>\n",
       "      <td>0.455954</td>\n",
       "      <td>228.999029</td>\n",
       "      <td>229.0</td>\n",
       "    </tr>\n",
       "    <tr>\n",
       "      <th>2017-07-04 12:00:00</th>\n",
       "      <td>6000000207</td>\n",
       "      <td>64</td>\n",
       "      <td>39</td>\n",
       "      <td>3</td>\n",
       "      <td>4.686466</td>\n",
       "      <td>2.249569</td>\n",
       "      <td>2.225622</td>\n",
       "      <td>0.343710</td>\n",
       "      <td>264.998007</td>\n",
       "      <td>265.0</td>\n",
       "    </tr>\n",
       "  </tbody>\n",
       "</table>\n",
       "</div>"
      ],
      "text/plain": [
       "                       cultivar  day_offset  range  column  leaf_angle_alpha  \\\n",
       "2017-05-16 12:00:00  6000000207          15     39       3          3.029223   \n",
       "2017-05-25 12:00:00  6000000207          24     39       3          2.109788   \n",
       "2017-06-02 12:00:00  6000000207          32     39       3          2.447258   \n",
       "2017-06-03 12:00:00  6000000207          33     39       3          3.109602   \n",
       "2017-06-05 12:00:00  6000000207          35     39       3          2.976765   \n",
       "2017-06-06 12:00:00  6000000207          36     39       3          2.805701   \n",
       "2017-06-08 12:00:00  6000000207          38     39       3          3.269036   \n",
       "2017-06-09 12:00:00  6000000207          39     39       3          2.506393   \n",
       "2017-06-10 12:00:00  6000000207          40     39       3          3.163247   \n",
       "2017-08-25 12:00:00  6000000207         116     39       3          1.934727   \n",
       "2017-08-26 12:00:00  6000000207         117     39       3          1.749690   \n",
       "2017-08-29 12:00:00  6000000207         120     39       3          2.627726   \n",
       "2017-07-05 12:00:00  6000000207          65     39       3          2.208545   \n",
       "2017-06-16 12:00:00  6000000207          46     39       3          2.402276   \n",
       "2017-06-25 12:00:00  6000000207          55     39       3          2.051962   \n",
       "2017-07-01 12:00:00  6000000207          61     39       3          2.324980   \n",
       "2017-07-02 12:00:00  6000000207          62     39       3          4.298827   \n",
       "2017-06-24 12:00:00  6000000207          54     39       3          3.086483   \n",
       "2017-07-04 12:00:00  6000000207          64     39       3          4.686466   \n",
       "\n",
       "                     leaf_angle_beta  leaf_angle_chi  leaf_angle_mean  \\\n",
       "2017-05-16 12:00:00         1.961442        1.870532         0.420787   \n",
       "2017-05-25 12:00:00         1.673649        1.710402         0.461486   \n",
       "2017-06-02 12:00:00         1.713407        1.837392         0.431054   \n",
       "2017-06-03 12:00:00         1.913697        1.942567         0.403784   \n",
       "2017-06-05 12:00:00         1.894488        1.910338         0.409748   \n",
       "2017-06-06 12:00:00         1.866598        1.825539         0.435253   \n",
       "2017-06-08 12:00:00         1.791071        2.108108         0.383240   \n",
       "2017-06-09 12:00:00         1.684057        1.881935         0.432157   \n",
       "2017-06-10 12:00:00         1.875412        1.972441         0.410376   \n",
       "2017-08-25 12:00:00         1.635415        1.670653         0.458132   \n",
       "2017-08-26 12:00:00         1.547534        1.631517         0.469848   \n",
       "2017-08-29 12:00:00         2.670668        1.454754         0.489575   \n",
       "2017-07-05 12:00:00         1.676181        1.765525         0.446889   \n",
       "2017-06-16 12:00:00         1.695992        1.830182         0.437703   \n",
       "2017-06-25 12:00:00         1.663227        1.708243         0.456029   \n",
       "2017-07-01 12:00:00         1.635286        1.880807         0.425270   \n",
       "2017-07-02 12:00:00         2.328273        2.044120         0.378729   \n",
       "2017-06-24 12:00:00         2.361568        1.665006         0.455954   \n",
       "2017-07-04 12:00:00         2.249569        2.225622         0.343710   \n",
       "\n",
       "                         gboost  canopy_height  \n",
       "2017-05-16 12:00:00   22.004380           22.0  \n",
       "2017-05-25 12:00:00   48.003689           48.0  \n",
       "2017-06-02 12:00:00   89.002743           89.0  \n",
       "2017-06-03 12:00:00   95.002346           95.0  \n",
       "2017-06-05 12:00:00  113.002056          113.0  \n",
       "2017-06-06 12:00:00  116.001794          116.0  \n",
       "2017-06-08 12:00:00  132.001485          132.0  \n",
       "2017-06-09 12:00:00  141.001287          141.0  \n",
       "2017-06-10 12:00:00  150.000832          150.0  \n",
       "2017-08-25 12:00:00  316.996744          317.0  \n",
       "2017-08-26 12:00:00  316.996744          317.0  \n",
       "2017-08-29 12:00:00  317.996118          318.0  \n",
       "2017-07-05 12:00:00  267.997617          268.0  \n",
       "2017-06-16 12:00:00  189.999918          190.0  \n",
       "2017-06-25 12:00:00  231.998696          232.0  \n",
       "2017-07-01 12:00:00  251.998352          252.0  \n",
       "2017-07-02 12:00:00  256.998162          257.0  \n",
       "2017-06-24 12:00:00  228.999029          229.0  \n",
       "2017-07-04 12:00:00  264.998007          265.0  "
      ]
     },
     "execution_count": 300,
     "metadata": {},
     "output_type": "execute_result"
    }
   ],
   "source": [
    "# look at the output dataframe of one cultivar,column,range tuple\n",
    "predictions[(6000000207, 3, 39)]"
   ]
  },
  {
   "cell_type": "markdown",
   "metadata": {},
   "source": [
    "Define a variation of the plotting routine that retrieves values from the trained model's predictions and compares them to the original observed values.  "
   ]
  },
  {
   "cell_type": "code",
   "execution_count": 290,
   "metadata": {},
   "outputs": [],
   "source": [
    "\n",
    "def plot_specific_cultivar(cultivar,col,rng):\n",
    "    df = predictions[(cultivar,col,rng)]\n",
    "    minCol = df['column'].min()\n",
    "    df = df.loc[df['column']==minCol]\n",
    "    print(df.shape)\n",
    "    df = df[['day_offset','canopy_height','gboost']]\n",
    "    df = df.set_index('day_offset')\n",
    "    df = df.sort_index()\n",
    "    print(df)\n",
    "    df.plot()"
   ]
  },
  {
   "cell_type": "code",
   "execution_count": 291,
   "metadata": {},
   "outputs": [
    {
     "name": "stdout",
     "output_type": "stream",
     "text": [
      "(19, 10)\n",
      "            canopy_height      gboost\n",
      "day_offset                           \n",
      "15                   22.0   22.004380\n",
      "24                   48.0   48.003689\n",
      "32                   89.0   89.002743\n",
      "33                   95.0   95.002346\n",
      "35                  113.0  113.002056\n",
      "36                  116.0  116.001794\n",
      "38                  132.0  132.001485\n",
      "39                  141.0  141.001287\n",
      "40                  150.0  150.000832\n",
      "46                  190.0  189.999918\n",
      "54                  229.0  228.999029\n",
      "55                  232.0  231.998696\n",
      "61                  252.0  251.998352\n",
      "62                  257.0  256.998162\n",
      "64                  265.0  264.998007\n",
      "65                  268.0  267.997617\n",
      "116                 317.0  316.996744\n",
      "117                 317.0  316.996744\n",
      "120                 318.0  317.996118\n"
     ]
    },
    {
     "data": {
      "image/png": "[encoded data removed]",
      "text/plain": [
       "<Figure size 432x288 with 1 Axes>"
      ]
     },
     "metadata": {
      "needs_background": "light"
     },
     "output_type": "display_data"
    }
   ],
   "source": [
    "plot_specific_cultivar(6000000207, 3, 39)"
   ]
  },
  {
   "cell_type": "code",
   "execution_count": 301,
   "metadata": {},
   "outputs": [
    {
     "name": "stdout",
     "output_type": "stream",
     "text": [
      "(9, 10)\n",
      "            canopy_height      gboost\n",
      "day_offset                           \n",
      "14                   17.0   17.001946\n",
      "18                   25.0   25.001336\n",
      "32                   83.0   83.000069\n",
      "33                   92.0   91.999766\n",
      "35                  103.0  102.999240\n",
      "36                  103.0  102.999240\n",
      "38                   98.0   97.999908\n",
      "39                  100.0   99.999590\n",
      "45                  124.0  123.998905\n",
      "cultivar = 0.0\n",
      "day_offset = 0.9816231179970161\n",
      "range = 0.0\n",
      "column = 0.0\n",
      "leaf_angle_alpha = 0.0069385988263879405\n",
      "leaf_angle_beta = 0.0021028904217576527\n",
      "leaf_angle_chi = 0.007547074015750632\n",
      "leaf_angle_mean = 0.0017883187390877555\n"
     ]
    },
    {
     "data": {
      "image/png": "[encoded data removed]",
      "text/plain": [
       "<Figure size 432x288 with 1 Axes>"
      ]
     },
     "metadata": {
      "needs_background": "light"
     },
     "output_type": "display_data"
    }
   ],
   "source": [
    "plot_specific_cultivar(6000000976,2,45)"
   ]
  },
  {
   "cell_type": "markdown",
   "metadata": {},
   "source": [
    "**the above plots show that a gradient boost model can precisely fit the observed data when trained on only the particular cultivar and location measurements.** This isn't too much of a surprise.  It shows that a single model for the whole field  can't match as well (at least when using the cultivar as an integer variable).  Ideally, we should have one-hot encoded the cultivar as a categorical variable. "
   ]
  },
  {
   "cell_type": "markdown",
   "metadata": {},
   "source": [
    "How to find the feature importances.  This is an output of the trained model. Lets look at one before we add it to the plot"
   ]
  },
  {
   "cell_type": "code",
   "execution_count": 293,
   "metadata": {},
   "outputs": [
    {
     "name": "stdout",
     "output_type": "stream",
     "text": [
      "cultivar = 0.0\n",
      "day_offset = 0.9816231179970161\n",
      "range = 0.0\n",
      "column = 0.0\n",
      "leaf_angle_alpha = 0.0069385988263879405\n",
      "leaf_angle_beta = 0.0021028904217576527\n",
      "leaf_angle_chi = 0.007547074015750632\n",
      "leaf_angle_mean = 0.0017883187390877555\n"
     ]
    }
   ],
   "source": [
    "feature_names = ['cultivar','day_offset','range','column','leaf_angle_alpha','leaf_angle_beta','leaf_angle_chi','leaf_angle_mean']\n",
    "for name, importance in zip(feature_names, gbr_models[(6000000976,2,45)].feature_importances_):\n",
    "    print(name, \"=\", importance)"
   ]
  },
  {
   "cell_type": "markdown",
   "metadata": {},
   "source": [
    "Unsurprisingly, the day, which represents how far into the growing season we are, is by far (98%) the most driving factor of calculating the model result."
   ]
  },
  {
   "cell_type": "code",
   "execution_count": 295,
   "metadata": {},
   "outputs": [],
   "source": [
    "\n",
    "def plot_specific_cultivar(cultivar,col,rng):\n",
    "    feature_names = ['cultivar','day_offset','range','column','leaf_angle_alpha','leaf_angle_beta','leaf_angle_chi','leaf_angle_mean']\n",
    "    df = predictions[(cultivar,col,rng)]\n",
    "    minCol = df['column'].min()\n",
    "    df = df.loc[df['column']==minCol]\n",
    "    print(df.shape)\n",
    "    df = df[['day_offset','canopy_height','gboost']]\n",
    "    df = df.set_index('day_offset')\n",
    "    df = df.sort_index()\n",
    "    print(df)\n",
    "    df.plot()\n",
    "    for name, importance in zip(feature_names, gbr_models[(cultivar,col,rng)].feature_importances_):\n",
    "        print(name, \"=\", importance)"
   ]
  },
  {
   "cell_type": "code",
   "execution_count": 296,
   "metadata": {},
   "outputs": [
    {
     "name": "stdout",
     "output_type": "stream",
     "text": [
      "(9, 10)\n",
      "            canopy_height      gboost\n",
      "day_offset                           \n",
      "14                   17.0   17.001946\n",
      "18                   25.0   25.001336\n",
      "32                   83.0   83.000069\n",
      "33                   92.0   91.999766\n",
      "35                  103.0  102.999240\n",
      "36                  103.0  102.999240\n",
      "38                   98.0   97.999908\n",
      "39                  100.0   99.999590\n",
      "45                  124.0  123.998905\n",
      "cultivar = 0.0\n",
      "day_offset = 0.9816231179970161\n",
      "range = 0.0\n",
      "column = 0.0\n",
      "leaf_angle_alpha = 0.0069385988263879405\n",
      "leaf_angle_beta = 0.0021028904217576527\n",
      "leaf_angle_chi = 0.007547074015750632\n",
      "leaf_angle_mean = 0.0017883187390877555\n"
     ]
    },
    {
     "data": {
      "image/png": "[encoded data removed]",
      "text/plain": [
       "<Figure size 432x288 with 1 Axes>"
      ]
     },
     "metadata": {
      "needs_background": "light"
     },
     "output_type": "display_data"
    }
   ],
   "source": [
    "plot_specific_cultivar(6000000976,2,45)"
   ]
  },
  {
   "cell_type": "code",
   "execution_count": 46,
   "metadata": {},
   "outputs": [
    {
     "data": {
      "text/plain": [
       "Index(['canopy_height', 'column', 'cultivar', 'date', 'leaf_angle_alpha',\n",
       "       'leaf_angle_beta', 'leaf_angle_chi', 'leaf_angle_mean', 'range',\n",
       "       'season', 'day_offset'],\n",
       "      dtype='object')"
      ]
     },
     "execution_count": 46,
     "metadata": {},
     "output_type": "execute_result"
    }
   ],
   "source": [
    "full_df.columns"
   ]
  },
  {
   "cell_type": "markdown",
   "metadata": {},
   "source": [
    "**test how to convert column to categorical**"
   ]
  },
  {
   "cell_type": "code",
   "execution_count": null,
   "metadata": {},
   "outputs": [],
   "source": [
    "# make sure the cultivar is a categorical type variable\n",
    "full_df = full_df[['cultivar','column','range','date','season','day_offset','leaf_angle_alpha','leaf_angle_beta','leaf_angle_chi','leaf_angle_mean']]\n",
    "full_df['cultivar'] = pd.Categorical(full_df['cultivar'])\n",
    "full_df.dtypes"
   ]
  },
  {
   "cell_type": "code",
   "execution_count": 308,
   "metadata": {},
   "outputs": [],
   "source": [
    "train = full_df\n",
    "for col in train.dtypes[train.dtypes == 'category'].index:\n",
    "    for_dummy = train.pop(col)\n",
    "    train = pd.concat([train, pd.get_dummies(for_dummy, prefix=col)], axis=1)"
   ]
  },
  {
   "cell_type": "markdown",
   "metadata": {},
   "source": [
    "## train-test splitting on time sequence data?"
   ]
  },
  {
   "cell_type": "markdown",
   "metadata": {},
   "source": [
    "Sci-kit learn includes a special TimeSeriesSplit operation that takes more of the sequence for training each time, and pulls the 'immediately after training' value for the testing prediction.  This will train on a small subset of the input originally and eventually use most of the input for training.  Overall, it will yield an accuracy representative of querying at any time during the sequence. "
   ]
  },
  {
   "cell_type": "markdown",
   "metadata": {},
   "source": [
    "The problem of using this on the separated cultivar-range-column models is that very few datapoints are available for training. If we further reduce the number of points through train/test split, accuracy could suffer.  However, it is representative of the data available at each point during the season, so this is realistic.  Let's modify the training above  to use a train/test split.  At the same time, lets one-hot encode the cultivars."
   ]
  },
  {
   "cell_type": "code",
   "execution_count": 309,
   "metadata": {},
   "outputs": [
    {
     "data": {
      "text/plain": [
       "Index(['column', 'range', 'date', 'season', 'day_offset', 'leaf_angle_alpha',\n",
       "       'leaf_angle_beta', 'leaf_angle_chi', 'leaf_angle_mean',\n",
       "       'cultivar_6000000207',\n",
       "       ...\n",
       "       'cultivar_6000001029', 'cultivar_6000001054', 'cultivar_6000001055',\n",
       "       'cultivar_6000001056', 'cultivar_6000001057', 'cultivar_6000001059',\n",
       "       'cultivar_6000001060', 'cultivar_6000001061', 'cultivar_6000001062',\n",
       "       'cultivar_6000001063'],\n",
       "      dtype='object', length=360)"
      ]
     },
     "execution_count": 309,
     "metadata": {},
     "output_type": "execute_result"
    }
   ],
   "source": [
    "train.columns"
   ]
  },
  {
   "cell_type": "code",
   "execution_count": 84,
   "metadata": {},
   "outputs": [
    {
     "name": "stderr",
     "output_type": "stream",
     "text": [
      "/Users/curtislisle/anaconda3/lib/python3.7/site-packages/ipykernel_launcher.py:16: SettingWithCopyWarning: \n",
      "A value is trying to be set on a copy of a slice from a DataFrame.\n",
      "Try using .loc[row_indexer,col_indexer] = value instead\n",
      "\n",
      "See the caveats in the documentation: http://pandas.pydata.org/pandas-docs/stable/indexing.html#indexing-view-versus-copy\n",
      "  app.launch_new_instance()\n"
     ]
    },
    {
     "name": "stdout",
     "output_type": "stream",
     "text": [
      "shape X: (21, 8)  y: (21,)\n",
      "X_train: [[6000000464 15.0 51 3 3.25326410587 2.15918306701 1.84380257819\n",
      "  0.414221305212]\n",
      " [6000000464 18.0 51 3 2.94826514793 2.01419013348 1.8075966298400004\n",
      "  0.431598041787]\n",
      " [6000000464 23.0 51 3 1.7511163258900002 1.66705407447 1.54119024613\n",
      "  0.494613883754]\n",
      " [6000000464 24.0 51 3 2.19170262675 1.8679376954499998 1.62562900495\n",
      "  0.469079643023]\n",
      " [6000000464 32.0 51 3 3.5928799038999997 2.1606193934299998 1.9283146553\n",
      "  0.40532649796400005]\n",
      " [6000000464 34.0 51 3 3.20477135316 2.03687477467 1.88394704345\n",
      "  0.41585510941200005]\n",
      " [6000000464 36.0 51 3 3.40775289944 2.1041825957299998 1.90204810526\n",
      "  0.41438958781199997]\n",
      " [6000000464 38.0 51 3 4.2124949121599995 2.25164810824\n",
      "  2.0604689307900004 0.38107418415399996]\n",
      " [6000000464 39.0 51 3 3.23512994709 1.99929908999 1.9224658635\n",
      "  0.412805160034]\n",
      " [6000000464 40.0 51 3 2.77639680201 1.85075021058 1.8885756006299999\n",
      "  0.41510408940300003]\n",
      " [6000000464 41.0 51 3 3.0595421391400004 1.86790320508 1.95027669178\n",
      "  0.412133818686]\n",
      " [6000000464 44.0 51 3 3.24247758462 1.93164125477 1.97913432129\n",
      "  0.402507233118]\n",
      " [6000000464 56.0 51 3 2.47638200943 1.7215131018099998\n",
      "  1.8212637867900001 0.44100594719999997]\n",
      " [6000000464 47.0 51 3 3.1375167635500003 1.8127001163299998\n",
      "  2.03955542392 0.397050502077]\n",
      " [6000000464 55.0 51 3 2.66453792043 1.69844979087 1.9700587219799999\n",
      "  0.40600389079000004]\n",
      " [6000000464 57.0 51 3 3.4083684372099996 1.9450404471400002\n",
      "  2.04808441975 0.38395380492799996]\n",
      " [6000000464 58.0 51 3 3.98181884753 1.9975937661099996 2.20964378594\n",
      "  0.35414748575800004]] y_train: [ 16.  18.  31.  37.  70.  89.  97. 120. 125. 133. 138. 157. 241. 183.\n",
      " 238. 248. 252.]\n",
      "X_test: [[6000000464 60.0 51 3 1.909342715 1.73478673058 1.5834325497400001\n",
      "  0.485911712492]\n",
      " [6000000464 61.0 51 3 2.10972041331 1.7964194816599999\n",
      "  1.6274107507299997 0.474432664147]\n",
      " [6000000464 62.0 51 3 3.20739383324 1.84925654336 2.0636416843400003\n",
      "  0.380860236285]\n",
      " [6000000464 54.0 51 3 2.9111085015400002 1.63727401815 2.13988248196\n",
      "  0.390122364735]] y_test: [261. 264. 269. 225.]\n",
      "[0 1 2 3 4 5 6] [ 7  8  9 10 11 12 13]\n",
      "predictions: [114.25182053 121.41467107 122.00348456  69.7722769   69.7722769\n",
      "  80.27396664  78.52685462]\n",
      "[ 0  1  2  3  4  5  6  7  8  9 10 11 12 13] [14 15 16 17 18 19 20]\n",
      "predictions: [291.99650718 265.07232983 265.07232983 265.07232983 291.99650718\n",
      " 152.02158302 265.07232983]\n",
      "shape X: (21, 8)  y: (21,)\n",
      "X_train: [[6000000228 19.0 40 14 2.7906560083 2.04413151183 1.73534462475\n",
      "  0.441877991649]\n",
      " [6000000228 24.0 40 14 2.2055647624900003 1.80144033521\n",
      "  1.6796961337799998 0.45895432310500006]\n",
      " [6000000228 32.0 40 14 3.8398695568699996 2.16910761412 2.00743186378\n",
      "  0.390038314176]\n",
      " [6000000228 33.0 40 14 4.337001611619999 2.4282182202300002 1.9951958173\n",
      "  0.384151285353]\n",
      " [6000000228 35.0 40 14 3.5995654499 2.0569006180000002 2.01570915454\n",
      "  0.386505583713]\n",
      " [6000000228 36.0 40 14 4.7383464482 2.88328426672 1.8752139832199999\n",
      "  0.40056777441200003]\n",
      " [6000000228 38.0 40 14 4.027962904080001 1.95711108337 2.23322124813\n",
      "  0.364568978107]\n",
      " [6000000228 39.0 40 14 3.62070081191 2.00928263662 2.03557535339\n",
      "  0.397134930884]\n",
      " [6000000228 40.0 40 14 3.68200095734 1.9881575051299998 2.07144948629\n",
      "  0.391278924943]\n",
      " [6000000228 45.0 40 14 3.31281399999 1.9534903563 1.96618468163\n",
      "  0.409954718243]\n",
      " [6000000228 116.0 40 14 1.2696030752 1.32525609604 1.51957709354\n",
      "  0.50599040977]\n",
      " [6000000228 117.0 40 14 1.1736358784899998 1.29732833004 1.46559807406\n",
      "  0.51802306022]\n",
      " [6000000228 65.0 40 14 2.38609182436 1.70966789917 1.8144001487\n",
      "  0.438516349671]\n",
      " [6000000228 46.0 40 14 2.9035771391100003 1.9054704226499999\n",
      "  1.84926019993 0.435476032693]] y_train: [ 25.  44.  80.  82. 109. 114. 130. 142. 150. 180. 357. 356. 292. 186.]\n",
      "X_test: [[6000000228 57.0 40 14 2.58225875657 1.74546468018 1.84299899151\n",
      "  0.43836018683300004]\n",
      " [6000000228 58.0 40 14 2.6561213916499997 1.7630144205900002\n",
      "  1.8600430020900003 0.43447565110200004]\n",
      " [6000000228 60.0 40 14 2.7580258067699996 1.8132877779900003\n",
      "  1.8630897544999998 0.433064189793]\n",
      " [6000000228 61.0 40 14 2.8324994504000003 1.8084019155700002\n",
      "  1.89243722526 0.43016229920800003]\n",
      " [6000000228 62.0 40 14 2.59080385368 1.7427842988099997\n",
      "  1.8640930662900002 0.431069786489]\n",
      " [6000000228 54.0 40 14 3.91489111054 2.25602768094 1.94386278336\n",
      "  0.4089322439]\n",
      " [6000000228 68.0 40 14 2.59954237727 1.85508884777 1.7725285032900002\n",
      "  0.444793178685]] y_test: [256. 257. 266. 275. 278. 215. 291.]\n",
      "[0 1 2 3 4 5 6] [ 7  8  9 10 11 12 13]\n",
      "predictions: [92.7299375  85.2464297  58.63864305 58.63864305 58.15776991 58.15776991\n",
      " 58.15776991]\n",
      "[ 0  1  2  3  4  5  6  7  8  9 10 11 12 13] [14 15 16 17 18 19 20]\n",
      "predictions: [137.20978775 237.67045723 235.59156338 247.50361867 237.70859489\n",
      " 129.49457213 237.51177326]\n"
     ]
    },
    {
     "name": "stderr",
     "output_type": "stream",
     "text": [
      "/Users/curtislisle/anaconda3/lib/python3.7/site-packages/ipykernel_launcher.py:16: SettingWithCopyWarning: \n",
      "A value is trying to be set on a copy of a slice from a DataFrame.\n",
      "Try using .loc[row_indexer,col_indexer] = value instead\n",
      "\n",
      "See the caveats in the documentation: http://pandas.pydata.org/pandas-docs/stable/indexing.html#indexing-view-versus-copy\n",
      "  app.launch_new_instance()\n",
      "/Users/curtislisle/anaconda3/lib/python3.7/site-packages/ipykernel_launcher.py:16: SettingWithCopyWarning: \n",
      "A value is trying to be set on a copy of a slice from a DataFrame.\n",
      "Try using .loc[row_indexer,col_indexer] = value instead\n",
      "\n",
      "See the caveats in the documentation: http://pandas.pydata.org/pandas-docs/stable/indexing.html#indexing-view-versus-copy\n",
      "  app.launch_new_instance()\n"
     ]
    },
    {
     "name": "stdout",
     "output_type": "stream",
     "text": [
      "shape X: (21, 8)  y: (21,)\n",
      "X_train: [[6000000229 15.0 43 12 2.5739754989400003 1.8378362654499998\n",
      "  1.79587079551 0.438646405863]\n",
      " [6000000229 18.0 43 12 3.68080075639 2.36744244885 1.8551067013799998\n",
      "  0.408555911681]\n",
      " [6000000229 32.0 43 12 3.52156761947 2.1588869598700002 1.89949729715\n",
      "  0.41174904805699997]\n",
      " [6000000229 33.0 43 12 4.11011620995 2.32867843901 2.0060039562\n",
      "  0.37723714851400003]\n",
      " [6000000229 35.0 43 12 4.54148736417 2.4329015929599995 2.07938224024\n",
      "  0.356822503129]\n",
      " [6000000229 36.0 43 12 4.8873069110300005 2.58521277077 2.05632344159\n",
      "  0.36767477536700005]\n",
      " [6000000229 38.0 43 12 5.14698001254 2.3288985602900003\n",
      "  2.2908886088599996 0.333142630973]\n",
      " [6000000229 39.0 43 12 4.25946949764 2.26784149806 2.10182262649\n",
      "  0.358463821769]\n",
      " [6000000229 40.0 43 12 3.8964829147300004 2.22098511942 2.00247878339\n",
      "  0.384768582025]\n",
      " [6000000229 45.0 43 12 2.8163682310900002 1.8628993201\n",
      "  1.8573201705000002 0.429078241983]\n",
      " [6000000229 117.0 43 12 2.24453098158 1.5814908358200002 1.86249881246\n",
      "  0.42816006093099995]\n",
      " [6000000229 120.0 43 12 1.7908778722499998 1.42776860023\n",
      "  1.7770380733000002 0.452859047107]\n",
      " [6000000229 65.0 43 12 1.25024641622 1.35570757444 1.4883810186200002\n",
      "  0.515893468077]\n",
      " [6000000229 46.0 43 12 2.27981661519 1.6505514475100003 1.79946495083\n",
      "  0.447543995985]] y_train: [ 17.  21.  74.  79.  91.  95. 111. 121. 128. 161. 377. 369. 274. 174.]\n",
      "X_test: [[6000000229 55.0 43 12 3.7185708178 2.13013239662 1.99598219943\n",
      "  0.39161586449]\n",
      " [6000000229 57.0 43 12 3.94892019427 2.23692584852 1.9816659251900002\n",
      "  0.396669672488]\n",
      " [6000000229 60.0 43 12 4.05512052205 2.36636692021 1.9489290214400001\n",
      "  0.395754811347]\n",
      " [6000000229 61.0 43 12 3.46176732466 2.09781207701 1.9133255732700003\n",
      "  0.415151868705]\n",
      " [6000000229 62.0 43 12 4.04177708636 2.38057493253 1.92796543721\n",
      "  0.40311240686800004]\n",
      " [6000000229 54.0 43 12 4.90461236614 2.53451985344 2.08562716497\n",
      "  0.364313160423]\n",
      " [6000000229 64.0 43 12 3.99665060367 2.27025064956 1.9828958269699999\n",
      "  0.39438861446999995]] y_test: [236. 242. 253. 261. 260. 225. 272.]\n",
      "[0 1 2 3 4 5 6] [ 7  8  9 10 11 12 13]\n",
      "predictions: [76.34865604 91.06491758 92.07945607 91.06491758 88.4140355  63.14283945\n",
      " 88.4140355 ]\n",
      "[ 0  1  2  3  4  5  6  7  8  9 10 11 12 13] [14 15 16 17 18 19 20]\n",
      "predictions: [217.77273998 168.1003571  168.1003571  240.99635919 227.13311416\n",
      " 168.10023872 206.15192725]\n",
      "finished generating 3 models\n"
     ]
    }
   ],
   "source": [
    "from sklearn.model_selection import TimeSeriesSplit\n",
    "from sklearn.model_selection import train_test_split\n",
    "from sklearn.model_selection import ShuffleSplit\n",
    "\n",
    "from sklearn.ensemble import GradientBoostingRegressor\n",
    "#warnings.warn(NSPLIT_WARNING, FutureWarning)\n",
    "\n",
    "gbr_models2 = {}\n",
    "predictions2 = {}\n",
    "count = 0\n",
    "grouped2 = full_df.groupby(['cultivar','column','range'])\n",
    "for name,group in grouped2:\n",
    "    #print(name)\n",
    "    # pick the features to use for training\n",
    "    train_df = group[['cultivar','day_offset','range','column','leaf_angle_alpha','leaf_angle_beta','leaf_angle_chi','leaf_angle_mean']]\n",
    "    train_df['cultivar'] = pd.Categorical(train_df['cultivar'])\n",
    "    # identify the 'target' feature to try to predict\n",
    "    target_df = group['canopy_height']\n",
    "    if len(train_df) > 20:\n",
    "        X = train_df.values\n",
    "        y = target_df.values\n",
    "        count += 1\n",
    "        print('shape X:',X.shape,' y:',y.shape)\n",
    "        tss= TimeSeriesSplit(n_splits=2)\n",
    "        #tss= ShuffleSplit()\n",
    "        print(\"X_train:\",X_train,\"y_train:\",y_train)\n",
    "        print(\"X_test:\",X_test,\"y_test:\",y_test)\n",
    "        for train_index, test_index in tss.split(X):\n",
    "            print(train_index,test_index)\n",
    "            X_train, X_test = X[train_index], X[test_index]\n",
    "            y_train, y_test = y[train_index], y[test_index]\n",
    "\n",
    "            # train a model for this cultivar in this location and store the trained model in a dictionary\n",
    "            gbr_models2[name] = GradientBoostingRegressor(n_estimators=100, learning_rate=0.1, max_depth=8, random_state=0, loss='ls').fit(X_train, y_train)\n",
    "            gbr_pred = gbr_models2[name].predict(X_test)\n",
    "            print('predictions:',gbr_pred)\n",
    "\n",
    "            predictions2[name] = gbr_models2[name].score(X_test,y_test)\n",
    "            #print('training set score: {:.2f}'.format(gbr_models2[name].score(X_train,y_train)))\n",
    "            #print('test set score: {:.2f}'.format(gbr_models2[name].score(X_test,y_test)))\n",
    "    if count > 2:\n",
    "        break\n",
    "print('finished generating',count,'models')"
   ]
  },
  {
   "cell_type": "code",
   "execution_count": 81,
   "metadata": {},
   "outputs": [
    {
     "data": {
      "text/plain": [
       "{(6000000228, 14, 40): 0.13974181153960463,\n",
       " (6000000229, 12, 43): 0.19126496002314552,\n",
       " (6000000464, 3, 51): -0.29243135338180615}"
      ]
     },
     "execution_count": 81,
     "metadata": {},
     "output_type": "execute_result"
    }
   ],
   "source": [
    "predictions2"
   ]
  },
  {
   "cell_type": "code",
   "execution_count": 310,
   "metadata": {},
   "outputs": [
    {
     "data": {
      "text/html": [
       "<div>\n",
       "<style scoped>\n",
       "    .dataframe tbody tr th:only-of-type {\n",
       "        vertical-align: middle;\n",
       "    }\n",
       "\n",
       "    .dataframe tbody tr th {\n",
       "        vertical-align: top;\n",
       "    }\n",
       "\n",
       "    .dataframe thead th {\n",
       "        text-align: right;\n",
       "    }\n",
       "</style>\n",
       "<table border=\"1\" class=\"dataframe\">\n",
       "  <thead>\n",
       "    <tr style=\"text-align: right;\">\n",
       "      <th></th>\n",
       "      <th>column</th>\n",
       "      <th>range</th>\n",
       "      <th>date</th>\n",
       "      <th>season</th>\n",
       "      <th>day_offset</th>\n",
       "      <th>leaf_angle_alpha</th>\n",
       "      <th>leaf_angle_beta</th>\n",
       "      <th>leaf_angle_chi</th>\n",
       "      <th>leaf_angle_mean</th>\n",
       "      <th>cultivar_6000000207</th>\n",
       "      <th>...</th>\n",
       "      <th>cultivar_6000001029</th>\n",
       "      <th>cultivar_6000001054</th>\n",
       "      <th>cultivar_6000001055</th>\n",
       "      <th>cultivar_6000001056</th>\n",
       "      <th>cultivar_6000001057</th>\n",
       "      <th>cultivar_6000001059</th>\n",
       "      <th>cultivar_6000001060</th>\n",
       "      <th>cultivar_6000001061</th>\n",
       "      <th>cultivar_6000001062</th>\n",
       "      <th>cultivar_6000001063</th>\n",
       "    </tr>\n",
       "  </thead>\n",
       "  <tbody>\n",
       "    <tr>\n",
       "      <th>2017-05-13 12:00:00</th>\n",
       "      <td>2</td>\n",
       "      <td>43</td>\n",
       "      <td>2017-05-13 12:00:00</td>\n",
       "      <td>4</td>\n",
       "      <td>12</td>\n",
       "      <td>2.695956</td>\n",
       "      <td>1.977380</td>\n",
       "      <td>1.756464</td>\n",
       "      <td>0.435924</td>\n",
       "      <td>0</td>\n",
       "      <td>...</td>\n",
       "      <td>0</td>\n",
       "      <td>0</td>\n",
       "      <td>0</td>\n",
       "      <td>0</td>\n",
       "      <td>0</td>\n",
       "      <td>0</td>\n",
       "      <td>0</td>\n",
       "      <td>0</td>\n",
       "      <td>0</td>\n",
       "      <td>0</td>\n",
       "    </tr>\n",
       "    <tr>\n",
       "      <th>2017-05-13 12:00:00</th>\n",
       "      <td>15</td>\n",
       "      <td>35</td>\n",
       "      <td>2017-05-13 12:00:00</td>\n",
       "      <td>4</td>\n",
       "      <td>12</td>\n",
       "      <td>3.265980</td>\n",
       "      <td>2.018623</td>\n",
       "      <td>1.941012</td>\n",
       "      <td>0.396782</td>\n",
       "      <td>0</td>\n",
       "      <td>...</td>\n",
       "      <td>0</td>\n",
       "      <td>0</td>\n",
       "      <td>0</td>\n",
       "      <td>0</td>\n",
       "      <td>0</td>\n",
       "      <td>0</td>\n",
       "      <td>0</td>\n",
       "      <td>0</td>\n",
       "      <td>0</td>\n",
       "      <td>0</td>\n",
       "    </tr>\n",
       "    <tr>\n",
       "      <th>2017-05-13 12:00:00</th>\n",
       "      <td>2</td>\n",
       "      <td>42</td>\n",
       "      <td>2017-05-13 12:00:00</td>\n",
       "      <td>4</td>\n",
       "      <td>12</td>\n",
       "      <td>2.159610</td>\n",
       "      <td>1.809209</td>\n",
       "      <td>1.638744</td>\n",
       "      <td>0.471944</td>\n",
       "      <td>0</td>\n",
       "      <td>...</td>\n",
       "      <td>0</td>\n",
       "      <td>0</td>\n",
       "      <td>0</td>\n",
       "      <td>0</td>\n",
       "      <td>0</td>\n",
       "      <td>0</td>\n",
       "      <td>0</td>\n",
       "      <td>0</td>\n",
       "      <td>0</td>\n",
       "      <td>0</td>\n",
       "    </tr>\n",
       "    <tr>\n",
       "      <th>2017-05-13 12:00:00</th>\n",
       "      <td>4</td>\n",
       "      <td>30</td>\n",
       "      <td>2017-05-13 12:00:00</td>\n",
       "      <td>4</td>\n",
       "      <td>12</td>\n",
       "      <td>3.042180</td>\n",
       "      <td>2.198751</td>\n",
       "      <td>1.732985</td>\n",
       "      <td>0.444099</td>\n",
       "      <td>0</td>\n",
       "      <td>...</td>\n",
       "      <td>0</td>\n",
       "      <td>0</td>\n",
       "      <td>0</td>\n",
       "      <td>0</td>\n",
       "      <td>0</td>\n",
       "      <td>0</td>\n",
       "      <td>0</td>\n",
       "      <td>0</td>\n",
       "      <td>0</td>\n",
       "      <td>0</td>\n",
       "    </tr>\n",
       "    <tr>\n",
       "      <th>2017-05-15 12:00:00</th>\n",
       "      <td>2</td>\n",
       "      <td>45</td>\n",
       "      <td>2017-05-15 12:00:00</td>\n",
       "      <td>4</td>\n",
       "      <td>14</td>\n",
       "      <td>2.305345</td>\n",
       "      <td>1.872028</td>\n",
       "      <td>1.665387</td>\n",
       "      <td>0.462600</td>\n",
       "      <td>0</td>\n",
       "      <td>...</td>\n",
       "      <td>0</td>\n",
       "      <td>0</td>\n",
       "      <td>0</td>\n",
       "      <td>0</td>\n",
       "      <td>0</td>\n",
       "      <td>0</td>\n",
       "      <td>0</td>\n",
       "      <td>0</td>\n",
       "      <td>0</td>\n",
       "      <td>0</td>\n",
       "    </tr>\n",
       "  </tbody>\n",
       "</table>\n",
       "<p>5 rows × 360 columns</p>\n",
       "</div>"
      ],
      "text/plain": [
       "                     column  range                date  season  day_offset  \\\n",
       "2017-05-13 12:00:00       2     43 2017-05-13 12:00:00       4          12   \n",
       "2017-05-13 12:00:00      15     35 2017-05-13 12:00:00       4          12   \n",
       "2017-05-13 12:00:00       2     42 2017-05-13 12:00:00       4          12   \n",
       "2017-05-13 12:00:00       4     30 2017-05-13 12:00:00       4          12   \n",
       "2017-05-15 12:00:00       2     45 2017-05-15 12:00:00       4          14   \n",
       "\n",
       "                     leaf_angle_alpha  leaf_angle_beta  leaf_angle_chi  \\\n",
       "2017-05-13 12:00:00          2.695956         1.977380        1.756464   \n",
       "2017-05-13 12:00:00          3.265980         2.018623        1.941012   \n",
       "2017-05-13 12:00:00          2.159610         1.809209        1.638744   \n",
       "2017-05-13 12:00:00          3.042180         2.198751        1.732985   \n",
       "2017-05-15 12:00:00          2.305345         1.872028        1.665387   \n",
       "\n",
       "                     leaf_angle_mean  cultivar_6000000207  ...  \\\n",
       "2017-05-13 12:00:00         0.435924                    0  ...   \n",
       "2017-05-13 12:00:00         0.396782                    0  ...   \n",
       "2017-05-13 12:00:00         0.471944                    0  ...   \n",
       "2017-05-13 12:00:00         0.444099                    0  ...   \n",
       "2017-05-15 12:00:00         0.462600                    0  ...   \n",
       "\n",
       "                     cultivar_6000001029  cultivar_6000001054  \\\n",
       "2017-05-13 12:00:00                    0                    0   \n",
       "2017-05-13 12:00:00                    0                    0   \n",
       "2017-05-13 12:00:00                    0                    0   \n",
       "2017-05-13 12:00:00                    0                    0   \n",
       "2017-05-15 12:00:00                    0                    0   \n",
       "\n",
       "                     cultivar_6000001055  cultivar_6000001056  \\\n",
       "2017-05-13 12:00:00                    0                    0   \n",
       "2017-05-13 12:00:00                    0                    0   \n",
       "2017-05-13 12:00:00                    0                    0   \n",
       "2017-05-13 12:00:00                    0                    0   \n",
       "2017-05-15 12:00:00                    0                    0   \n",
       "\n",
       "                     cultivar_6000001057  cultivar_6000001059  \\\n",
       "2017-05-13 12:00:00                    0                    0   \n",
       "2017-05-13 12:00:00                    0                    0   \n",
       "2017-05-13 12:00:00                    0                    0   \n",
       "2017-05-13 12:00:00                    0                    0   \n",
       "2017-05-15 12:00:00                    0                    0   \n",
       "\n",
       "                     cultivar_6000001060  cultivar_6000001061  \\\n",
       "2017-05-13 12:00:00                    0                    0   \n",
       "2017-05-13 12:00:00                    0                    0   \n",
       "2017-05-13 12:00:00                    0                    0   \n",
       "2017-05-13 12:00:00                    0                    0   \n",
       "2017-05-15 12:00:00                    0                    0   \n",
       "\n",
       "                     cultivar_6000001062  cultivar_6000001063  \n",
       "2017-05-13 12:00:00                    0                    0  \n",
       "2017-05-13 12:00:00                    0                    0  \n",
       "2017-05-13 12:00:00                    0                    0  \n",
       "2017-05-13 12:00:00                    0                    0  \n",
       "2017-05-15 12:00:00                    0                    0  \n",
       "\n",
       "[5 rows x 360 columns]"
      ]
     },
     "execution_count": 310,
     "metadata": {},
     "output_type": "execute_result"
    }
   ],
   "source": [
    "train.head()"
   ]
  },
  {
   "cell_type": "code",
   "execution_count": 311,
   "metadata": {},
   "outputs": [
    {
     "data": {
      "text/html": [
       "<div>\n",
       "<style scoped>\n",
       "    .dataframe tbody tr th:only-of-type {\n",
       "        vertical-align: middle;\n",
       "    }\n",
       "\n",
       "    .dataframe tbody tr th {\n",
       "        vertical-align: top;\n",
       "    }\n",
       "\n",
       "    .dataframe thead th {\n",
       "        text-align: right;\n",
       "    }\n",
       "</style>\n",
       "<table border=\"1\" class=\"dataframe\">\n",
       "  <thead>\n",
       "    <tr style=\"text-align: right;\">\n",
       "      <th></th>\n",
       "      <th>column</th>\n",
       "      <th>range</th>\n",
       "      <th>date</th>\n",
       "      <th>season</th>\n",
       "      <th>day_offset</th>\n",
       "      <th>leaf_angle_alpha</th>\n",
       "      <th>leaf_angle_beta</th>\n",
       "      <th>leaf_angle_chi</th>\n",
       "      <th>leaf_angle_mean</th>\n",
       "      <th>cultivar_6000000207</th>\n",
       "      <th>...</th>\n",
       "      <th>cultivar_6000001029</th>\n",
       "      <th>cultivar_6000001054</th>\n",
       "      <th>cultivar_6000001055</th>\n",
       "      <th>cultivar_6000001056</th>\n",
       "      <th>cultivar_6000001057</th>\n",
       "      <th>cultivar_6000001059</th>\n",
       "      <th>cultivar_6000001060</th>\n",
       "      <th>cultivar_6000001061</th>\n",
       "      <th>cultivar_6000001062</th>\n",
       "      <th>cultivar_6000001063</th>\n",
       "    </tr>\n",
       "  </thead>\n",
       "  <tbody>\n",
       "    <tr>\n",
       "      <th>2017-07-04 12:00:00</th>\n",
       "      <td>3</td>\n",
       "      <td>48</td>\n",
       "      <td>2017-07-04 12:00:00</td>\n",
       "      <td>4</td>\n",
       "      <td>64</td>\n",
       "      <td>2.668148</td>\n",
       "      <td>1.771867</td>\n",
       "      <td>1.910103</td>\n",
       "      <td>0.405739</td>\n",
       "      <td>0</td>\n",
       "      <td>...</td>\n",
       "      <td>0</td>\n",
       "      <td>0</td>\n",
       "      <td>0</td>\n",
       "      <td>0</td>\n",
       "      <td>0</td>\n",
       "      <td>0</td>\n",
       "      <td>0</td>\n",
       "      <td>0</td>\n",
       "      <td>0</td>\n",
       "      <td>0</td>\n",
       "    </tr>\n",
       "    <tr>\n",
       "      <th>2017-07-04 12:00:00</th>\n",
       "      <td>4</td>\n",
       "      <td>48</td>\n",
       "      <td>2017-07-04 12:00:00</td>\n",
       "      <td>4</td>\n",
       "      <td>64</td>\n",
       "      <td>1.961894</td>\n",
       "      <td>1.573487</td>\n",
       "      <td>1.722770</td>\n",
       "      <td>0.466432</td>\n",
       "      <td>0</td>\n",
       "      <td>...</td>\n",
       "      <td>0</td>\n",
       "      <td>0</td>\n",
       "      <td>0</td>\n",
       "      <td>0</td>\n",
       "      <td>0</td>\n",
       "      <td>0</td>\n",
       "      <td>0</td>\n",
       "      <td>0</td>\n",
       "      <td>0</td>\n",
       "      <td>0</td>\n",
       "    </tr>\n",
       "    <tr>\n",
       "      <th>2017-07-04 12:00:00</th>\n",
       "      <td>7</td>\n",
       "      <td>49</td>\n",
       "      <td>2017-07-04 12:00:00</td>\n",
       "      <td>4</td>\n",
       "      <td>64</td>\n",
       "      <td>3.069223</td>\n",
       "      <td>2.013949</td>\n",
       "      <td>1.869177</td>\n",
       "      <td>0.415079</td>\n",
       "      <td>0</td>\n",
       "      <td>...</td>\n",
       "      <td>0</td>\n",
       "      <td>0</td>\n",
       "      <td>0</td>\n",
       "      <td>0</td>\n",
       "      <td>0</td>\n",
       "      <td>0</td>\n",
       "      <td>0</td>\n",
       "      <td>0</td>\n",
       "      <td>0</td>\n",
       "      <td>0</td>\n",
       "    </tr>\n",
       "    <tr>\n",
       "      <th>2017-07-04 12:00:00</th>\n",
       "      <td>12</td>\n",
       "      <td>49</td>\n",
       "      <td>2017-07-04 12:00:00</td>\n",
       "      <td>4</td>\n",
       "      <td>64</td>\n",
       "      <td>1.109560</td>\n",
       "      <td>1.352693</td>\n",
       "      <td>1.389389</td>\n",
       "      <td>0.542211</td>\n",
       "      <td>0</td>\n",
       "      <td>...</td>\n",
       "      <td>0</td>\n",
       "      <td>0</td>\n",
       "      <td>0</td>\n",
       "      <td>0</td>\n",
       "      <td>0</td>\n",
       "      <td>0</td>\n",
       "      <td>0</td>\n",
       "      <td>0</td>\n",
       "      <td>0</td>\n",
       "      <td>0</td>\n",
       "    </tr>\n",
       "    <tr>\n",
       "      <th>2017-07-04 12:00:00</th>\n",
       "      <td>15</td>\n",
       "      <td>54</td>\n",
       "      <td>2017-07-04 12:00:00</td>\n",
       "      <td>4</td>\n",
       "      <td>64</td>\n",
       "      <td>4.107072</td>\n",
       "      <td>2.462428</td>\n",
       "      <td>1.925890</td>\n",
       "      <td>0.393302</td>\n",
       "      <td>0</td>\n",
       "      <td>...</td>\n",
       "      <td>0</td>\n",
       "      <td>0</td>\n",
       "      <td>1</td>\n",
       "      <td>0</td>\n",
       "      <td>0</td>\n",
       "      <td>0</td>\n",
       "      <td>0</td>\n",
       "      <td>0</td>\n",
       "      <td>0</td>\n",
       "      <td>0</td>\n",
       "    </tr>\n",
       "  </tbody>\n",
       "</table>\n",
       "<p>5 rows × 360 columns</p>\n",
       "</div>"
      ],
      "text/plain": [
       "                     column  range                date  season  day_offset  \\\n",
       "2017-07-04 12:00:00       3     48 2017-07-04 12:00:00       4          64   \n",
       "2017-07-04 12:00:00       4     48 2017-07-04 12:00:00       4          64   \n",
       "2017-07-04 12:00:00       7     49 2017-07-04 12:00:00       4          64   \n",
       "2017-07-04 12:00:00      12     49 2017-07-04 12:00:00       4          64   \n",
       "2017-07-04 12:00:00      15     54 2017-07-04 12:00:00       4          64   \n",
       "\n",
       "                     leaf_angle_alpha  leaf_angle_beta  leaf_angle_chi  \\\n",
       "2017-07-04 12:00:00          2.668148         1.771867        1.910103   \n",
       "2017-07-04 12:00:00          1.961894         1.573487        1.722770   \n",
       "2017-07-04 12:00:00          3.069223         2.013949        1.869177   \n",
       "2017-07-04 12:00:00          1.109560         1.352693        1.389389   \n",
       "2017-07-04 12:00:00          4.107072         2.462428        1.925890   \n",
       "\n",
       "                     leaf_angle_mean  cultivar_6000000207  ...  \\\n",
       "2017-07-04 12:00:00         0.405739                    0  ...   \n",
       "2017-07-04 12:00:00         0.466432                    0  ...   \n",
       "2017-07-04 12:00:00         0.415079                    0  ...   \n",
       "2017-07-04 12:00:00         0.542211                    0  ...   \n",
       "2017-07-04 12:00:00         0.393302                    0  ...   \n",
       "\n",
       "                     cultivar_6000001029  cultivar_6000001054  \\\n",
       "2017-07-04 12:00:00                    0                    0   \n",
       "2017-07-04 12:00:00                    0                    0   \n",
       "2017-07-04 12:00:00                    0                    0   \n",
       "2017-07-04 12:00:00                    0                    0   \n",
       "2017-07-04 12:00:00                    0                    0   \n",
       "\n",
       "                     cultivar_6000001055  cultivar_6000001056  \\\n",
       "2017-07-04 12:00:00                    0                    0   \n",
       "2017-07-04 12:00:00                    0                    0   \n",
       "2017-07-04 12:00:00                    0                    0   \n",
       "2017-07-04 12:00:00                    0                    0   \n",
       "2017-07-04 12:00:00                    1                    0   \n",
       "\n",
       "                     cultivar_6000001057  cultivar_6000001059  \\\n",
       "2017-07-04 12:00:00                    0                    0   \n",
       "2017-07-04 12:00:00                    0                    0   \n",
       "2017-07-04 12:00:00                    0                    0   \n",
       "2017-07-04 12:00:00                    0                    0   \n",
       "2017-07-04 12:00:00                    0                    0   \n",
       "\n",
       "                     cultivar_6000001060  cultivar_6000001061  \\\n",
       "2017-07-04 12:00:00                    0                    0   \n",
       "2017-07-04 12:00:00                    0                    0   \n",
       "2017-07-04 12:00:00                    0                    0   \n",
       "2017-07-04 12:00:00                    0                    0   \n",
       "2017-07-04 12:00:00                    0                    0   \n",
       "\n",
       "                     cultivar_6000001062  cultivar_6000001063  \n",
       "2017-07-04 12:00:00                    0                    0  \n",
       "2017-07-04 12:00:00                    0                    0  \n",
       "2017-07-04 12:00:00                    0                    0  \n",
       "2017-07-04 12:00:00                    0                    0  \n",
       "2017-07-04 12:00:00                    0                    0  \n",
       "\n",
       "[5 rows x 360 columns]"
      ]
     },
     "execution_count": 311,
     "metadata": {},
     "output_type": "execute_result"
    }
   ],
   "source": [
    "train.tail()"
   ]
  },
  {
   "cell_type": "code",
   "execution_count": null,
   "metadata": {},
   "outputs": [],
   "source": []
  }
 ],
 "metadata": {
  "kernelspec": {
   "display_name": "Python 3",
   "language": "python",
   "name": "python3"
  },
  "language_info": {
   "codemirror_mode": {
    "name": "ipython",
    "version": 3
   },
   "file_extension": ".py",
   "mimetype": "text/x-python",
   "name": "python",
   "nbconvert_exporter": "python",
   "pygments_lexer": "ipython3",
   "version": "3.7.6"
  }
 },
 "nbformat": 4,
 "nbformat_minor": 4
}
