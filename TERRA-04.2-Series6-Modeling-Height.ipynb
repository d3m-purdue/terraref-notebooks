{
 "cells": [
  {
   "cell_type": "code",
   "execution_count": 2,
   "metadata": {},
   "outputs": [],
   "source": [
    "import sklearn\n",
    "import pandas as pd\n",
    "#from fbprophet import Prophet"
   ]
  },
  {
   "cell_type": "markdown",
   "metadata": {},
   "source": [
    "(Season 6 processing using the template from Season 4)"
   ]
  },
  {
   "cell_type": "code",
   "execution_count": 3,
   "metadata": {},
   "outputs": [],
   "source": [
    "#cdf = pd.read_csv('/Volumes/Curt-MacPro-Backup/D3M/terra/processing/V2/s4_height_s1.csv')\n",
    "cdf = pd.read_csv('/media/clisle/Backup Plus/terra/processing/V2/s6_height_s1.csv')\n"
   ]
  },
  {
   "cell_type": "code",
   "execution_count": 4,
   "metadata": {},
   "outputs": [],
   "source": [
    "train_df = cdf[['genotype_id','day_number','range','column']]\n",
    "target_df = cdf['height(cm)']"
   ]
  },
  {
   "cell_type": "code",
   "execution_count": 5,
   "metadata": {},
   "outputs": [
    {
     "name": "stdout",
     "output_type": "stream",
     "text": [
      "(43986, 4)\n",
      "(43986,)\n"
     ]
    }
   ],
   "source": [
    "X_train = train_df.values\n",
    "y_train = target_df.values\n",
    "print(X_train.shape)\n",
    "print(y_train.shape)"
   ]
  },
  {
   "cell_type": "code",
   "execution_count": null,
   "metadata": {},
   "outputs": [],
   "source": []
  },
  {
   "cell_type": "code",
   "execution_count": 6,
   "metadata": {},
   "outputs": [],
   "source": [
    "from sklearn.tree import DecisionTreeRegressor\n",
    "from sklearn.linear_model import LinearRegression\n",
    "from sklearn import svm\n",
    "from sklearn.ensemble import GradientBoostingRegressor\n",
    "\n",
    "tree = DecisionTreeRegressor(max_depth=4).fit(X_train, y_train)\n",
    "linear_reg = LinearRegression().fit(X_train, y_train)\n",
    "#svm_mod = svm.SVR().fit(X_train, y_train)\n",
    "gbr_mod = GradientBoostingRegressor(n_estimators=100, learning_rate=0.1, max_depth=1, random_state=0, loss='ls').fit(X_train, y_train)\n",
    "\n",
    "pred_tree = tree.predict(X_train)\n",
    "pred_lr = linear_reg.predict(X_train)\n",
    "#pred_svm = svm_mod.predict(X_train)\n",
    "pred_gbr = gbr_mod.predict(X_train)\n"
   ]
  },
  {
   "cell_type": "code",
   "execution_count": 7,
   "metadata": {},
   "outputs": [
    {
     "data": {
      "text/html": [
       "<div>\n",
       "<style scoped>\n",
       "    .dataframe tbody tr th:only-of-type {\n",
       "        vertical-align: middle;\n",
       "    }\n",
       "\n",
       "    .dataframe tbody tr th {\n",
       "        vertical-align: top;\n",
       "    }\n",
       "\n",
       "    .dataframe thead th {\n",
       "        text-align: right;\n",
       "    }\n",
       "</style>\n",
       "<table border=\"1\" class=\"dataframe\">\n",
       "  <thead>\n",
       "    <tr style=\"text-align: right;\">\n",
       "      <th></th>\n",
       "      <th>Unnamed: 0</th>\n",
       "      <th>day_number</th>\n",
       "      <th>range</th>\n",
       "      <th>column</th>\n",
       "      <th>sensor</th>\n",
       "      <th>height(cm)</th>\n",
       "      <th>genotype_id</th>\n",
       "      <th>genotype_string</th>\n",
       "      <th>decision_tree</th>\n",
       "      <th>linearRegression</th>\n",
       "      <th>gboost</th>\n",
       "    </tr>\n",
       "  </thead>\n",
       "  <tbody>\n",
       "    <tr>\n",
       "      <th>0</th>\n",
       "      <td>0</td>\n",
       "      <td>115</td>\n",
       "      <td>3</td>\n",
       "      <td>2</td>\n",
       "      <td>1</td>\n",
       "      <td>4.40</td>\n",
       "      <td>350</td>\n",
       "      <td>SP1516</td>\n",
       "      <td>5.601624</td>\n",
       "      <td>-66.971771</td>\n",
       "      <td>0.2224</td>\n",
       "    </tr>\n",
       "    <tr>\n",
       "      <th>1</th>\n",
       "      <td>2</td>\n",
       "      <td>116</td>\n",
       "      <td>3</td>\n",
       "      <td>2</td>\n",
       "      <td>1</td>\n",
       "      <td>5.56</td>\n",
       "      <td>350</td>\n",
       "      <td>SP1516</td>\n",
       "      <td>5.601624</td>\n",
       "      <td>-63.437410</td>\n",
       "      <td>0.2224</td>\n",
       "    </tr>\n",
       "    <tr>\n",
       "      <th>2</th>\n",
       "      <td>4</td>\n",
       "      <td>119</td>\n",
       "      <td>3</td>\n",
       "      <td>2</td>\n",
       "      <td>1</td>\n",
       "      <td>5.66</td>\n",
       "      <td>350</td>\n",
       "      <td>SP1516</td>\n",
       "      <td>5.601624</td>\n",
       "      <td>-52.834330</td>\n",
       "      <td>0.2224</td>\n",
       "    </tr>\n",
       "    <tr>\n",
       "      <th>3</th>\n",
       "      <td>6</td>\n",
       "      <td>123</td>\n",
       "      <td>3</td>\n",
       "      <td>2</td>\n",
       "      <td>1</td>\n",
       "      <td>5.71</td>\n",
       "      <td>350</td>\n",
       "      <td>SP1516</td>\n",
       "      <td>5.601624</td>\n",
       "      <td>-38.696889</td>\n",
       "      <td>0.2224</td>\n",
       "    </tr>\n",
       "    <tr>\n",
       "      <th>4</th>\n",
       "      <td>8</td>\n",
       "      <td>124</td>\n",
       "      <td>3</td>\n",
       "      <td>2</td>\n",
       "      <td>1</td>\n",
       "      <td>5.55</td>\n",
       "      <td>350</td>\n",
       "      <td>SP1516</td>\n",
       "      <td>5.601624</td>\n",
       "      <td>-35.162529</td>\n",
       "      <td>0.2224</td>\n",
       "    </tr>\n",
       "  </tbody>\n",
       "</table>\n",
       "</div>"
      ],
      "text/plain": [
       "   Unnamed: 0  day_number  range  column  sensor  height(cm)  genotype_id  \\\n",
       "0           0         115      3       2       1        4.40          350   \n",
       "1           2         116      3       2       1        5.56          350   \n",
       "2           4         119      3       2       1        5.66          350   \n",
       "3           6         123      3       2       1        5.71          350   \n",
       "4           8         124      3       2       1        5.55          350   \n",
       "\n",
       "  genotype_string  decision_tree  linearRegression  gboost  \n",
       "0          SP1516       5.601624        -66.971771  0.2224  \n",
       "1          SP1516       5.601624        -63.437410  0.2224  \n",
       "2          SP1516       5.601624        -52.834330  0.2224  \n",
       "3          SP1516       5.601624        -38.696889  0.2224  \n",
       "4          SP1516       5.601624        -35.162529  0.2224  "
      ]
     },
     "execution_count": 7,
     "metadata": {},
     "output_type": "execute_result"
    }
   ],
   "source": [
    "cdf['decision_tree'] = pred_tree\n",
    "cdf['linearRegression'] = pred_lr\n",
    "#cdf['svm'] = pred_svm\n",
    "cdf['gboost'] = pred_gbr\n",
    "cdf.head()"
   ]
  },
  {
   "cell_type": "code",
   "execution_count": 9,
   "metadata": {},
   "outputs": [
    {
     "data": {
      "image/png": "[encoded data removed]",
      "text/plain": [
       "<Figure size 864x576 with 1 Axes>"
      ]
     },
     "metadata": {
      "needs_background": "light"
     },
     "output_type": "display_data"
    }
   ],
   "source": [
    "%matplotlib inline\n",
    "import matplotlib.pyplot as plt\n",
    "plt.rcParams[\"figure.figsize\"] = (12,8)\n",
    "\n",
    "def plot_cultivar(fulldf,cultivar):\n",
    "    df = fulldf.loc[fulldf['genotype_id'] == cultivar]\n",
    "    minCol = df['column'].min()\n",
    "    df = df.loc[df['column']==minCol]\n",
    "    #print(df.shape)\n",
    "    df = df[['day_number','height(cm)','decision_tree','gboost']]\n",
    "    df = df.set_index('day_number')\n",
    "    df.plot()\n",
    "\n",
    "#plot_cultivar(cdf,'PI145619')\n",
    "plot_cultivar(cdf,5)"
   ]
  },
  {
   "cell_type": "code",
   "execution_count": 10,
   "metadata": {},
   "outputs": [],
   "source": [
    "#note, try StandardScalar on the training data"
   ]
  },
  {
   "cell_type": "markdown",
   "metadata": {},
   "source": [
    "Now try training a MLP on the dataset to see if this can better fit the data"
   ]
  },
  {
   "cell_type": "code",
   "execution_count": 11,
   "metadata": {},
   "outputs": [
    {
     "name": "stderr",
     "output_type": "stream",
     "text": [
      "Using TensorFlow backend.\n",
      "/home/clisle/anaconda3/envs/tf_gpu/lib/python3.7/site-packages/tensorflow/python/framework/dtypes.py:516: FutureWarning: Passing (type, 1) or '1type' as a synonym of type is deprecated; in a future version of numpy, it will be understood as (type, (1,)) / '(1,)type'.\n",
      "  _np_qint8 = np.dtype([(\"qint8\", np.int8, 1)])\n",
      "/home/clisle/anaconda3/envs/tf_gpu/lib/python3.7/site-packages/tensorflow/python/framework/dtypes.py:517: FutureWarning: Passing (type, 1) or '1type' as a synonym of type is deprecated; in a future version of numpy, it will be understood as (type, (1,)) / '(1,)type'.\n",
      "  _np_quint8 = np.dtype([(\"quint8\", np.uint8, 1)])\n",
      "/home/clisle/anaconda3/envs/tf_gpu/lib/python3.7/site-packages/tensorflow/python/framework/dtypes.py:518: FutureWarning: Passing (type, 1) or '1type' as a synonym of type is deprecated; in a future version of numpy, it will be understood as (type, (1,)) / '(1,)type'.\n",
      "  _np_qint16 = np.dtype([(\"qint16\", np.int16, 1)])\n",
      "/home/clisle/anaconda3/envs/tf_gpu/lib/python3.7/site-packages/tensorflow/python/framework/dtypes.py:519: FutureWarning: Passing (type, 1) or '1type' as a synonym of type is deprecated; in a future version of numpy, it will be understood as (type, (1,)) / '(1,)type'.\n",
      "  _np_quint16 = np.dtype([(\"quint16\", np.uint16, 1)])\n",
      "/home/clisle/anaconda3/envs/tf_gpu/lib/python3.7/site-packages/tensorflow/python/framework/dtypes.py:520: FutureWarning: Passing (type, 1) or '1type' as a synonym of type is deprecated; in a future version of numpy, it will be understood as (type, (1,)) / '(1,)type'.\n",
      "  _np_qint32 = np.dtype([(\"qint32\", np.int32, 1)])\n",
      "/home/clisle/anaconda3/envs/tf_gpu/lib/python3.7/site-packages/tensorflow/python/framework/dtypes.py:525: FutureWarning: Passing (type, 1) or '1type' as a synonym of type is deprecated; in a future version of numpy, it will be understood as (type, (1,)) / '(1,)type'.\n",
      "  np_resource = np.dtype([(\"resource\", np.ubyte, 1)])\n",
      "/home/clisle/anaconda3/envs/tf_gpu/lib/python3.7/site-packages/tensorboard/compat/tensorflow_stub/dtypes.py:541: FutureWarning: Passing (type, 1) or '1type' as a synonym of type is deprecated; in a future version of numpy, it will be understood as (type, (1,)) / '(1,)type'.\n",
      "  _np_qint8 = np.dtype([(\"qint8\", np.int8, 1)])\n",
      "/home/clisle/anaconda3/envs/tf_gpu/lib/python3.7/site-packages/tensorboard/compat/tensorflow_stub/dtypes.py:542: FutureWarning: Passing (type, 1) or '1type' as a synonym of type is deprecated; in a future version of numpy, it will be understood as (type, (1,)) / '(1,)type'.\n",
      "  _np_quint8 = np.dtype([(\"quint8\", np.uint8, 1)])\n",
      "/home/clisle/anaconda3/envs/tf_gpu/lib/python3.7/site-packages/tensorboard/compat/tensorflow_stub/dtypes.py:543: FutureWarning: Passing (type, 1) or '1type' as a synonym of type is deprecated; in a future version of numpy, it will be understood as (type, (1,)) / '(1,)type'.\n",
      "  _np_qint16 = np.dtype([(\"qint16\", np.int16, 1)])\n",
      "/home/clisle/anaconda3/envs/tf_gpu/lib/python3.7/site-packages/tensorboard/compat/tensorflow_stub/dtypes.py:544: FutureWarning: Passing (type, 1) or '1type' as a synonym of type is deprecated; in a future version of numpy, it will be understood as (type, (1,)) / '(1,)type'.\n",
      "  _np_quint16 = np.dtype([(\"quint16\", np.uint16, 1)])\n",
      "/home/clisle/anaconda3/envs/tf_gpu/lib/python3.7/site-packages/tensorboard/compat/tensorflow_stub/dtypes.py:545: FutureWarning: Passing (type, 1) or '1type' as a synonym of type is deprecated; in a future version of numpy, it will be understood as (type, (1,)) / '(1,)type'.\n",
      "  _np_qint32 = np.dtype([(\"qint32\", np.int32, 1)])\n",
      "/home/clisle/anaconda3/envs/tf_gpu/lib/python3.7/site-packages/tensorboard/compat/tensorflow_stub/dtypes.py:550: FutureWarning: Passing (type, 1) or '1type' as a synonym of type is deprecated; in a future version of numpy, it will be understood as (type, (1,)) / '(1,)type'.\n",
      "  np_resource = np.dtype([(\"resource\", np.ubyte, 1)])\n"
     ]
    }
   ],
   "source": [
    "from keras import models\n",
    "from keras import layers"
   ]
  },
  {
   "cell_type": "code",
   "execution_count": 12,
   "metadata": {},
   "outputs": [],
   "source": [
    "\n",
    "def build_model(train_data):\n",
    "\n",
    "    # start with an empty model\n",
    "    model = models.Sequential()\n",
    "    \n",
    "    # add a first layer with 64 neurons/outputs\n",
    "    model.add(layers.Dense(32, activation='relu',\n",
    "                           input_shape=(train_data.shape[1],)))\n",
    "    \n",
    "    # add a second layer, also with 64 nodes/outputs\n",
    "    model.add(layers.Dense(8, activation='relu'))\n",
    "    \n",
    "    # add a final layer without any activation function!  \n",
    "    # Just let the floating point value come out directly without being adjusted\n",
    "    model.add(layers.Dense(1))\n",
    "    \n",
    "    # standard compile options for a regression problem\n",
    "    model.compile(optimizer='rmsprop', loss='mse', metrics=['mae'])\n",
    "    \n",
    "    # return the model so it can be trained\n",
    "    return model"
   ]
  },
  {
   "cell_type": "code",
   "execution_count": 13,
   "metadata": {},
   "outputs": [
    {
     "name": "stdout",
     "output_type": "stream",
     "text": [
      "WARNING:tensorflow:From /home/clisle/anaconda3/envs/tf_gpu/lib/python3.7/site-packages/keras/backend/tensorflow_backend.py:74: The name tf.get_default_graph is deprecated. Please use tf.compat.v1.get_default_graph instead.\n",
      "\n",
      "WARNING:tensorflow:From /home/clisle/anaconda3/envs/tf_gpu/lib/python3.7/site-packages/keras/backend/tensorflow_backend.py:517: The name tf.placeholder is deprecated. Please use tf.compat.v1.placeholder instead.\n",
      "\n",
      "WARNING:tensorflow:From /home/clisle/anaconda3/envs/tf_gpu/lib/python3.7/site-packages/keras/backend/tensorflow_backend.py:4138: The name tf.random_uniform is deprecated. Please use tf.random.uniform instead.\n",
      "\n",
      "WARNING:tensorflow:From /home/clisle/anaconda3/envs/tf_gpu/lib/python3.7/site-packages/keras/optimizers.py:790: The name tf.train.Optimizer is deprecated. Please use tf.compat.v1.train.Optimizer instead.\n",
      "\n",
      "training model\n",
      "WARNING:tensorflow:From /home/clisle/anaconda3/envs/tf_gpu/lib/python3.7/site-packages/keras/backend/tensorflow_backend.py:986: The name tf.assign_add is deprecated. Please use tf.compat.v1.assign_add instead.\n",
      "\n",
      "WARNING:tensorflow:From /home/clisle/anaconda3/envs/tf_gpu/lib/python3.7/site-packages/keras/backend/tensorflow_backend.py:973: The name tf.assign is deprecated. Please use tf.compat.v1.assign instead.\n",
      "\n",
      "Epoch 1/10\n",
      " - 137s - loss: 4836.5159 - mean_absolute_error: 58.0054\n",
      "Epoch 2/10\n",
      " - 136s - loss: 2445.5733 - mean_absolute_error: 39.2302\n",
      "Epoch 3/10\n",
      " - 137s - loss: 1512.8596 - mean_absolute_error: 29.8928\n",
      "Epoch 4/10\n",
      " - 137s - loss: 1320.2260 - mean_absolute_error: 27.3564\n",
      "Epoch 5/10\n",
      " - 137s - loss: 1189.4843 - mean_absolute_error: 25.4796\n",
      "Epoch 6/10\n",
      " - 137s - loss: 1098.4593 - mean_absolute_error: 24.0924\n",
      "Epoch 7/10\n",
      " - 137s - loss: 1037.0772 - mean_absolute_error: 23.1470\n",
      "Epoch 8/10\n",
      " - 137s - loss: 1022.8773 - mean_absolute_error: 22.8806\n",
      "Epoch 9/10\n",
      " - 137s - loss: 970.4084 - mean_absolute_error: 22.0547\n",
      "Epoch 10/10\n",
      " - 137s - loss: 925.5328 - mean_absolute_error: 21.3320\n",
      "evaluating model fit:\n",
      "1173.101874607211 23.180331265764295\n"
     ]
    }
   ],
   "source": [
    "model = build_model(X_train)\n",
    "print('training model')\n",
    "model.fit(X_train,y_train,epochs=10, batch_size=1, verbose=2)\n",
    "print('evaluating model fit:')\n",
    "val_mse, val_mae = model.evaluate(X_train, y_train, verbose=0)\n",
    "print(val_mse,val_mae)"
   ]
  },
  {
   "cell_type": "code",
   "execution_count": 14,
   "metadata": {},
   "outputs": [],
   "source": [
    "# add the MLP predictions as another column in the dataframe\n",
    "cdf['mlp'] = model.predict(X_train)"
   ]
  },
  {
   "cell_type": "code",
   "execution_count": 15,
   "metadata": {},
   "outputs": [
    {
     "data": {
      "text/html": [
       "<div>\n",
       "<style scoped>\n",
       "    .dataframe tbody tr th:only-of-type {\n",
       "        vertical-align: middle;\n",
       "    }\n",
       "\n",
       "    .dataframe tbody tr th {\n",
       "        vertical-align: top;\n",
       "    }\n",
       "\n",
       "    .dataframe thead th {\n",
       "        text-align: right;\n",
       "    }\n",
       "</style>\n",
       "<table border=\"1\" class=\"dataframe\">\n",
       "  <thead>\n",
       "    <tr style=\"text-align: right;\">\n",
       "      <th></th>\n",
       "      <th>Unnamed: 0</th>\n",
       "      <th>day_number</th>\n",
       "      <th>range</th>\n",
       "      <th>column</th>\n",
       "      <th>sensor</th>\n",
       "      <th>height(cm)</th>\n",
       "      <th>genotype_id</th>\n",
       "      <th>genotype_string</th>\n",
       "      <th>decision_tree</th>\n",
       "      <th>linearRegression</th>\n",
       "      <th>gboost</th>\n",
       "      <th>mlp</th>\n",
       "    </tr>\n",
       "  </thead>\n",
       "  <tbody>\n",
       "    <tr>\n",
       "      <th>0</th>\n",
       "      <td>0</td>\n",
       "      <td>115</td>\n",
       "      <td>3</td>\n",
       "      <td>2</td>\n",
       "      <td>1</td>\n",
       "      <td>4.40</td>\n",
       "      <td>350</td>\n",
       "      <td>SP1516</td>\n",
       "      <td>5.601624</td>\n",
       "      <td>-66.971771</td>\n",
       "      <td>0.2224</td>\n",
       "      <td>-0.775080</td>\n",
       "    </tr>\n",
       "    <tr>\n",
       "      <th>1</th>\n",
       "      <td>2</td>\n",
       "      <td>116</td>\n",
       "      <td>3</td>\n",
       "      <td>2</td>\n",
       "      <td>1</td>\n",
       "      <td>5.56</td>\n",
       "      <td>350</td>\n",
       "      <td>SP1516</td>\n",
       "      <td>5.601624</td>\n",
       "      <td>-63.437410</td>\n",
       "      <td>0.2224</td>\n",
       "      <td>-0.173761</td>\n",
       "    </tr>\n",
       "    <tr>\n",
       "      <th>2</th>\n",
       "      <td>4</td>\n",
       "      <td>119</td>\n",
       "      <td>3</td>\n",
       "      <td>2</td>\n",
       "      <td>1</td>\n",
       "      <td>5.66</td>\n",
       "      <td>350</td>\n",
       "      <td>SP1516</td>\n",
       "      <td>5.601624</td>\n",
       "      <td>-52.834330</td>\n",
       "      <td>0.2224</td>\n",
       "      <td>1.630217</td>\n",
       "    </tr>\n",
       "    <tr>\n",
       "      <th>3</th>\n",
       "      <td>6</td>\n",
       "      <td>123</td>\n",
       "      <td>3</td>\n",
       "      <td>2</td>\n",
       "      <td>1</td>\n",
       "      <td>5.71</td>\n",
       "      <td>350</td>\n",
       "      <td>SP1516</td>\n",
       "      <td>5.601624</td>\n",
       "      <td>-38.696889</td>\n",
       "      <td>0.2224</td>\n",
       "      <td>3.792784</td>\n",
       "    </tr>\n",
       "    <tr>\n",
       "      <th>4</th>\n",
       "      <td>8</td>\n",
       "      <td>124</td>\n",
       "      <td>3</td>\n",
       "      <td>2</td>\n",
       "      <td>1</td>\n",
       "      <td>5.55</td>\n",
       "      <td>350</td>\n",
       "      <td>SP1516</td>\n",
       "      <td>5.601624</td>\n",
       "      <td>-35.162529</td>\n",
       "      <td>0.2224</td>\n",
       "      <td>4.283831</td>\n",
       "    </tr>\n",
       "  </tbody>\n",
       "</table>\n",
       "</div>"
      ],
      "text/plain": [
       "   Unnamed: 0  day_number  range  column  sensor  height(cm)  genotype_id  \\\n",
       "0           0         115      3       2       1        4.40          350   \n",
       "1           2         116      3       2       1        5.56          350   \n",
       "2           4         119      3       2       1        5.66          350   \n",
       "3           6         123      3       2       1        5.71          350   \n",
       "4           8         124      3       2       1        5.55          350   \n",
       "\n",
       "  genotype_string  decision_tree  linearRegression  gboost       mlp  \n",
       "0          SP1516       5.601624        -66.971771  0.2224 -0.775080  \n",
       "1          SP1516       5.601624        -63.437410  0.2224 -0.173761  \n",
       "2          SP1516       5.601624        -52.834330  0.2224  1.630217  \n",
       "3          SP1516       5.601624        -38.696889  0.2224  3.792784  \n",
       "4          SP1516       5.601624        -35.162529  0.2224  4.283831  "
      ]
     },
     "execution_count": 15,
     "metadata": {},
     "output_type": "execute_result"
    }
   ],
   "source": [
    "cdf.head()"
   ]
  },
  {
   "cell_type": "code",
   "execution_count": 16,
   "metadata": {},
   "outputs": [
    {
     "data": {
      "image/png": "[encoded data removed]",
      "text/plain": [
       "<Figure size 864x576 with 1 Axes>"
      ]
     },
     "metadata": {
      "needs_background": "light"
     },
     "output_type": "display_data"
    }
   ],
   "source": [
    "%matplotlib inline\n",
    "import matplotlib.pyplot as plt\n",
    "plt.rcParams[\"figure.figsize\"] = (12,8)\n",
    "\n",
    "def plot_cultivar(fulldf,cultivar):\n",
    "    df = fulldf.loc[fulldf['genotype_id'] == cultivar]\n",
    "    minCol = df['column'].min()\n",
    "    df = df.loc[df['column']==minCol]\n",
    "    #print(df.shape)\n",
    "    df = df[['day_number','height(cm)','decision_tree','gboost','mlp']]\n",
    "    df = df.set_index('day_number')\n",
    "    df.plot()\n",
    "\n",
    "#plot_cultivar(cdf,'PI145619')\n",
    "plot_cultivar(cdf,5)"
   ]
  },
  {
   "cell_type": "code",
   "execution_count": null,
   "metadata": {},
   "outputs": [],
   "source": []
  },
  {
   "cell_type": "code",
   "execution_count": 17,
   "metadata": {},
   "outputs": [],
   "source": [
    "cdf.to_csv(\"/media/clisle/Backup Plus/terra/processing/V2/s6_with_predictions.csv\")"
   ]
  },
  {
   "cell_type": "code",
   "execution_count": null,
   "metadata": {},
   "outputs": [],
   "source": []
  }
 ],
 "metadata": {
  "kernelspec": {
   "display_name": "Python 3",
   "language": "python",
   "name": "python3"
  },
  "language_info": {
   "codemirror_mode": {
    "name": "ipython",
    "version": 3
   },
   "file_extension": ".py",
   "mimetype": "text/x-python",
   "name": "python",
   "nbconvert_exporter": "python",
   "pygments_lexer": "ipython3",
   "version": "3.7.4"
  }
 },
 "nbformat": 4,
 "nbformat_minor": 4
}
