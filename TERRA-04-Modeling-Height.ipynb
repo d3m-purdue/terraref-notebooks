{
 "cells": [
  {
   "cell_type": "code",
   "execution_count": 2,
   "metadata": {},
   "outputs": [],
   "source": [
    "import sklearn\n",
    "import pandas as pd\n",
    "#from fbprophet import Prophet"
   ]
  },
  {
   "cell_type": "code",
   "execution_count": 3,
   "metadata": {},
   "outputs": [],
   "source": [
    "#cdf = pd.read_csv('/Volumes/Curt-MacPro-Backup/D3M/terra/processing/V2/s4_height_s1.csv')\n",
    "cdf = pd.read_csv('/media/clisle/Backup Plus/terra/processing/V2/s4_height_s1.csv')\n"
   ]
  },
  {
   "cell_type": "code",
   "execution_count": 4,
   "metadata": {},
   "outputs": [],
   "source": [
    "train_df = cdf[['genotype_id','day_number','range','column']]\n",
    "target_df = cdf['height(cm)']"
   ]
  },
  {
   "cell_type": "code",
   "execution_count": 5,
   "metadata": {},
   "outputs": [
    {
     "name": "stdout",
     "output_type": "stream",
     "text": [
      "(38877, 4)\n",
      "(38877,)\n"
     ]
    }
   ],
   "source": [
    "X_train = train_df.values\n",
    "y_train = target_df.values\n",
    "print(X_train.shape)\n",
    "print(y_train.shape)"
   ]
  },
  {
   "cell_type": "code",
   "execution_count": null,
   "metadata": {},
   "outputs": [],
   "source": []
  },
  {
   "cell_type": "code",
   "execution_count": 6,
   "metadata": {},
   "outputs": [],
   "source": [
    "from sklearn.tree import DecisionTreeRegressor\n",
    "from sklearn.linear_model import LinearRegression\n",
    "from sklearn import svm\n",
    "from sklearn.ensemble import GradientBoostingRegressor\n",
    "\n",
    "tree = DecisionTreeRegressor(max_depth=4).fit(X_train, y_train)\n",
    "linear_reg = LinearRegression().fit(X_train, y_train)\n",
    "#svm_mod = svm.SVR().fit(X_train, y_train)\n",
    "gbr_mod = GradientBoostingRegressor(n_estimators=100, learning_rate=0.1, max_depth=1, random_state=0, loss='ls').fit(X_train, y_train)\n",
    "\n",
    "pred_tree = tree.predict(X_train)\n",
    "pred_lr = linear_reg.predict(X_train)\n",
    "#pred_svm = svm_mod.predict(X_train)\n",
    "pred_gbr = gbr_mod.predict(X_train)\n"
   ]
  },
  {
   "cell_type": "code",
   "execution_count": 7,
   "metadata": {},
   "outputs": [
    {
     "data": {
      "text/html": [
       "<div>\n",
       "<style scoped>\n",
       "    .dataframe tbody tr th:only-of-type {\n",
       "        vertical-align: middle;\n",
       "    }\n",
       "\n",
       "    .dataframe tbody tr th {\n",
       "        vertical-align: top;\n",
       "    }\n",
       "\n",
       "    .dataframe thead th {\n",
       "        text-align: right;\n",
       "    }\n",
       "</style>\n",
       "<table border=\"1\" class=\"dataframe\">\n",
       "  <thead>\n",
       "    <tr style=\"text-align: right;\">\n",
       "      <th></th>\n",
       "      <th>Unnamed: 0</th>\n",
       "      <th>day_number</th>\n",
       "      <th>range</th>\n",
       "      <th>column</th>\n",
       "      <th>sensor</th>\n",
       "      <th>height(cm)</th>\n",
       "      <th>genotype_id</th>\n",
       "      <th>genotype_string</th>\n",
       "      <th>decision_tree</th>\n",
       "      <th>linearRegression</th>\n",
       "      <th>gboost</th>\n",
       "    </tr>\n",
       "  </thead>\n",
       "  <tbody>\n",
       "    <tr>\n",
       "      <th>0</th>\n",
       "      <td>0</td>\n",
       "      <td>118</td>\n",
       "      <td>3</td>\n",
       "      <td>2</td>\n",
       "      <td>1</td>\n",
       "      <td>5.89</td>\n",
       "      <td>1</td>\n",
       "      <td>PI329465</td>\n",
       "      <td>6.0141</td>\n",
       "      <td>-16.214895</td>\n",
       "      <td>-3.746922</td>\n",
       "    </tr>\n",
       "    <tr>\n",
       "      <th>1</th>\n",
       "      <td>2</td>\n",
       "      <td>121</td>\n",
       "      <td>3</td>\n",
       "      <td>2</td>\n",
       "      <td>1</td>\n",
       "      <td>6.15</td>\n",
       "      <td>1</td>\n",
       "      <td>PI329465</td>\n",
       "      <td>6.0141</td>\n",
       "      <td>-7.025053</td>\n",
       "      <td>-3.746922</td>\n",
       "    </tr>\n",
       "    <tr>\n",
       "      <th>2</th>\n",
       "      <td>4</td>\n",
       "      <td>123</td>\n",
       "      <td>3</td>\n",
       "      <td>2</td>\n",
       "      <td>1</td>\n",
       "      <td>5.98</td>\n",
       "      <td>1</td>\n",
       "      <td>PI329465</td>\n",
       "      <td>6.0141</td>\n",
       "      <td>-0.898492</td>\n",
       "      <td>-3.746922</td>\n",
       "    </tr>\n",
       "    <tr>\n",
       "      <th>3</th>\n",
       "      <td>6</td>\n",
       "      <td>124</td>\n",
       "      <td>3</td>\n",
       "      <td>2</td>\n",
       "      <td>1</td>\n",
       "      <td>5.99</td>\n",
       "      <td>1</td>\n",
       "      <td>PI329465</td>\n",
       "      <td>6.0141</td>\n",
       "      <td>2.164789</td>\n",
       "      <td>-3.746922</td>\n",
       "    </tr>\n",
       "    <tr>\n",
       "      <th>4</th>\n",
       "      <td>8</td>\n",
       "      <td>125</td>\n",
       "      <td>3</td>\n",
       "      <td>2</td>\n",
       "      <td>1</td>\n",
       "      <td>6.02</td>\n",
       "      <td>1</td>\n",
       "      <td>PI329465</td>\n",
       "      <td>6.0141</td>\n",
       "      <td>5.228070</td>\n",
       "      <td>-3.746922</td>\n",
       "    </tr>\n",
       "  </tbody>\n",
       "</table>\n",
       "</div>"
      ],
      "text/plain": [
       "   Unnamed: 0  day_number  range  column  sensor  height(cm)  genotype_id  \\\n",
       "0           0         118      3       2       1        5.89            1   \n",
       "1           2         121      3       2       1        6.15            1   \n",
       "2           4         123      3       2       1        5.98            1   \n",
       "3           6         124      3       2       1        5.99            1   \n",
       "4           8         125      3       2       1        6.02            1   \n",
       "\n",
       "  genotype_string  decision_tree  linearRegression    gboost  \n",
       "0        PI329465         6.0141        -16.214895 -3.746922  \n",
       "1        PI329465         6.0141         -7.025053 -3.746922  \n",
       "2        PI329465         6.0141         -0.898492 -3.746922  \n",
       "3        PI329465         6.0141          2.164789 -3.746922  \n",
       "4        PI329465         6.0141          5.228070 -3.746922  "
      ]
     },
     "execution_count": 7,
     "metadata": {},
     "output_type": "execute_result"
    }
   ],
   "source": [
    "cdf['decision_tree'] = pred_tree\n",
    "cdf['linearRegression'] = pred_lr\n",
    "#cdf['svm'] = pred_svm\n",
    "cdf['gboost'] = pred_gbr\n",
    "cdf.head()"
   ]
  },
  {
   "cell_type": "code",
   "execution_count": 8,
   "metadata": {},
   "outputs": [
    {
     "data": {
      "image/png": "[encoded data removed]",
      "text/plain": [
       "<Figure size 432x288 with 1 Axes>"
      ]
     },
     "metadata": {
      "needs_background": "light"
     },
     "output_type": "display_data"
    }
   ],
   "source": [
    "%matplotlib inline\n",
    "import matplotlib.pyplot as plt\n",
    "\n",
    "def plot_cultivar(fulldf,cultivar):\n",
    "    df = fulldf.loc[fulldf['genotype_id'] == cultivar]\n",
    "    minCol = df['column'].min()\n",
    "    df = df.loc[df['column']==minCol]\n",
    "    #print(df.shape)\n",
    "    df = df[['day_number','height(cm)','decision_tree','gboost']]\n",
    "    df = df.set_index('day_number')\n",
    "    df.plot()\n",
    "\n",
    "#plot_cultivar(cdf,'PI145619')\n",
    "plot_cultivar(cdf,5)"
   ]
  },
  {
   "cell_type": "code",
   "execution_count": 9,
   "metadata": {},
   "outputs": [],
   "source": [
    "#note, try StandardScalar on the training data"
   ]
  },
  {
   "cell_type": "markdown",
   "metadata": {},
   "source": [
    "Now try training a MLP on the dataset to see if this can better fit the data"
   ]
  },
  {
   "cell_type": "code",
   "execution_count": 10,
   "metadata": {},
   "outputs": [
    {
     "name": "stderr",
     "output_type": "stream",
     "text": [
      "Using TensorFlow backend.\n",
      "/home/clisle/anaconda3/envs/tf_gpu/lib/python3.7/site-packages/tensorflow/python/framework/dtypes.py:516: FutureWarning: Passing (type, 1) or '1type' as a synonym of type is deprecated; in a future version of numpy, it will be understood as (type, (1,)) / '(1,)type'.\n",
      "  _np_qint8 = np.dtype([(\"qint8\", np.int8, 1)])\n",
      "/home/clisle/anaconda3/envs/tf_gpu/lib/python3.7/site-packages/tensorflow/python/framework/dtypes.py:517: FutureWarning: Passing (type, 1) or '1type' as a synonym of type is deprecated; in a future version of numpy, it will be understood as (type, (1,)) / '(1,)type'.\n",
      "  _np_quint8 = np.dtype([(\"quint8\", np.uint8, 1)])\n",
      "/home/clisle/anaconda3/envs/tf_gpu/lib/python3.7/site-packages/tensorflow/python/framework/dtypes.py:518: FutureWarning: Passing (type, 1) or '1type' as a synonym of type is deprecated; in a future version of numpy, it will be understood as (type, (1,)) / '(1,)type'.\n",
      "  _np_qint16 = np.dtype([(\"qint16\", np.int16, 1)])\n",
      "/home/clisle/anaconda3/envs/tf_gpu/lib/python3.7/site-packages/tensorflow/python/framework/dtypes.py:519: FutureWarning: Passing (type, 1) or '1type' as a synonym of type is deprecated; in a future version of numpy, it will be understood as (type, (1,)) / '(1,)type'.\n",
      "  _np_quint16 = np.dtype([(\"quint16\", np.uint16, 1)])\n",
      "/home/clisle/anaconda3/envs/tf_gpu/lib/python3.7/site-packages/tensorflow/python/framework/dtypes.py:520: FutureWarning: Passing (type, 1) or '1type' as a synonym of type is deprecated; in a future version of numpy, it will be understood as (type, (1,)) / '(1,)type'.\n",
      "  _np_qint32 = np.dtype([(\"qint32\", np.int32, 1)])\n",
      "/home/clisle/anaconda3/envs/tf_gpu/lib/python3.7/site-packages/tensorflow/python/framework/dtypes.py:525: FutureWarning: Passing (type, 1) or '1type' as a synonym of type is deprecated; in a future version of numpy, it will be understood as (type, (1,)) / '(1,)type'.\n",
      "  np_resource = np.dtype([(\"resource\", np.ubyte, 1)])\n",
      "/home/clisle/anaconda3/envs/tf_gpu/lib/python3.7/site-packages/tensorboard/compat/tensorflow_stub/dtypes.py:541: FutureWarning: Passing (type, 1) or '1type' as a synonym of type is deprecated; in a future version of numpy, it will be understood as (type, (1,)) / '(1,)type'.\n",
      "  _np_qint8 = np.dtype([(\"qint8\", np.int8, 1)])\n",
      "/home/clisle/anaconda3/envs/tf_gpu/lib/python3.7/site-packages/tensorboard/compat/tensorflow_stub/dtypes.py:542: FutureWarning: Passing (type, 1) or '1type' as a synonym of type is deprecated; in a future version of numpy, it will be understood as (type, (1,)) / '(1,)type'.\n",
      "  _np_quint8 = np.dtype([(\"quint8\", np.uint8, 1)])\n",
      "/home/clisle/anaconda3/envs/tf_gpu/lib/python3.7/site-packages/tensorboard/compat/tensorflow_stub/dtypes.py:543: FutureWarning: Passing (type, 1) or '1type' as a synonym of type is deprecated; in a future version of numpy, it will be understood as (type, (1,)) / '(1,)type'.\n",
      "  _np_qint16 = np.dtype([(\"qint16\", np.int16, 1)])\n",
      "/home/clisle/anaconda3/envs/tf_gpu/lib/python3.7/site-packages/tensorboard/compat/tensorflow_stub/dtypes.py:544: FutureWarning: Passing (type, 1) or '1type' as a synonym of type is deprecated; in a future version of numpy, it will be understood as (type, (1,)) / '(1,)type'.\n",
      "  _np_quint16 = np.dtype([(\"quint16\", np.uint16, 1)])\n",
      "/home/clisle/anaconda3/envs/tf_gpu/lib/python3.7/site-packages/tensorboard/compat/tensorflow_stub/dtypes.py:545: FutureWarning: Passing (type, 1) or '1type' as a synonym of type is deprecated; in a future version of numpy, it will be understood as (type, (1,)) / '(1,)type'.\n",
      "  _np_qint32 = np.dtype([(\"qint32\", np.int32, 1)])\n",
      "/home/clisle/anaconda3/envs/tf_gpu/lib/python3.7/site-packages/tensorboard/compat/tensorflow_stub/dtypes.py:550: FutureWarning: Passing (type, 1) or '1type' as a synonym of type is deprecated; in a future version of numpy, it will be understood as (type, (1,)) / '(1,)type'.\n",
      "  np_resource = np.dtype([(\"resource\", np.ubyte, 1)])\n"
     ]
    }
   ],
   "source": [
    "from keras import models\n",
    "from keras import layers"
   ]
  },
  {
   "cell_type": "code",
   "execution_count": 11,
   "metadata": {},
   "outputs": [],
   "source": [
    "\n",
    "def build_model(train_data):\n",
    "\n",
    "    # start with an empty model\n",
    "    model = models.Sequential()\n",
    "    \n",
    "    # add a first layer with 64 neurons/outputs\n",
    "    model.add(layers.Dense(64, activation='relu',\n",
    "                           input_shape=(train_data.shape[1],)))\n",
    "    \n",
    "    # add a second layer, also with 64 nodes/outputs\n",
    "    model.add(layers.Dense(16, activation='relu'))\n",
    "    \n",
    "    # add a final layer without any activation function!  \n",
    "    # Just let the floating point value come out directly without being adjusted\n",
    "    model.add(layers.Dense(1))\n",
    "    \n",
    "    # standard compile options for a regression problem\n",
    "    model.compile(optimizer='rmsprop', loss='mse', metrics=['mae'])\n",
    "    \n",
    "    # return the model so it can be trained\n",
    "    return model"
   ]
  },
  {
   "cell_type": "code",
   "execution_count": 13,
   "metadata": {},
   "outputs": [
    {
     "name": "stdout",
     "output_type": "stream",
     "text": [
      "WARNING:tensorflow:From /home/clisle/anaconda3/envs/tf_gpu/lib/python3.7/site-packages/keras/backend/tensorflow_backend.py:74: The name tf.get_default_graph is deprecated. Please use tf.compat.v1.get_default_graph instead.\n",
      "\n",
      "WARNING:tensorflow:From /home/clisle/anaconda3/envs/tf_gpu/lib/python3.7/site-packages/keras/backend/tensorflow_backend.py:517: The name tf.placeholder is deprecated. Please use tf.compat.v1.placeholder instead.\n",
      "\n",
      "WARNING:tensorflow:From /home/clisle/anaconda3/envs/tf_gpu/lib/python3.7/site-packages/keras/backend/tensorflow_backend.py:4138: The name tf.random_uniform is deprecated. Please use tf.random.uniform instead.\n",
      "\n",
      "WARNING:tensorflow:From /home/clisle/anaconda3/envs/tf_gpu/lib/python3.7/site-packages/keras/optimizers.py:790: The name tf.train.Optimizer is deprecated. Please use tf.compat.v1.train.Optimizer instead.\n",
      "\n",
      "training model\n",
      "WARNING:tensorflow:From /home/clisle/anaconda3/envs/tf_gpu/lib/python3.7/site-packages/keras/backend/tensorflow_backend.py:986: The name tf.assign_add is deprecated. Please use tf.compat.v1.assign_add instead.\n",
      "\n",
      "WARNING:tensorflow:From /home/clisle/anaconda3/envs/tf_gpu/lib/python3.7/site-packages/keras/backend/tensorflow_backend.py:973: The name tf.assign is deprecated. Please use tf.compat.v1.assign instead.\n",
      "\n",
      "Epoch 1/10\n",
      " - 144s - loss: 4339.3961 - mean_absolute_error: 53.3474\n",
      "Epoch 2/10\n",
      " - 132s - loss: 2084.4475 - mean_absolute_error: 36.3199\n",
      "Epoch 3/10\n",
      " - 120s - loss: 1504.2189 - mean_absolute_error: 30.6235\n",
      "Epoch 4/10\n",
      " - 120s - loss: 1364.9545 - mean_absolute_error: 28.9948\n",
      "Epoch 5/10\n",
      " - 120s - loss: 1219.4361 - mean_absolute_error: 26.7323\n",
      "Epoch 6/10\n",
      " - 119s - loss: 1150.7439 - mean_absolute_error: 25.4128\n",
      "Epoch 7/10\n",
      " - 120s - loss: 1112.1107 - mean_absolute_error: 24.8333\n",
      "Epoch 8/10\n",
      " - 120s - loss: 1060.3685 - mean_absolute_error: 24.1857\n",
      "Epoch 9/10\n",
      " - 120s - loss: 1032.0120 - mean_absolute_error: 23.7386\n",
      "Epoch 10/10\n",
      " - 120s - loss: 1029.7204 - mean_absolute_error: 23.6955\n",
      "evaluating model fit:\n",
      "961.6001449825557 22.902077291821133\n"
     ]
    }
   ],
   "source": [
    "model = build_model(X_train)\n",
    "print('training model')\n",
    "model.fit(X_train,y_train,epochs=10, batch_size=1, verbose=2)\n",
    "print('evaluating model fit:')\n",
    "val_mse, val_mae = model.evaluate(X_train, y_train, verbose=0)\n",
    "print(val_mse,val_mae)"
   ]
  },
  {
   "cell_type": "code",
   "execution_count": 14,
   "metadata": {},
   "outputs": [],
   "source": [
    "# add the MLP predictions as another column in the dataframe\n",
    "cdf['mlp'] = model.predict(X_train)"
   ]
  },
  {
   "cell_type": "code",
   "execution_count": 15,
   "metadata": {},
   "outputs": [
    {
     "data": {
      "text/html": [
       "<div>\n",
       "<style scoped>\n",
       "    .dataframe tbody tr th:only-of-type {\n",
       "        vertical-align: middle;\n",
       "    }\n",
       "\n",
       "    .dataframe tbody tr th {\n",
       "        vertical-align: top;\n",
       "    }\n",
       "\n",
       "    .dataframe thead th {\n",
       "        text-align: right;\n",
       "    }\n",
       "</style>\n",
       "<table border=\"1\" class=\"dataframe\">\n",
       "  <thead>\n",
       "    <tr style=\"text-align: right;\">\n",
       "      <th></th>\n",
       "      <th>Unnamed: 0</th>\n",
       "      <th>day_number</th>\n",
       "      <th>range</th>\n",
       "      <th>column</th>\n",
       "      <th>sensor</th>\n",
       "      <th>height(cm)</th>\n",
       "      <th>genotype_id</th>\n",
       "      <th>genotype_string</th>\n",
       "      <th>decision_tree</th>\n",
       "      <th>linearRegression</th>\n",
       "      <th>gboost</th>\n",
       "      <th>mlp</th>\n",
       "    </tr>\n",
       "  </thead>\n",
       "  <tbody>\n",
       "    <tr>\n",
       "      <th>0</th>\n",
       "      <td>0</td>\n",
       "      <td>118</td>\n",
       "      <td>3</td>\n",
       "      <td>2</td>\n",
       "      <td>1</td>\n",
       "      <td>5.89</td>\n",
       "      <td>1</td>\n",
       "      <td>PI329465</td>\n",
       "      <td>6.0141</td>\n",
       "      <td>-16.214895</td>\n",
       "      <td>-3.746922</td>\n",
       "      <td>-16.562172</td>\n",
       "    </tr>\n",
       "    <tr>\n",
       "      <th>1</th>\n",
       "      <td>2</td>\n",
       "      <td>121</td>\n",
       "      <td>3</td>\n",
       "      <td>2</td>\n",
       "      <td>1</td>\n",
       "      <td>6.15</td>\n",
       "      <td>1</td>\n",
       "      <td>PI329465</td>\n",
       "      <td>6.0141</td>\n",
       "      <td>-7.025053</td>\n",
       "      <td>-3.746922</td>\n",
       "      <td>-14.254258</td>\n",
       "    </tr>\n",
       "    <tr>\n",
       "      <th>2</th>\n",
       "      <td>4</td>\n",
       "      <td>123</td>\n",
       "      <td>3</td>\n",
       "      <td>2</td>\n",
       "      <td>1</td>\n",
       "      <td>5.98</td>\n",
       "      <td>1</td>\n",
       "      <td>PI329465</td>\n",
       "      <td>6.0141</td>\n",
       "      <td>-0.898492</td>\n",
       "      <td>-3.746922</td>\n",
       "      <td>-12.736730</td>\n",
       "    </tr>\n",
       "    <tr>\n",
       "      <th>3</th>\n",
       "      <td>6</td>\n",
       "      <td>124</td>\n",
       "      <td>3</td>\n",
       "      <td>2</td>\n",
       "      <td>1</td>\n",
       "      <td>5.99</td>\n",
       "      <td>1</td>\n",
       "      <td>PI329465</td>\n",
       "      <td>6.0141</td>\n",
       "      <td>2.164789</td>\n",
       "      <td>-3.746922</td>\n",
       "      <td>-11.984815</td>\n",
       "    </tr>\n",
       "    <tr>\n",
       "      <th>4</th>\n",
       "      <td>8</td>\n",
       "      <td>125</td>\n",
       "      <td>3</td>\n",
       "      <td>2</td>\n",
       "      <td>1</td>\n",
       "      <td>6.02</td>\n",
       "      <td>1</td>\n",
       "      <td>PI329465</td>\n",
       "      <td>6.0141</td>\n",
       "      <td>5.228070</td>\n",
       "      <td>-3.746922</td>\n",
       "      <td>-11.232923</td>\n",
       "    </tr>\n",
       "  </tbody>\n",
       "</table>\n",
       "</div>"
      ],
      "text/plain": [
       "   Unnamed: 0  day_number  range  column  sensor  height(cm)  genotype_id  \\\n",
       "0           0         118      3       2       1        5.89            1   \n",
       "1           2         121      3       2       1        6.15            1   \n",
       "2           4         123      3       2       1        5.98            1   \n",
       "3           6         124      3       2       1        5.99            1   \n",
       "4           8         125      3       2       1        6.02            1   \n",
       "\n",
       "  genotype_string  decision_tree  linearRegression    gboost        mlp  \n",
       "0        PI329465         6.0141        -16.214895 -3.746922 -16.562172  \n",
       "1        PI329465         6.0141         -7.025053 -3.746922 -14.254258  \n",
       "2        PI329465         6.0141         -0.898492 -3.746922 -12.736730  \n",
       "3        PI329465         6.0141          2.164789 -3.746922 -11.984815  \n",
       "4        PI329465         6.0141          5.228070 -3.746922 -11.232923  "
      ]
     },
     "execution_count": 15,
     "metadata": {},
     "output_type": "execute_result"
    }
   ],
   "source": [
    "cdf.head()"
   ]
  },
  {
   "cell_type": "code",
   "execution_count": 21,
   "metadata": {},
   "outputs": [
    {
     "data": {
      "image/png": "[encoded data removed]",
      "text/plain": [
       "<Figure size 864x576 with 1 Axes>"
      ]
     },
     "metadata": {
      "needs_background": "light"
     },
     "output_type": "display_data"
    }
   ],
   "source": [
    "%matplotlib inline\n",
    "import matplotlib.pyplot as plt\n",
    "plt.rcParams[\"figure.figsize\"] = (12,8)\n",
    "\n",
    "def plot_cultivar(fulldf,cultivar):\n",
    "    df = fulldf.loc[fulldf['genotype_id'] == cultivar]\n",
    "    minCol = df['column'].min()\n",
    "    df = df.loc[df['column']==minCol]\n",
    "    #print(df.shape)\n",
    "    df = df[['day_number','height(cm)','decision_tree','gboost','mlp']]\n",
    "    df = df.set_index('day_number')\n",
    "    df.plot()\n",
    "\n",
    "#plot_cultivar(cdf,'PI145619')\n",
    "plot_cultivar(cdf,5)"
   ]
  },
  {
   "cell_type": "code",
   "execution_count": 24,
   "metadata": {},
   "outputs": [],
   "source": [
    "cdf.to_csv(\"/media/clisle/Backup Plus/terra/processing/V2/s4_with_predictions.csv\")"
   ]
  },
  {
   "cell_type": "markdown",
   "metadata": {},
   "source": [
    "So the models don't fit well when a single model tries to fit ALL the different cultivars.  We need to break up the field and fit a model per cultivar.  Lets select a single cultivar and test fit several models. "
   ]
  },
  {
   "cell_type": "code",
   "execution_count": 13,
   "metadata": {},
   "outputs": [
    {
     "data": {
      "text/html": [
       "<div>\n",
       "<style scoped>\n",
       "    .dataframe tbody tr th:only-of-type {\n",
       "        vertical-align: middle;\n",
       "    }\n",
       "\n",
       "    .dataframe tbody tr th {\n",
       "        vertical-align: top;\n",
       "    }\n",
       "\n",
       "    .dataframe thead th {\n",
       "        text-align: right;\n",
       "    }\n",
       "</style>\n",
       "<table border=\"1\" class=\"dataframe\">\n",
       "  <thead>\n",
       "    <tr style=\"text-align: right;\">\n",
       "      <th></th>\n",
       "      <th>Unnamed: 0</th>\n",
       "      <th>day_number</th>\n",
       "      <th>range</th>\n",
       "      <th>column</th>\n",
       "      <th>sensor</th>\n",
       "      <th>height(cm)</th>\n",
       "      <th>genotype_id</th>\n",
       "      <th>genotype_string</th>\n",
       "      <th>decision_tree</th>\n",
       "      <th>linearRegression</th>\n",
       "      <th>gboost</th>\n",
       "    </tr>\n",
       "  </thead>\n",
       "  <tbody>\n",
       "    <tr>\n",
       "      <th>423</th>\n",
       "      <td>788</td>\n",
       "      <td>118</td>\n",
       "      <td>3</td>\n",
       "      <td>6</td>\n",
       "      <td>1</td>\n",
       "      <td>5.59</td>\n",
       "      <td>5</td>\n",
       "      <td>PI330181</td>\n",
       "      <td>6.01410</td>\n",
       "      <td>-11.181033</td>\n",
       "      <td>8.869446</td>\n",
       "    </tr>\n",
       "    <tr>\n",
       "      <th>424</th>\n",
       "      <td>790</td>\n",
       "      <td>121</td>\n",
       "      <td>3</td>\n",
       "      <td>6</td>\n",
       "      <td>1</td>\n",
       "      <td>5.78</td>\n",
       "      <td>5</td>\n",
       "      <td>PI330181</td>\n",
       "      <td>6.01410</td>\n",
       "      <td>-1.991191</td>\n",
       "      <td>8.869446</td>\n",
       "    </tr>\n",
       "    <tr>\n",
       "      <th>425</th>\n",
       "      <td>792</td>\n",
       "      <td>123</td>\n",
       "      <td>3</td>\n",
       "      <td>6</td>\n",
       "      <td>1</td>\n",
       "      <td>5.90</td>\n",
       "      <td>5</td>\n",
       "      <td>PI330181</td>\n",
       "      <td>6.01410</td>\n",
       "      <td>4.135370</td>\n",
       "      <td>8.869446</td>\n",
       "    </tr>\n",
       "    <tr>\n",
       "      <th>426</th>\n",
       "      <td>794</td>\n",
       "      <td>124</td>\n",
       "      <td>3</td>\n",
       "      <td>6</td>\n",
       "      <td>1</td>\n",
       "      <td>5.94</td>\n",
       "      <td>5</td>\n",
       "      <td>PI330181</td>\n",
       "      <td>6.01410</td>\n",
       "      <td>7.198651</td>\n",
       "      <td>8.869446</td>\n",
       "    </tr>\n",
       "    <tr>\n",
       "      <th>427</th>\n",
       "      <td>796</td>\n",
       "      <td>125</td>\n",
       "      <td>3</td>\n",
       "      <td>6</td>\n",
       "      <td>1</td>\n",
       "      <td>6.67</td>\n",
       "      <td>5</td>\n",
       "      <td>PI330181</td>\n",
       "      <td>6.01410</td>\n",
       "      <td>10.261932</td>\n",
       "      <td>8.869446</td>\n",
       "    </tr>\n",
       "    <tr>\n",
       "      <th>428</th>\n",
       "      <td>798</td>\n",
       "      <td>126</td>\n",
       "      <td>3</td>\n",
       "      <td>6</td>\n",
       "      <td>1</td>\n",
       "      <td>8.74</td>\n",
       "      <td>5</td>\n",
       "      <td>PI330181</td>\n",
       "      <td>6.01410</td>\n",
       "      <td>13.325212</td>\n",
       "      <td>8.869446</td>\n",
       "    </tr>\n",
       "    <tr>\n",
       "      <th>429</th>\n",
       "      <td>800</td>\n",
       "      <td>128</td>\n",
       "      <td>3</td>\n",
       "      <td>6</td>\n",
       "      <td>1</td>\n",
       "      <td>9.28</td>\n",
       "      <td>5</td>\n",
       "      <td>PI330181</td>\n",
       "      <td>6.01410</td>\n",
       "      <td>19.451774</td>\n",
       "      <td>8.869446</td>\n",
       "    </tr>\n",
       "    <tr>\n",
       "      <th>430</th>\n",
       "      <td>802</td>\n",
       "      <td>136</td>\n",
       "      <td>3</td>\n",
       "      <td>6</td>\n",
       "      <td>1</td>\n",
       "      <td>9.81</td>\n",
       "      <td>5</td>\n",
       "      <td>PI330181</td>\n",
       "      <td>14.55964</td>\n",
       "      <td>43.958019</td>\n",
       "      <td>12.215789</td>\n",
       "    </tr>\n",
       "    <tr>\n",
       "      <th>431</th>\n",
       "      <td>804</td>\n",
       "      <td>138</td>\n",
       "      <td>3</td>\n",
       "      <td>6</td>\n",
       "      <td>1</td>\n",
       "      <td>13.16</td>\n",
       "      <td>5</td>\n",
       "      <td>PI330181</td>\n",
       "      <td>14.55964</td>\n",
       "      <td>50.084581</td>\n",
       "      <td>15.579196</td>\n",
       "    </tr>\n",
       "    <tr>\n",
       "      <th>432</th>\n",
       "      <td>806</td>\n",
       "      <td>140</td>\n",
       "      <td>3</td>\n",
       "      <td>6</td>\n",
       "      <td>1</td>\n",
       "      <td>16.16</td>\n",
       "      <td>5</td>\n",
       "      <td>PI330181</td>\n",
       "      <td>14.55964</td>\n",
       "      <td>56.211142</td>\n",
       "      <td>19.139754</td>\n",
       "    </tr>\n",
       "  </tbody>\n",
       "</table>\n",
       "</div>"
      ],
      "text/plain": [
       "     Unnamed: 0  day_number  range  column  sensor  height(cm)  genotype_id  \\\n",
       "423         788         118      3       6       1        5.59            5   \n",
       "424         790         121      3       6       1        5.78            5   \n",
       "425         792         123      3       6       1        5.90            5   \n",
       "426         794         124      3       6       1        5.94            5   \n",
       "427         796         125      3       6       1        6.67            5   \n",
       "428         798         126      3       6       1        8.74            5   \n",
       "429         800         128      3       6       1        9.28            5   \n",
       "430         802         136      3       6       1        9.81            5   \n",
       "431         804         138      3       6       1       13.16            5   \n",
       "432         806         140      3       6       1       16.16            5   \n",
       "\n",
       "    genotype_string  decision_tree  linearRegression     gboost  \n",
       "423        PI330181        6.01410        -11.181033   8.869446  \n",
       "424        PI330181        6.01410         -1.991191   8.869446  \n",
       "425        PI330181        6.01410          4.135370   8.869446  \n",
       "426        PI330181        6.01410          7.198651   8.869446  \n",
       "427        PI330181        6.01410         10.261932   8.869446  \n",
       "428        PI330181        6.01410         13.325212   8.869446  \n",
       "429        PI330181        6.01410         19.451774   8.869446  \n",
       "430        PI330181       14.55964         43.958019  12.215789  \n",
       "431        PI330181       14.55964         50.084581  15.579196  \n",
       "432        PI330181       14.55964         56.211142  19.139754  "
      ]
     },
     "execution_count": 13,
     "metadata": {},
     "output_type": "execute_result"
    }
   ],
   "source": [
    "single = cdf.loc[cdf['genotype_id'] == 5]\n",
    "single[0:10]"
   ]
  },
  {
   "cell_type": "code",
   "execution_count": 14,
   "metadata": {},
   "outputs": [],
   "source": [
    "def returnUniqueCounts(dframe):\n",
    "    return pd.DataFrame.from_records([(col, dframe[col].nunique()) for col in dframe.columns],\n",
    "                          columns=['Column_Name', 'Num_Unique']).sort_values(by=['Num_Unique'])"
   ]
  },
  {
   "cell_type": "code",
   "execution_count": 15,
   "metadata": {},
   "outputs": [
    {
     "data": {
      "text/html": [
       "<div>\n",
       "<style scoped>\n",
       "    .dataframe tbody tr th:only-of-type {\n",
       "        vertical-align: middle;\n",
       "    }\n",
       "\n",
       "    .dataframe tbody tr th {\n",
       "        vertical-align: top;\n",
       "    }\n",
       "\n",
       "    .dataframe thead th {\n",
       "        text-align: right;\n",
       "    }\n",
       "</style>\n",
       "<table border=\"1\" class=\"dataframe\">\n",
       "  <thead>\n",
       "    <tr style=\"text-align: right;\">\n",
       "      <th></th>\n",
       "      <th>Column_Name</th>\n",
       "      <th>Num_Unique</th>\n",
       "    </tr>\n",
       "  </thead>\n",
       "  <tbody>\n",
       "    <tr>\n",
       "      <th>4</th>\n",
       "      <td>sensor</td>\n",
       "      <td>1</td>\n",
       "    </tr>\n",
       "    <tr>\n",
       "      <th>6</th>\n",
       "      <td>genotype_id</td>\n",
       "      <td>1</td>\n",
       "    </tr>\n",
       "    <tr>\n",
       "      <th>7</th>\n",
       "      <td>genotype_string</td>\n",
       "      <td>1</td>\n",
       "    </tr>\n",
       "    <tr>\n",
       "      <th>2</th>\n",
       "      <td>range</td>\n",
       "      <td>2</td>\n",
       "    </tr>\n",
       "    <tr>\n",
       "      <th>3</th>\n",
       "      <td>column</td>\n",
       "      <td>2</td>\n",
       "    </tr>\n",
       "    <tr>\n",
       "      <th>8</th>\n",
       "      <td>decision_tree</td>\n",
       "      <td>13</td>\n",
       "    </tr>\n",
       "    <tr>\n",
       "      <th>1</th>\n",
       "      <td>day_number</td>\n",
       "      <td>69</td>\n",
       "    </tr>\n",
       "    <tr>\n",
       "      <th>10</th>\n",
       "      <td>gboost</td>\n",
       "      <td>70</td>\n",
       "    </tr>\n",
       "    <tr>\n",
       "      <th>0</th>\n",
       "      <td>Unnamed: 0</td>\n",
       "      <td>115</td>\n",
       "    </tr>\n",
       "    <tr>\n",
       "      <th>5</th>\n",
       "      <td>height(cm)</td>\n",
       "      <td>115</td>\n",
       "    </tr>\n",
       "    <tr>\n",
       "      <th>9</th>\n",
       "      <td>linearRegression</td>\n",
       "      <td>115</td>\n",
       "    </tr>\n",
       "  </tbody>\n",
       "</table>\n",
       "</div>"
      ],
      "text/plain": [
       "         Column_Name  Num_Unique\n",
       "4             sensor           1\n",
       "6        genotype_id           1\n",
       "7    genotype_string           1\n",
       "2              range           2\n",
       "3             column           2\n",
       "8      decision_tree          13\n",
       "1         day_number          69\n",
       "10            gboost          70\n",
       "0         Unnamed: 0         115\n",
       "5         height(cm)         115\n",
       "9   linearRegression         115"
      ]
     },
     "execution_count": 15,
     "metadata": {},
     "output_type": "execute_result"
    }
   ],
   "source": [
    "returnUniqueCounts(single)"
   ]
  },
  {
   "cell_type": "code",
   "execution_count": 16,
   "metadata": {},
   "outputs": [],
   "source": [
    "s_train_df = single[['genotype_id','day_number','range','column']]\n",
    "s_target_df = single['height(cm)']"
   ]
  },
  {
   "cell_type": "code",
   "execution_count": 17,
   "metadata": {},
   "outputs": [
    {
     "name": "stdout",
     "output_type": "stream",
     "text": [
      "(115, 4)\n",
      "(115,)\n"
     ]
    }
   ],
   "source": [
    "X_train = s_train_df.values\n",
    "y_train = s_target_df.values\n",
    "print(X_train.shape)\n",
    "print(y_train.shape)"
   ]
  },
  {
   "cell_type": "code",
   "execution_count": 18,
   "metadata": {},
   "outputs": [],
   "source": [
    "from sklearn.tree import DecisionTreeRegressor\n",
    "from sklearn.linear_model import LinearRegression\n",
    "from sklearn import svm\n",
    "from sklearn.ensemble import GradientBoostingRegressor\n",
    "\n",
    "tree = DecisionTreeRegressor(max_depth=4).fit(X_train, y_train)\n",
    "linear_reg = LinearRegression().fit(X_train, y_train)\n",
    "#svm_mod = svm.SVR().fit(X_train, y_train)\n",
    "gbr_mod = GradientBoostingRegressor(n_estimators=100, learning_rate=0.1, max_depth=1, random_state=0, loss='ls').fit(X_train, y_train)\n",
    "\n",
    "pred_tree = tree.predict(X_train)\n",
    "pred_lr = linear_reg.predict(X_train)\n",
    "#pred_svm = svm_mod.predict(X_train)\n",
    "pred_gbr = gbr_mod.predict(X_train)\n"
   ]
  },
  {
   "cell_type": "code",
   "execution_count": 19,
   "metadata": {},
   "outputs": [
    {
     "name": "stderr",
     "output_type": "stream",
     "text": [
      "/home/clisle/anaconda3/envs/tf_gpu/lib/python3.7/site-packages/ipykernel_launcher.py:2: SettingWithCopyWarning: \n",
      "A value is trying to be set on a copy of a slice from a DataFrame.\n",
      "Try using .loc[row_indexer,col_indexer] = value instead\n",
      "\n",
      "See the caveats in the documentation: http://pandas.pydata.org/pandas-docs/stable/user_guide/indexing.html#returning-a-view-versus-a-copy\n",
      "  \n",
      "/home/clisle/anaconda3/envs/tf_gpu/lib/python3.7/site-packages/ipykernel_launcher.py:3: SettingWithCopyWarning: \n",
      "A value is trying to be set on a copy of a slice from a DataFrame.\n",
      "Try using .loc[row_indexer,col_indexer] = value instead\n",
      "\n",
      "See the caveats in the documentation: http://pandas.pydata.org/pandas-docs/stable/user_guide/indexing.html#returning-a-view-versus-a-copy\n",
      "  This is separate from the ipykernel package so we can avoid doing imports until\n",
      "/home/clisle/anaconda3/envs/tf_gpu/lib/python3.7/site-packages/ipykernel_launcher.py:4: SettingWithCopyWarning: \n",
      "A value is trying to be set on a copy of a slice from a DataFrame.\n",
      "Try using .loc[row_indexer,col_indexer] = value instead\n",
      "\n",
      "See the caveats in the documentation: http://pandas.pydata.org/pandas-docs/stable/user_guide/indexing.html#returning-a-view-versus-a-copy\n",
      "  after removing the cwd from sys.path.\n"
     ]
    },
    {
     "data": {
      "text/html": [
       "<div>\n",
       "<style scoped>\n",
       "    .dataframe tbody tr th:only-of-type {\n",
       "        vertical-align: middle;\n",
       "    }\n",
       "\n",
       "    .dataframe tbody tr th {\n",
       "        vertical-align: top;\n",
       "    }\n",
       "\n",
       "    .dataframe thead th {\n",
       "        text-align: right;\n",
       "    }\n",
       "</style>\n",
       "<table border=\"1\" class=\"dataframe\">\n",
       "  <thead>\n",
       "    <tr style=\"text-align: right;\">\n",
       "      <th></th>\n",
       "      <th>Unnamed: 0</th>\n",
       "      <th>day_number</th>\n",
       "      <th>range</th>\n",
       "      <th>column</th>\n",
       "      <th>sensor</th>\n",
       "      <th>height(cm)</th>\n",
       "      <th>genotype_id</th>\n",
       "      <th>genotype_string</th>\n",
       "      <th>decision_tree</th>\n",
       "      <th>linearRegression</th>\n",
       "      <th>gboost</th>\n",
       "    </tr>\n",
       "  </thead>\n",
       "  <tbody>\n",
       "    <tr>\n",
       "      <th>423</th>\n",
       "      <td>788</td>\n",
       "      <td>118</td>\n",
       "      <td>3</td>\n",
       "      <td>6</td>\n",
       "      <td>1</td>\n",
       "      <td>5.59</td>\n",
       "      <td>5</td>\n",
       "      <td>PI330181</td>\n",
       "      <td>7.035</td>\n",
       "      <td>-31.356193</td>\n",
       "      <td>-2.635891</td>\n",
       "    </tr>\n",
       "    <tr>\n",
       "      <th>424</th>\n",
       "      <td>790</td>\n",
       "      <td>121</td>\n",
       "      <td>3</td>\n",
       "      <td>6</td>\n",
       "      <td>1</td>\n",
       "      <td>5.78</td>\n",
       "      <td>5</td>\n",
       "      <td>PI330181</td>\n",
       "      <td>7.035</td>\n",
       "      <td>-20.017512</td>\n",
       "      <td>-2.635891</td>\n",
       "    </tr>\n",
       "    <tr>\n",
       "      <th>425</th>\n",
       "      <td>792</td>\n",
       "      <td>123</td>\n",
       "      <td>3</td>\n",
       "      <td>6</td>\n",
       "      <td>1</td>\n",
       "      <td>5.90</td>\n",
       "      <td>5</td>\n",
       "      <td>PI330181</td>\n",
       "      <td>7.035</td>\n",
       "      <td>-12.458392</td>\n",
       "      <td>-1.970353</td>\n",
       "    </tr>\n",
       "    <tr>\n",
       "      <th>426</th>\n",
       "      <td>794</td>\n",
       "      <td>124</td>\n",
       "      <td>3</td>\n",
       "      <td>6</td>\n",
       "      <td>1</td>\n",
       "      <td>5.94</td>\n",
       "      <td>5</td>\n",
       "      <td>PI330181</td>\n",
       "      <td>7.035</td>\n",
       "      <td>-8.678832</td>\n",
       "      <td>-0.529951</td>\n",
       "    </tr>\n",
       "    <tr>\n",
       "      <th>427</th>\n",
       "      <td>796</td>\n",
       "      <td>125</td>\n",
       "      <td>3</td>\n",
       "      <td>6</td>\n",
       "      <td>1</td>\n",
       "      <td>6.67</td>\n",
       "      <td>5</td>\n",
       "      <td>PI330181</td>\n",
       "      <td>7.035</td>\n",
       "      <td>-4.899272</td>\n",
       "      <td>-0.529951</td>\n",
       "    </tr>\n",
       "  </tbody>\n",
       "</table>\n",
       "</div>"
      ],
      "text/plain": [
       "     Unnamed: 0  day_number  range  column  sensor  height(cm)  genotype_id  \\\n",
       "423         788         118      3       6       1        5.59            5   \n",
       "424         790         121      3       6       1        5.78            5   \n",
       "425         792         123      3       6       1        5.90            5   \n",
       "426         794         124      3       6       1        5.94            5   \n",
       "427         796         125      3       6       1        6.67            5   \n",
       "\n",
       "    genotype_string  decision_tree  linearRegression    gboost  \n",
       "423        PI330181          7.035        -31.356193 -2.635891  \n",
       "424        PI330181          7.035        -20.017512 -2.635891  \n",
       "425        PI330181          7.035        -12.458392 -1.970353  \n",
       "426        PI330181          7.035         -8.678832 -0.529951  \n",
       "427        PI330181          7.035         -4.899272 -0.529951  "
      ]
     },
     "execution_count": 19,
     "metadata": {},
     "output_type": "execute_result"
    }
   ],
   "source": [
    "s4_single = single\n",
    "s4_single['decision_tree'] = pred_tree\n",
    "s4_single['linearRegression'] = pred_lr\n",
    "s4_single['gboost'] = pred_gbr\n",
    "s4_single.head()"
   ]
  },
  {
   "cell_type": "code",
   "execution_count": 20,
   "metadata": {},
   "outputs": [
    {
     "data": {
      "image/png": "[encoded data removed]",
      "text/plain": [
       "<Figure size 864x576 with 1 Axes>"
      ]
     },
     "metadata": {
      "needs_background": "light"
     },
     "output_type": "display_data"
    }
   ],
   "source": [
    "%matplotlib inline\n",
    "import matplotlib.pyplot as plt\n",
    "plt.rcParams[\"figure.figsize\"] = (12,8)\n",
    "\n",
    "def plot_cultivar(fulldf,cultivar):\n",
    "    df = fulldf.loc[fulldf['genotype_id'] == cultivar]\n",
    "    minCol = df['column'].min()\n",
    "    df = df.loc[df['column']==minCol]\n",
    "    #print(df.shape)\n",
    "    df = df[['day_number','height(cm)','decision_tree','gboost']]\n",
    "    df = df.set_index('day_number')\n",
    "    df.plot()\n",
    "\n",
    "plot_cultivar(s4_single,5)"
   ]
  },
  {
   "cell_type": "code",
   "execution_count": 36,
   "metadata": {},
   "outputs": [],
   "source": [
    "s4_single.to_csv(\"/media/clisle/Backup Plus/terra/processing/V2/s4_cultivar5_with_predictions.csv\")"
   ]
  },
  {
   "cell_type": "markdown",
   "metadata": {},
   "source": [
    "The above plot is really simpler than the data.  The plot corresponds to a single column, which means either one or two plants (since they are planted side by side.) The plot automatically selected the minimum column to render. However, the models are being fitted with all plants (generally 2 or 4 instances) 4 in the case of genotype_id=5.  So they have to take into account multiple heights per grid location.  I should really isolate a single plan and run the models to try and fit it.  Here goes..."
   ]
  },
  {
   "cell_type": "code",
   "execution_count": 21,
   "metadata": {},
   "outputs": [],
   "source": [
    "truly_single = single.loc[(single['range']==3) & (single['column']==6)]"
   ]
  },
  {
   "cell_type": "code",
   "execution_count": 22,
   "metadata": {},
   "outputs": [
    {
     "name": "stdout",
     "output_type": "stream",
     "text": [
      "(115, 11)\n",
      "(51, 11)\n"
     ]
    }
   ],
   "source": [
    "print(single.shape)\n",
    "print(truly_single.shape)"
   ]
  },
  {
   "cell_type": "code",
   "execution_count": 23,
   "metadata": {},
   "outputs": [],
   "source": [
    "ts_sorted = truly_single.set_index('day_number')"
   ]
  },
  {
   "cell_type": "code",
   "execution_count": 24,
   "metadata": {},
   "outputs": [
    {
     "data": {
      "text/plain": [
       "<matplotlib.axes._subplots.AxesSubplot at 0x7f4ccd05b550>"
      ]
     },
     "execution_count": 24,
     "metadata": {},
     "output_type": "execute_result"
    },
    {
     "data": {
      "image/png": "[encoded data removed]",
      "text/plain": [
       "<Figure size 864x576 with 1 Axes>"
      ]
     },
     "metadata": {
      "needs_background": "light"
     },
     "output_type": "display_data"
    }
   ],
   "source": [
    "ts_sorted.plot()"
   ]
  },
  {
   "cell_type": "markdown",
   "metadata": {},
   "source": [
    "OK, above is a plot of truly a single plant (in the height column), but the models need to be run, because they were fitted to 4 plants.  "
   ]
  },
  {
   "cell_type": "markdown",
   "metadata": {},
   "source": [
    "ts = truly single"
   ]
  },
  {
   "cell_type": "code",
   "execution_count": 25,
   "metadata": {},
   "outputs": [
    {
     "name": "stdout",
     "output_type": "stream",
     "text": [
      "(51, 1)\n",
      "(51,)\n"
     ]
    }
   ],
   "source": [
    "ts_train_df = truly_single[['day_number']]\n",
    "ts_target_df = truly_single['height(cm)']\n",
    "X_train = ts_train_df.values\n",
    "y_train = ts_target_df.values\n",
    "print(X_train.shape)\n",
    "print(y_train.shape)"
   ]
  },
  {
   "cell_type": "code",
   "execution_count": 28,
   "metadata": {},
   "outputs": [
    {
     "name": "stderr",
     "output_type": "stream",
     "text": [
      "/home/clisle/anaconda3/envs/tf_gpu/lib/python3.7/site-packages/sklearn/svm/base.py:193: FutureWarning: The default value of gamma will change from 'auto' to 'scale' in version 0.22 to account better for unscaled features. Set gamma explicitly to 'auto' or 'scale' to avoid this warning.\n",
      "  \"avoid this warning.\", FutureWarning)\n",
      "/home/clisle/anaconda3/envs/tf_gpu/lib/python3.7/site-packages/ipykernel_launcher.py:12: SettingWithCopyWarning: \n",
      "A value is trying to be set on a copy of a slice from a DataFrame.\n",
      "Try using .loc[row_indexer,col_indexer] = value instead\n",
      "\n",
      "See the caveats in the documentation: http://pandas.pydata.org/pandas-docs/stable/user_guide/indexing.html#returning-a-view-versus-a-copy\n",
      "  if sys.path[0] == '':\n",
      "/home/clisle/anaconda3/envs/tf_gpu/lib/python3.7/site-packages/ipykernel_launcher.py:13: SettingWithCopyWarning: \n",
      "A value is trying to be set on a copy of a slice from a DataFrame.\n",
      "Try using .loc[row_indexer,col_indexer] = value instead\n",
      "\n",
      "See the caveats in the documentation: http://pandas.pydata.org/pandas-docs/stable/user_guide/indexing.html#returning-a-view-versus-a-copy\n",
      "  del sys.path[0]\n",
      "/home/clisle/anaconda3/envs/tf_gpu/lib/python3.7/site-packages/ipykernel_launcher.py:14: SettingWithCopyWarning: \n",
      "A value is trying to be set on a copy of a slice from a DataFrame.\n",
      "Try using .loc[row_indexer,col_indexer] = value instead\n",
      "\n",
      "See the caveats in the documentation: http://pandas.pydata.org/pandas-docs/stable/user_guide/indexing.html#returning-a-view-versus-a-copy\n",
      "  \n",
      "/home/clisle/anaconda3/envs/tf_gpu/lib/python3.7/site-packages/ipykernel_launcher.py:15: SettingWithCopyWarning: \n",
      "A value is trying to be set on a copy of a slice from a DataFrame.\n",
      "Try using .loc[row_indexer,col_indexer] = value instead\n",
      "\n",
      "See the caveats in the documentation: http://pandas.pydata.org/pandas-docs/stable/user_guide/indexing.html#returning-a-view-versus-a-copy\n",
      "  from ipykernel import kernelapp as app\n"
     ]
    },
    {
     "data": {
      "text/html": [
       "<div>\n",
       "<style scoped>\n",
       "    .dataframe tbody tr th:only-of-type {\n",
       "        vertical-align: middle;\n",
       "    }\n",
       "\n",
       "    .dataframe tbody tr th {\n",
       "        vertical-align: top;\n",
       "    }\n",
       "\n",
       "    .dataframe thead th {\n",
       "        text-align: right;\n",
       "    }\n",
       "</style>\n",
       "<table border=\"1\" class=\"dataframe\">\n",
       "  <thead>\n",
       "    <tr style=\"text-align: right;\">\n",
       "      <th></th>\n",
       "      <th>Unnamed: 0</th>\n",
       "      <th>day_number</th>\n",
       "      <th>range</th>\n",
       "      <th>column</th>\n",
       "      <th>sensor</th>\n",
       "      <th>height(cm)</th>\n",
       "      <th>genotype_id</th>\n",
       "      <th>genotype_string</th>\n",
       "      <th>decision_tree</th>\n",
       "      <th>linearRegression</th>\n",
       "      <th>gboost</th>\n",
       "      <th>svm</th>\n",
       "    </tr>\n",
       "  </thead>\n",
       "  <tbody>\n",
       "    <tr>\n",
       "      <th>423</th>\n",
       "      <td>788</td>\n",
       "      <td>118</td>\n",
       "      <td>3</td>\n",
       "      <td>6</td>\n",
       "      <td>1</td>\n",
       "      <td>5.59</td>\n",
       "      <td>5</td>\n",
       "      <td>PI330181</td>\n",
       "      <td>8.703</td>\n",
       "      <td>-26.152747</td>\n",
       "      <td>7.172083</td>\n",
       "      <td>211.189815</td>\n",
       "    </tr>\n",
       "    <tr>\n",
       "      <th>424</th>\n",
       "      <td>790</td>\n",
       "      <td>121</td>\n",
       "      <td>3</td>\n",
       "      <td>6</td>\n",
       "      <td>1</td>\n",
       "      <td>5.78</td>\n",
       "      <td>5</td>\n",
       "      <td>PI330181</td>\n",
       "      <td>8.703</td>\n",
       "      <td>-15.067046</td>\n",
       "      <td>7.172083</td>\n",
       "      <td>211.171376</td>\n",
       "    </tr>\n",
       "    <tr>\n",
       "      <th>425</th>\n",
       "      <td>792</td>\n",
       "      <td>123</td>\n",
       "      <td>3</td>\n",
       "      <td>6</td>\n",
       "      <td>1</td>\n",
       "      <td>5.90</td>\n",
       "      <td>5</td>\n",
       "      <td>PI330181</td>\n",
       "      <td>8.703</td>\n",
       "      <td>-7.676579</td>\n",
       "      <td>7.172083</td>\n",
       "      <td>210.785304</td>\n",
       "    </tr>\n",
       "    <tr>\n",
       "      <th>426</th>\n",
       "      <td>794</td>\n",
       "      <td>124</td>\n",
       "      <td>3</td>\n",
       "      <td>6</td>\n",
       "      <td>1</td>\n",
       "      <td>5.94</td>\n",
       "      <td>5</td>\n",
       "      <td>PI330181</td>\n",
       "      <td>8.703</td>\n",
       "      <td>-3.981346</td>\n",
       "      <td>7.172083</td>\n",
       "      <td>210.435740</td>\n",
       "    </tr>\n",
       "    <tr>\n",
       "      <th>427</th>\n",
       "      <td>796</td>\n",
       "      <td>125</td>\n",
       "      <td>3</td>\n",
       "      <td>6</td>\n",
       "      <td>1</td>\n",
       "      <td>6.67</td>\n",
       "      <td>5</td>\n",
       "      <td>PI330181</td>\n",
       "      <td>8.703</td>\n",
       "      <td>-0.286112</td>\n",
       "      <td>7.172083</td>\n",
       "      <td>210.435740</td>\n",
       "    </tr>\n",
       "  </tbody>\n",
       "</table>\n",
       "</div>"
      ],
      "text/plain": [
       "     Unnamed: 0  day_number  range  column  sensor  height(cm)  genotype_id  \\\n",
       "423         788         118      3       6       1        5.59            5   \n",
       "424         790         121      3       6       1        5.78            5   \n",
       "425         792         123      3       6       1        5.90            5   \n",
       "426         794         124      3       6       1        5.94            5   \n",
       "427         796         125      3       6       1        6.67            5   \n",
       "\n",
       "    genotype_string  decision_tree  linearRegression    gboost         svm  \n",
       "423        PI330181          8.703        -26.152747  7.172083  211.189815  \n",
       "424        PI330181          8.703        -15.067046  7.172083  211.171376  \n",
       "425        PI330181          8.703         -7.676579  7.172083  210.785304  \n",
       "426        PI330181          8.703         -3.981346  7.172083  210.435740  \n",
       "427        PI330181          8.703         -0.286112  7.172083  210.435740  "
      ]
     },
     "execution_count": 28,
     "metadata": {},
     "output_type": "execute_result"
    }
   ],
   "source": [
    "\n",
    "tree = DecisionTreeRegressor(max_depth=4).fit(X_train, y_train)\n",
    "linear_reg = LinearRegression().fit(X_train, y_train)\n",
    "svm_mod = svm.SVR().fit(X_train, y_train)\n",
    "gbr_mod = GradientBoostingRegressor(n_estimators=100, learning_rate=0.1, max_depth=1, random_state=0, loss='ls').fit(X_train, y_train)\n",
    "\n",
    "pred_tree = tree.predict(X_train)\n",
    "pred_lr = linear_reg.predict(X_train)\n",
    "pred_svm = svm_mod.predict(X_train)\n",
    "pred_gbr = gbr_mod.predict(X_train)\n",
    "\n",
    "s4_truly_single = truly_single\n",
    "s4_truly_single['decision_tree'] = pred_tree\n",
    "s4_truly_single['linearRegression'] = pred_lr\n",
    "s4_truly_single['svm'] = pred_svm\n",
    "s4_truly_single['gboost'] = pred_gbr\n",
    "s4_truly_single.head()\n"
   ]
  },
  {
   "cell_type": "code",
   "execution_count": 29,
   "metadata": {},
   "outputs": [
    {
     "name": "stdout",
     "output_type": "stream",
     "text": [
      "training model\n",
      "Epoch 1/10\n",
      " - 0s - loss: 26626.3944 - mean_absolute_error: 135.7944\n",
      "Epoch 2/10\n",
      " - 0s - loss: 12399.1016 - mean_absolute_error: 96.1688\n",
      "Epoch 3/10\n",
      " - 0s - loss: 9378.2646 - mean_absolute_error: 83.8181\n",
      "Epoch 4/10\n",
      " - 0s - loss: 9247.3507 - mean_absolute_error: 82.7912\n",
      "Epoch 5/10\n",
      " - 0s - loss: 9159.7100 - mean_absolute_error: 81.5869\n",
      "Epoch 6/10\n",
      " - 0s - loss: 9133.8827 - mean_absolute_error: 81.0265\n",
      "Epoch 7/10\n",
      " - 0s - loss: 9200.4773 - mean_absolute_error: 82.2760\n",
      "Epoch 8/10\n",
      " - 0s - loss: 9113.7706 - mean_absolute_error: 82.3658\n",
      "Epoch 9/10\n",
      " - 0s - loss: 9190.2676 - mean_absolute_error: 82.5694\n",
      "Epoch 10/10\n",
      " - 0s - loss: 9170.0762 - mean_absolute_error: 81.5670\n",
      "evaluating model fit:\n",
      "8885.986203661152 80.89319446040135\n"
     ]
    }
   ],
   "source": [
    "from keras import models\n",
    "from keras import layers\n",
    "\n",
    "model = build_model(X_train)\n",
    "print('training model')\n",
    "model.fit(X_train,y_train,epochs=10, batch_size=1, verbose=2)\n",
    "print('evaluating model fit:')\n",
    "val_mse, val_mae = model.evaluate(X_train, y_train, verbose=0)\n",
    "print(val_mse,val_mae)"
   ]
  },
  {
   "cell_type": "code",
   "execution_count": 30,
   "metadata": {},
   "outputs": [
    {
     "data": {
      "text/plain": [
       "<matplotlib.axes._subplots.AxesSubplot at 0x7f4c482ef8d0>"
      ]
     },
     "execution_count": 30,
     "metadata": {},
     "output_type": "execute_result"
    },
    {
     "data": {
      "image/png": "[encoded data removed]",
      "text/plain": [
       "<Figure size 864x576 with 1 Axes>"
      ]
     },
     "metadata": {
      "needs_background": "light"
     },
     "output_type": "display_data"
    }
   ],
   "source": [
    "ts_plot = s4_truly_single[['height(cm)','decision_tree','gboost']]\n",
    "ts_plot.plot()"
   ]
  },
  {
   "cell_type": "code",
   "execution_count": 31,
   "metadata": {},
   "outputs": [
    {
     "name": "stderr",
     "output_type": "stream",
     "text": [
      "/home/clisle/anaconda3/envs/tf_gpu/lib/python3.7/site-packages/ipykernel_launcher.py:1: SettingWithCopyWarning: \n",
      "A value is trying to be set on a copy of a slice from a DataFrame.\n",
      "Try using .loc[row_indexer,col_indexer] = value instead\n",
      "\n",
      "See the caveats in the documentation: http://pandas.pydata.org/pandas-docs/stable/user_guide/indexing.html#returning-a-view-versus-a-copy\n",
      "  \"\"\"Entry point for launching an IPython kernel.\n"
     ]
    },
    {
     "data": {
      "text/html": [
       "<div>\n",
       "<style scoped>\n",
       "    .dataframe tbody tr th:only-of-type {\n",
       "        vertical-align: middle;\n",
       "    }\n",
       "\n",
       "    .dataframe tbody tr th {\n",
       "        vertical-align: top;\n",
       "    }\n",
       "\n",
       "    .dataframe thead th {\n",
       "        text-align: right;\n",
       "    }\n",
       "</style>\n",
       "<table border=\"1\" class=\"dataframe\">\n",
       "  <thead>\n",
       "    <tr style=\"text-align: right;\">\n",
       "      <th></th>\n",
       "      <th>Unnamed: 0</th>\n",
       "      <th>day_number</th>\n",
       "      <th>range</th>\n",
       "      <th>column</th>\n",
       "      <th>sensor</th>\n",
       "      <th>height(cm)</th>\n",
       "      <th>genotype_id</th>\n",
       "      <th>genotype_string</th>\n",
       "      <th>decision_tree</th>\n",
       "      <th>linearRegression</th>\n",
       "      <th>gboost</th>\n",
       "      <th>svm</th>\n",
       "      <th>mlp</th>\n",
       "    </tr>\n",
       "  </thead>\n",
       "  <tbody>\n",
       "    <tr>\n",
       "      <th>423</th>\n",
       "      <td>788</td>\n",
       "      <td>118</td>\n",
       "      <td>3</td>\n",
       "      <td>6</td>\n",
       "      <td>1</td>\n",
       "      <td>5.59</td>\n",
       "      <td>5</td>\n",
       "      <td>PI330181</td>\n",
       "      <td>8.703</td>\n",
       "      <td>-26.152747</td>\n",
       "      <td>7.172083</td>\n",
       "      <td>211.189815</td>\n",
       "      <td>142.243332</td>\n",
       "    </tr>\n",
       "    <tr>\n",
       "      <th>424</th>\n",
       "      <td>790</td>\n",
       "      <td>121</td>\n",
       "      <td>3</td>\n",
       "      <td>6</td>\n",
       "      <td>1</td>\n",
       "      <td>5.78</td>\n",
       "      <td>5</td>\n",
       "      <td>PI330181</td>\n",
       "      <td>8.703</td>\n",
       "      <td>-15.067046</td>\n",
       "      <td>7.172083</td>\n",
       "      <td>211.171376</td>\n",
       "      <td>145.861298</td>\n",
       "    </tr>\n",
       "    <tr>\n",
       "      <th>425</th>\n",
       "      <td>792</td>\n",
       "      <td>123</td>\n",
       "      <td>3</td>\n",
       "      <td>6</td>\n",
       "      <td>1</td>\n",
       "      <td>5.90</td>\n",
       "      <td>5</td>\n",
       "      <td>PI330181</td>\n",
       "      <td>8.703</td>\n",
       "      <td>-7.676579</td>\n",
       "      <td>7.172083</td>\n",
       "      <td>210.785304</td>\n",
       "      <td>148.273224</td>\n",
       "    </tr>\n",
       "    <tr>\n",
       "      <th>426</th>\n",
       "      <td>794</td>\n",
       "      <td>124</td>\n",
       "      <td>3</td>\n",
       "      <td>6</td>\n",
       "      <td>1</td>\n",
       "      <td>5.94</td>\n",
       "      <td>5</td>\n",
       "      <td>PI330181</td>\n",
       "      <td>8.703</td>\n",
       "      <td>-3.981346</td>\n",
       "      <td>7.172083</td>\n",
       "      <td>210.435740</td>\n",
       "      <td>149.479202</td>\n",
       "    </tr>\n",
       "    <tr>\n",
       "      <th>427</th>\n",
       "      <td>796</td>\n",
       "      <td>125</td>\n",
       "      <td>3</td>\n",
       "      <td>6</td>\n",
       "      <td>1</td>\n",
       "      <td>6.67</td>\n",
       "      <td>5</td>\n",
       "      <td>PI330181</td>\n",
       "      <td>8.703</td>\n",
       "      <td>-0.286112</td>\n",
       "      <td>7.172083</td>\n",
       "      <td>210.435740</td>\n",
       "      <td>150.685181</td>\n",
       "    </tr>\n",
       "  </tbody>\n",
       "</table>\n",
       "</div>"
      ],
      "text/plain": [
       "     Unnamed: 0  day_number  range  column  sensor  height(cm)  genotype_id  \\\n",
       "423         788         118      3       6       1        5.59            5   \n",
       "424         790         121      3       6       1        5.78            5   \n",
       "425         792         123      3       6       1        5.90            5   \n",
       "426         794         124      3       6       1        5.94            5   \n",
       "427         796         125      3       6       1        6.67            5   \n",
       "\n",
       "    genotype_string  decision_tree  linearRegression    gboost         svm  \\\n",
       "423        PI330181          8.703        -26.152747  7.172083  211.189815   \n",
       "424        PI330181          8.703        -15.067046  7.172083  211.171376   \n",
       "425        PI330181          8.703         -7.676579  7.172083  210.785304   \n",
       "426        PI330181          8.703         -3.981346  7.172083  210.435740   \n",
       "427        PI330181          8.703         -0.286112  7.172083  210.435740   \n",
       "\n",
       "            mlp  \n",
       "423  142.243332  \n",
       "424  145.861298  \n",
       "425  148.273224  \n",
       "426  149.479202  \n",
       "427  150.685181  "
      ]
     },
     "execution_count": 31,
     "metadata": {},
     "output_type": "execute_result"
    }
   ],
   "source": [
    "s4_truly_single['mlp'] = model.predict(X_train)\n",
    "s4_truly_single.head()"
   ]
  },
  {
   "cell_type": "code",
   "execution_count": null,
   "metadata": {},
   "outputs": [],
   "source": []
  },
  {
   "cell_type": "code",
   "execution_count": 36,
   "metadata": {},
   "outputs": [
    {
     "data": {
      "text/plain": [
       "<matplotlib.axes._subplots.AxesSubplot at 0x7f4c4819d690>"
      ]
     },
     "execution_count": 36,
     "metadata": {},
     "output_type": "execute_result"
    },
    {
     "data": {
      "image/png": "[encoded data removed]",
      "text/plain": [
       "<Figure size 864x576 with 1 Axes>"
      ]
     },
     "metadata": {
      "needs_background": "light"
     },
     "output_type": "display_data"
    }
   ],
   "source": [
    "ts_plot = s4_truly_single[['height(cm)','decision_tree','gboost','mlp']]\n",
    "ts_plot.plot()"
   ]
  },
  {
   "cell_type": "code",
   "execution_count": 33,
   "metadata": {},
   "outputs": [],
   "source": [
    "ts_plot.to_csv('s4_cult5_r3c6__fitted_models.csv')"
   ]
  },
  {
   "cell_type": "code",
   "execution_count": null,
   "metadata": {},
   "outputs": [],
   "source": []
  }
 ],
 "metadata": {
  "kernelspec": {
   "display_name": "Python 3",
   "language": "python",
   "name": "python3"
  },
  "language_info": {
   "codemirror_mode": {
    "name": "ipython",
    "version": 3
   },
   "file_extension": ".py",
   "mimetype": "text/x-python",
   "name": "python",
   "nbconvert_exporter": "python",
   "pygments_lexer": "ipython3",
   "version": "3.7.6"
  }
 },
 "nbformat": 4,
 "nbformat_minor": 4
}
