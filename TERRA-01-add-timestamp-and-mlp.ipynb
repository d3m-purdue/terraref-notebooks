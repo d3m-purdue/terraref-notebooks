{
 "cells": [
  {
   "cell_type": "markdown",
   "metadata": {},
   "source": [
    "We are going to read in a CSV that has observations of canopy height at periodic times.  The times are indicated by days after the start of the planting, but we can do more it is a real date, so lets convert to a date. "
   ]
  },
  {
   "cell_type": "code",
   "execution_count": 2,
   "metadata": {},
   "outputs": [],
   "source": [
    "import pandas as pd\n",
    "import arrow"
   ]
  },
  {
   "cell_type": "code",
   "execution_count": 15,
   "metadata": {},
   "outputs": [],
   "source": [
    "cn_df = pd.read_csv('/volumes/Curt-MacPro-Backup/D3M/terra/Raw-data/raw_data/terra_tabular/s4_canopy_height_formatted.csv')"
   ]
  },
  {
   "cell_type": "code",
   "execution_count": 16,
   "metadata": {},
   "outputs": [
    {
     "data": {
      "text/html": [
       "<div>\n",
       "<style scoped>\n",
       "    .dataframe tbody tr th:only-of-type {\n",
       "        vertical-align: middle;\n",
       "    }\n",
       "\n",
       "    .dataframe tbody tr th {\n",
       "        vertical-align: top;\n",
       "    }\n",
       "\n",
       "    .dataframe thead th {\n",
       "        text-align: right;\n",
       "    }\n",
       "</style>\n",
       "<table border=\"1\" class=\"dataframe\">\n",
       "  <thead>\n",
       "    <tr style=\"text-align: right;\">\n",
       "      <th></th>\n",
       "      <th>cultivar</th>\n",
       "      <th>sitename</th>\n",
       "      <th>day</th>\n",
       "      <th>canopy_height</th>\n",
       "    </tr>\n",
       "  </thead>\n",
       "  <tbody>\n",
       "    <tr>\n",
       "      <th>0</th>\n",
       "      <td>PI329569</td>\n",
       "      <td>MAC Field Scanner Season 4 Range 26 Column 8</td>\n",
       "      <td>133</td>\n",
       "      <td>364</td>\n",
       "    </tr>\n",
       "    <tr>\n",
       "      <th>1</th>\n",
       "      <td>PI152923</td>\n",
       "      <td>MAC Field Scanner Season 4 Range 26 Column 9</td>\n",
       "      <td>133</td>\n",
       "      <td>359</td>\n",
       "    </tr>\n",
       "    <tr>\n",
       "      <th>2</th>\n",
       "      <td>PI152923</td>\n",
       "      <td>MAC Field Scanner Season 4 Range 26 Column 10</td>\n",
       "      <td>133</td>\n",
       "      <td>366</td>\n",
       "    </tr>\n",
       "    <tr>\n",
       "      <th>3</th>\n",
       "      <td>PI330803</td>\n",
       "      <td>MAC Field Scanner Season 4 Range 26 Column 13</td>\n",
       "      <td>133</td>\n",
       "      <td>367</td>\n",
       "    </tr>\n",
       "    <tr>\n",
       "      <th>4</th>\n",
       "      <td>PI330803</td>\n",
       "      <td>MAC Field Scanner Season 4 Range 26 Column 14</td>\n",
       "      <td>133</td>\n",
       "      <td>368</td>\n",
       "    </tr>\n",
       "  </tbody>\n",
       "</table>\n",
       "</div>"
      ],
      "text/plain": [
       "   cultivar                                       sitename  day  canopy_height\n",
       "0  PI329569   MAC Field Scanner Season 4 Range 26 Column 8  133            364\n",
       "1  PI152923   MAC Field Scanner Season 4 Range 26 Column 9  133            359\n",
       "2  PI152923  MAC Field Scanner Season 4 Range 26 Column 10  133            366\n",
       "3  PI330803  MAC Field Scanner Season 4 Range 26 Column 13  133            367\n",
       "4  PI330803  MAC Field Scanner Season 4 Range 26 Column 14  133            368"
      ]
     },
     "execution_count": 16,
     "metadata": {},
     "output_type": "execute_result"
    }
   ],
   "source": [
    "cn_df.head()"
   ]
  },
  {
   "cell_type": "markdown",
   "metadata": {},
   "source": [
    "pretend we are starting at the beginning of 2013.  Action:  Find the actual first day of planting seaston #4"
   ]
  },
  {
   "cell_type": "code",
   "execution_count": 17,
   "metadata": {},
   "outputs": [],
   "source": [
    "startdate = arrow.get(\"2013-03-01T01:31:51.601000+00:00\")"
   ]
  },
  {
   "cell_type": "code",
   "execution_count": 18,
   "metadata": {},
   "outputs": [
    {
     "name": "stdout",
     "output_type": "stream",
     "text": [
      "35510\n"
     ]
    }
   ],
   "source": [
    "print(len(cn_df))"
   ]
  },
  {
   "cell_type": "code",
   "execution_count": 19,
   "metadata": {},
   "outputs": [
    {
     "data": {
      "text/plain": [
       "<Arrow [2013-03-01T01:31:51.601000+00:00]>"
      ]
     },
     "execution_count": 19,
     "metadata": {},
     "output_type": "execute_result"
    }
   ],
   "source": [
    "startdate"
   ]
  },
  {
   "cell_type": "code",
   "execution_count": 20,
   "metadata": {},
   "outputs": [
    {
     "data": {
      "text/plain": [
       "<Arrow [2013-03-02T01:31:51.601000+00:00]>"
      ]
     },
     "execution_count": 20,
     "metadata": {},
     "output_type": "execute_result"
    }
   ],
   "source": [
    "startdate.shift(days=1)"
   ]
  },
  {
   "cell_type": "code",
   "execution_count": 33,
   "metadata": {},
   "outputs": [
    {
     "name": "stderr",
     "output_type": "stream",
     "text": [
      "/Users/curtislisle/anaconda3/lib/python3.7/site-packages/ipykernel_launcher.py:9: SettingWithCopyWarning: \n",
      "A value is trying to be set on a copy of a slice from a DataFrame\n",
      "\n",
      "See the caveats in the documentation: http://pandas.pydata.org/pandas-docs/stable/indexing.html#indexing-view-versus-copy\n",
      "  if __name__ == '__main__':\n"
     ]
    },
    {
     "name": "stdout",
     "output_type": "stream",
     "text": [
      "5000\n",
      "10000\n",
      "15000\n",
      "20000\n",
      "25000\n",
      "30000\n",
      "35000\n"
     ]
    }
   ],
   "source": [
    "import itertools\n",
    "count = 0\n",
    "def convertDayToDate(startdate,dayOffset):\n",
    "    return startdate.shift(days=int(dayOffset))\n",
    "\n",
    "cn_df['date'] = startdate\n",
    "    \n",
    "for i in range(len(cn_df)):\n",
    "    cn_df['date'][i] = convertDayToDate(startdate,cn_df['day'][i])\n",
    "    count += 1\n",
    "    if (count % 5000) == 0:\n",
    "        print(count)"
   ]
  },
  {
   "cell_type": "code",
   "execution_count": 34,
   "metadata": {},
   "outputs": [
    {
     "data": {
      "text/plain": [
       "0        2013-07-12T01:31:51.601000+00:00\n",
       "1        2013-07-12T01:31:51.601000+00:00\n",
       "2        2013-07-12T01:31:51.601000+00:00\n",
       "3        2013-07-12T01:31:51.601000+00:00\n",
       "4        2013-07-12T01:31:51.601000+00:00\n",
       "5        2013-07-12T01:31:51.601000+00:00\n",
       "6        2013-07-12T01:31:51.601000+00:00\n",
       "7        2013-07-12T01:31:51.601000+00:00\n",
       "8        2013-07-12T01:31:51.601000+00:00\n",
       "9        2013-07-12T01:31:51.601000+00:00\n",
       "10       2013-07-12T01:31:51.601000+00:00\n",
       "11       2013-07-12T01:31:51.601000+00:00\n",
       "12       2013-07-12T01:31:51.601000+00:00\n",
       "13       2013-07-12T01:31:51.601000+00:00\n",
       "14       2013-07-12T01:31:51.601000+00:00\n",
       "15       2013-07-12T01:31:51.601000+00:00\n",
       "16       2013-07-12T01:31:51.601000+00:00\n",
       "17       2013-07-12T01:31:51.601000+00:00\n",
       "18       2013-07-12T01:31:51.601000+00:00\n",
       "19       2013-07-12T01:31:51.601000+00:00\n",
       "20       2013-07-12T01:31:51.601000+00:00\n",
       "21       2013-07-12T01:31:51.601000+00:00\n",
       "22       2013-07-12T01:31:51.601000+00:00\n",
       "23       2013-07-12T01:31:51.601000+00:00\n",
       "24       2013-07-12T01:31:51.601000+00:00\n",
       "25       2013-07-12T01:31:51.601000+00:00\n",
       "26       2013-07-12T01:31:51.601000+00:00\n",
       "27       2013-07-12T01:31:51.601000+00:00\n",
       "28       2013-07-12T01:31:51.601000+00:00\n",
       "29       2013-07-12T01:31:51.601000+00:00\n",
       "                       ...               \n",
       "35480    2013-03-15T01:31:51.601000+00:00\n",
       "35481    2013-03-15T01:31:51.601000+00:00\n",
       "35482    2013-03-15T01:31:51.601000+00:00\n",
       "35483    2013-03-15T01:31:51.601000+00:00\n",
       "35484    2013-03-15T01:31:51.601000+00:00\n",
       "35485    2013-03-15T01:31:51.601000+00:00\n",
       "35486    2013-03-15T01:31:51.601000+00:00\n",
       "35487    2013-03-15T01:31:51.601000+00:00\n",
       "35488    2013-03-15T01:31:51.601000+00:00\n",
       "35489    2013-03-15T01:31:51.601000+00:00\n",
       "35490    2013-03-15T01:31:51.601000+00:00\n",
       "35491    2013-03-15T01:31:51.601000+00:00\n",
       "35492    2013-03-15T01:31:51.601000+00:00\n",
       "35493    2013-03-15T01:31:51.601000+00:00\n",
       "35494    2013-03-15T01:31:51.601000+00:00\n",
       "35495    2013-03-15T01:31:51.601000+00:00\n",
       "35496    2013-03-15T01:31:51.601000+00:00\n",
       "35497    2013-03-15T01:31:51.601000+00:00\n",
       "35498    2013-03-15T01:31:51.601000+00:00\n",
       "35499    2013-03-15T01:31:51.601000+00:00\n",
       "35500    2013-03-15T01:31:51.601000+00:00\n",
       "35501    2013-03-15T01:31:51.601000+00:00\n",
       "35502    2013-03-15T01:31:51.601000+00:00\n",
       "35503    2013-03-15T01:31:51.601000+00:00\n",
       "35504    2013-03-15T01:31:51.601000+00:00\n",
       "35505    2013-03-15T01:31:51.601000+00:00\n",
       "35506    2013-03-15T01:31:51.601000+00:00\n",
       "35507    2013-03-15T01:31:51.601000+00:00\n",
       "35508    2013-03-15T01:31:51.601000+00:00\n",
       "35509    2013-03-15T01:31:51.601000+00:00\n",
       "Name: date, Length: 35510, dtype: object"
      ]
     },
     "execution_count": 34,
     "metadata": {},
     "output_type": "execute_result"
    }
   ],
   "source": [
    "cn_df['date']"
   ]
  },
  {
   "cell_type": "code",
   "execution_count": 35,
   "metadata": {},
   "outputs": [
    {
     "data": {
      "text/html": [
       "<div>\n",
       "<style scoped>\n",
       "    .dataframe tbody tr th:only-of-type {\n",
       "        vertical-align: middle;\n",
       "    }\n",
       "\n",
       "    .dataframe tbody tr th {\n",
       "        vertical-align: top;\n",
       "    }\n",
       "\n",
       "    .dataframe thead th {\n",
       "        text-align: right;\n",
       "    }\n",
       "</style>\n",
       "<table border=\"1\" class=\"dataframe\">\n",
       "  <thead>\n",
       "    <tr style=\"text-align: right;\">\n",
       "      <th></th>\n",
       "      <th>cultivar</th>\n",
       "      <th>sitename</th>\n",
       "      <th>day</th>\n",
       "      <th>canopy_height</th>\n",
       "      <th>date</th>\n",
       "    </tr>\n",
       "  </thead>\n",
       "  <tbody>\n",
       "    <tr>\n",
       "      <th>0</th>\n",
       "      <td>PI329569</td>\n",
       "      <td>MAC Field Scanner Season 4 Range 26 Column 8</td>\n",
       "      <td>133</td>\n",
       "      <td>364</td>\n",
       "      <td>2013-07-12T01:31:51.601000+00:00</td>\n",
       "    </tr>\n",
       "    <tr>\n",
       "      <th>1</th>\n",
       "      <td>PI152923</td>\n",
       "      <td>MAC Field Scanner Season 4 Range 26 Column 9</td>\n",
       "      <td>133</td>\n",
       "      <td>359</td>\n",
       "      <td>2013-07-12T01:31:51.601000+00:00</td>\n",
       "    </tr>\n",
       "    <tr>\n",
       "      <th>2</th>\n",
       "      <td>PI152923</td>\n",
       "      <td>MAC Field Scanner Season 4 Range 26 Column 10</td>\n",
       "      <td>133</td>\n",
       "      <td>366</td>\n",
       "      <td>2013-07-12T01:31:51.601000+00:00</td>\n",
       "    </tr>\n",
       "    <tr>\n",
       "      <th>3</th>\n",
       "      <td>PI330803</td>\n",
       "      <td>MAC Field Scanner Season 4 Range 26 Column 13</td>\n",
       "      <td>133</td>\n",
       "      <td>367</td>\n",
       "      <td>2013-07-12T01:31:51.601000+00:00</td>\n",
       "    </tr>\n",
       "    <tr>\n",
       "      <th>4</th>\n",
       "      <td>PI330803</td>\n",
       "      <td>MAC Field Scanner Season 4 Range 26 Column 14</td>\n",
       "      <td>133</td>\n",
       "      <td>368</td>\n",
       "      <td>2013-07-12T01:31:51.601000+00:00</td>\n",
       "    </tr>\n",
       "  </tbody>\n",
       "</table>\n",
       "</div>"
      ],
      "text/plain": [
       "   cultivar                                       sitename  day  \\\n",
       "0  PI329569   MAC Field Scanner Season 4 Range 26 Column 8  133   \n",
       "1  PI152923   MAC Field Scanner Season 4 Range 26 Column 9  133   \n",
       "2  PI152923  MAC Field Scanner Season 4 Range 26 Column 10  133   \n",
       "3  PI330803  MAC Field Scanner Season 4 Range 26 Column 13  133   \n",
       "4  PI330803  MAC Field Scanner Season 4 Range 26 Column 14  133   \n",
       "\n",
       "   canopy_height                              date  \n",
       "0            364  2013-07-12T01:31:51.601000+00:00  \n",
       "1            359  2013-07-12T01:31:51.601000+00:00  \n",
       "2            366  2013-07-12T01:31:51.601000+00:00  \n",
       "3            367  2013-07-12T01:31:51.601000+00:00  \n",
       "4            368  2013-07-12T01:31:51.601000+00:00  "
      ]
     },
     "execution_count": 35,
     "metadata": {},
     "output_type": "execute_result"
    }
   ],
   "source": [
    "cn_df.head()"
   ]
  },
  {
   "cell_type": "code",
   "execution_count": 36,
   "metadata": {},
   "outputs": [
    {
     "data": {
      "text/html": [
       "<div>\n",
       "<style scoped>\n",
       "    .dataframe tbody tr th:only-of-type {\n",
       "        vertical-align: middle;\n",
       "    }\n",
       "\n",
       "    .dataframe tbody tr th {\n",
       "        vertical-align: top;\n",
       "    }\n",
       "\n",
       "    .dataframe thead th {\n",
       "        text-align: right;\n",
       "    }\n",
       "</style>\n",
       "<table border=\"1\" class=\"dataframe\">\n",
       "  <thead>\n",
       "    <tr style=\"text-align: right;\">\n",
       "      <th></th>\n",
       "      <th>cultivar</th>\n",
       "      <th>sitename</th>\n",
       "      <th>day</th>\n",
       "      <th>canopy_height</th>\n",
       "      <th>date</th>\n",
       "    </tr>\n",
       "  </thead>\n",
       "  <tbody>\n",
       "    <tr>\n",
       "      <th>1</th>\n",
       "      <td>PI152923</td>\n",
       "      <td>MAC Field Scanner Season 4 Range 26 Column 9</td>\n",
       "      <td>133</td>\n",
       "      <td>359</td>\n",
       "      <td>2013-07-12T01:31:51.601000+00:00</td>\n",
       "    </tr>\n",
       "    <tr>\n",
       "      <th>2</th>\n",
       "      <td>PI152923</td>\n",
       "      <td>MAC Field Scanner Season 4 Range 26 Column 10</td>\n",
       "      <td>133</td>\n",
       "      <td>366</td>\n",
       "      <td>2013-07-12T01:31:51.601000+00:00</td>\n",
       "    </tr>\n",
       "    <tr>\n",
       "      <th>3</th>\n",
       "      <td>PI330803</td>\n",
       "      <td>MAC Field Scanner Season 4 Range 26 Column 13</td>\n",
       "      <td>133</td>\n",
       "      <td>367</td>\n",
       "      <td>2013-07-12T01:31:51.601000+00:00</td>\n",
       "    </tr>\n",
       "    <tr>\n",
       "      <th>4</th>\n",
       "      <td>PI330803</td>\n",
       "      <td>MAC Field Scanner Season 4 Range 26 Column 14</td>\n",
       "      <td>133</td>\n",
       "      <td>368</td>\n",
       "      <td>2013-07-12T01:31:51.601000+00:00</td>\n",
       "    </tr>\n",
       "    <tr>\n",
       "      <th>5</th>\n",
       "      <td>PI585454</td>\n",
       "      <td>MAC Field Scanner Season 4 Range 26 Column 15</td>\n",
       "      <td>133</td>\n",
       "      <td>360</td>\n",
       "      <td>2013-07-12T01:31:51.601000+00:00</td>\n",
       "    </tr>\n",
       "    <tr>\n",
       "      <th>6</th>\n",
       "      <td>NaN</td>\n",
       "      <td>MAC Field Scanner Season 4 Range 27 Column 2</td>\n",
       "      <td>133</td>\n",
       "      <td>349</td>\n",
       "      <td>2013-07-12T01:31:51.601000+00:00</td>\n",
       "    </tr>\n",
       "    <tr>\n",
       "      <th>7</th>\n",
       "      <td>PI641807</td>\n",
       "      <td>MAC Field Scanner Season 4 Range 27 Column 3</td>\n",
       "      <td>133</td>\n",
       "      <td>328</td>\n",
       "      <td>2013-07-12T01:31:51.601000+00:00</td>\n",
       "    </tr>\n",
       "    <tr>\n",
       "      <th>8</th>\n",
       "      <td>PI641835</td>\n",
       "      <td>MAC Field Scanner Season 4 Range 27 Column 8</td>\n",
       "      <td>133</td>\n",
       "      <td>392</td>\n",
       "      <td>2013-07-12T01:31:51.601000+00:00</td>\n",
       "    </tr>\n",
       "    <tr>\n",
       "      <th>9</th>\n",
       "      <td>PI170787</td>\n",
       "      <td>MAC Field Scanner Season 4 Range 27 Column 9</td>\n",
       "      <td>133</td>\n",
       "      <td>340</td>\n",
       "      <td>2013-07-12T01:31:51.601000+00:00</td>\n",
       "    </tr>\n",
       "    <tr>\n",
       "      <th>10</th>\n",
       "      <td>PI145619</td>\n",
       "      <td>MAC Field Scanner Season 4 Range 27 Column 11</td>\n",
       "      <td>133</td>\n",
       "      <td>341</td>\n",
       "      <td>2013-07-12T01:31:51.601000+00:00</td>\n",
       "    </tr>\n",
       "    <tr>\n",
       "      <th>11</th>\n",
       "      <td>PI145619</td>\n",
       "      <td>MAC Field Scanner Season 4 Range 27 Column 12</td>\n",
       "      <td>133</td>\n",
       "      <td>336</td>\n",
       "      <td>2013-07-12T01:31:51.601000+00:00</td>\n",
       "    </tr>\n",
       "    <tr>\n",
       "      <th>12</th>\n",
       "      <td>PI562990</td>\n",
       "      <td>MAC Field Scanner Season 4 Range 28 Column 6</td>\n",
       "      <td>133</td>\n",
       "      <td>308</td>\n",
       "      <td>2013-07-12T01:31:51.601000+00:00</td>\n",
       "    </tr>\n",
       "    <tr>\n",
       "      <th>13</th>\n",
       "      <td>PI586541</td>\n",
       "      <td>MAC Field Scanner Season 4 Range 28 Column 9</td>\n",
       "      <td>133</td>\n",
       "      <td>359</td>\n",
       "      <td>2013-07-12T01:31:51.601000+00:00</td>\n",
       "    </tr>\n",
       "    <tr>\n",
       "      <th>14</th>\n",
       "      <td>PI585467</td>\n",
       "      <td>MAC Field Scanner Season 4 Range 28 Column 11</td>\n",
       "      <td>133</td>\n",
       "      <td>386</td>\n",
       "      <td>2013-07-12T01:31:51.601000+00:00</td>\n",
       "    </tr>\n",
       "    <tr>\n",
       "      <th>15</th>\n",
       "      <td>PI221651</td>\n",
       "      <td>MAC Field Scanner Season 4 Range 28 Column 14</td>\n",
       "      <td>133</td>\n",
       "      <td>290</td>\n",
       "      <td>2013-07-12T01:31:51.601000+00:00</td>\n",
       "    </tr>\n",
       "    <tr>\n",
       "      <th>16</th>\n",
       "      <td>PI152816</td>\n",
       "      <td>MAC Field Scanner Season 4 Range 29 Column 3</td>\n",
       "      <td>133</td>\n",
       "      <td>298</td>\n",
       "      <td>2013-07-12T01:31:51.601000+00:00</td>\n",
       "    </tr>\n",
       "    <tr>\n",
       "      <th>17</th>\n",
       "      <td>PI152816</td>\n",
       "      <td>MAC Field Scanner Season 4 Range 29 Column 4</td>\n",
       "      <td>133</td>\n",
       "      <td>336</td>\n",
       "      <td>2013-07-12T01:31:51.601000+00:00</td>\n",
       "    </tr>\n",
       "    <tr>\n",
       "      <th>18</th>\n",
       "      <td>PI641824</td>\n",
       "      <td>MAC Field Scanner Season 4 Range 29 Column 14</td>\n",
       "      <td>133</td>\n",
       "      <td>311</td>\n",
       "      <td>2013-07-12T01:31:51.601000+00:00</td>\n",
       "    </tr>\n",
       "    <tr>\n",
       "      <th>19</th>\n",
       "      <td>PI641807</td>\n",
       "      <td>MAC Field Scanner Season 4 Range 29 Column 15</td>\n",
       "      <td>133</td>\n",
       "      <td>326</td>\n",
       "      <td>2013-07-12T01:31:51.601000+00:00</td>\n",
       "    </tr>\n",
       "    <tr>\n",
       "      <th>20</th>\n",
       "      <td>PI329614</td>\n",
       "      <td>MAC Field Scanner Season 4 Range 31 Column 7</td>\n",
       "      <td>133</td>\n",
       "      <td>344</td>\n",
       "      <td>2013-07-12T01:31:51.601000+00:00</td>\n",
       "    </tr>\n",
       "    <tr>\n",
       "      <th>21</th>\n",
       "      <td>PI570109</td>\n",
       "      <td>MAC Field Scanner Season 4 Range 31 Column 9</td>\n",
       "      <td>133</td>\n",
       "      <td>294</td>\n",
       "      <td>2013-07-12T01:31:51.601000+00:00</td>\n",
       "    </tr>\n",
       "    <tr>\n",
       "      <th>22</th>\n",
       "      <td>PI63715</td>\n",
       "      <td>MAC Field Scanner Season 4 Range 31 Column 11</td>\n",
       "      <td>133</td>\n",
       "      <td>285</td>\n",
       "      <td>2013-07-12T01:31:51.601000+00:00</td>\n",
       "    </tr>\n",
       "    <tr>\n",
       "      <th>23</th>\n",
       "      <td>PI63715</td>\n",
       "      <td>MAC Field Scanner Season 4 Range 31 Column 12</td>\n",
       "      <td>133</td>\n",
       "      <td>277</td>\n",
       "      <td>2013-07-12T01:31:51.601000+00:00</td>\n",
       "    </tr>\n",
       "    <tr>\n",
       "      <th>24</th>\n",
       "      <td>PI329506</td>\n",
       "      <td>MAC Field Scanner Season 4 Range 31 Column 14</td>\n",
       "      <td>133</td>\n",
       "      <td>321</td>\n",
       "      <td>2013-07-12T01:31:51.601000+00:00</td>\n",
       "    </tr>\n",
       "    <tr>\n",
       "      <th>25</th>\n",
       "      <td>PI641821</td>\n",
       "      <td>MAC Field Scanner Season 4 Range 31 Column 15</td>\n",
       "      <td>133</td>\n",
       "      <td>342</td>\n",
       "      <td>2013-07-12T01:31:51.601000+00:00</td>\n",
       "    </tr>\n",
       "    <tr>\n",
       "      <th>26</th>\n",
       "      <td>NaN</td>\n",
       "      <td>MAC Field Scanner Season 4 Range 32 Column 2</td>\n",
       "      <td>133</td>\n",
       "      <td>321</td>\n",
       "      <td>2013-07-12T01:31:51.601000+00:00</td>\n",
       "    </tr>\n",
       "    <tr>\n",
       "      <th>27</th>\n",
       "      <td>PI330199</td>\n",
       "      <td>MAC Field Scanner Season 4 Range 32 Column 6</td>\n",
       "      <td>133</td>\n",
       "      <td>381</td>\n",
       "      <td>2013-07-12T01:31:51.601000+00:00</td>\n",
       "    </tr>\n",
       "    <tr>\n",
       "      <th>28</th>\n",
       "      <td>PI563330</td>\n",
       "      <td>MAC Field Scanner Season 4 Range 32 Column 7</td>\n",
       "      <td>133</td>\n",
       "      <td>381</td>\n",
       "      <td>2013-07-12T01:31:51.601000+00:00</td>\n",
       "    </tr>\n",
       "    <tr>\n",
       "      <th>29</th>\n",
       "      <td>PI563330</td>\n",
       "      <td>MAC Field Scanner Season 4 Range 32 Column 8</td>\n",
       "      <td>133</td>\n",
       "      <td>378</td>\n",
       "      <td>2013-07-12T01:31:51.601000+00:00</td>\n",
       "    </tr>\n",
       "    <tr>\n",
       "      <th>30</th>\n",
       "      <td>PI329673</td>\n",
       "      <td>MAC Field Scanner Season 4 Range 32 Column 9</td>\n",
       "      <td>133</td>\n",
       "      <td>291</td>\n",
       "      <td>2013-07-12T01:31:51.601000+00:00</td>\n",
       "    </tr>\n",
       "    <tr>\n",
       "      <th>31</th>\n",
       "      <td>PI329673</td>\n",
       "      <td>MAC Field Scanner Season 4 Range 32 Column 10</td>\n",
       "      <td>133</td>\n",
       "      <td>263</td>\n",
       "      <td>2013-07-12T01:31:51.601000+00:00</td>\n",
       "    </tr>\n",
       "    <tr>\n",
       "      <th>32</th>\n",
       "      <td>PI329394</td>\n",
       "      <td>MAC Field Scanner Season 4 Range 32 Column 14</td>\n",
       "      <td>133</td>\n",
       "      <td>345</td>\n",
       "      <td>2013-07-12T01:31:51.601000+00:00</td>\n",
       "    </tr>\n",
       "    <tr>\n",
       "      <th>33</th>\n",
       "      <td>PI455301</td>\n",
       "      <td>MAC Field Scanner Season 4 Range 32 Column 15</td>\n",
       "      <td>133</td>\n",
       "      <td>365</td>\n",
       "      <td>2013-07-12T01:31:51.601000+00:00</td>\n",
       "    </tr>\n",
       "    <tr>\n",
       "      <th>34</th>\n",
       "      <td>NaN</td>\n",
       "      <td>MAC Field Scanner Season 4 Range 33 Column 2</td>\n",
       "      <td>133</td>\n",
       "      <td>327</td>\n",
       "      <td>2013-07-12T01:31:51.601000+00:00</td>\n",
       "    </tr>\n",
       "    <tr>\n",
       "      <th>35</th>\n",
       "      <td>PI562971</td>\n",
       "      <td>MAC Field Scanner Season 4 Range 33 Column 7</td>\n",
       "      <td>133</td>\n",
       "      <td>367</td>\n",
       "      <td>2013-07-12T01:31:51.601000+00:00</td>\n",
       "    </tr>\n",
       "    <tr>\n",
       "      <th>36</th>\n",
       "      <td>PI562971</td>\n",
       "      <td>MAC Field Scanner Season 4 Range 33 Column 8</td>\n",
       "      <td>133</td>\n",
       "      <td>352</td>\n",
       "      <td>2013-07-12T01:31:51.601000+00:00</td>\n",
       "    </tr>\n",
       "    <tr>\n",
       "      <th>37</th>\n",
       "      <td>PI655981</td>\n",
       "      <td>MAC Field Scanner Season 4 Range 33 Column 9</td>\n",
       "      <td>133</td>\n",
       "      <td>356</td>\n",
       "      <td>2013-07-12T01:31:51.601000+00:00</td>\n",
       "    </tr>\n",
       "    <tr>\n",
       "      <th>38</th>\n",
       "      <td>PI641810</td>\n",
       "      <td>MAC Field Scanner Season 4 Range 33 Column 11</td>\n",
       "      <td>133</td>\n",
       "      <td>310</td>\n",
       "      <td>2013-07-12T01:31:51.601000+00:00</td>\n",
       "    </tr>\n",
       "    <tr>\n",
       "      <th>39</th>\n",
       "      <td>PI569443</td>\n",
       "      <td>MAC Field Scanner Season 4 Range 33 Column 13</td>\n",
       "      <td>133</td>\n",
       "      <td>331</td>\n",
       "      <td>2013-07-12T01:31:51.601000+00:00</td>\n",
       "    </tr>\n",
       "    <tr>\n",
       "      <th>40</th>\n",
       "      <td>PI569443</td>\n",
       "      <td>MAC Field Scanner Season 4 Range 33 Column 14</td>\n",
       "      <td>133</td>\n",
       "      <td>303</td>\n",
       "      <td>2013-07-12T01:31:51.601000+00:00</td>\n",
       "    </tr>\n",
       "    <tr>\n",
       "      <th>41</th>\n",
       "      <td>PI585461</td>\n",
       "      <td>MAC Field Scanner Season 4 Range 34 Column 5</td>\n",
       "      <td>133</td>\n",
       "      <td>332</td>\n",
       "      <td>2013-07-12T01:31:51.601000+00:00</td>\n",
       "    </tr>\n",
       "    <tr>\n",
       "      <th>42</th>\n",
       "      <td>PI533998</td>\n",
       "      <td>MAC Field Scanner Season 4 Range 12 Column 3</td>\n",
       "      <td>111</td>\n",
       "      <td>344</td>\n",
       "      <td>2013-06-20T01:31:51.601000+00:00</td>\n",
       "    </tr>\n",
       "    <tr>\n",
       "      <th>43</th>\n",
       "      <td>PI655983</td>\n",
       "      <td>MAC Field Scanner Season 4 Range 12 Column 7</td>\n",
       "      <td>111</td>\n",
       "      <td>303</td>\n",
       "      <td>2013-06-20T01:31:51.601000+00:00</td>\n",
       "    </tr>\n",
       "    <tr>\n",
       "      <th>44</th>\n",
       "      <td>PI181080</td>\n",
       "      <td>MAC Field Scanner Season 4 Range 12 Column 9</td>\n",
       "      <td>111</td>\n",
       "      <td>261</td>\n",
       "      <td>2013-06-20T01:31:51.601000+00:00</td>\n",
       "    </tr>\n",
       "    <tr>\n",
       "      <th>45</th>\n",
       "      <td>PI181080</td>\n",
       "      <td>MAC Field Scanner Season 4 Range 12 Column 10</td>\n",
       "      <td>111</td>\n",
       "      <td>256</td>\n",
       "      <td>2013-06-20T01:31:51.601000+00:00</td>\n",
       "    </tr>\n",
       "    <tr>\n",
       "      <th>46</th>\n",
       "      <td>PI221548</td>\n",
       "      <td>MAC Field Scanner Season 4 Range 12 Column 12</td>\n",
       "      <td>111</td>\n",
       "      <td>295</td>\n",
       "      <td>2013-06-20T01:31:51.601000+00:00</td>\n",
       "    </tr>\n",
       "    <tr>\n",
       "      <th>47</th>\n",
       "      <td>PI213900</td>\n",
       "      <td>MAC Field Scanner Season 4 Range 12 Column 13</td>\n",
       "      <td>111</td>\n",
       "      <td>288</td>\n",
       "      <td>2013-06-20T01:31:51.601000+00:00</td>\n",
       "    </tr>\n",
       "    <tr>\n",
       "      <th>48</th>\n",
       "      <td>PI213900</td>\n",
       "      <td>MAC Field Scanner Season 4 Range 12 Column 14</td>\n",
       "      <td>111</td>\n",
       "      <td>296</td>\n",
       "      <td>2013-06-20T01:31:51.601000+00:00</td>\n",
       "    </tr>\n",
       "    <tr>\n",
       "      <th>49</th>\n",
       "      <td>NaN</td>\n",
       "      <td>MAC Field Scanner Season 4 Range 13 Column 2</td>\n",
       "      <td>111</td>\n",
       "      <td>325</td>\n",
       "      <td>2013-06-20T01:31:51.601000+00:00</td>\n",
       "    </tr>\n",
       "  </tbody>\n",
       "</table>\n",
       "</div>"
      ],
      "text/plain": [
       "    cultivar                                       sitename  day  \\\n",
       "1   PI152923   MAC Field Scanner Season 4 Range 26 Column 9  133   \n",
       "2   PI152923  MAC Field Scanner Season 4 Range 26 Column 10  133   \n",
       "3   PI330803  MAC Field Scanner Season 4 Range 26 Column 13  133   \n",
       "4   PI330803  MAC Field Scanner Season 4 Range 26 Column 14  133   \n",
       "5   PI585454  MAC Field Scanner Season 4 Range 26 Column 15  133   \n",
       "6        NaN   MAC Field Scanner Season 4 Range 27 Column 2  133   \n",
       "7   PI641807   MAC Field Scanner Season 4 Range 27 Column 3  133   \n",
       "8   PI641835   MAC Field Scanner Season 4 Range 27 Column 8  133   \n",
       "9   PI170787   MAC Field Scanner Season 4 Range 27 Column 9  133   \n",
       "10  PI145619  MAC Field Scanner Season 4 Range 27 Column 11  133   \n",
       "11  PI145619  MAC Field Scanner Season 4 Range 27 Column 12  133   \n",
       "12  PI562990   MAC Field Scanner Season 4 Range 28 Column 6  133   \n",
       "13  PI586541   MAC Field Scanner Season 4 Range 28 Column 9  133   \n",
       "14  PI585467  MAC Field Scanner Season 4 Range 28 Column 11  133   \n",
       "15  PI221651  MAC Field Scanner Season 4 Range 28 Column 14  133   \n",
       "16  PI152816   MAC Field Scanner Season 4 Range 29 Column 3  133   \n",
       "17  PI152816   MAC Field Scanner Season 4 Range 29 Column 4  133   \n",
       "18  PI641824  MAC Field Scanner Season 4 Range 29 Column 14  133   \n",
       "19  PI641807  MAC Field Scanner Season 4 Range 29 Column 15  133   \n",
       "20  PI329614   MAC Field Scanner Season 4 Range 31 Column 7  133   \n",
       "21  PI570109   MAC Field Scanner Season 4 Range 31 Column 9  133   \n",
       "22   PI63715  MAC Field Scanner Season 4 Range 31 Column 11  133   \n",
       "23   PI63715  MAC Field Scanner Season 4 Range 31 Column 12  133   \n",
       "24  PI329506  MAC Field Scanner Season 4 Range 31 Column 14  133   \n",
       "25  PI641821  MAC Field Scanner Season 4 Range 31 Column 15  133   \n",
       "26       NaN   MAC Field Scanner Season 4 Range 32 Column 2  133   \n",
       "27  PI330199   MAC Field Scanner Season 4 Range 32 Column 6  133   \n",
       "28  PI563330   MAC Field Scanner Season 4 Range 32 Column 7  133   \n",
       "29  PI563330   MAC Field Scanner Season 4 Range 32 Column 8  133   \n",
       "30  PI329673   MAC Field Scanner Season 4 Range 32 Column 9  133   \n",
       "31  PI329673  MAC Field Scanner Season 4 Range 32 Column 10  133   \n",
       "32  PI329394  MAC Field Scanner Season 4 Range 32 Column 14  133   \n",
       "33  PI455301  MAC Field Scanner Season 4 Range 32 Column 15  133   \n",
       "34       NaN   MAC Field Scanner Season 4 Range 33 Column 2  133   \n",
       "35  PI562971   MAC Field Scanner Season 4 Range 33 Column 7  133   \n",
       "36  PI562971   MAC Field Scanner Season 4 Range 33 Column 8  133   \n",
       "37  PI655981   MAC Field Scanner Season 4 Range 33 Column 9  133   \n",
       "38  PI641810  MAC Field Scanner Season 4 Range 33 Column 11  133   \n",
       "39  PI569443  MAC Field Scanner Season 4 Range 33 Column 13  133   \n",
       "40  PI569443  MAC Field Scanner Season 4 Range 33 Column 14  133   \n",
       "41  PI585461   MAC Field Scanner Season 4 Range 34 Column 5  133   \n",
       "42  PI533998   MAC Field Scanner Season 4 Range 12 Column 3  111   \n",
       "43  PI655983   MAC Field Scanner Season 4 Range 12 Column 7  111   \n",
       "44  PI181080   MAC Field Scanner Season 4 Range 12 Column 9  111   \n",
       "45  PI181080  MAC Field Scanner Season 4 Range 12 Column 10  111   \n",
       "46  PI221548  MAC Field Scanner Season 4 Range 12 Column 12  111   \n",
       "47  PI213900  MAC Field Scanner Season 4 Range 12 Column 13  111   \n",
       "48  PI213900  MAC Field Scanner Season 4 Range 12 Column 14  111   \n",
       "49       NaN   MAC Field Scanner Season 4 Range 13 Column 2  111   \n",
       "\n",
       "    canopy_height                              date  \n",
       "1             359  2013-07-12T01:31:51.601000+00:00  \n",
       "2             366  2013-07-12T01:31:51.601000+00:00  \n",
       "3             367  2013-07-12T01:31:51.601000+00:00  \n",
       "4             368  2013-07-12T01:31:51.601000+00:00  \n",
       "5             360  2013-07-12T01:31:51.601000+00:00  \n",
       "6             349  2013-07-12T01:31:51.601000+00:00  \n",
       "7             328  2013-07-12T01:31:51.601000+00:00  \n",
       "8             392  2013-07-12T01:31:51.601000+00:00  \n",
       "9             340  2013-07-12T01:31:51.601000+00:00  \n",
       "10            341  2013-07-12T01:31:51.601000+00:00  \n",
       "11            336  2013-07-12T01:31:51.601000+00:00  \n",
       "12            308  2013-07-12T01:31:51.601000+00:00  \n",
       "13            359  2013-07-12T01:31:51.601000+00:00  \n",
       "14            386  2013-07-12T01:31:51.601000+00:00  \n",
       "15            290  2013-07-12T01:31:51.601000+00:00  \n",
       "16            298  2013-07-12T01:31:51.601000+00:00  \n",
       "17            336  2013-07-12T01:31:51.601000+00:00  \n",
       "18            311  2013-07-12T01:31:51.601000+00:00  \n",
       "19            326  2013-07-12T01:31:51.601000+00:00  \n",
       "20            344  2013-07-12T01:31:51.601000+00:00  \n",
       "21            294  2013-07-12T01:31:51.601000+00:00  \n",
       "22            285  2013-07-12T01:31:51.601000+00:00  \n",
       "23            277  2013-07-12T01:31:51.601000+00:00  \n",
       "24            321  2013-07-12T01:31:51.601000+00:00  \n",
       "25            342  2013-07-12T01:31:51.601000+00:00  \n",
       "26            321  2013-07-12T01:31:51.601000+00:00  \n",
       "27            381  2013-07-12T01:31:51.601000+00:00  \n",
       "28            381  2013-07-12T01:31:51.601000+00:00  \n",
       "29            378  2013-07-12T01:31:51.601000+00:00  \n",
       "30            291  2013-07-12T01:31:51.601000+00:00  \n",
       "31            263  2013-07-12T01:31:51.601000+00:00  \n",
       "32            345  2013-07-12T01:31:51.601000+00:00  \n",
       "33            365  2013-07-12T01:31:51.601000+00:00  \n",
       "34            327  2013-07-12T01:31:51.601000+00:00  \n",
       "35            367  2013-07-12T01:31:51.601000+00:00  \n",
       "36            352  2013-07-12T01:31:51.601000+00:00  \n",
       "37            356  2013-07-12T01:31:51.601000+00:00  \n",
       "38            310  2013-07-12T01:31:51.601000+00:00  \n",
       "39            331  2013-07-12T01:31:51.601000+00:00  \n",
       "40            303  2013-07-12T01:31:51.601000+00:00  \n",
       "41            332  2013-07-12T01:31:51.601000+00:00  \n",
       "42            344  2013-06-20T01:31:51.601000+00:00  \n",
       "43            303  2013-06-20T01:31:51.601000+00:00  \n",
       "44            261  2013-06-20T01:31:51.601000+00:00  \n",
       "45            256  2013-06-20T01:31:51.601000+00:00  \n",
       "46            295  2013-06-20T01:31:51.601000+00:00  \n",
       "47            288  2013-06-20T01:31:51.601000+00:00  \n",
       "48            296  2013-06-20T01:31:51.601000+00:00  \n",
       "49            325  2013-06-20T01:31:51.601000+00:00  "
      ]
     },
     "execution_count": 36,
     "metadata": {},
     "output_type": "execute_result"
    }
   ],
   "source": [
    "cn_df[1:50]"
   ]
  },
  {
   "cell_type": "code",
   "execution_count": 38,
   "metadata": {},
   "outputs": [],
   "source": [
    "cn_df.to_csv('/volumes/Curt-MacPro-Backup/D3M/terra/processing/tabular/s4_canopy_height_pseudo_time_v1.csv')"
   ]
  },
  {
   "cell_type": "markdown",
   "metadata": {},
   "source": [
    "Now look at splitting out the row and column as additional independent variables by picking them out of the sitename"
   ]
  },
  {
   "cell_type": "code",
   "execution_count": 42,
   "metadata": {},
   "outputs": [
    {
     "name": "stdout",
     "output_type": "stream",
     "text": [
      "MAC Field Scanner Season 4 Range 26 Column 8\n",
      "4\n",
      "26\n",
      "8\n"
     ]
    }
   ],
   "source": [
    "print(cn_df['sitename'][0])\n",
    "print(cn_df['sitename'][0].split(' ')[4])\n",
    "print(cn_df['sitename'][0].split(' ')[6])\n",
    "print(cn_df['sitename'][0].split(' ')[8])"
   ]
  },
  {
   "cell_type": "code",
   "execution_count": 45,
   "metadata": {},
   "outputs": [
    {
     "name": "stderr",
     "output_type": "stream",
     "text": [
      "/Users/curtislisle/anaconda3/lib/python3.7/site-packages/ipykernel_launcher.py:8: SettingWithCopyWarning: \n",
      "A value is trying to be set on a copy of a slice from a DataFrame\n",
      "\n",
      "See the caveats in the documentation: http://pandas.pydata.org/pandas-docs/stable/indexing.html#indexing-view-versus-copy\n",
      "  \n",
      "/Users/curtislisle/anaconda3/lib/python3.7/site-packages/ipykernel_launcher.py:9: SettingWithCopyWarning: \n",
      "A value is trying to be set on a copy of a slice from a DataFrame\n",
      "\n",
      "See the caveats in the documentation: http://pandas.pydata.org/pandas-docs/stable/indexing.html#indexing-view-versus-copy\n",
      "  if __name__ == '__main__':\n",
      "/Users/curtislisle/anaconda3/lib/python3.7/site-packages/ipykernel_launcher.py:10: SettingWithCopyWarning: \n",
      "A value is trying to be set on a copy of a slice from a DataFrame\n",
      "\n",
      "See the caveats in the documentation: http://pandas.pydata.org/pandas-docs/stable/indexing.html#indexing-view-versus-copy\n",
      "  # Remove the CWD from sys.path while we load stuff.\n"
     ]
    },
    {
     "name": "stdout",
     "output_type": "stream",
     "text": [
      "5000\n",
      "10000\n",
      "15000\n",
      "20000\n",
      "25000\n",
      "30000\n",
      "35000\n"
     ]
    }
   ],
   "source": [
    "\n",
    "cn_df['range'] = 0\n",
    "cn_df['column'] = 0\n",
    "cn_df['season'] = 0\n",
    "count = 0\n",
    "\n",
    "# loop through the entire dataframe and add values to the columns according to the sitename contents\n",
    "for i in range(len(cn_df)):\n",
    "    cn_df['season'][i] = int(cn_df['sitename'][i].split(' ')[4])\n",
    "    cn_df['range'][i] = int(cn_df['sitename'][i].split(' ')[6])\n",
    "    cn_df['column'][i] = int(cn_df['sitename'][i].split(' ')[8])\n",
    "    count += 1\n",
    "    if (count % 5000) == 0:\n",
    "        print(count)"
   ]
  },
  {
   "cell_type": "code",
   "execution_count": 46,
   "metadata": {},
   "outputs": [
    {
     "data": {
      "text/html": [
       "<div>\n",
       "<style scoped>\n",
       "    .dataframe tbody tr th:only-of-type {\n",
       "        vertical-align: middle;\n",
       "    }\n",
       "\n",
       "    .dataframe tbody tr th {\n",
       "        vertical-align: top;\n",
       "    }\n",
       "\n",
       "    .dataframe thead th {\n",
       "        text-align: right;\n",
       "    }\n",
       "</style>\n",
       "<table border=\"1\" class=\"dataframe\">\n",
       "  <thead>\n",
       "    <tr style=\"text-align: right;\">\n",
       "      <th></th>\n",
       "      <th>cultivar</th>\n",
       "      <th>sitename</th>\n",
       "      <th>day</th>\n",
       "      <th>canopy_height</th>\n",
       "      <th>date</th>\n",
       "      <th>range</th>\n",
       "      <th>column</th>\n",
       "      <th>season</th>\n",
       "    </tr>\n",
       "  </thead>\n",
       "  <tbody>\n",
       "    <tr>\n",
       "      <th>0</th>\n",
       "      <td>PI329569</td>\n",
       "      <td>MAC Field Scanner Season 4 Range 26 Column 8</td>\n",
       "      <td>133</td>\n",
       "      <td>364</td>\n",
       "      <td>2013-07-12T01:31:51.601000+00:00</td>\n",
       "      <td>26</td>\n",
       "      <td>8</td>\n",
       "      <td>4</td>\n",
       "    </tr>\n",
       "    <tr>\n",
       "      <th>1</th>\n",
       "      <td>PI152923</td>\n",
       "      <td>MAC Field Scanner Season 4 Range 26 Column 9</td>\n",
       "      <td>133</td>\n",
       "      <td>359</td>\n",
       "      <td>2013-07-12T01:31:51.601000+00:00</td>\n",
       "      <td>26</td>\n",
       "      <td>9</td>\n",
       "      <td>4</td>\n",
       "    </tr>\n",
       "    <tr>\n",
       "      <th>2</th>\n",
       "      <td>PI152923</td>\n",
       "      <td>MAC Field Scanner Season 4 Range 26 Column 10</td>\n",
       "      <td>133</td>\n",
       "      <td>366</td>\n",
       "      <td>2013-07-12T01:31:51.601000+00:00</td>\n",
       "      <td>26</td>\n",
       "      <td>10</td>\n",
       "      <td>4</td>\n",
       "    </tr>\n",
       "    <tr>\n",
       "      <th>3</th>\n",
       "      <td>PI330803</td>\n",
       "      <td>MAC Field Scanner Season 4 Range 26 Column 13</td>\n",
       "      <td>133</td>\n",
       "      <td>367</td>\n",
       "      <td>2013-07-12T01:31:51.601000+00:00</td>\n",
       "      <td>26</td>\n",
       "      <td>13</td>\n",
       "      <td>4</td>\n",
       "    </tr>\n",
       "    <tr>\n",
       "      <th>4</th>\n",
       "      <td>PI330803</td>\n",
       "      <td>MAC Field Scanner Season 4 Range 26 Column 14</td>\n",
       "      <td>133</td>\n",
       "      <td>368</td>\n",
       "      <td>2013-07-12T01:31:51.601000+00:00</td>\n",
       "      <td>26</td>\n",
       "      <td>14</td>\n",
       "      <td>4</td>\n",
       "    </tr>\n",
       "  </tbody>\n",
       "</table>\n",
       "</div>"
      ],
      "text/plain": [
       "   cultivar                                       sitename  day  \\\n",
       "0  PI329569   MAC Field Scanner Season 4 Range 26 Column 8  133   \n",
       "1  PI152923   MAC Field Scanner Season 4 Range 26 Column 9  133   \n",
       "2  PI152923  MAC Field Scanner Season 4 Range 26 Column 10  133   \n",
       "3  PI330803  MAC Field Scanner Season 4 Range 26 Column 13  133   \n",
       "4  PI330803  MAC Field Scanner Season 4 Range 26 Column 14  133   \n",
       "\n",
       "   canopy_height                              date  range  column  season  \n",
       "0            364  2013-07-12T01:31:51.601000+00:00     26       8       4  \n",
       "1            359  2013-07-12T01:31:51.601000+00:00     26       9       4  \n",
       "2            366  2013-07-12T01:31:51.601000+00:00     26      10       4  \n",
       "3            367  2013-07-12T01:31:51.601000+00:00     26      13       4  \n",
       "4            368  2013-07-12T01:31:51.601000+00:00     26      14       4  "
      ]
     },
     "execution_count": 46,
     "metadata": {},
     "output_type": "execute_result"
    }
   ],
   "source": [
    "cn_df.head()"
   ]
  },
  {
   "cell_type": "code",
   "execution_count": 48,
   "metadata": {},
   "outputs": [],
   "source": [
    "cn_df.to_csv('/volumes/Curt-MacPro-Backup/D3M/terra/processing/tabular/s4_canopy_height_pseudo_time_v2.csv', index=False)"
   ]
  },
  {
   "cell_type": "markdown",
   "metadata": {},
   "source": [
    "**give a place to restart by re-loading the dataset**"
   ]
  },
  {
   "cell_type": "code",
   "execution_count": 3,
   "metadata": {},
   "outputs": [],
   "source": [
    "cn_df = pd.read_csv('/volumes/Curt-MacPro-Backup/D3M/terra/processing/tabular/s4_canopy_height_pseudo_time_v2.csv')"
   ]
  },
  {
   "cell_type": "markdown",
   "metadata": {},
   "source": [
    "convert the cultivar into a numerical code so a tensor can be made of the dataset for training a neural net"
   ]
  },
  {
   "cell_type": "code",
   "execution_count": 4,
   "metadata": {},
   "outputs": [
    {
     "ename": "AttributeError",
     "evalue": "Can only use .cat accessor with a 'category' dtype",
     "output_type": "error",
     "traceback": [
      "\u001b[0;31m---------------------------------------------------------------------------\u001b[0m",
      "\u001b[0;31mAttributeError\u001b[0m                            Traceback (most recent call last)",
      "\u001b[0;32m<ipython-input-4-3ed3b81560b4>\u001b[0m in \u001b[0;36m<module>\u001b[0;34m()\u001b[0m\n\u001b[0;32m----> 1\u001b[0;31m \u001b[0mcn_df\u001b[0m\u001b[0;34m[\u001b[0m\u001b[0;34m'cultivar_code'\u001b[0m\u001b[0;34m]\u001b[0m \u001b[0;34m=\u001b[0m \u001b[0mcn_df\u001b[0m\u001b[0;34m[\u001b[0m\u001b[0;34m'cultivar'\u001b[0m\u001b[0;34m]\u001b[0m\u001b[0;34m.\u001b[0m\u001b[0mcat\u001b[0m\u001b[0;34m.\u001b[0m\u001b[0mcodes\u001b[0m\u001b[0;34m\u001b[0m\u001b[0m\n\u001b[0m",
      "\u001b[0;32m/anaconda3/lib/python3.6/site-packages/pandas/core/generic.py\u001b[0m in \u001b[0;36m__getattr__\u001b[0;34m(self, name)\u001b[0m\n\u001b[1;32m   4366\u001b[0m         if (name in self._internal_names_set or name in self._metadata or\n\u001b[1;32m   4367\u001b[0m                 name in self._accessors):\n\u001b[0;32m-> 4368\u001b[0;31m             \u001b[0;32mreturn\u001b[0m \u001b[0mobject\u001b[0m\u001b[0;34m.\u001b[0m\u001b[0m__getattribute__\u001b[0m\u001b[0;34m(\u001b[0m\u001b[0mself\u001b[0m\u001b[0;34m,\u001b[0m \u001b[0mname\u001b[0m\u001b[0;34m)\u001b[0m\u001b[0;34m\u001b[0m\u001b[0m\n\u001b[0m\u001b[1;32m   4369\u001b[0m         \u001b[0;32melse\u001b[0m\u001b[0;34m:\u001b[0m\u001b[0;34m\u001b[0m\u001b[0m\n\u001b[1;32m   4370\u001b[0m             \u001b[0;32mif\u001b[0m \u001b[0mself\u001b[0m\u001b[0;34m.\u001b[0m\u001b[0m_info_axis\u001b[0m\u001b[0;34m.\u001b[0m\u001b[0m_can_hold_identifiers_and_holds_name\u001b[0m\u001b[0;34m(\u001b[0m\u001b[0mname\u001b[0m\u001b[0;34m)\u001b[0m\u001b[0;34m:\u001b[0m\u001b[0;34m\u001b[0m\u001b[0m\n",
      "\u001b[0;32m/anaconda3/lib/python3.6/site-packages/pandas/core/accessor.py\u001b[0m in \u001b[0;36m__get__\u001b[0;34m(self, obj, cls)\u001b[0m\n\u001b[1;32m    130\u001b[0m             \u001b[0;31m# we're accessing the attribute of the class, i.e., Dataset.geo\u001b[0m\u001b[0;34m\u001b[0m\u001b[0;34m\u001b[0m\u001b[0m\n\u001b[1;32m    131\u001b[0m             \u001b[0;32mreturn\u001b[0m \u001b[0mself\u001b[0m\u001b[0;34m.\u001b[0m\u001b[0m_accessor\u001b[0m\u001b[0;34m\u001b[0m\u001b[0m\n\u001b[0;32m--> 132\u001b[0;31m         \u001b[0maccessor_obj\u001b[0m \u001b[0;34m=\u001b[0m \u001b[0mself\u001b[0m\u001b[0;34m.\u001b[0m\u001b[0m_accessor\u001b[0m\u001b[0;34m(\u001b[0m\u001b[0mobj\u001b[0m\u001b[0;34m)\u001b[0m\u001b[0;34m\u001b[0m\u001b[0m\n\u001b[0m\u001b[1;32m    133\u001b[0m         \u001b[0;31m# Replace the property with the accessor object. Inspired by:\u001b[0m\u001b[0;34m\u001b[0m\u001b[0;34m\u001b[0m\u001b[0m\n\u001b[1;32m    134\u001b[0m         \u001b[0;31m# http://www.pydanny.com/cached-property.html\u001b[0m\u001b[0;34m\u001b[0m\u001b[0;34m\u001b[0m\u001b[0m\n",
      "\u001b[0;32m/anaconda3/lib/python3.6/site-packages/pandas/core/arrays/categorical.py\u001b[0m in \u001b[0;36m__init__\u001b[0;34m(self, data)\u001b[0m\n\u001b[1;32m   2375\u001b[0m \u001b[0;34m\u001b[0m\u001b[0m\n\u001b[1;32m   2376\u001b[0m     \u001b[0;32mdef\u001b[0m \u001b[0m__init__\u001b[0m\u001b[0;34m(\u001b[0m\u001b[0mself\u001b[0m\u001b[0;34m,\u001b[0m \u001b[0mdata\u001b[0m\u001b[0;34m)\u001b[0m\u001b[0;34m:\u001b[0m\u001b[0;34m\u001b[0m\u001b[0m\n\u001b[0;32m-> 2377\u001b[0;31m         \u001b[0mself\u001b[0m\u001b[0;34m.\u001b[0m\u001b[0m_validate\u001b[0m\u001b[0;34m(\u001b[0m\u001b[0mdata\u001b[0m\u001b[0;34m)\u001b[0m\u001b[0;34m\u001b[0m\u001b[0m\n\u001b[0m\u001b[1;32m   2378\u001b[0m         \u001b[0mself\u001b[0m\u001b[0;34m.\u001b[0m\u001b[0mcategorical\u001b[0m \u001b[0;34m=\u001b[0m \u001b[0mdata\u001b[0m\u001b[0;34m.\u001b[0m\u001b[0mvalues\u001b[0m\u001b[0;34m\u001b[0m\u001b[0m\n\u001b[1;32m   2379\u001b[0m         \u001b[0mself\u001b[0m\u001b[0;34m.\u001b[0m\u001b[0mindex\u001b[0m \u001b[0;34m=\u001b[0m \u001b[0mdata\u001b[0m\u001b[0;34m.\u001b[0m\u001b[0mindex\u001b[0m\u001b[0;34m\u001b[0m\u001b[0m\n",
      "\u001b[0;32m/anaconda3/lib/python3.6/site-packages/pandas/core/arrays/categorical.py\u001b[0m in \u001b[0;36m_validate\u001b[0;34m(data)\u001b[0m\n\u001b[1;32m   2384\u001b[0m     \u001b[0;32mdef\u001b[0m \u001b[0m_validate\u001b[0m\u001b[0;34m(\u001b[0m\u001b[0mdata\u001b[0m\u001b[0;34m)\u001b[0m\u001b[0;34m:\u001b[0m\u001b[0;34m\u001b[0m\u001b[0m\n\u001b[1;32m   2385\u001b[0m         \u001b[0;32mif\u001b[0m \u001b[0;32mnot\u001b[0m \u001b[0mis_categorical_dtype\u001b[0m\u001b[0;34m(\u001b[0m\u001b[0mdata\u001b[0m\u001b[0;34m.\u001b[0m\u001b[0mdtype\u001b[0m\u001b[0;34m)\u001b[0m\u001b[0;34m:\u001b[0m\u001b[0;34m\u001b[0m\u001b[0m\n\u001b[0;32m-> 2386\u001b[0;31m             raise AttributeError(\"Can only use .cat accessor with a \"\n\u001b[0m\u001b[1;32m   2387\u001b[0m                                  \"'category' dtype\")\n\u001b[1;32m   2388\u001b[0m \u001b[0;34m\u001b[0m\u001b[0m\n",
      "\u001b[0;31mAttributeError\u001b[0m: Can only use .cat accessor with a 'category' dtype"
     ]
    }
   ],
   "source": [
    "cn_df['cultivar_code'] = cn_df['cultivar'].cat.codes"
   ]
  },
  {
   "cell_type": "code",
   "execution_count": 5,
   "metadata": {},
   "outputs": [
    {
     "data": {
      "text/plain": [
       "cultivar         object\n",
       "sitename         object\n",
       "day               int64\n",
       "canopy_height     int64\n",
       "date             object\n",
       "range             int64\n",
       "column            int64\n",
       "season            int64\n",
       "dtype: object"
      ]
     },
     "execution_count": 5,
     "metadata": {},
     "output_type": "execute_result"
    }
   ],
   "source": [
    "cn_df.dtypes"
   ]
  },
  {
   "cell_type": "code",
   "execution_count": 6,
   "metadata": {},
   "outputs": [],
   "source": [
    "unique_counts = pd.DataFrame.from_records([(col, cn_df[col].nunique()) for col in cn_df.columns],\n",
    "                          columns=['Column_Name', 'Num_Unique']).sort_values(by=['Num_Unique'])"
   ]
  },
  {
   "cell_type": "code",
   "execution_count": 7,
   "metadata": {},
   "outputs": [
    {
     "data": {
      "text/html": [
       "<div>\n",
       "<style scoped>\n",
       "    .dataframe tbody tr th:only-of-type {\n",
       "        vertical-align: middle;\n",
       "    }\n",
       "\n",
       "    .dataframe tbody tr th {\n",
       "        vertical-align: top;\n",
       "    }\n",
       "\n",
       "    .dataframe thead th {\n",
       "        text-align: right;\n",
       "    }\n",
       "</style>\n",
       "<table border=\"1\" class=\"dataframe\">\n",
       "  <thead>\n",
       "    <tr style=\"text-align: right;\">\n",
       "      <th></th>\n",
       "      <th>Column_Name</th>\n",
       "      <th>Num_Unique</th>\n",
       "    </tr>\n",
       "  </thead>\n",
       "  <tbody>\n",
       "    <tr>\n",
       "      <th>7</th>\n",
       "      <td>season</td>\n",
       "      <td>1</td>\n",
       "    </tr>\n",
       "    <tr>\n",
       "      <th>6</th>\n",
       "      <td>column</td>\n",
       "      <td>14</td>\n",
       "    </tr>\n",
       "    <tr>\n",
       "      <th>5</th>\n",
       "      <td>range</td>\n",
       "      <td>52</td>\n",
       "    </tr>\n",
       "    <tr>\n",
       "      <th>2</th>\n",
       "      <td>day</td>\n",
       "      <td>68</td>\n",
       "    </tr>\n",
       "    <tr>\n",
       "      <th>4</th>\n",
       "      <td>date</td>\n",
       "      <td>68</td>\n",
       "    </tr>\n",
       "    <tr>\n",
       "      <th>0</th>\n",
       "      <td>cultivar</td>\n",
       "      <td>269</td>\n",
       "    </tr>\n",
       "    <tr>\n",
       "      <th>3</th>\n",
       "      <td>canopy_height</td>\n",
       "      <td>407</td>\n",
       "    </tr>\n",
       "    <tr>\n",
       "      <th>1</th>\n",
       "      <td>sitename</td>\n",
       "      <td>715</td>\n",
       "    </tr>\n",
       "  </tbody>\n",
       "</table>\n",
       "</div>"
      ],
      "text/plain": [
       "     Column_Name  Num_Unique\n",
       "7         season           1\n",
       "6         column          14\n",
       "5          range          52\n",
       "2            day          68\n",
       "4           date          68\n",
       "0       cultivar         269\n",
       "3  canopy_height         407\n",
       "1       sitename         715"
      ]
     },
     "execution_count": 7,
     "metadata": {},
     "output_type": "execute_result"
    }
   ],
   "source": [
    "unique_counts"
   ]
  },
  {
   "cell_type": "code",
   "execution_count": 11,
   "metadata": {},
   "outputs": [],
   "source": [
    "cn_df['date'] = cn_df['date'].astype('datetime64')"
   ]
  },
  {
   "cell_type": "code",
   "execution_count": 13,
   "metadata": {},
   "outputs": [],
   "source": [
    "cn_df['cultivar'] = cn_df['cultivar'].astype('category')"
   ]
  },
  {
   "cell_type": "code",
   "execution_count": 27,
   "metadata": {},
   "outputs": [
    {
     "data": {
      "text/html": [
       "<div>\n",
       "<style scoped>\n",
       "    .dataframe tbody tr th:only-of-type {\n",
       "        vertical-align: middle;\n",
       "    }\n",
       "\n",
       "    .dataframe tbody tr th {\n",
       "        vertical-align: top;\n",
       "    }\n",
       "\n",
       "    .dataframe thead th {\n",
       "        text-align: right;\n",
       "    }\n",
       "</style>\n",
       "<table border=\"1\" class=\"dataframe\">\n",
       "  <thead>\n",
       "    <tr style=\"text-align: right;\">\n",
       "      <th></th>\n",
       "      <th>cultivar</th>\n",
       "      <th>sitename</th>\n",
       "      <th>day</th>\n",
       "      <th>canopy_height</th>\n",
       "      <th>date</th>\n",
       "      <th>range</th>\n",
       "      <th>column</th>\n",
       "      <th>season</th>\n",
       "    </tr>\n",
       "  </thead>\n",
       "  <tbody>\n",
       "    <tr>\n",
       "      <th>0</th>\n",
       "      <td>PI329569</td>\n",
       "      <td>MAC Field Scanner Season 4 Range 26 Column 8</td>\n",
       "      <td>133</td>\n",
       "      <td>364</td>\n",
       "      <td>2013-07-12 01:31:51.601</td>\n",
       "      <td>26</td>\n",
       "      <td>8</td>\n",
       "      <td>4</td>\n",
       "    </tr>\n",
       "    <tr>\n",
       "      <th>1</th>\n",
       "      <td>PI152923</td>\n",
       "      <td>MAC Field Scanner Season 4 Range 26 Column 9</td>\n",
       "      <td>133</td>\n",
       "      <td>359</td>\n",
       "      <td>2013-07-12 01:31:51.601</td>\n",
       "      <td>26</td>\n",
       "      <td>9</td>\n",
       "      <td>4</td>\n",
       "    </tr>\n",
       "    <tr>\n",
       "      <th>2</th>\n",
       "      <td>PI152923</td>\n",
       "      <td>MAC Field Scanner Season 4 Range 26 Column 10</td>\n",
       "      <td>133</td>\n",
       "      <td>366</td>\n",
       "      <td>2013-07-12 01:31:51.601</td>\n",
       "      <td>26</td>\n",
       "      <td>10</td>\n",
       "      <td>4</td>\n",
       "    </tr>\n",
       "    <tr>\n",
       "      <th>3</th>\n",
       "      <td>PI330803</td>\n",
       "      <td>MAC Field Scanner Season 4 Range 26 Column 13</td>\n",
       "      <td>133</td>\n",
       "      <td>367</td>\n",
       "      <td>2013-07-12 01:31:51.601</td>\n",
       "      <td>26</td>\n",
       "      <td>13</td>\n",
       "      <td>4</td>\n",
       "    </tr>\n",
       "    <tr>\n",
       "      <th>4</th>\n",
       "      <td>PI330803</td>\n",
       "      <td>MAC Field Scanner Season 4 Range 26 Column 14</td>\n",
       "      <td>133</td>\n",
       "      <td>368</td>\n",
       "      <td>2013-07-12 01:31:51.601</td>\n",
       "      <td>26</td>\n",
       "      <td>14</td>\n",
       "      <td>4</td>\n",
       "    </tr>\n",
       "  </tbody>\n",
       "</table>\n",
       "</div>"
      ],
      "text/plain": [
       "   cultivar                                       sitename  day  \\\n",
       "0  PI329569   MAC Field Scanner Season 4 Range 26 Column 8  133   \n",
       "1  PI152923   MAC Field Scanner Season 4 Range 26 Column 9  133   \n",
       "2  PI152923  MAC Field Scanner Season 4 Range 26 Column 10  133   \n",
       "3  PI330803  MAC Field Scanner Season 4 Range 26 Column 13  133   \n",
       "4  PI330803  MAC Field Scanner Season 4 Range 26 Column 14  133   \n",
       "\n",
       "   canopy_height                    date  range  column  season  \n",
       "0            364 2013-07-12 01:31:51.601     26       8       4  \n",
       "1            359 2013-07-12 01:31:51.601     26       9       4  \n",
       "2            366 2013-07-12 01:31:51.601     26      10       4  \n",
       "3            367 2013-07-12 01:31:51.601     26      13       4  \n",
       "4            368 2013-07-12 01:31:51.601     26      14       4  "
      ]
     },
     "execution_count": 27,
     "metadata": {},
     "output_type": "execute_result"
    }
   ],
   "source": [
    "cn_df.head()"
   ]
  },
  {
   "cell_type": "code",
   "execution_count": 28,
   "metadata": {},
   "outputs": [],
   "source": [
    "# now we convert the \"string-ish\" values of the categorical variable into their integer indices\n",
    "cn_df['cultivar'] = cn_df['cultivar'].cat.codes"
   ]
  },
  {
   "cell_type": "code",
   "execution_count": 29,
   "metadata": {},
   "outputs": [
    {
     "name": "stdout",
     "output_type": "stream",
     "text": [
      "95.3 µs ± 1.96 µs per loop (mean ± std. dev. of 7 runs, 10000 loops each)\n"
     ]
    }
   ],
   "source": [
    "%%timeit\n",
    "\n",
    "# do that above when you need to time how long something takes.  It doesn't automatically generate output, though, so you \n",
    "# would need to use a print() statement.\n",
    "\n",
    "cn_df.head()"
   ]
  },
  {
   "cell_type": "code",
   "execution_count": 31,
   "metadata": {},
   "outputs": [
    {
     "data": {
      "text/html": [
       "<div>\n",
       "<style scoped>\n",
       "    .dataframe tbody tr th:only-of-type {\n",
       "        vertical-align: middle;\n",
       "    }\n",
       "\n",
       "    .dataframe tbody tr th {\n",
       "        vertical-align: top;\n",
       "    }\n",
       "\n",
       "    .dataframe thead th {\n",
       "        text-align: right;\n",
       "    }\n",
       "</style>\n",
       "<table border=\"1\" class=\"dataframe\">\n",
       "  <thead>\n",
       "    <tr style=\"text-align: right;\">\n",
       "      <th></th>\n",
       "      <th>cultivar</th>\n",
       "      <th>sitename</th>\n",
       "      <th>day</th>\n",
       "      <th>canopy_height</th>\n",
       "      <th>date</th>\n",
       "      <th>range</th>\n",
       "      <th>column</th>\n",
       "      <th>season</th>\n",
       "    </tr>\n",
       "  </thead>\n",
       "  <tbody>\n",
       "    <tr>\n",
       "      <th>0</th>\n",
       "      <td>86</td>\n",
       "      <td>MAC Field Scanner Season 4 Range 26 Column 8</td>\n",
       "      <td>133</td>\n",
       "      <td>364</td>\n",
       "      <td>2013-07-12 01:31:51.601</td>\n",
       "      <td>26</td>\n",
       "      <td>8</td>\n",
       "      <td>4</td>\n",
       "    </tr>\n",
       "    <tr>\n",
       "      <th>1</th>\n",
       "      <td>13</td>\n",
       "      <td>MAC Field Scanner Season 4 Range 26 Column 9</td>\n",
       "      <td>133</td>\n",
       "      <td>359</td>\n",
       "      <td>2013-07-12 01:31:51.601</td>\n",
       "      <td>26</td>\n",
       "      <td>9</td>\n",
       "      <td>4</td>\n",
       "    </tr>\n",
       "    <tr>\n",
       "      <th>2</th>\n",
       "      <td>13</td>\n",
       "      <td>MAC Field Scanner Season 4 Range 26 Column 10</td>\n",
       "      <td>133</td>\n",
       "      <td>366</td>\n",
       "      <td>2013-07-12 01:31:51.601</td>\n",
       "      <td>26</td>\n",
       "      <td>10</td>\n",
       "      <td>4</td>\n",
       "    </tr>\n",
       "    <tr>\n",
       "      <th>3</th>\n",
       "      <td>115</td>\n",
       "      <td>MAC Field Scanner Season 4 Range 26 Column 13</td>\n",
       "      <td>133</td>\n",
       "      <td>367</td>\n",
       "      <td>2013-07-12 01:31:51.601</td>\n",
       "      <td>26</td>\n",
       "      <td>13</td>\n",
       "      <td>4</td>\n",
       "    </tr>\n",
       "    <tr>\n",
       "      <th>4</th>\n",
       "      <td>115</td>\n",
       "      <td>MAC Field Scanner Season 4 Range 26 Column 14</td>\n",
       "      <td>133</td>\n",
       "      <td>368</td>\n",
       "      <td>2013-07-12 01:31:51.601</td>\n",
       "      <td>26</td>\n",
       "      <td>14</td>\n",
       "      <td>4</td>\n",
       "    </tr>\n",
       "  </tbody>\n",
       "</table>\n",
       "</div>"
      ],
      "text/plain": [
       "   cultivar                                       sitename  day  \\\n",
       "0        86   MAC Field Scanner Season 4 Range 26 Column 8  133   \n",
       "1        13   MAC Field Scanner Season 4 Range 26 Column 9  133   \n",
       "2        13  MAC Field Scanner Season 4 Range 26 Column 10  133   \n",
       "3       115  MAC Field Scanner Season 4 Range 26 Column 13  133   \n",
       "4       115  MAC Field Scanner Season 4 Range 26 Column 14  133   \n",
       "\n",
       "   canopy_height                    date  range  column  season  \n",
       "0            364 2013-07-12 01:31:51.601     26       8       4  \n",
       "1            359 2013-07-12 01:31:51.601     26       9       4  \n",
       "2            366 2013-07-12 01:31:51.601     26      10       4  \n",
       "3            367 2013-07-12 01:31:51.601     26      13       4  \n",
       "4            368 2013-07-12 01:31:51.601     26      14       4  "
      ]
     },
     "execution_count": 31,
     "metadata": {},
     "output_type": "execute_result"
    }
   ],
   "source": [
    "cn_df.head()"
   ]
  },
  {
   "cell_type": "code",
   "execution_count": null,
   "metadata": {},
   "outputs": [],
   "source": []
  },
  {
   "cell_type": "code",
   "execution_count": 32,
   "metadata": {},
   "outputs": [],
   "source": [
    "# split the inputs and the target feature.  They will stay aligned because of the index value in pandas.\n",
    "train_df = cn_df[['cultivar','day','range','column','season']]\n",
    "target_df = cn_df['canopy_height']"
   ]
  },
  {
   "cell_type": "code",
   "execution_count": 33,
   "metadata": {},
   "outputs": [
    {
     "data": {
      "text/html": [
       "<div>\n",
       "<style scoped>\n",
       "    .dataframe tbody tr th:only-of-type {\n",
       "        vertical-align: middle;\n",
       "    }\n",
       "\n",
       "    .dataframe tbody tr th {\n",
       "        vertical-align: top;\n",
       "    }\n",
       "\n",
       "    .dataframe thead th {\n",
       "        text-align: right;\n",
       "    }\n",
       "</style>\n",
       "<table border=\"1\" class=\"dataframe\">\n",
       "  <thead>\n",
       "    <tr style=\"text-align: right;\">\n",
       "      <th></th>\n",
       "      <th>cultivar</th>\n",
       "      <th>day</th>\n",
       "      <th>range</th>\n",
       "      <th>column</th>\n",
       "      <th>season</th>\n",
       "    </tr>\n",
       "  </thead>\n",
       "  <tbody>\n",
       "    <tr>\n",
       "      <th>0</th>\n",
       "      <td>86</td>\n",
       "      <td>133</td>\n",
       "      <td>26</td>\n",
       "      <td>8</td>\n",
       "      <td>4</td>\n",
       "    </tr>\n",
       "    <tr>\n",
       "      <th>1</th>\n",
       "      <td>13</td>\n",
       "      <td>133</td>\n",
       "      <td>26</td>\n",
       "      <td>9</td>\n",
       "      <td>4</td>\n",
       "    </tr>\n",
       "    <tr>\n",
       "      <th>2</th>\n",
       "      <td>13</td>\n",
       "      <td>133</td>\n",
       "      <td>26</td>\n",
       "      <td>10</td>\n",
       "      <td>4</td>\n",
       "    </tr>\n",
       "    <tr>\n",
       "      <th>3</th>\n",
       "      <td>115</td>\n",
       "      <td>133</td>\n",
       "      <td>26</td>\n",
       "      <td>13</td>\n",
       "      <td>4</td>\n",
       "    </tr>\n",
       "    <tr>\n",
       "      <th>4</th>\n",
       "      <td>115</td>\n",
       "      <td>133</td>\n",
       "      <td>26</td>\n",
       "      <td>14</td>\n",
       "      <td>4</td>\n",
       "    </tr>\n",
       "  </tbody>\n",
       "</table>\n",
       "</div>"
      ],
      "text/plain": [
       "   cultivar  day  range  column  season\n",
       "0        86  133     26       8       4\n",
       "1        13  133     26       9       4\n",
       "2        13  133     26      10       4\n",
       "3       115  133     26      13       4\n",
       "4       115  133     26      14       4"
      ]
     },
     "execution_count": 33,
     "metadata": {},
     "output_type": "execute_result"
    }
   ],
   "source": [
    "train_df.head()"
   ]
  },
  {
   "cell_type": "code",
   "execution_count": 34,
   "metadata": {},
   "outputs": [
    {
     "data": {
      "text/plain": [
       "0    364\n",
       "1    359\n",
       "2    366\n",
       "3    367\n",
       "4    368\n",
       "Name: canopy_height, dtype: int64"
      ]
     },
     "execution_count": 34,
     "metadata": {},
     "output_type": "execute_result"
    }
   ],
   "source": [
    "target_df.head()"
   ]
  },
  {
   "cell_type": "code",
   "execution_count": 74,
   "metadata": {},
   "outputs": [
    {
     "name": "stdout",
     "output_type": "stream",
     "text": [
      "(26632, 5) (8878, 5)\n",
      "(26632,) (8878,)\n"
     ]
    }
   ],
   "source": [
    "import sklearn\n",
    "from sklearn.model_selection import train_test_split\n",
    "\n",
    "train_data,test_data = train_test_split(train_df.values)\n",
    "train_targets,test_targets = train_test_split(target_df.values)\n",
    "print(train_data.shape,test_data.shape)\n",
    "print(train_targets.shape,test_targets.shape)\n"
   ]
  },
  {
   "cell_type": "code",
   "execution_count": 75,
   "metadata": {},
   "outputs": [
    {
     "name": "stdout",
     "output_type": "stream",
     "text": [
      "(35510, 5)\n",
      "(35510,)\n"
     ]
    }
   ],
   "source": [
    "train_data = train_df.values\n",
    "train_targets = target_df.values\n",
    "print(train_data.shape)\n",
    "print(train_targets.shape)"
   ]
  },
  {
   "cell_type": "code",
   "execution_count": 76,
   "metadata": {},
   "outputs": [
    {
     "data": {
      "text/plain": [
       "array([364, 359, 366, 367, 368, 360, 349, 328, 392, 340])"
      ]
     },
     "execution_count": 76,
     "metadata": {},
     "output_type": "execute_result"
    }
   ],
   "source": [
    "train_targets[0:10]"
   ]
  },
  {
   "cell_type": "code",
   "execution_count": 77,
   "metadata": {},
   "outputs": [],
   "source": [
    "train_data = train_data.astype('float64')\n",
    "train_targets = train_targets.astype('float64')\n",
    "test_data = test_data.astype('float64')\n",
    "test_targets = test_targets.astype('float64')"
   ]
  },
  {
   "cell_type": "code",
   "execution_count": 78,
   "metadata": {},
   "outputs": [
    {
     "name": "stdout",
     "output_type": "stream",
     "text": [
      "[[ 86. 133.  26.   8.   4.]\n",
      " [ 13. 133.  26.   9.   4.]\n",
      " [ 13. 133.  26.  10.   4.]\n",
      " [115. 133.  26.  13.   4.]\n",
      " [115. 133.  26.  14.   4.]\n",
      " [227. 133.  26.  15.   4.]\n",
      " [ -1. 133.  27.   2.   4.]\n",
      " [241. 133.  27.   3.   4.]\n",
      " [249. 133.  27.   8.   4.]\n",
      " [ 34. 133.  27.   9.   4.]]\n"
     ]
    }
   ],
   "source": [
    "print(train_data[0:10])"
   ]
  },
  {
   "cell_type": "markdown",
   "metadata": {},
   "source": [
    "It would be problematic to feed into a neural network values that all take wildly different ranges. The network might be able to automatically adapt to such heterogeneous data, but it would definitely make learning more difficult. A widespread best practice to deal with such data is to do feature-wise normalization: for each feature in the input data (a column in the input data matrix), we will subtract the mean of the feature and divide by the standard deviation, so that the feature will be centered around 0 and will have a unit standard deviation. This is easily done in Numpy or by using a scikit scaler:\n",
    "\n",
    "mean = train_data.mean(axis=0)\n",
    "train_data -= mean\n",
    "std = train_data.std(axis=0)\n",
    "train_data /= std\n",
    "\n",
    "test_data -= mean\n",
    "test_data /= std"
   ]
  },
  {
   "cell_type": "code",
   "execution_count": 79,
   "metadata": {},
   "outputs": [],
   "source": [
    "from sklearn.preprocessing import StandardScaler\n",
    "from sklearn.preprocessing import RobustScaler\n",
    "\n",
    "train_data = RobustScaler().fit_transform(train_data)\n",
    "test_data = RobustScaler().fit_transform(test_data)\n"
   ]
  },
  {
   "cell_type": "code",
   "execution_count": 80,
   "metadata": {},
   "outputs": [
    {
     "data": {
      "text/plain": [
       "array([[-0.20394737,  1.56060606, -0.11538462, -0.14285714,  0.        ],\n",
       "       [-0.68421053,  1.56060606, -0.11538462,  0.        ,  0.        ],\n",
       "       [-0.68421053,  1.56060606, -0.11538462,  0.14285714,  0.        ],\n",
       "       [-0.01315789,  1.56060606, -0.11538462,  0.57142857,  0.        ],\n",
       "       [-0.01315789,  1.56060606, -0.11538462,  0.71428571,  0.        ],\n",
       "       [ 0.72368421,  1.56060606, -0.11538462,  0.85714286,  0.        ],\n",
       "       [-0.77631579,  1.56060606, -0.07692308, -1.        ,  0.        ],\n",
       "       [ 0.81578947,  1.56060606, -0.07692308, -0.85714286,  0.        ],\n",
       "       [ 0.86842105,  1.56060606, -0.07692308, -0.14285714,  0.        ],\n",
       "       [-0.54605263,  1.56060606, -0.07692308,  0.        ,  0.        ]])"
      ]
     },
     "execution_count": 80,
     "metadata": {},
     "output_type": "execute_result"
    }
   ],
   "source": [
    "train_data[0:10]"
   ]
  },
  {
   "cell_type": "code",
   "execution_count": 81,
   "metadata": {},
   "outputs": [
    {
     "data": {
      "text/plain": [
       "array([[ 0.20529801, -0.18181818, -0.40740741, -0.28571429,  0.        ],\n",
       "       [-0.66887417, -0.25757576,  0.18518519,  0.14285714,  0.        ],\n",
       "       [ 0.77483444, -0.25757576,  0.81481481, -0.28571429,  0.        ],\n",
       "       [-0.78145695,  0.34848485,  0.88888889, -0.42857143,  0.        ],\n",
       "       [ 0.81456954, -0.1969697 , -0.18518519, -0.57142857,  0.        ],\n",
       "       [-0.00662252,  0.71212121, -0.96296296,  0.14285714,  0.        ],\n",
       "       [-0.78145695,  1.1969697 , -1.        , -0.42857143,  0.        ],\n",
       "       [ 0.68874172, -0.16666667, -0.44444444,  0.28571429,  0.        ],\n",
       "       [-0.22516556,  1.25757576,  0.25925926,  0.71428571,  0.        ],\n",
       "       [ 0.29801325, -0.04545455,  0.66666667,  0.85714286,  0.        ]])"
      ]
     },
     "execution_count": 81,
     "metadata": {},
     "output_type": "execute_result"
    }
   ],
   "source": [
    "test_data[0:10]"
   ]
  },
  {
   "cell_type": "code",
   "execution_count": 82,
   "metadata": {},
   "outputs": [
    {
     "name": "stderr",
     "output_type": "stream",
     "text": [
      "/anaconda3/lib/python3.6/site-packages/h5py/__init__.py:36: FutureWarning: Conversion of the second argument of issubdtype from `float` to `np.floating` is deprecated. In future, it will be treated as `np.float64 == np.dtype(float).type`.\n",
      "  from ._conv import register_converters as _register_converters\n",
      "Using TensorFlow backend.\n"
     ]
    }
   ],
   "source": [
    "from keras import models\n",
    "from keras import layers\n"
   ]
  },
  {
   "cell_type": "code",
   "execution_count": 83,
   "metadata": {},
   "outputs": [],
   "source": [
    "\n",
    "def build_model():\n",
    "\n",
    "    # start with an empty model\n",
    "    model = models.Sequential()\n",
    "    \n",
    "    # add a first layer with 64 neurons/outputs\n",
    "    model.add(layers.Dense(64, activation='relu',\n",
    "                           input_shape=(train_data.shape[1],)))\n",
    "    \n",
    "    # add a second layer, also with 64 nodes/outputs\n",
    "    model.add(layers.Dense(64, activation='relu'))\n",
    "    \n",
    "    # add a final layer without any activation function!  \n",
    "    # Just let the floating point value come out directly without being adjusted\n",
    "    model.add(layers.Dense(1))\n",
    "    \n",
    "    # standard compile options for a regression problem\n",
    "    model.compile(optimizer='rmsprop', loss='mse', metrics=['mae'])\n",
    "    \n",
    "    # return the model so it can be trained\n",
    "    return model"
   ]
  },
  {
   "cell_type": "code",
   "execution_count": 84,
   "metadata": {},
   "outputs": [
    {
     "name": "stdout",
     "output_type": "stream",
     "text": [
      "training model\n",
      "Epoch 1/10\n",
      "35510/35510 [==============================] - 24s 677us/step - loss: 1072.7123 - mean_absolute_error: 16.7278\n",
      "Epoch 2/10\n",
      "35510/35510 [==============================] - 24s 686us/step - loss: 368.7849 - mean_absolute_error: 11.4031\n",
      "Epoch 3/10\n",
      "35510/35510 [==============================] - 26s 724us/step - loss: 357.1972 - mean_absolute_error: 11.2664\n",
      "Epoch 4/10\n",
      "35510/35510 [==============================] - 26s 724us/step - loss: 346.5462 - mean_absolute_error: 11.1693\n",
      "Epoch 5/10\n",
      "35510/35510 [==============================] - 26s 725us/step - loss: 338.6795 - mean_absolute_error: 11.0711\n",
      "Epoch 6/10\n",
      "35510/35510 [==============================] - 27s 753us/step - loss: 334.3073 - mean_absolute_error: 11.0026\n",
      "Epoch 7/10\n",
      "35510/35510 [==============================] - 26s 728us/step - loss: 329.5138 - mean_absolute_error: 10.9072\n",
      "Epoch 8/10\n",
      "35510/35510 [==============================] - 27s 764us/step - loss: 326.9153 - mean_absolute_error: 10.9200\n",
      "Epoch 9/10\n",
      "35510/35510 [==============================] - 27s 764us/step - loss: 324.2445 - mean_absolute_error: 10.8924\n",
      "Epoch 10/10\n",
      "35510/35510 [==============================] - 28s 777us/step - loss: 320.2802 - mean_absolute_error: 10.8201\n",
      "evaluating model fit:\n",
      "38537.7098938387 145.20096687304863\n"
     ]
    }
   ],
   "source": [
    "model = build_model()\n",
    "print('training model')\n",
    "model.fit(train_data,train_targets,epochs=10, batch_size=1, verbose=1)\n",
    "print('evaluating model fit:')\n",
    "val_mse, val_mae = model.evaluate(test_data, test_targets, verbose=0)\n",
    "print(val_mse,val_mae)"
   ]
  },
  {
   "cell_type": "code",
   "execution_count": 91,
   "metadata": {},
   "outputs": [
    {
     "data": {
      "text/plain": [
       "array([[-0.20394737,  1.56060606, -0.11538462, -0.14285714,  0.        ],\n",
       "       [-0.68421053,  1.56060606, -0.11538462,  0.        ,  0.        ],\n",
       "       [-0.68421053,  1.56060606, -0.11538462,  0.14285714,  0.        ],\n",
       "       [-0.01315789,  1.56060606, -0.11538462,  0.57142857,  0.        ],\n",
       "       [-0.01315789,  1.56060606, -0.11538462,  0.71428571,  0.        ],\n",
       "       [ 0.72368421,  1.56060606, -0.11538462,  0.85714286,  0.        ],\n",
       "       [-0.77631579,  1.56060606, -0.07692308, -1.        ,  0.        ],\n",
       "       [ 0.81578947,  1.56060606, -0.07692308, -0.85714286,  0.        ],\n",
       "       [ 0.86842105,  1.56060606, -0.07692308, -0.14285714,  0.        ],\n",
       "       [-0.54605263,  1.56060606, -0.07692308,  0.        ,  0.        ]])"
      ]
     },
     "execution_count": 91,
     "metadata": {},
     "output_type": "execute_result"
    }
   ],
   "source": [
    "train_data[0:10]"
   ]
  },
  {
   "cell_type": "code",
   "execution_count": 90,
   "metadata": {},
   "outputs": [
    {
     "data": {
      "text/plain": [
       "array([364., 359., 366., 367., 368., 360., 349., 328., 392., 340., 341.,\n",
       "       336., 308., 359., 386.])"
      ]
     },
     "execution_count": 90,
     "metadata": {},
     "output_type": "execute_result"
    }
   ],
   "source": [
    "train_targets[0:15]"
   ]
  },
  {
   "cell_type": "code",
   "execution_count": 92,
   "metadata": {},
   "outputs": [
    {
     "data": {
      "text/plain": [
       "array([[ 0.20529801, -0.18181818, -0.40740741, -0.28571429,  0.        ],\n",
       "       [-0.66887417, -0.25757576,  0.18518519,  0.14285714,  0.        ],\n",
       "       [ 0.77483444, -0.25757576,  0.81481481, -0.28571429,  0.        ],\n",
       "       [-0.78145695,  0.34848485,  0.88888889, -0.42857143,  0.        ],\n",
       "       [ 0.81456954, -0.1969697 , -0.18518519, -0.57142857,  0.        ],\n",
       "       [-0.00662252,  0.71212121, -0.96296296,  0.14285714,  0.        ],\n",
       "       [-0.78145695,  1.1969697 , -1.        , -0.42857143,  0.        ],\n",
       "       [ 0.68874172, -0.16666667, -0.44444444,  0.28571429,  0.        ],\n",
       "       [-0.22516556,  1.25757576,  0.25925926,  0.71428571,  0.        ],\n",
       "       [ 0.29801325, -0.04545455,  0.66666667,  0.85714286,  0.        ]])"
      ]
     },
     "execution_count": 92,
     "metadata": {},
     "output_type": "execute_result"
    }
   ],
   "source": [
    "test_data[0:10]"
   ]
  },
  {
   "cell_type": "code",
   "execution_count": 89,
   "metadata": {},
   "outputs": [
    {
     "data": {
      "text/plain": [
       "array([314.,  13.,  15.,  11.,  14., 179.,  18., 316.,  16., 267.,  26.,\n",
       "        11.,  12.,  12.,  10.])"
      ]
     },
     "execution_count": 89,
     "metadata": {},
     "output_type": "execute_result"
    }
   ],
   "source": [
    "test_targets[0:15]"
   ]
  },
  {
   "cell_type": "code",
   "execution_count": null,
   "metadata": {},
   "outputs": [],
   "source": []
  }
 ],
 "metadata": {
  "kernelspec": {
   "display_name": "Python 3",
   "language": "python",
   "name": "python3"
  },
  "language_info": {
   "codemirror_mode": {
    "name": "ipython",
    "version": 3
   },
   "file_extension": ".py",
   "mimetype": "text/x-python",
   "name": "python",
   "nbconvert_exporter": "python",
   "pygments_lexer": "ipython3",
   "version": "3.7.3"
  }
 },
 "nbformat": 4,
 "nbformat_minor": 4
}
